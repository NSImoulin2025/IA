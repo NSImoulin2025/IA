{
 "cells": [
  {
   "cell_type": "markdown",
   "metadata": {
    "cell_id": "7dca7969ab4a4821a58a5432f29e719d",
    "deepnote_cell_type": "text-cell-h1",
    "formattedRanges": [],
    "is_collapsed": false,
    "tags": []
   },
   "source": [
    "# Programme de transformation d'image vers matrice de pixels 8x8"
   ]
  },
  {
   "cell_type": "markdown",
   "metadata": {
    "cell_id": "6afa9c84544240b4aadba100d4eacf6b",
    "deepnote_cell_type": "text-cell-p",
    "formattedRanges": [],
    "is_collapsed": false,
    "tags": []
   },
   "source": [
    "Importation du module PIL pour la manipulation d'images"
   ]
  },
  {
   "cell_type": "code",
   "execution_count": 1,
   "metadata": {
    "cell_id": "3ff799c2d2de4b32b6d3397941c47338",
    "deepnote_cell_type": "code",
    "deepnote_to_be_reexecuted": false,
    "execution_millis": 87,
    "execution_start": 1680595947731,
    "source_hash": "4f999c8a",
    "tags": []
   },
   "outputs": [],
   "source": [
    "from PIL import Image\n",
    "import PIL "
   ]
  },
  {
   "cell_type": "markdown",
   "metadata": {
    "cell_id": "8b99ca0baf704b60a4547e36cf7aecd4",
    "deepnote_cell_type": "text-cell-p",
    "formattedRanges": [],
    "is_collapsed": false,
    "tags": []
   },
   "source": [
    "Ouverture du fichier et initialisation des valeurs pour détecter le chiffre sur l'image. Pour utiliser le programme avec votre propre image, il suffit de changer le nom du fichier en paramètre. Si les contour du chiffre sont mal détectés, vous pouvez essayer de reprendre une photo mieux cadrée ou de changer la valeur du seuil de blanc (par défaut 100)"
   ]
  },
  {
   "cell_type": "code",
   "execution_count": 2,
   "metadata": {
    "cell_id": "1b7b29c97cae4cd59b47bb6b133417da",
    "deepnote_cell_type": "code",
    "deepnote_to_be_reexecuted": false,
    "execution_millis": 47,
    "execution_start": 1680595947861,
    "source_hash": "76099401",
    "tags": []
   },
   "outputs": [],
   "source": [
    "image = Image.open(\"Chiffres_Test/0.png\") # Chargement de l'image\n",
    "\n",
    "width, height = image.size # Récupération de la largeur et de la hauteur de l'image\n",
    "\n",
    "WHITE_THRESHOLD = 100 # Seuil à partir duquel la couleur est considérée blanche\n",
    "extreme_left = width # initialisation du point extrème gauche \n",
    "extreme_right = 0 # initialisation du point extrème droit \n",
    "extreme_top = height # initialisation du point extrème haut \n",
    "extreme_bot = 0 # initialisation du point extrème bas "
   ]
  },
  {
   "cell_type": "markdown",
   "metadata": {
    "cell_id": "71826a2b24eb4fe7845df4da782406be",
    "deepnote_cell_type": "text-cell-p",
    "formattedRanges": [],
    "is_collapsed": false,
    "tags": []
   },
   "source": [
    "Détection des contours du chiffre et transformation en noir et blanc très contrasté"
   ]
  },
  {
   "cell_type": "code",
   "execution_count": 3,
   "metadata": {
    "cell_id": "fcb35da9230e40e88ea30e2a9b487053",
    "deepnote_cell_type": "code",
    "deepnote_to_be_reexecuted": false,
    "execution_millis": 906,
    "execution_start": 1680595947907,
    "source_hash": "56d7c098",
    "tags": []
   },
   "outputs": [],
   "source": [
    "for x in range(width):\n",
    "    for y in range(height):\n",
    "        pixel = image.getpixel((x, y)) # Récupération des composantes de couleur aux coordonnées [x,y]\n",
    "        # On vérifie si le pixel est blanc\n",
    "        if all(channel > WHITE_THRESHOLD for channel in pixel):\n",
    "            image.putpixel((x, y), (255,255,255)) # S'il dépasse le seuil alors le pixel est transformé en pixel blanc\n",
    "        else:\n",
    "            # On met à jour les extrémités de l'image si les pixels sont foncés\n",
    "            if extreme_left > x:\n",
    "                extreme_left = x\n",
    "            if extreme_right < x:\n",
    "                extreme_right = x\n",
    "            if extreme_top > y:\n",
    "                extreme_top = y\n",
    "            if extreme_bot < y:\n",
    "                extreme_bot = y\n",
    "            # On transforme le pixel en pixel noir\n",
    "            image.putpixel((x, y), (0,0,0)) \n",
    "            \n",
    " "
   ]
  },
  {
   "cell_type": "markdown",
   "metadata": {
    "cell_id": "60616bd5b8744d14a439f8d6a95349e8",
    "deepnote_cell_type": "text-cell-p",
    "formattedRanges": [],
    "is_collapsed": false,
    "tags": []
   },
   "source": [
    "Création d'une nouvelle image aux bonnes dimensions et préparation à la mise à l'échelle en matrice 8x8"
   ]
  },
  {
   "cell_type": "code",
   "execution_count": 4,
   "metadata": {
    "cell_id": "b8f8e7d82e2744349e70640eee631a29",
    "deepnote_cell_type": "code",
    "deepnote_to_be_reexecuted": false,
    "execution_millis": 252,
    "execution_start": 1680595948815,
    "source_hash": "34b88777",
    "tags": []
   },
   "outputs": [],
   "source": [
    "new_height = extreme_bot - extreme_top # Calcul de la nouvelle hauteur à l'aide des extrémités\n",
    "new_width = extreme_right - extreme_left # Calcul de la nouvelle largeur à l'aide des extrémités\n",
    "\n",
    "if new_height > new_width: # Détermination de la plus grande longueur pour la mise à l'échelle (pour éviter de couper une partie de l'image) \n",
    "    # Et détermination de la différence entre longueur et hauteur (pour ne pas parcourir des pixels inutilement)\n",
    "    max_dim = new_height\n",
    "    difference = (max_dim - new_width) // 2\n",
    "else:\n",
    "    max_dim = new_width\n",
    "    difference = (max_dim - new_height) // 2\n",
    "\n",
    "newDimension = max_dim\n",
    "\n",
    "#marge = 8 - max_dim % 8    \n",
    "#Création d'une nouvelle image blanche aux bonnes dimensions\n",
    "image2 = PIL.Image.new(mode=\"RGB\", size=(newDimension, newDimension), color=(255,255,255))\n",
    "\n",
    "#Parcous de l'image originale pour recopie sur la nouvelle image\n",
    "i=0\n",
    "for x in range(difference,max_dim-difference): \n",
    "    j=0\n",
    "    for y in range(0,max_dim):\n",
    "        image2.putpixel((x,y),image.getpixel((extreme_left+i,extreme_top+j)))\n",
    "        j+=1\n",
    "    i+=1"
   ]
  },
  {
   "cell_type": "code",
   "execution_count": 5,
   "metadata": {
    "cell_id": "5ca69ad2f68c47af8b905dfc6bc4ac4f",
    "deepnote_cell_type": "code",
    "deepnote_to_be_reexecuted": false,
    "execution_millis": 154,
    "execution_start": 1680595949070,
    "source_hash": "e9cffb3e",
    "tags": []
   },
   "outputs": [
    {
     "name": "stdout",
     "output_type": "stream",
     "text": [
      "[0, 0, 3, 13, 14, 2, 0, 0, 0, 2, 15, 14, 13, 15, 4, 0, 0, 11, 16, 4, 6, 12, 15, 1, 1, 16, 12, 0, 0, 6, 16, 4, 4, 16, 8, 0, 0, 6, 16, 6, 4, 16, 10, 0, 0, 11, 16, 3, 0, 13, 15, 8, 10, 16, 12, 0, 0, 2, 12, 16, 16, 12, 2, 0, 0]\n"
     ]
    }
   ],
   "source": [
    "# Initialisation de la taille d'un pixel pour la création de la matrice\n",
    "pixelSize = newDimension // 8\n",
    "\n",
    "#Création d'une liste correspondant à la matrice 8x8\n",
    "liste = []\n",
    "\n",
    "# Découpage de l'image en 8x8 et parcours de ces sous parties pour calculer la moyenne de l'intensité des pixels \n",
    "for j in range(8):\n",
    "    for i in range(8):\n",
    "        somme = 0\n",
    "        for x in range(pixelSize):\n",
    "            for y in range(pixelSize):            \n",
    "                somme += image2.getpixel((i*pixelSize+x,j*pixelSize+y))[0]\n",
    "        liste.append(16-(somme//(pixelSize*pixelSize)+8)//16)\n",
    "\n",
    "# Ajout de la classe correspondant au chiffre représenté (chiffre entre 0 et 9) \n",
    "liste.append(0)\n",
    "\n",
    "# Enregistrement de l'image avant pixelisation au format PNG\n",
    "image2.save(\"./Chiffres_Resultat/new0.png\", \"png\")\n",
    "\n",
    "# Affichage de la liste contenant les informations sur l'image : \n",
    "print(liste)"
   ]
  },
  {
   "cell_type": "markdown",
   "metadata": {
    "created_in_deepnote_cell": true,
    "deepnote_cell_type": "markdown"
   },
   "source": [
    "<a style='text-decoration:none;line-height:16px;display:flex;color:#5B5B62;padding:10px;justify-content:end;' href='https://deepnote.com?utm_source=created-in-deepnote-cell&projectId=e69121a1-877e-42c0-86df-2474acf38ef4' target=\"_blank\">\n",
    "<img alt='Created in deepnote.com' style='display:inline;max-height:16px;margin:0px;margin-right:7.5px;' src='data:image/svg+xml;base64,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' > </img>\n",
    "Created in <span style='font-weight:600;margin-left:4px;'>Deepnote</span></a>"
   ]
  }
 ],
 "metadata": {
  "deepnote": {
   "is_reactive": false
  },
  "deepnote_execution_queue": [],
  "deepnote_notebook_id": "81b8a097978f43ff8542d2a5ee9113ae",
  "deepnote_persisted_session": {
   "createdAt": "2023-04-04T08:46:14.021Z"
  },
  "kernelspec": {
   "display_name": "Python 3 (ipykernel)",
   "language": "python",
   "name": "python3"
  },
  "language_info": {
   "codemirror_mode": {
    "name": "ipython",
    "version": 3
   },
   "file_extension": ".py",
   "mimetype": "text/x-python",
   "name": "python",
   "nbconvert_exporter": "python",
   "pygments_lexer": "ipython3",
   "version": "3.12.7"
  }
 },
 "nbformat": 4,
 "nbformat_minor": 4
}
