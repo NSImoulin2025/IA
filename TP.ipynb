{
 "cells": [
  {
   "cell_type": "code",
   "execution_count": 2,
   "metadata": {
    "cell_id": "3f2b5617c1ba4679be8fde13f938aad9",
    "deepnote_cell_type": "code",
    "deepnote_to_be_reexecuted": false,
    "execution_millis": 4013,
    "execution_start": 1681043850910,
    "source_hash": "ff2ee3e3",
    "tags": []
   },
   "outputs": [],
   "source": [
    "import pandas as pd\n",
    "import numpy as np\n",
    "import matplotlib.pyplot as plt\n",
    "import plotly.express as px\n",
    "from sklearn.manifold import TSNE\n"
   ]
  },
  {
   "cell_type": "markdown",
   "metadata": {
    "cell_id": "14bff60c6eb14f5bbd633e466250290c",
    "deepnote_cell_type": "markdown",
    "tags": []
   },
   "source": [
    "# Objectif du TP"
   ]
  },
  {
   "cell_type": "markdown",
   "metadata": {
    "cell_id": "e4a23a42eea94c769452b1070f42bb64",
    "deepnote_cell_type": "markdown",
    "tags": []
   },
   "source": [
    "Dans ce TP, nous allons travailler tout d'abord avec le dataset \"digits.csv\" qui contient des données sur des images représentant des chiffres manuscrits. \n",
    "\n",
    "Ces images sont décomposées en matrices de 8x8 pixels avec des valeurs allant de 0 à 16 correspondant à l'intensité de la couleur du pixel en noir et blanc (0 correspondant au noir et 16 correspondant au blanc). \n",
    "\n",
    "Le jeu comporte 1797 lignes et 65 colonnes, chaque ligne correspond à une image représentée par 64 valeurs représentant l'intensité des pixels et la dernière valeur donnant la classe affectée à l'image (de 0 à 9 correspondant au chiffre représenté). \n",
    " \n",
    "A partir de ces données d'entraînement, le but est de construire un modèle de prédiction qui permettra de déterminer un chiffre écrit à la main sur une feuille blanche.\n",
    "\n",
    "Ce modèle de prédiction sera ici un modèle de classification n-aire, entraîné par apprentissage supervisé.\n",
    "\n",
    "Une fois votre modèle validé, vous pourrez le tester dans un premier temps sur un jeu de test puis sur un exemple que vous réaliserez à la main vous-même à l'aide d'une feuille blanche (ou du tableau) et d'un appareil photo. On utilisera le programme chiffre.ipynb pour transformer votre photo en image pixelisée 8x8. \n",
    "\n",
    "Pour ce TP nous travaillerons avec une fraction du jeu de données comportant uniquement 539 lignes.\n"
   ]
  },
  {
   "cell_type": "markdown",
   "metadata": {
    "cell_id": "e9594066369b41ed81343dde260c53a7",
    "deepnote_cell_type": "markdown",
    "tags": []
   },
   "source": [
    "# Chargement des données d'entraînement"
   ]
  },
  {
   "cell_type": "code",
   "execution_count": 6,
   "metadata": {
    "cell_id": "997d152b645a4ff98b381cf3e85466b4",
    "deepnote_cell_type": "code",
    "deepnote_table_loading": false,
    "deepnote_table_state": {
     "filters": [],
     "pageIndex": 0,
     "pageSize": 10,
     "sortBy": []
    },
    "deepnote_to_be_reexecuted": false,
    "execution_millis": 175,
    "execution_start": 1681044329110,
    "source_hash": "8a67d477",
    "tags": []
   },
   "outputs": [
    {
     "data": {
      "application/vnd.deepnote.dataframe.v3+json": {
       "column_count": 65,
       "columns": [
        {
         "dtype": "int64",
         "name": "[0;0]",
         "stats": {
          "histogram": [
           {
            "bin_end": -0.4,
            "bin_start": -0.5,
            "count": 0
           },
           {
            "bin_end": -0.3,
            "bin_start": -0.4,
            "count": 0
           },
           {
            "bin_end": -0.19999999999999996,
            "bin_start": -0.3,
            "count": 0
           },
           {
            "bin_end": -0.09999999999999998,
            "bin_start": -0.19999999999999996,
            "count": 0
           },
           {
            "bin_end": 0,
            "bin_start": -0.09999999999999998,
            "count": 0
           },
           {
            "bin_end": 0.10000000000000009,
            "bin_start": 0,
            "count": 1797
           },
           {
            "bin_end": 0.20000000000000007,
            "bin_start": 0.10000000000000009,
            "count": 0
           },
           {
            "bin_end": 0.30000000000000004,
            "bin_start": 0.20000000000000007,
            "count": 0
           },
           {
            "bin_end": 0.4,
            "bin_start": 0.30000000000000004,
            "count": 0
           },
           {
            "bin_end": 0.5,
            "bin_start": 0.4,
            "count": 0
           }
          ],
          "max": "0",
          "min": "0",
          "nan_count": 0,
          "unique_count": 1
         }
        },
        {
         "dtype": "int64",
         "name": "[0;1]",
         "stats": {
          "histogram": [
           {
            "bin_end": 0.8,
            "bin_start": 0,
            "count": 1531
           },
           {
            "bin_end": 1.6,
            "bin_start": 0.8,
            "count": 128
           },
           {
            "bin_end": 2.4000000000000004,
            "bin_start": 1.6,
            "count": 67
           },
           {
            "bin_end": 3.2,
            "bin_start": 2.4000000000000004,
            "count": 32
           },
           {
            "bin_end": 4,
            "bin_start": 3.2,
            "count": 0
           },
           {
            "bin_end": 4.800000000000001,
            "bin_start": 4,
            "count": 22
           },
           {
            "bin_end": 5.6000000000000005,
            "bin_start": 4.800000000000001,
            "count": 9
           },
           {
            "bin_end": 6.4,
            "bin_start": 5.6000000000000005,
            "count": 3
           },
           {
            "bin_end": 7.2,
            "bin_start": 6.4,
            "count": 3
           },
           {
            "bin_end": 8,
            "bin_start": 7.2,
            "count": 2
           }
          ],
          "max": "8",
          "min": "0",
          "nan_count": 0,
          "unique_count": 9
         }
        },
        {
         "dtype": "int64",
         "name": "[0;2]",
         "stats": {
          "histogram": [
           {
            "bin_end": 1.6,
            "bin_start": 0,
            "count": 558
           },
           {
            "bin_end": 3.2,
            "bin_start": 1.6,
            "count": 268
           },
           {
            "bin_end": 4.800000000000001,
            "bin_start": 3.2,
            "count": 106
           },
           {
            "bin_end": 6.4,
            "bin_start": 4.800000000000001,
            "count": 205
           },
           {
            "bin_end": 8,
            "bin_start": 6.4,
            "count": 103
           },
           {
            "bin_end": 9.600000000000001,
            "bin_start": 8,
            "count": 161
           },
           {
            "bin_end": 11.200000000000001,
            "bin_start": 9.600000000000001,
            "count": 157
           },
           {
            "bin_end": 12.8,
            "bin_start": 11.200000000000001,
            "count": 57
           },
           {
            "bin_end": 14.4,
            "bin_start": 12.8,
            "count": 92
           },
           {
            "bin_end": 16,
            "bin_start": 14.4,
            "count": 90
           }
          ],
          "max": "16",
          "min": "0",
          "nan_count": 0,
          "unique_count": 17
         }
        },
        {
         "dtype": "int64",
         "name": "[0;3]",
         "stats": {
          "histogram": [
           {
            "bin_end": 1.6,
            "bin_start": 0,
            "count": 87
           },
           {
            "bin_end": 3.2,
            "bin_start": 1.6,
            "count": 48
           },
           {
            "bin_end": 4.800000000000001,
            "bin_start": 3.2,
            "count": 24
           },
           {
            "bin_end": 6.4,
            "bin_start": 4.800000000000001,
            "count": 65
           },
           {
            "bin_end": 8,
            "bin_start": 6.4,
            "count": 35
           },
           {
            "bin_end": 9.600000000000001,
            "bin_start": 8,
            "count": 144
           },
           {
            "bin_end": 11.200000000000001,
            "bin_start": 9.600000000000001,
            "count": 200
           },
           {
            "bin_end": 12.8,
            "bin_start": 11.200000000000001,
            "count": 206
           },
           {
            "bin_end": 14.4,
            "bin_start": 12.8,
            "count": 389
           },
           {
            "bin_end": 16,
            "bin_start": 14.4,
            "count": 599
           }
          ],
          "max": "16",
          "min": "0",
          "nan_count": 0,
          "unique_count": 17
         }
        },
        {
         "dtype": "int64",
         "name": "[0;4]",
         "stats": {
          "histogram": [
           {
            "bin_end": 1.6,
            "bin_start": 0,
            "count": 72
           },
           {
            "bin_end": 3.2,
            "bin_start": 1.6,
            "count": 55
           },
           {
            "bin_end": 4.800000000000001,
            "bin_start": 3.2,
            "count": 28
           },
           {
            "bin_end": 6.4,
            "bin_start": 4.800000000000001,
            "count": 86
           },
           {
            "bin_end": 8,
            "bin_start": 6.4,
            "count": 44
           },
           {
            "bin_end": 9.600000000000001,
            "bin_start": 8,
            "count": 153
           },
           {
            "bin_end": 11.200000000000001,
            "bin_start": 9.600000000000001,
            "count": 186
           },
           {
            "bin_end": 12.8,
            "bin_start": 11.200000000000001,
            "count": 161
           },
           {
            "bin_end": 14.4,
            "bin_start": 12.8,
            "count": 368
           },
           {
            "bin_end": 16,
            "bin_start": 14.4,
            "count": 644
           }
          ],
          "max": "16",
          "min": "0",
          "nan_count": 0,
          "unique_count": 17
         }
        },
        {
         "dtype": "int64",
         "name": "[0;5]",
         "stats": {
          "histogram": [
           {
            "bin_end": 1.6,
            "bin_start": 0,
            "count": 658
           },
           {
            "bin_end": 3.2,
            "bin_start": 1.6,
            "count": 198
           },
           {
            "bin_end": 4.800000000000001,
            "bin_start": 3.2,
            "count": 81
           },
           {
            "bin_end": 6.4,
            "bin_start": 4.800000000000001,
            "count": 147
           },
           {
            "bin_end": 8,
            "bin_start": 6.4,
            "count": 54
           },
           {
            "bin_end": 9.600000000000001,
            "bin_start": 8,
            "count": 134
           },
           {
            "bin_end": 11.200000000000001,
            "bin_start": 9.600000000000001,
            "count": 107
           },
           {
            "bin_end": 12.8,
            "bin_start": 11.200000000000001,
            "count": 80
           },
           {
            "bin_end": 14.4,
            "bin_start": 12.8,
            "count": 120
           },
           {
            "bin_end": 16,
            "bin_start": 14.4,
            "count": 218
           }
          ],
          "max": "16",
          "min": "0",
          "nan_count": 0,
          "unique_count": 17
         }
        },
        {
         "dtype": "int64",
         "name": "[0;6]",
         "stats": {
          "histogram": [
           {
            "bin_end": 1.6,
            "bin_start": 0,
            "count": 1459
           },
           {
            "bin_end": 3.2,
            "bin_start": 1.6,
            "count": 102
           },
           {
            "bin_end": 4.800000000000001,
            "bin_start": 3.2,
            "count": 35
           },
           {
            "bin_end": 6.4,
            "bin_start": 4.800000000000001,
            "count": 49
           },
           {
            "bin_end": 8,
            "bin_start": 6.4,
            "count": 28
           },
           {
            "bin_end": 9.600000000000001,
            "bin_start": 8,
            "count": 25
           },
           {
            "bin_end": 11.200000000000001,
            "bin_start": 9.600000000000001,
            "count": 34
           },
           {
            "bin_end": 12.8,
            "bin_start": 11.200000000000001,
            "count": 12
           },
           {
            "bin_end": 14.4,
            "bin_start": 12.8,
            "count": 21
           },
           {
            "bin_end": 16,
            "bin_start": 14.4,
            "count": 32
           }
          ],
          "max": "16",
          "min": "0",
          "nan_count": 0,
          "unique_count": 17
         }
        },
        {
         "dtype": "int64",
         "name": "[0;7]",
         "stats": {
          "histogram": [
           {
            "bin_end": 1.5,
            "bin_start": 0,
            "count": 1761
           },
           {
            "bin_end": 3,
            "bin_start": 1.5,
            "count": 12
           },
           {
            "bin_end": 4.5,
            "bin_start": 3,
            "count": 4
           },
           {
            "bin_end": 6,
            "bin_start": 4.5,
            "count": 3
           },
           {
            "bin_end": 7.5,
            "bin_start": 6,
            "count": 4
           },
           {
            "bin_end": 9,
            "bin_start": 7.5,
            "count": 2
           },
           {
            "bin_end": 10.5,
            "bin_start": 9,
            "count": 5
           },
           {
            "bin_end": 12,
            "bin_start": 10.5,
            "count": 1
           },
           {
            "bin_end": 13.5,
            "bin_start": 12,
            "count": 3
           },
           {
            "bin_end": 15,
            "bin_start": 13.5,
            "count": 2
           }
          ],
          "max": "15",
          "min": "0",
          "nan_count": 0,
          "unique_count": 16
         }
        },
        {
         "dtype": "int64",
         "name": "[1;0]",
         "stats": {
          "histogram": [
           {
            "bin_end": 0.2,
            "bin_start": 0,
            "count": 1790
           },
           {
            "bin_end": 0.4,
            "bin_start": 0.2,
            "count": 0
           },
           {
            "bin_end": 0.6000000000000001,
            "bin_start": 0.4,
            "count": 0
           },
           {
            "bin_end": 0.8,
            "bin_start": 0.6000000000000001,
            "count": 0
           },
           {
            "bin_end": 1,
            "bin_start": 0.8,
            "count": 0
           },
           {
            "bin_end": 1.2000000000000002,
            "bin_start": 1,
            "count": 4
           },
           {
            "bin_end": 1.4000000000000001,
            "bin_start": 1.2000000000000002,
            "count": 0
           },
           {
            "bin_end": 1.6,
            "bin_start": 1.4000000000000001,
            "count": 0
           },
           {
            "bin_end": 1.8,
            "bin_start": 1.6,
            "count": 0
           },
           {
            "bin_end": 2,
            "bin_start": 1.8,
            "count": 3
           }
          ],
          "max": "2",
          "min": "0",
          "nan_count": 0,
          "unique_count": 3
         }
        },
        {
         "dtype": "int64",
         "name": "[1;1]",
         "stats": {
          "histogram": [
           {
            "bin_end": 1.6,
            "bin_start": 0,
            "count": 1183
           },
           {
            "bin_end": 3.2,
            "bin_start": 1.6,
            "count": 185
           },
           {
            "bin_end": 4.800000000000001,
            "bin_start": 3.2,
            "count": 97
           },
           {
            "bin_end": 6.4,
            "bin_start": 4.800000000000001,
            "count": 118
           },
           {
            "bin_end": 8,
            "bin_start": 6.4,
            "count": 58
           },
           {
            "bin_end": 9.600000000000001,
            "bin_start": 8,
            "count": 74
           },
           {
            "bin_end": 11.200000000000001,
            "bin_start": 9.600000000000001,
            "count": 47
           },
           {
            "bin_end": 12.8,
            "bin_start": 11.200000000000001,
            "count": 16
           },
           {
            "bin_end": 14.4,
            "bin_start": 12.8,
            "count": 16
           },
           {
            "bin_end": 16,
            "bin_start": 14.4,
            "count": 3
           }
          ],
          "max": "16",
          "min": "0",
          "nan_count": 0,
          "unique_count": 17
         }
        },
        {
         "dtype": "int64",
         "name": "[1;2]",
         "stats": {
          "histogram": [
           {
            "bin_end": 1.6,
            "bin_start": 0,
            "count": 210
           },
           {
            "bin_end": 3.2,
            "bin_start": 1.6,
            "count": 90
           },
           {
            "bin_end": 4.800000000000001,
            "bin_start": 3.2,
            "count": 53
           },
           {
            "bin_end": 6.4,
            "bin_start": 4.800000000000001,
            "count": 110
           },
           {
            "bin_end": 8,
            "bin_start": 6.4,
            "count": 65
           },
           {
            "bin_end": 9.600000000000001,
            "bin_start": 8,
            "count": 130
           },
           {
            "bin_end": 11.200000000000001,
            "bin_start": 9.600000000000001,
            "count": 163
           },
           {
            "bin_end": 12.8,
            "bin_start": 11.200000000000001,
            "count": 121
           },
           {
            "bin_end": 14.4,
            "bin_start": 12.8,
            "count": 274
           },
           {
            "bin_end": 16,
            "bin_start": 14.4,
            "count": 581
           }
          ],
          "max": "16",
          "min": "0",
          "nan_count": 0,
          "unique_count": 17
         }
        },
        {
         "dtype": "int64",
         "name": "[1;3]",
         "stats": {
          "histogram": [
           {
            "bin_end": 1.6,
            "bin_start": 0,
            "count": 24
           },
           {
            "bin_end": 3.2,
            "bin_start": 1.6,
            "count": 32
           },
           {
            "bin_end": 4.800000000000001,
            "bin_start": 3.2,
            "count": 51
           },
           {
            "bin_end": 6.4,
            "bin_start": 4.800000000000001,
            "count": 113
           },
           {
            "bin_end": 8,
            "bin_start": 6.4,
            "count": 53
           },
           {
            "bin_end": 9.600000000000001,
            "bin_start": 8,
            "count": 198
           },
           {
            "bin_end": 11.200000000000001,
            "bin_start": 9.600000000000001,
            "count": 200
           },
           {
            "bin_end": 12.8,
            "bin_start": 11.200000000000001,
            "count": 130
           },
           {
            "bin_end": 14.4,
            "bin_start": 12.8,
            "count": 335
           },
           {
            "bin_end": 16,
            "bin_start": 14.4,
            "count": 661
           }
          ],
          "max": "16",
          "min": "0",
          "nan_count": 0,
          "unique_count": 17
         }
        },
        {
         "dtype": "int64",
         "name": "[1;4]",
         "stats": {
          "histogram": [
           {
            "bin_end": 1.6,
            "bin_start": 0,
            "count": 102
           },
           {
            "bin_end": 3.2,
            "bin_start": 1.6,
            "count": 81
           },
           {
            "bin_end": 4.800000000000001,
            "bin_start": 3.2,
            "count": 86
           },
           {
            "bin_end": 6.4,
            "bin_start": 4.800000000000001,
            "count": 153
           },
           {
            "bin_end": 8,
            "bin_start": 6.4,
            "count": 85
           },
           {
            "bin_end": 9.600000000000001,
            "bin_start": 8,
            "count": 228
           },
           {
            "bin_end": 11.200000000000001,
            "bin_start": 9.600000000000001,
            "count": 231
           },
           {
            "bin_end": 12.8,
            "bin_start": 11.200000000000001,
            "count": 119
           },
           {
            "bin_end": 14.4,
            "bin_start": 12.8,
            "count": 229
           },
           {
            "bin_end": 16,
            "bin_start": 14.4,
            "count": 483
           }
          ],
          "max": "16",
          "min": "0",
          "nan_count": 0,
          "unique_count": 17
         }
        },
        {
         "dtype": "int64",
         "name": "[1;5]",
         "stats": {
          "histogram": [
           {
            "bin_end": 1.6,
            "bin_start": 0,
            "count": 437
           },
           {
            "bin_end": 3.2,
            "bin_start": 1.6,
            "count": 122
           },
           {
            "bin_end": 4.800000000000001,
            "bin_start": 3.2,
            "count": 85
           },
           {
            "bin_end": 6.4,
            "bin_start": 4.800000000000001,
            "count": 105
           },
           {
            "bin_end": 8,
            "bin_start": 6.4,
            "count": 59
           },
           {
            "bin_end": 9.600000000000001,
            "bin_start": 8,
            "count": 133
           },
           {
            "bin_end": 11.200000000000001,
            "bin_start": 9.600000000000001,
            "count": 136
           },
           {
            "bin_end": 12.8,
            "bin_start": 11.200000000000001,
            "count": 108
           },
           {
            "bin_end": 14.4,
            "bin_start": 12.8,
            "count": 207
           },
           {
            "bin_end": 16,
            "bin_start": 14.4,
            "count": 405
           }
          ],
          "max": "16",
          "min": "0",
          "nan_count": 0,
          "unique_count": 17
         }
        },
        {
         "dtype": "int64",
         "name": "[1;6]",
         "stats": {
          "histogram": [
           {
            "bin_end": 1.6,
            "bin_start": 0,
            "count": 1306
           },
           {
            "bin_end": 3.2,
            "bin_start": 1.6,
            "count": 147
           },
           {
            "bin_end": 4.800000000000001,
            "bin_start": 3.2,
            "count": 62
           },
           {
            "bin_end": 6.4,
            "bin_start": 4.800000000000001,
            "count": 68
           },
           {
            "bin_end": 8,
            "bin_start": 6.4,
            "count": 35
           },
           {
            "bin_end": 9.600000000000001,
            "bin_start": 8,
            "count": 72
           },
           {
            "bin_end": 11.200000000000001,
            "bin_start": 9.600000000000001,
            "count": 36
           },
           {
            "bin_end": 12.8,
            "bin_start": 11.200000000000001,
            "count": 17
           },
           {
            "bin_end": 14.4,
            "bin_start": 12.8,
            "count": 19
           },
           {
            "bin_end": 16,
            "bin_start": 14.4,
            "count": 35
           }
          ],
          "max": "16",
          "min": "0",
          "nan_count": 0,
          "unique_count": 17
         }
        },
        {
         "dtype": "int64",
         "name": "[1;7]",
         "stats": {
          "histogram": [
           {
            "bin_end": 1.2,
            "bin_start": 0,
            "count": 1764
           },
           {
            "bin_end": 2.4,
            "bin_start": 1.2,
            "count": 7
           },
           {
            "bin_end": 3.5999999999999996,
            "bin_start": 2.4,
            "count": 5
           },
           {
            "bin_end": 4.8,
            "bin_start": 3.5999999999999996,
            "count": 1
           },
           {
            "bin_end": 6,
            "bin_start": 4.8,
            "count": 6
           },
           {
            "bin_end": 7.199999999999999,
            "bin_start": 6,
            "count": 6
           },
           {
            "bin_end": 8.4,
            "bin_start": 7.199999999999999,
            "count": 2
           },
           {
            "bin_end": 9.6,
            "bin_start": 8.4,
            "count": 2
           },
           {
            "bin_end": 10.799999999999999,
            "bin_start": 9.6,
            "count": 2
           },
           {
            "bin_end": 12,
            "bin_start": 10.799999999999999,
            "count": 2
           }
          ],
          "max": "12",
          "min": "0",
          "nan_count": 0,
          "unique_count": 13
         }
        },
        {
         "dtype": "int64",
         "name": "[2;0]",
         "stats": {
          "histogram": [
           {
            "bin_end": 0.2,
            "bin_start": 0,
            "count": 1793
           },
           {
            "bin_end": 0.4,
            "bin_start": 0.2,
            "count": 0
           },
           {
            "bin_end": 0.6000000000000001,
            "bin_start": 0.4,
            "count": 0
           },
           {
            "bin_end": 0.8,
            "bin_start": 0.6000000000000001,
            "count": 0
           },
           {
            "bin_end": 1,
            "bin_start": 0.8,
            "count": 0
           },
           {
            "bin_end": 1.2000000000000002,
            "bin_start": 1,
            "count": 3
           },
           {
            "bin_end": 1.4000000000000001,
            "bin_start": 1.2000000000000002,
            "count": 0
           },
           {
            "bin_end": 1.6,
            "bin_start": 1.4000000000000001,
            "count": 0
           },
           {
            "bin_end": 1.8,
            "bin_start": 1.6,
            "count": 0
           },
           {
            "bin_end": 2,
            "bin_start": 1.8,
            "count": 1
           }
          ],
          "max": "2",
          "min": "0",
          "nan_count": 0,
          "unique_count": 3
         }
        },
        {
         "dtype": "int64",
         "name": "[2;1]",
         "stats": {
          "histogram": [
           {
            "bin_end": 1.6,
            "bin_start": 0,
            "count": 1009
           },
           {
            "bin_end": 3.2,
            "bin_start": 1.6,
            "count": 241
           },
           {
            "bin_end": 4.800000000000001,
            "bin_start": 3.2,
            "count": 121
           },
           {
            "bin_end": 6.4,
            "bin_start": 4.800000000000001,
            "count": 144
           },
           {
            "bin_end": 8,
            "bin_start": 6.4,
            "count": 58
           },
           {
            "bin_end": 9.600000000000001,
            "bin_start": 8,
            "count": 107
           },
           {
            "bin_end": 11.200000000000001,
            "bin_start": 9.600000000000001,
            "count": 57
           },
           {
            "bin_end": 12.8,
            "bin_start": 11.200000000000001,
            "count": 24
           },
           {
            "bin_end": 14.4,
            "bin_start": 12.8,
            "count": 25
           },
           {
            "bin_end": 16,
            "bin_start": 14.4,
            "count": 11
           }
          ],
          "max": "16",
          "min": "0",
          "nan_count": 0,
          "unique_count": 17
         }
        },
        {
         "dtype": "int64",
         "name": "[2;2]",
         "stats": {
          "histogram": [
           {
            "bin_end": 1.6,
            "bin_start": 0,
            "count": 280
           },
           {
            "bin_end": 3.2,
            "bin_start": 1.6,
            "count": 90
           },
           {
            "bin_end": 4.800000000000001,
            "bin_start": 3.2,
            "count": 48
           },
           {
            "bin_end": 6.4,
            "bin_start": 4.800000000000001,
            "count": 98
           },
           {
            "bin_end": 8,
            "bin_start": 6.4,
            "count": 62
           },
           {
            "bin_end": 9.600000000000001,
            "bin_start": 8,
            "count": 126
           },
           {
            "bin_end": 11.200000000000001,
            "bin_start": 9.600000000000001,
            "count": 166
           },
           {
            "bin_end": 12.8,
            "bin_start": 11.200000000000001,
            "count": 117
           },
           {
            "bin_end": 14.4,
            "bin_start": 12.8,
            "count": 267
           },
           {
            "bin_end": 16,
            "bin_start": 14.4,
            "count": 543
           }
          ],
          "max": "16",
          "min": "0",
          "nan_count": 0,
          "unique_count": 17
         }
        },
        {
         "dtype": "int64",
         "name": "[2;3]",
         "stats": {
          "histogram": [
           {
            "bin_end": 1.6,
            "bin_start": 0,
            "count": 483
           },
           {
            "bin_end": 3.2,
            "bin_start": 1.6,
            "count": 191
           },
           {
            "bin_end": 4.800000000000001,
            "bin_start": 3.2,
            "count": 79
           },
           {
            "bin_end": 6.4,
            "bin_start": 4.800000000000001,
            "count": 171
           },
           {
            "bin_end": 8,
            "bin_start": 6.4,
            "count": 73
           },
           {
            "bin_end": 9.600000000000001,
            "bin_start": 8,
            "count": 169
           },
           {
            "bin_end": 11.200000000000001,
            "bin_start": 9.600000000000001,
            "count": 125
           },
           {
            "bin_end": 12.8,
            "bin_start": 11.200000000000001,
            "count": 57
           },
           {
            "bin_end": 14.4,
            "bin_start": 12.8,
            "count": 135
           },
           {
            "bin_end": 16,
            "bin_start": 14.4,
            "count": 314
           }
          ],
          "max": "16",
          "min": "0",
          "nan_count": 0,
          "unique_count": 17
         }
        },
        {
         "dtype": "int64",
         "name": "[2;4]",
         "stats": {
          "histogram": [
           {
            "bin_end": 1.6,
            "bin_start": 0,
            "count": 564
           },
           {
            "bin_end": 3.2,
            "bin_start": 1.6,
            "count": 154
           },
           {
            "bin_end": 4.800000000000001,
            "bin_start": 3.2,
            "count": 70
           },
           {
            "bin_end": 6.4,
            "bin_start": 4.800000000000001,
            "count": 138
           },
           {
            "bin_end": 8,
            "bin_start": 6.4,
            "count": 43
           },
           {
            "bin_end": 9.600000000000001,
            "bin_start": 8,
            "count": 114
           },
           {
            "bin_end": 11.200000000000001,
            "bin_start": 9.600000000000001,
            "count": 137
           },
           {
            "bin_end": 12.8,
            "bin_start": 11.200000000000001,
            "count": 61
           },
           {
            "bin_end": 14.4,
            "bin_start": 12.8,
            "count": 155
           },
           {
            "bin_end": 16,
            "bin_start": 14.4,
            "count": 361
           }
          ],
          "max": "16",
          "min": "0",
          "nan_count": 0,
          "unique_count": 17
         }
        },
        {
         "dtype": "int64",
         "name": "[2;5]",
         "stats": {
          "histogram": [
           {
            "bin_end": 1.6,
            "bin_start": 0,
            "count": 526
           },
           {
            "bin_end": 3.2,
            "bin_start": 1.6,
            "count": 102
           },
           {
            "bin_end": 4.800000000000001,
            "bin_start": 3.2,
            "count": 54
           },
           {
            "bin_end": 6.4,
            "bin_start": 4.800000000000001,
            "count": 96
           },
           {
            "bin_end": 8,
            "bin_start": 6.4,
            "count": 43
           },
           {
            "bin_end": 9.600000000000001,
            "bin_start": 8,
            "count": 150
           },
           {
            "bin_end": 11.200000000000001,
            "bin_start": 9.600000000000001,
            "count": 130
           },
           {
            "bin_end": 12.8,
            "bin_start": 11.200000000000001,
            "count": 108
           },
           {
            "bin_end": 14.4,
            "bin_start": 12.8,
            "count": 219
           },
           {
            "bin_end": 16,
            "bin_start": 14.4,
            "count": 369
           }
          ],
          "max": "16",
          "min": "0",
          "nan_count": 0,
          "unique_count": 17
         }
        },
        {
         "dtype": "int64",
         "name": "[2;6]",
         "stats": {
          "histogram": [
           {
            "bin_end": 1.6,
            "bin_start": 0,
            "count": 1247
           },
           {
            "bin_end": 3.2,
            "bin_start": 1.6,
            "count": 172
           },
           {
            "bin_end": 4.800000000000001,
            "bin_start": 3.2,
            "count": 106
           },
           {
            "bin_end": 6.4,
            "bin_start": 4.800000000000001,
            "count": 105
           },
           {
            "bin_end": 8,
            "bin_start": 6.4,
            "count": 39
           },
           {
            "bin_end": 9.600000000000001,
            "bin_start": 8,
            "count": 49
           },
           {
            "bin_end": 11.200000000000001,
            "bin_start": 9.600000000000001,
            "count": 28
           },
           {
            "bin_end": 12.8,
            "bin_start": 11.200000000000001,
            "count": 15
           },
           {
            "bin_end": 14.4,
            "bin_start": 12.8,
            "count": 12
           },
           {
            "bin_end": 16,
            "bin_start": 14.4,
            "count": 24
           }
          ],
          "max": "16",
          "min": "0",
          "nan_count": 0,
          "unique_count": 17
         }
        },
        {
         "dtype": "int64",
         "name": "[2;7]",
         "stats": {
          "histogram": [
           {
            "bin_end": 0.8,
            "bin_start": 0,
            "count": 1764
           },
           {
            "bin_end": 1.6,
            "bin_start": 0.8,
            "count": 12
           },
           {
            "bin_end": 2.4000000000000004,
            "bin_start": 1.6,
            "count": 5
           },
           {
            "bin_end": 3.2,
            "bin_start": 2.4000000000000004,
            "count": 6
           },
           {
            "bin_end": 4,
            "bin_start": 3.2,
            "count": 0
           },
           {
            "bin_end": 4.800000000000001,
            "bin_start": 4,
            "count": 4
           },
           {
            "bin_end": 5.6000000000000005,
            "bin_start": 4.800000000000001,
            "count": 4
           },
           {
            "bin_end": 6.4,
            "bin_start": 5.6000000000000005,
            "count": 1
           },
           {
            "bin_end": 7.2,
            "bin_start": 6.4,
            "count": 0
           },
           {
            "bin_end": 8,
            "bin_start": 7.2,
            "count": 1
           }
          ],
          "max": "8",
          "min": "0",
          "nan_count": 0,
          "unique_count": 8
         }
        },
        {
         "dtype": "int64",
         "name": "[3;0]",
         "stats": {
          "histogram": [
           {
            "bin_end": 0.1,
            "bin_start": 0,
            "count": 1795
           },
           {
            "bin_end": 0.2,
            "bin_start": 0.1,
            "count": 0
           },
           {
            "bin_end": 0.30000000000000004,
            "bin_start": 0.2,
            "count": 0
           },
           {
            "bin_end": 0.4,
            "bin_start": 0.30000000000000004,
            "count": 0
           },
           {
            "bin_end": 0.5,
            "bin_start": 0.4,
            "count": 0
           },
           {
            "bin_end": 0.6000000000000001,
            "bin_start": 0.5,
            "count": 0
           },
           {
            "bin_end": 0.7000000000000001,
            "bin_start": 0.6000000000000001,
            "count": 0
           },
           {
            "bin_end": 0.8,
            "bin_start": 0.7000000000000001,
            "count": 0
           },
           {
            "bin_end": 0.9,
            "bin_start": 0.8,
            "count": 0
           },
           {
            "bin_end": 1,
            "bin_start": 0.9,
            "count": 2
           }
          ],
          "max": "1",
          "min": "0",
          "nan_count": 0,
          "unique_count": 2
         }
        },
        {
         "dtype": "int64",
         "name": "[3;1]",
         "stats": {
          "histogram": [
           {
            "bin_end": 1.5,
            "bin_start": 0,
            "count": 993
           },
           {
            "bin_end": 3,
            "bin_start": 1.5,
            "count": 101
           },
           {
            "bin_end": 4.5,
            "bin_start": 3,
            "count": 256
           },
           {
            "bin_end": 6,
            "bin_start": 4.5,
            "count": 118
           },
           {
            "bin_end": 7.5,
            "bin_start": 6,
            "count": 155
           },
           {
            "bin_end": 9,
            "bin_start": 7.5,
            "count": 85
           },
           {
            "bin_end": 10.5,
            "bin_start": 9,
            "count": 52
           },
           {
            "bin_end": 12,
            "bin_start": 10.5,
            "count": 16
           },
           {
            "bin_end": 13.5,
            "bin_start": 12,
            "count": 16
           },
           {
            "bin_end": 15,
            "bin_start": 13.5,
            "count": 5
           }
          ],
          "max": "15",
          "min": "0",
          "nan_count": 0,
          "unique_count": 16
         }
        },
        {
         "dtype": "int64",
         "name": "[3;2]",
         "stats": {
          "histogram": [
           {
            "bin_end": 1.6,
            "bin_start": 0,
            "count": 390
           },
           {
            "bin_end": 3.2,
            "bin_start": 1.6,
            "count": 113
           },
           {
            "bin_end": 4.800000000000001,
            "bin_start": 3.2,
            "count": 53
           },
           {
            "bin_end": 6.4,
            "bin_start": 4.800000000000001,
            "count": 103
           },
           {
            "bin_end": 8,
            "bin_start": 6.4,
            "count": 51
           },
           {
            "bin_end": 9.600000000000001,
            "bin_start": 8,
            "count": 116
           },
           {
            "bin_end": 11.200000000000001,
            "bin_start": 9.600000000000001,
            "count": 117
           },
           {
            "bin_end": 12.8,
            "bin_start": 11.200000000000001,
            "count": 101
           },
           {
            "bin_end": 14.4,
            "bin_start": 12.8,
            "count": 197
           },
           {
            "bin_end": 16,
            "bin_start": 14.4,
            "count": 556
           }
          ],
          "max": "16",
          "min": "0",
          "nan_count": 0,
          "unique_count": 17
         }
        },
        {
         "dtype": "int64",
         "name": "[3;3]",
         "stats": {
          "histogram": [
           {
            "bin_end": 1.6,
            "bin_start": 0,
            "count": 339
           },
           {
            "bin_end": 3.2,
            "bin_start": 1.6,
            "count": 144
           },
           {
            "bin_end": 4.800000000000001,
            "bin_start": 3.2,
            "count": 70
           },
           {
            "bin_end": 6.4,
            "bin_start": 4.800000000000001,
            "count": 120
           },
           {
            "bin_end": 8,
            "bin_start": 6.4,
            "count": 62
           },
           {
            "bin_end": 9.600000000000001,
            "bin_start": 8,
            "count": 141
           },
           {
            "bin_end": 11.200000000000001,
            "bin_start": 9.600000000000001,
            "count": 166
           },
           {
            "bin_end": 12.8,
            "bin_start": 11.200000000000001,
            "count": 112
           },
           {
            "bin_end": 14.4,
            "bin_start": 12.8,
            "count": 178
           },
           {
            "bin_end": 16,
            "bin_start": 14.4,
            "count": 465
           }
          ],
          "max": "16",
          "min": "0",
          "nan_count": 0,
          "unique_count": 17
         }
        },
        {
         "dtype": "int64",
         "name": "[3;4]",
         "stats": {
          "histogram": [
           {
            "bin_end": 1.6,
            "bin_start": 0,
            "count": 368
           },
           {
            "bin_end": 3.2,
            "bin_start": 1.6,
            "count": 63
           },
           {
            "bin_end": 4.800000000000001,
            "bin_start": 3.2,
            "count": 39
           },
           {
            "bin_end": 6.4,
            "bin_start": 4.800000000000001,
            "count": 75
           },
           {
            "bin_end": 8,
            "bin_start": 6.4,
            "count": 39
           },
           {
            "bin_end": 9.600000000000001,
            "bin_start": 8,
            "count": 114
           },
           {
            "bin_end": 11.200000000000001,
            "bin_start": 9.600000000000001,
            "count": 120
           },
           {
            "bin_end": 12.8,
            "bin_start": 11.200000000000001,
            "count": 89
           },
           {
            "bin_end": 14.4,
            "bin_start": 12.8,
            "count": 242
           },
           {
            "bin_end": 16,
            "bin_start": 14.4,
            "count": 648
           }
          ],
          "max": "16",
          "min": "0",
          "nan_count": 0,
          "unique_count": 17
         }
        },
        {
         "dtype": "int64",
         "name": "[3;5]",
         "stats": {
          "histogram": [
           {
            "bin_end": 1.6,
            "bin_start": 0,
            "count": 451
           },
           {
            "bin_end": 3.2,
            "bin_start": 1.6,
            "count": 154
           },
           {
            "bin_end": 4.800000000000001,
            "bin_start": 3.2,
            "count": 83
           },
           {
            "bin_end": 6.4,
            "bin_start": 4.800000000000001,
            "count": 137
           },
           {
            "bin_end": 8,
            "bin_start": 6.4,
            "count": 78
           },
           {
            "bin_end": 9.600000000000001,
            "bin_start": 8,
            "count": 154
           },
           {
            "bin_end": 11.200000000000001,
            "bin_start": 9.600000000000001,
            "count": 150
           },
           {
            "bin_end": 12.8,
            "bin_start": 11.200000000000001,
            "count": 85
           },
           {
            "bin_end": 14.4,
            "bin_start": 12.8,
            "count": 156
           },
           {
            "bin_end": 16,
            "bin_start": 14.4,
            "count": 349
           }
          ],
          "max": "16",
          "min": "0",
          "nan_count": 0,
          "unique_count": 17
         }
        },
        {
         "dtype": "int64",
         "name": "[3;6]",
         "stats": {
          "histogram": [
           {
            "bin_end": 1.5,
            "bin_start": 0,
            "count": 1183
           },
           {
            "bin_end": 3,
            "bin_start": 1.5,
            "count": 81
           },
           {
            "bin_end": 4.5,
            "bin_start": 3,
            "count": 108
           },
           {
            "bin_end": 6,
            "bin_start": 4.5,
            "count": 68
           },
           {
            "bin_end": 7.5,
            "bin_start": 6,
            "count": 98
           },
           {
            "bin_end": 9,
            "bin_start": 7.5,
            "count": 112
           },
           {
            "bin_end": 10.5,
            "bin_start": 9,
            "count": 68
           },
           {
            "bin_end": 12,
            "bin_start": 10.5,
            "count": 18
           },
           {
            "bin_end": 13.5,
            "bin_start": 12,
            "count": 36
           },
           {
            "bin_end": 15,
            "bin_start": 13.5,
            "count": 25
           }
          ],
          "max": "15",
          "min": "0",
          "nan_count": 0,
          "unique_count": 16
         }
        },
        {
         "dtype": "int64",
         "name": "[3;7]",
         "stats": {
          "histogram": [
           {
            "bin_end": 0.1,
            "bin_start": 0,
            "count": 1793
           },
           {
            "bin_end": 0.2,
            "bin_start": 0.1,
            "count": 0
           },
           {
            "bin_end": 0.30000000000000004,
            "bin_start": 0.2,
            "count": 0
           },
           {
            "bin_end": 0.4,
            "bin_start": 0.30000000000000004,
            "count": 0
           },
           {
            "bin_end": 0.5,
            "bin_start": 0.4,
            "count": 0
           },
           {
            "bin_end": 0.6000000000000001,
            "bin_start": 0.5,
            "count": 0
           },
           {
            "bin_end": 0.7000000000000001,
            "bin_start": 0.6000000000000001,
            "count": 0
           },
           {
            "bin_end": 0.8,
            "bin_start": 0.7000000000000001,
            "count": 0
           },
           {
            "bin_end": 0.9,
            "bin_start": 0.8,
            "count": 0
           },
           {
            "bin_end": 1,
            "bin_start": 0.9,
            "count": 4
           }
          ],
          "max": "1",
          "min": "0",
          "nan_count": 0,
          "unique_count": 2
         }
        },
        {
         "dtype": "int64",
         "name": "[4;0]",
         "stats": {
          "histogram": [
           {
            "bin_end": -0.4,
            "bin_start": -0.5,
            "count": 0
           },
           {
            "bin_end": -0.3,
            "bin_start": -0.4,
            "count": 0
           },
           {
            "bin_end": -0.19999999999999996,
            "bin_start": -0.3,
            "count": 0
           },
           {
            "bin_end": -0.09999999999999998,
            "bin_start": -0.19999999999999996,
            "count": 0
           },
           {
            "bin_end": 0,
            "bin_start": -0.09999999999999998,
            "count": 0
           },
           {
            "bin_end": 0.10000000000000009,
            "bin_start": 0,
            "count": 1797
           },
           {
            "bin_end": 0.20000000000000007,
            "bin_start": 0.10000000000000009,
            "count": 0
           },
           {
            "bin_end": 0.30000000000000004,
            "bin_start": 0.20000000000000007,
            "count": 0
           },
           {
            "bin_end": 0.4,
            "bin_start": 0.30000000000000004,
            "count": 0
           },
           {
            "bin_end": 0.5,
            "bin_start": 0.4,
            "count": 0
           }
          ],
          "max": "0",
          "min": "0",
          "nan_count": 0,
          "unique_count": 1
         }
        },
        {
         "dtype": "int64",
         "name": "[4;1]",
         "stats": {
          "histogram": [
           {
            "bin_end": 1.4,
            "bin_start": 0,
            "count": 1124
           },
           {
            "bin_end": 2.8,
            "bin_start": 1.4,
            "count": 78
           },
           {
            "bin_end": 4.199999999999999,
            "bin_start": 2.8,
            "count": 169
           },
           {
            "bin_end": 5.6,
            "bin_start": 4.199999999999999,
            "count": 87
           },
           {
            "bin_end": 7,
            "bin_start": 5.6,
            "count": 50
           },
           {
            "bin_end": 8.399999999999999,
            "bin_start": 7,
            "count": 161
           },
           {
            "bin_end": 9.799999999999999,
            "bin_start": 8.399999999999999,
            "count": 28
           },
           {
            "bin_end": 11.2,
            "bin_start": 9.799999999999999,
            "count": 55
           },
           {
            "bin_end": 12.6,
            "bin_start": 11.2,
            "count": 20
           },
           {
            "bin_end": 14,
            "bin_start": 12.6,
            "count": 25
           }
          ],
          "max": "14",
          "min": "0",
          "nan_count": 0,
          "unique_count": 15
         }
        },
        {
         "dtype": "int64",
         "name": "[4;2]",
         "stats": {
          "histogram": [
           {
            "bin_end": 1.6,
            "bin_start": 0,
            "count": 548
           },
           {
            "bin_end": 3.2,
            "bin_start": 1.6,
            "count": 123
           },
           {
            "bin_end": 4.800000000000001,
            "bin_start": 3.2,
            "count": 48
           },
           {
            "bin_end": 6.4,
            "bin_start": 4.800000000000001,
            "count": 93
           },
           {
            "bin_end": 8,
            "bin_start": 6.4,
            "count": 69
           },
           {
            "bin_end": 9.600000000000001,
            "bin_start": 8,
            "count": 136
           },
           {
            "bin_end": 11.200000000000001,
            "bin_start": 9.600000000000001,
            "count": 106
           },
           {
            "bin_end": 12.8,
            "bin_start": 11.200000000000001,
            "count": 97
           },
           {
            "bin_end": 14.4,
            "bin_start": 12.8,
            "count": 137
           },
           {
            "bin_end": 16,
            "bin_start": 14.4,
            "count": 440
           }
          ],
          "max": "16",
          "min": "0",
          "nan_count": 0,
          "unique_count": 17
         }
        },
        {
         "dtype": "int64",
         "name": "[4;3]",
         "stats": {
          "histogram": [
           {
            "bin_end": 1.6,
            "bin_start": 0,
            "count": 397
           },
           {
            "bin_end": 3.2,
            "bin_start": 1.6,
            "count": 89
           },
           {
            "bin_end": 4.800000000000001,
            "bin_start": 3.2,
            "count": 77
           },
           {
            "bin_end": 6.4,
            "bin_start": 4.800000000000001,
            "count": 97
           },
           {
            "bin_end": 8,
            "bin_start": 6.4,
            "count": 59
           },
           {
            "bin_end": 9.600000000000001,
            "bin_start": 8,
            "count": 123
           },
           {
            "bin_end": 11.200000000000001,
            "bin_start": 9.600000000000001,
            "count": 128
           },
           {
            "bin_end": 12.8,
            "bin_start": 11.200000000000001,
            "count": 84
           },
           {
            "bin_end": 14.4,
            "bin_start": 12.8,
            "count": 159
           },
           {
            "bin_end": 16,
            "bin_start": 14.4,
            "count": 584
           }
          ],
          "max": "16",
          "min": "0",
          "nan_count": 0,
          "unique_count": 17
         }
        },
        {
         "dtype": "int64",
         "name": "[4;4]",
         "stats": {
          "histogram": [
           {
            "bin_end": 1.6,
            "bin_start": 0,
            "count": 314
           },
           {
            "bin_end": 3.2,
            "bin_start": 1.6,
            "count": 60
           },
           {
            "bin_end": 4.800000000000001,
            "bin_start": 3.2,
            "count": 36
           },
           {
            "bin_end": 6.4,
            "bin_start": 4.800000000000001,
            "count": 70
           },
           {
            "bin_end": 8,
            "bin_start": 6.4,
            "count": 45
           },
           {
            "bin_end": 9.600000000000001,
            "bin_start": 8,
            "count": 138
           },
           {
            "bin_end": 11.200000000000001,
            "bin_start": 9.600000000000001,
            "count": 133
           },
           {
            "bin_end": 12.8,
            "bin_start": 11.200000000000001,
            "count": 93
           },
           {
            "bin_end": 14.4,
            "bin_start": 12.8,
            "count": 234
           },
           {
            "bin_end": 16,
            "bin_start": 14.4,
            "count": 674
           }
          ],
          "max": "16",
          "min": "0",
          "nan_count": 0,
          "unique_count": 17
         }
        },
        {
         "dtype": "int64",
         "name": "[4;5]",
         "stats": {
          "histogram": [
           {
            "bin_end": 1.6,
            "bin_start": 0,
            "count": 373
           },
           {
            "bin_end": 3.2,
            "bin_start": 1.6,
            "count": 87
           },
           {
            "bin_end": 4.800000000000001,
            "bin_start": 3.2,
            "count": 72
           },
           {
            "bin_end": 6.4,
            "bin_start": 4.800000000000001,
            "count": 118
           },
           {
            "bin_end": 8,
            "bin_start": 6.4,
            "count": 71
           },
           {
            "bin_end": 9.600000000000001,
            "bin_start": 8,
            "count": 161
           },
           {
            "bin_end": 11.200000000000001,
            "bin_start": 9.600000000000001,
            "count": 150
           },
           {
            "bin_end": 12.8,
            "bin_start": 11.200000000000001,
            "count": 127
           },
           {
            "bin_end": 14.4,
            "bin_start": 12.8,
            "count": 205
           },
           {
            "bin_end": 16,
            "bin_start": 14.4,
            "count": 433
           }
          ],
          "max": "16",
          "min": "0",
          "nan_count": 0,
          "unique_count": 17
         }
        },
        {
         "dtype": "int64",
         "name": "[4;6]",
         "stats": {
          "histogram": [
           {
            "bin_end": 1.4,
            "bin_start": 0,
            "count": 959
           },
           {
            "bin_end": 2.8,
            "bin_start": 1.4,
            "count": 102
           },
           {
            "bin_end": 4.199999999999999,
            "bin_start": 2.8,
            "count": 173
           },
           {
            "bin_end": 5.6,
            "bin_start": 4.199999999999999,
            "count": 95
           },
           {
            "bin_end": 7,
            "bin_start": 5.6,
            "count": 66
           },
           {
            "bin_end": 8.399999999999999,
            "bin_start": 7,
            "count": 251
           },
           {
            "bin_end": 9.799999999999999,
            "bin_start": 8.399999999999999,
            "count": 63
           },
           {
            "bin_end": 11.2,
            "bin_start": 9.799999999999999,
            "count": 71
           },
           {
            "bin_end": 12.6,
            "bin_start": 11.2,
            "count": 9
           },
           {
            "bin_end": 14,
            "bin_start": 12.6,
            "count": 8
           }
          ],
          "max": "14",
          "min": "0",
          "nan_count": 0,
          "unique_count": 15
         }
        },
        {
         "dtype": "int64",
         "name": "[4;7]",
         "stats": {
          "histogram": [
           {
            "bin_end": -0.4,
            "bin_start": -0.5,
            "count": 0
           },
           {
            "bin_end": -0.3,
            "bin_start": -0.4,
            "count": 0
           },
           {
            "bin_end": -0.19999999999999996,
            "bin_start": -0.3,
            "count": 0
           },
           {
            "bin_end": -0.09999999999999998,
            "bin_start": -0.19999999999999996,
            "count": 0
           },
           {
            "bin_end": 0,
            "bin_start": -0.09999999999999998,
            "count": 0
           },
           {
            "bin_end": 0.10000000000000009,
            "bin_start": 0,
            "count": 1797
           },
           {
            "bin_end": 0.20000000000000007,
            "bin_start": 0.10000000000000009,
            "count": 0
           },
           {
            "bin_end": 0.30000000000000004,
            "bin_start": 0.20000000000000007,
            "count": 0
           },
           {
            "bin_end": 0.4,
            "bin_start": 0.30000000000000004,
            "count": 0
           },
           {
            "bin_end": 0.5,
            "bin_start": 0.4,
            "count": 0
           }
          ],
          "max": "0",
          "min": "0",
          "nan_count": 0,
          "unique_count": 1
         }
        },
        {
         "dtype": "int64",
         "name": "[5;0]",
         "stats": {
          "histogram": [
           {
            "bin_end": 0.4,
            "bin_start": 0,
            "count": 1788
           },
           {
            "bin_end": 0.8,
            "bin_start": 0.4,
            "count": 0
           },
           {
            "bin_end": 1.2000000000000002,
            "bin_start": 0.8,
            "count": 5
           },
           {
            "bin_end": 1.6,
            "bin_start": 1.2000000000000002,
            "count": 0
           },
           {
            "bin_end": 2,
            "bin_start": 1.6,
            "count": 0
           },
           {
            "bin_end": 2.4000000000000004,
            "bin_start": 2,
            "count": 2
           },
           {
            "bin_end": 2.8000000000000003,
            "bin_start": 2.4000000000000004,
            "count": 0
           },
           {
            "bin_end": 3.2,
            "bin_start": 2.8000000000000003,
            "count": 1
           },
           {
            "bin_end": 3.6,
            "bin_start": 3.2,
            "count": 0
           },
           {
            "bin_end": 4,
            "bin_start": 3.6,
            "count": 1
           }
          ],
          "max": "4",
          "min": "0",
          "nan_count": 0,
          "unique_count": 5
         }
        },
        {
         "dtype": "int64",
         "name": "[5;1]",
         "stats": {
          "histogram": [
           {
            "bin_end": 1.6,
            "bin_start": 0,
            "count": 1292
           },
           {
            "bin_end": 3.2,
            "bin_start": 1.6,
            "count": 177
           },
           {
            "bin_end": 4.800000000000001,
            "bin_start": 3.2,
            "count": 85
           },
           {
            "bin_end": 6.4,
            "bin_start": 4.800000000000001,
            "count": 106
           },
           {
            "bin_end": 8,
            "bin_start": 6.4,
            "count": 29
           },
           {
            "bin_end": 9.600000000000001,
            "bin_start": 8,
            "count": 46
           },
           {
            "bin_end": 11.200000000000001,
            "bin_start": 9.600000000000001,
            "count": 23
           },
           {
            "bin_end": 12.8,
            "bin_start": 11.200000000000001,
            "count": 11
           },
           {
            "bin_end": 14.4,
            "bin_start": 12.8,
            "count": 13
           },
           {
            "bin_end": 16,
            "bin_start": 14.4,
            "count": 15
           }
          ],
          "max": "16",
          "min": "0",
          "nan_count": 0,
          "unique_count": 17
         }
        },
        {
         "dtype": "int64",
         "name": "[5;2]",
         "stats": {
          "histogram": [
           {
            "bin_end": 1.6,
            "bin_start": 0,
            "count": 700
           },
           {
            "bin_end": 3.2,
            "bin_start": 1.6,
            "count": 107
           },
           {
            "bin_end": 4.800000000000001,
            "bin_start": 3.2,
            "count": 52
           },
           {
            "bin_end": 6.4,
            "bin_start": 4.800000000000001,
            "count": 77
           },
           {
            "bin_end": 8,
            "bin_start": 6.4,
            "count": 34
           },
           {
            "bin_end": 9.600000000000001,
            "bin_start": 8,
            "count": 86
           },
           {
            "bin_end": 11.200000000000001,
            "bin_start": 9.600000000000001,
            "count": 99
           },
           {
            "bin_end": 12.8,
            "bin_start": 11.200000000000001,
            "count": 86
           },
           {
            "bin_end": 14.4,
            "bin_start": 12.8,
            "count": 161
           },
           {
            "bin_end": 16,
            "bin_start": 14.4,
            "count": 395
           }
          ],
          "max": "16",
          "min": "0",
          "nan_count": 0,
          "unique_count": 17
         }
        },
        {
         "dtype": "int64",
         "name": "[5;3]",
         "stats": {
          "histogram": [
           {
            "bin_end": 1.6,
            "bin_start": 0,
            "count": 646
           },
           {
            "bin_end": 3.2,
            "bin_start": 1.6,
            "count": 96
           },
           {
            "bin_end": 4.800000000000001,
            "bin_start": 3.2,
            "count": 45
           },
           {
            "bin_end": 6.4,
            "bin_start": 4.800000000000001,
            "count": 84
           },
           {
            "bin_end": 8,
            "bin_start": 6.4,
            "count": 48
           },
           {
            "bin_end": 9.600000000000001,
            "bin_start": 8,
            "count": 128
           },
           {
            "bin_end": 11.200000000000001,
            "bin_start": 9.600000000000001,
            "count": 112
           },
           {
            "bin_end": 12.8,
            "bin_start": 11.200000000000001,
            "count": 71
           },
           {
            "bin_end": 14.4,
            "bin_start": 12.8,
            "count": 162
           },
           {
            "bin_end": 16,
            "bin_start": 14.4,
            "count": 405
           }
          ],
          "max": "16",
          "min": "0",
          "nan_count": 0,
          "unique_count": 17
         }
        },
        {
         "dtype": "int64",
         "name": "[5;4]",
         "stats": {
          "histogram": [
           {
            "bin_end": 1.6,
            "bin_start": 0,
            "count": 524
           },
           {
            "bin_end": 3.2,
            "bin_start": 1.6,
            "count": 133
           },
           {
            "bin_end": 4.800000000000001,
            "bin_start": 3.2,
            "count": 69
           },
           {
            "bin_end": 6.4,
            "bin_start": 4.800000000000001,
            "count": 102
           },
           {
            "bin_end": 8,
            "bin_start": 6.4,
            "count": 58
           },
           {
            "bin_end": 9.600000000000001,
            "bin_start": 8,
            "count": 139
           },
           {
            "bin_end": 11.200000000000001,
            "bin_start": 9.600000000000001,
            "count": 117
           },
           {
            "bin_end": 12.8,
            "bin_start": 11.200000000000001,
            "count": 65
           },
           {
            "bin_end": 14.4,
            "bin_start": 12.8,
            "count": 170
           },
           {
            "bin_end": 16,
            "bin_start": 14.4,
            "count": 420
           }
          ],
          "max": "16",
          "min": "0",
          "nan_count": 0,
          "unique_count": 17
         }
        },
        {
         "dtype": "int64",
         "name": "[5;5]",
         "stats": {
          "histogram": [
           {
            "bin_end": 1.6,
            "bin_start": 0,
            "count": 394
           },
           {
            "bin_end": 3.2,
            "bin_start": 1.6,
            "count": 97
           },
           {
            "bin_end": 4.800000000000001,
            "bin_start": 3.2,
            "count": 73
           },
           {
            "bin_end": 6.4,
            "bin_start": 4.800000000000001,
            "count": 118
           },
           {
            "bin_end": 8,
            "bin_start": 6.4,
            "count": 75
           },
           {
            "bin_end": 9.600000000000001,
            "bin_start": 8,
            "count": 181
           },
           {
            "bin_end": 11.200000000000001,
            "bin_start": 9.600000000000001,
            "count": 192
           },
           {
            "bin_end": 12.8,
            "bin_start": 11.200000000000001,
            "count": 119
           },
           {
            "bin_end": 14.4,
            "bin_start": 12.8,
            "count": 231
           },
           {
            "bin_end": 16,
            "bin_start": 14.4,
            "count": 317
           }
          ],
          "max": "16",
          "min": "0",
          "nan_count": 0,
          "unique_count": 17
         }
        },
        {
         "dtype": "int64",
         "name": "[5;6]",
         "stats": {
          "histogram": [
           {
            "bin_end": 1.6,
            "bin_start": 0,
            "count": 950
           },
           {
            "bin_end": 3.2,
            "bin_start": 1.6,
            "count": 161
           },
           {
            "bin_end": 4.800000000000001,
            "bin_start": 3.2,
            "count": 80
           },
           {
            "bin_end": 6.4,
            "bin_start": 4.800000000000001,
            "count": 139
           },
           {
            "bin_end": 8,
            "bin_start": 6.4,
            "count": 85
           },
           {
            "bin_end": 9.600000000000001,
            "bin_start": 8,
            "count": 160
           },
           {
            "bin_end": 11.200000000000001,
            "bin_start": 9.600000000000001,
            "count": 93
           },
           {
            "bin_end": 12.8,
            "bin_start": 11.200000000000001,
            "count": 63
           },
           {
            "bin_end": 14.4,
            "bin_start": 12.8,
            "count": 43
           },
           {
            "bin_end": 16,
            "bin_start": 14.4,
            "count": 23
           }
          ],
          "max": "16",
          "min": "0",
          "nan_count": 0,
          "unique_count": 17
         }
        },
        {
         "dtype": "int64",
         "name": "[5;7]",
         "stats": {
          "histogram": [
           {
            "bin_end": 0.6,
            "bin_start": 0,
            "count": 1775
           },
           {
            "bin_end": 1.2,
            "bin_start": 0.6,
            "count": 12
           },
           {
            "bin_end": 1.7999999999999998,
            "bin_start": 1.2,
            "count": 0
           },
           {
            "bin_end": 2.4,
            "bin_start": 1.7999999999999998,
            "count": 3
           },
           {
            "bin_end": 3,
            "bin_start": 2.4,
            "count": 0
           },
           {
            "bin_end": 3.5999999999999996,
            "bin_start": 3,
            "count": 2
           },
           {
            "bin_end": 4.2,
            "bin_start": 3.5999999999999996,
            "count": 2
           },
           {
            "bin_end": 4.8,
            "bin_start": 4.2,
            "count": 0
           },
           {
            "bin_end": 5.3999999999999995,
            "bin_start": 4.8,
            "count": 1
           },
           {
            "bin_end": 6,
            "bin_start": 5.3999999999999995,
            "count": 2
           }
          ],
          "max": "6",
          "min": "0",
          "nan_count": 0,
          "unique_count": 7
         }
        },
        {
         "dtype": "int64",
         "name": "[6;0]",
         "stats": {
          "histogram": [
           {
            "bin_end": 0.8,
            "bin_start": 0,
            "count": 1793
           },
           {
            "bin_end": 1.6,
            "bin_start": 0.8,
            "count": 2
           },
           {
            "bin_end": 2.4000000000000004,
            "bin_start": 1.6,
            "count": 0
           },
           {
            "bin_end": 3.2,
            "bin_start": 2.4000000000000004,
            "count": 1
           },
           {
            "bin_end": 4,
            "bin_start": 3.2,
            "count": 0
           },
           {
            "bin_end": 4.800000000000001,
            "bin_start": 4,
            "count": 0
           },
           {
            "bin_end": 5.6000000000000005,
            "bin_start": 4.800000000000001,
            "count": 0
           },
           {
            "bin_end": 6.4,
            "bin_start": 5.6000000000000005,
            "count": 0
           },
           {
            "bin_end": 7.2,
            "bin_start": 6.4,
            "count": 0
           },
           {
            "bin_end": 8,
            "bin_start": 7.2,
            "count": 1
           }
          ],
          "max": "8",
          "min": "0",
          "nan_count": 0,
          "unique_count": 4
         }
        },
        {
         "dtype": "int64",
         "name": "[6;1]",
         "stats": {
          "histogram": [
           {
            "bin_end": 1.6,
            "bin_start": 0,
            "count": 1519
           },
           {
            "bin_end": 3.2,
            "bin_start": 1.6,
            "count": 150
           },
           {
            "bin_end": 4.800000000000001,
            "bin_start": 3.2,
            "count": 49
           },
           {
            "bin_end": 6.4,
            "bin_start": 4.800000000000001,
            "count": 46
           },
           {
            "bin_end": 8,
            "bin_start": 6.4,
            "count": 8
           },
           {
            "bin_end": 9.600000000000001,
            "bin_start": 8,
            "count": 12
           },
           {
            "bin_end": 11.200000000000001,
            "bin_start": 9.600000000000001,
            "count": 8
           },
           {
            "bin_end": 12.8,
            "bin_start": 11.200000000000001,
            "count": 0
           },
           {
            "bin_end": 14.4,
            "bin_start": 12.8,
            "count": 2
           },
           {
            "bin_end": 16,
            "bin_start": 14.4,
            "count": 3
           }
          ],
          "max": "16",
          "min": "0",
          "nan_count": 0,
          "unique_count": 15
         }
        },
        {
         "dtype": "int64",
         "name": "[6;2]",
         "stats": {
          "histogram": [
           {
            "bin_end": 1.6,
            "bin_start": 0,
            "count": 439
           },
           {
            "bin_end": 3.2,
            "bin_start": 1.6,
            "count": 140
           },
           {
            "bin_end": 4.800000000000001,
            "bin_start": 3.2,
            "count": 80
           },
           {
            "bin_end": 6.4,
            "bin_start": 4.800000000000001,
            "count": 138
           },
           {
            "bin_end": 8,
            "bin_start": 6.4,
            "count": 71
           },
           {
            "bin_end": 9.600000000000001,
            "bin_start": 8,
            "count": 185
           },
           {
            "bin_end": 11.200000000000001,
            "bin_start": 9.600000000000001,
            "count": 178
           },
           {
            "bin_end": 12.8,
            "bin_start": 11.200000000000001,
            "count": 115
           },
           {
            "bin_end": 14.4,
            "bin_start": 12.8,
            "count": 191
           },
           {
            "bin_end": 16,
            "bin_start": 14.4,
            "count": 260
           }
          ],
          "max": "16",
          "min": "0",
          "nan_count": 0,
          "unique_count": 17
         }
        },
        {
         "dtype": "int64",
         "name": "[6;3]",
         "stats": {
          "histogram": [
           {
            "bin_end": 1.6,
            "bin_start": 0,
            "count": 179
           },
           {
            "bin_end": 3.2,
            "bin_start": 1.6,
            "count": 117
           },
           {
            "bin_end": 4.800000000000001,
            "bin_start": 3.2,
            "count": 100
           },
           {
            "bin_end": 6.4,
            "bin_start": 4.800000000000001,
            "count": 156
           },
           {
            "bin_end": 8,
            "bin_start": 6.4,
            "count": 72
           },
           {
            "bin_end": 9.600000000000001,
            "bin_start": 8,
            "count": 196
           },
           {
            "bin_end": 11.200000000000001,
            "bin_start": 9.600000000000001,
            "count": 215
           },
           {
            "bin_end": 12.8,
            "bin_start": 11.200000000000001,
            "count": 108
           },
           {
            "bin_end": 14.4,
            "bin_start": 12.8,
            "count": 216
           },
           {
            "bin_end": 16,
            "bin_start": 14.4,
            "count": 438
           }
          ],
          "max": "16",
          "min": "0",
          "nan_count": 0,
          "unique_count": 17
         }
        },
        {
         "dtype": "int64",
         "name": "[6;4]",
         "stats": {
          "histogram": [
           {
            "bin_end": 1.6,
            "bin_start": 0,
            "count": 197
           },
           {
            "bin_end": 3.2,
            "bin_start": 1.6,
            "count": 103
           },
           {
            "bin_end": 4.800000000000001,
            "bin_start": 3.2,
            "count": 110
           },
           {
            "bin_end": 6.4,
            "bin_start": 4.800000000000001,
            "count": 170
           },
           {
            "bin_end": 8,
            "bin_start": 6.4,
            "count": 81
           },
           {
            "bin_end": 9.600000000000001,
            "bin_start": 8,
            "count": 195
           },
           {
            "bin_end": 11.200000000000001,
            "bin_start": 9.600000000000001,
            "count": 166
           },
           {
            "bin_end": 12.8,
            "bin_start": 11.200000000000001,
            "count": 107
           },
           {
            "bin_end": 14.4,
            "bin_start": 12.8,
            "count": 218
           },
           {
            "bin_end": 16,
            "bin_start": 14.4,
            "count": 450
           }
          ],
          "max": "16",
          "min": "0",
          "nan_count": 0,
          "unique_count": 17
         }
        },
        {
         "dtype": "int64",
         "name": "[6;5]",
         "stats": {
          "histogram": [
           {
            "bin_end": 1.6,
            "bin_start": 0,
            "count": 411
           },
           {
            "bin_end": 3.2,
            "bin_start": 1.6,
            "count": 88
           },
           {
            "bin_end": 4.800000000000001,
            "bin_start": 3.2,
            "count": 67
           },
           {
            "bin_end": 6.4,
            "bin_start": 4.800000000000001,
            "count": 87
           },
           {
            "bin_end": 8,
            "bin_start": 6.4,
            "count": 49
           },
           {
            "bin_end": 9.600000000000001,
            "bin_start": 8,
            "count": 145
           },
           {
            "bin_end": 11.200000000000001,
            "bin_start": 9.600000000000001,
            "count": 170
           },
           {
            "bin_end": 12.8,
            "bin_start": 11.200000000000001,
            "count": 98
           },
           {
            "bin_end": 14.4,
            "bin_start": 12.8,
            "count": 230
           },
           {
            "bin_end": 16,
            "bin_start": 14.4,
            "count": 452
           }
          ],
          "max": "16",
          "min": "0",
          "nan_count": 0,
          "unique_count": 17
         }
        },
        {
         "dtype": "int64",
         "name": "[6;6]",
         "stats": {
          "histogram": [
           {
            "bin_end": 1.6,
            "bin_start": 0,
            "count": 982
           },
           {
            "bin_end": 3.2,
            "bin_start": 1.6,
            "count": 147
           },
           {
            "bin_end": 4.800000000000001,
            "bin_start": 3.2,
            "count": 69
           },
           {
            "bin_end": 6.4,
            "bin_start": 4.800000000000001,
            "count": 119
           },
           {
            "bin_end": 8,
            "bin_start": 6.4,
            "count": 63
           },
           {
            "bin_end": 9.600000000000001,
            "bin_start": 8,
            "count": 118
           },
           {
            "bin_end": 11.200000000000001,
            "bin_start": 9.600000000000001,
            "count": 93
           },
           {
            "bin_end": 12.8,
            "bin_start": 11.200000000000001,
            "count": 58
           },
           {
            "bin_end": 14.4,
            "bin_start": 12.8,
            "count": 61
           },
           {
            "bin_end": 16,
            "bin_start": 14.4,
            "count": 87
           }
          ],
          "max": "16",
          "min": "0",
          "nan_count": 0,
          "unique_count": 17
         }
        },
        {
         "dtype": "int64",
         "name": "[6;7]"
        },
        {
         "dtype": "int64",
         "name": "[7;0]"
        },
        {
         "dtype": "int64",
         "name": "[7;1]"
        },
        {
         "dtype": "int64",
         "name": "[7;2]"
        },
        {
         "dtype": "int64",
         "name": "[7;3]"
        },
        {
         "dtype": "int64",
         "name": "[7;4]"
        },
        {
         "dtype": "int64",
         "name": "[7;5]"
        },
        {
         "dtype": "int64",
         "name": "[7;6]"
        },
        {
         "dtype": "int64",
         "name": "[7;7]"
        },
        {
         "dtype": "int64",
         "name": "classe"
        },
        {
         "dtype": "int64",
         "name": "_deepnote_index_column"
        }
       ],
       "row_count": 1797,
       "rows": [
        {
         "[0;0]": "0",
         "[0;1]": "0",
         "[0;2]": "5",
         "[0;3]": "13",
         "[0;4]": "9",
         "[0;5]": "1",
         "[0;6]": "0",
         "[0;7]": "0",
         "[1;0]": "0",
         "[1;1]": "0",
         "[1;2]": "13",
         "[1;3]": "15",
         "[1;4]": "10",
         "[1;5]": "15",
         "[1;6]": "5",
         "[1;7]": "0",
         "[2;0]": "0",
         "[2;1]": "3",
         "[2;2]": "15",
         "[2;3]": "2",
         "[2;4]": "0",
         "[2;5]": "11",
         "[2;6]": "8",
         "[2;7]": "0",
         "[3;0]": "0",
         "[3;1]": "4",
         "[3;2]": "12",
         "[3;3]": "0",
         "[3;4]": "0",
         "[3;5]": "8",
         "[3;6]": "8",
         "[3;7]": "0",
         "[4;0]": "0",
         "[4;1]": "5",
         "[4;2]": "8",
         "[4;3]": "0",
         "[4;4]": "0",
         "[4;5]": "9",
         "[4;6]": "8",
         "[4;7]": "0",
         "[5;0]": "0",
         "[5;1]": "4",
         "[5;2]": "11",
         "[5;3]": "0",
         "[5;4]": "1",
         "[5;5]": "12",
         "[5;6]": "7",
         "[5;7]": "0",
         "[6;0]": "0",
         "[6;1]": "2",
         "[6;2]": "14",
         "[6;3]": "5",
         "[6;4]": "10",
         "[6;5]": "12",
         "[6;6]": "0",
         "[6;7]": "0",
         "[7;0]": "0",
         "[7;1]": "0",
         "[7;2]": "6",
         "[7;3]": "13",
         "[7;4]": "10",
         "[7;5]": "0",
         "[7;6]": "0",
         "[7;7]": "0",
         "_deepnote_index_column": "0",
         "classe": "0"
        },
        {
         "[0;0]": "0",
         "[0;1]": "0",
         "[0;2]": "0",
         "[0;3]": "12",
         "[0;4]": "13",
         "[0;5]": "5",
         "[0;6]": "0",
         "[0;7]": "0",
         "[1;0]": "0",
         "[1;1]": "0",
         "[1;2]": "0",
         "[1;3]": "11",
         "[1;4]": "16",
         "[1;5]": "9",
         "[1;6]": "0",
         "[1;7]": "0",
         "[2;0]": "0",
         "[2;1]": "0",
         "[2;2]": "3",
         "[2;3]": "15",
         "[2;4]": "16",
         "[2;5]": "6",
         "[2;6]": "0",
         "[2;7]": "0",
         "[3;0]": "0",
         "[3;1]": "7",
         "[3;2]": "15",
         "[3;3]": "16",
         "[3;4]": "16",
         "[3;5]": "2",
         "[3;6]": "0",
         "[3;7]": "0",
         "[4;0]": "0",
         "[4;1]": "0",
         "[4;2]": "1",
         "[4;3]": "16",
         "[4;4]": "16",
         "[4;5]": "3",
         "[4;6]": "0",
         "[4;7]": "0",
         "[5;0]": "0",
         "[5;1]": "0",
         "[5;2]": "1",
         "[5;3]": "16",
         "[5;4]": "16",
         "[5;5]": "6",
         "[5;6]": "0",
         "[5;7]": "0",
         "[6;0]": "0",
         "[6;1]": "0",
         "[6;2]": "1",
         "[6;3]": "16",
         "[6;4]": "16",
         "[6;5]": "6",
         "[6;6]": "0",
         "[6;7]": "0",
         "[7;0]": "0",
         "[7;1]": "0",
         "[7;2]": "0",
         "[7;3]": "11",
         "[7;4]": "16",
         "[7;5]": "10",
         "[7;6]": "0",
         "[7;7]": "0",
         "_deepnote_index_column": "1",
         "classe": "1"
        },
        {
         "[0;0]": "0",
         "[0;1]": "0",
         "[0;2]": "0",
         "[0;3]": "4",
         "[0;4]": "15",
         "[0;5]": "12",
         "[0;6]": "0",
         "[0;7]": "0",
         "[1;0]": "0",
         "[1;1]": "0",
         "[1;2]": "3",
         "[1;3]": "16",
         "[1;4]": "15",
         "[1;5]": "14",
         "[1;6]": "0",
         "[1;7]": "0",
         "[2;0]": "0",
         "[2;1]": "0",
         "[2;2]": "8",
         "[2;3]": "13",
         "[2;4]": "8",
         "[2;5]": "16",
         "[2;6]": "0",
         "[2;7]": "0",
         "[3;0]": "0",
         "[3;1]": "0",
         "[3;2]": "1",
         "[3;3]": "6",
         "[3;4]": "15",
         "[3;5]": "11",
         "[3;6]": "0",
         "[3;7]": "0",
         "[4;0]": "0",
         "[4;1]": "1",
         "[4;2]": "8",
         "[4;3]": "13",
         "[4;4]": "15",
         "[4;5]": "1",
         "[4;6]": "0",
         "[4;7]": "0",
         "[5;0]": "0",
         "[5;1]": "9",
         "[5;2]": "16",
         "[5;3]": "16",
         "[5;4]": "5",
         "[5;5]": "0",
         "[5;6]": "0",
         "[5;7]": "0",
         "[6;0]": "0",
         "[6;1]": "3",
         "[6;2]": "13",
         "[6;3]": "16",
         "[6;4]": "16",
         "[6;5]": "11",
         "[6;6]": "5",
         "[6;7]": "0",
         "[7;0]": "0",
         "[7;1]": "0",
         "[7;2]": "0",
         "[7;3]": "3",
         "[7;4]": "11",
         "[7;5]": "16",
         "[7;6]": "9",
         "[7;7]": "0",
         "_deepnote_index_column": "2",
         "classe": "2"
        },
        {
         "[0;0]": "0",
         "[0;1]": "0",
         "[0;2]": "7",
         "[0;3]": "15",
         "[0;4]": "13",
         "[0;5]": "1",
         "[0;6]": "0",
         "[0;7]": "0",
         "[1;0]": "0",
         "[1;1]": "8",
         "[1;2]": "13",
         "[1;3]": "6",
         "[1;4]": "15",
         "[1;5]": "4",
         "[1;6]": "0",
         "[1;7]": "0",
         "[2;0]": "0",
         "[2;1]": "2",
         "[2;2]": "1",
         "[2;3]": "13",
         "[2;4]": "13",
         "[2;5]": "0",
         "[2;6]": "0",
         "[2;7]": "0",
         "[3;0]": "0",
         "[3;1]": "0",
         "[3;2]": "2",
         "[3;3]": "15",
         "[3;4]": "11",
         "[3;5]": "1",
         "[3;6]": "0",
         "[3;7]": "0",
         "[4;0]": "0",
         "[4;1]": "0",
         "[4;2]": "0",
         "[4;3]": "1",
         "[4;4]": "12",
         "[4;5]": "12",
         "[4;6]": "1",
         "[4;7]": "0",
         "[5;0]": "0",
         "[5;1]": "0",
         "[5;2]": "0",
         "[5;3]": "0",
         "[5;4]": "1",
         "[5;5]": "10",
         "[5;6]": "8",
         "[5;7]": "0",
         "[6;0]": "0",
         "[6;1]": "0",
         "[6;2]": "8",
         "[6;3]": "4",
         "[6;4]": "5",
         "[6;5]": "14",
         "[6;6]": "9",
         "[6;7]": "0",
         "[7;0]": "0",
         "[7;1]": "0",
         "[7;2]": "7",
         "[7;3]": "13",
         "[7;4]": "13",
         "[7;5]": "9",
         "[7;6]": "0",
         "[7;7]": "0",
         "_deepnote_index_column": "3",
         "classe": "3"
        },
        {
         "[0;0]": "0",
         "[0;1]": "0",
         "[0;2]": "0",
         "[0;3]": "1",
         "[0;4]": "11",
         "[0;5]": "0",
         "[0;6]": "0",
         "[0;7]": "0",
         "[1;0]": "0",
         "[1;1]": "0",
         "[1;2]": "0",
         "[1;3]": "7",
         "[1;4]": "8",
         "[1;5]": "0",
         "[1;6]": "0",
         "[1;7]": "0",
         "[2;0]": "0",
         "[2;1]": "0",
         "[2;2]": "1",
         "[2;3]": "13",
         "[2;4]": "6",
         "[2;5]": "2",
         "[2;6]": "2",
         "[2;7]": "0",
         "[3;0]": "0",
         "[3;1]": "0",
         "[3;2]": "7",
         "[3;3]": "15",
         "[3;4]": "0",
         "[3;5]": "9",
         "[3;6]": "8",
         "[3;7]": "0",
         "[4;0]": "0",
         "[4;1]": "5",
         "[4;2]": "16",
         "[4;3]": "10",
         "[4;4]": "0",
         "[4;5]": "16",
         "[4;6]": "6",
         "[4;7]": "0",
         "[5;0]": "0",
         "[5;1]": "4",
         "[5;2]": "15",
         "[5;3]": "16",
         "[5;4]": "13",
         "[5;5]": "16",
         "[5;6]": "1",
         "[5;7]": "0",
         "[6;0]": "0",
         "[6;1]": "0",
         "[6;2]": "0",
         "[6;3]": "3",
         "[6;4]": "15",
         "[6;5]": "10",
         "[6;6]": "0",
         "[6;7]": "0",
         "[7;0]": "0",
         "[7;1]": "0",
         "[7;2]": "0",
         "[7;3]": "2",
         "[7;4]": "16",
         "[7;5]": "4",
         "[7;6]": "0",
         "[7;7]": "0",
         "_deepnote_index_column": "4",
         "classe": "4"
        },
        {
         "[0;0]": "0",
         "[0;1]": "0",
         "[0;2]": "12",
         "[0;3]": "10",
         "[0;4]": "0",
         "[0;5]": "0",
         "[0;6]": "0",
         "[0;7]": "0",
         "[1;0]": "0",
         "[1;1]": "0",
         "[1;2]": "14",
         "[1;3]": "16",
         "[1;4]": "16",
         "[1;5]": "14",
         "[1;6]": "0",
         "[1;7]": "0",
         "[2;0]": "0",
         "[2;1]": "0",
         "[2;2]": "13",
         "[2;3]": "16",
         "[2;4]": "15",
         "[2;5]": "10",
         "[2;6]": "1",
         "[2;7]": "0",
         "[3;0]": "0",
         "[3;1]": "0",
         "[3;2]": "11",
         "[3;3]": "16",
         "[3;4]": "16",
         "[3;5]": "7",
         "[3;6]": "0",
         "[3;7]": "0",
         "[4;0]": "0",
         "[4;1]": "0",
         "[4;2]": "0",
         "[4;3]": "4",
         "[4;4]": "7",
         "[4;5]": "16",
         "[4;6]": "7",
         "[4;7]": "0",
         "[5;0]": "0",
         "[5;1]": "0",
         "[5;2]": "0",
         "[5;3]": "0",
         "[5;4]": "4",
         "[5;5]": "16",
         "[5;6]": "9",
         "[5;7]": "0",
         "[6;0]": "0",
         "[6;1]": "0",
         "[6;2]": "5",
         "[6;3]": "4",
         "[6;4]": "12",
         "[6;5]": "16",
         "[6;6]": "4",
         "[6;7]": "0",
         "[7;0]": "0",
         "[7;1]": "0",
         "[7;2]": "9",
         "[7;3]": "16",
         "[7;4]": "16",
         "[7;5]": "10",
         "[7;6]": "0",
         "[7;7]": "0",
         "_deepnote_index_column": "5",
         "classe": "5"
        },
        {
         "[0;0]": "0",
         "[0;1]": "0",
         "[0;2]": "0",
         "[0;3]": "12",
         "[0;4]": "13",
         "[0;5]": "0",
         "[0;6]": "0",
         "[0;7]": "0",
         "[1;0]": "0",
         "[1;1]": "0",
         "[1;2]": "5",
         "[1;3]": "16",
         "[1;4]": "8",
         "[1;5]": "0",
         "[1;6]": "0",
         "[1;7]": "0",
         "[2;0]": "0",
         "[2;1]": "0",
         "[2;2]": "13",
         "[2;3]": "16",
         "[2;4]": "3",
         "[2;5]": "0",
         "[2;6]": "0",
         "[2;7]": "0",
         "[3;0]": "0",
         "[3;1]": "0",
         "[3;2]": "14",
         "[3;3]": "13",
         "[3;4]": "0",
         "[3;5]": "0",
         "[3;6]": "0",
         "[3;7]": "0",
         "[4;0]": "0",
         "[4;1]": "0",
         "[4;2]": "15",
         "[4;3]": "12",
         "[4;4]": "7",
         "[4;5]": "2",
         "[4;6]": "0",
         "[4;7]": "0",
         "[5;0]": "0",
         "[5;1]": "0",
         "[5;2]": "13",
         "[5;3]": "16",
         "[5;4]": "13",
         "[5;5]": "16",
         "[5;6]": "3",
         "[5;7]": "0",
         "[6;0]": "0",
         "[6;1]": "0",
         "[6;2]": "7",
         "[6;3]": "16",
         "[6;4]": "11",
         "[6;5]": "15",
         "[6;6]": "8",
         "[6;7]": "0",
         "[7;0]": "0",
         "[7;1]": "0",
         "[7;2]": "1",
         "[7;3]": "9",
         "[7;4]": "15",
         "[7;5]": "11",
         "[7;6]": "3",
         "[7;7]": "0",
         "_deepnote_index_column": "6",
         "classe": "6"
        },
        {
         "[0;0]": "0",
         "[0;1]": "0",
         "[0;2]": "7",
         "[0;3]": "8",
         "[0;4]": "13",
         "[0;5]": "16",
         "[0;6]": "15",
         "[0;7]": "1",
         "[1;0]": "0",
         "[1;1]": "0",
         "[1;2]": "7",
         "[1;3]": "7",
         "[1;4]": "4",
         "[1;5]": "11",
         "[1;6]": "12",
         "[1;7]": "0",
         "[2;0]": "0",
         "[2;1]": "0",
         "[2;2]": "0",
         "[2;3]": "0",
         "[2;4]": "8",
         "[2;5]": "13",
         "[2;6]": "1",
         "[2;7]": "0",
         "[3;0]": "0",
         "[3;1]": "4",
         "[3;2]": "8",
         "[3;3]": "8",
         "[3;4]": "15",
         "[3;5]": "15",
         "[3;6]": "6",
         "[3;7]": "0",
         "[4;0]": "0",
         "[4;1]": "2",
         "[4;2]": "11",
         "[4;3]": "15",
         "[4;4]": "15",
         "[4;5]": "4",
         "[4;6]": "0",
         "[4;7]": "0",
         "[5;0]": "0",
         "[5;1]": "0",
         "[5;2]": "0",
         "[5;3]": "16",
         "[5;4]": "5",
         "[5;5]": "0",
         "[5;6]": "0",
         "[5;7]": "0",
         "[6;0]": "0",
         "[6;1]": "0",
         "[6;2]": "9",
         "[6;3]": "15",
         "[6;4]": "1",
         "[6;5]": "0",
         "[6;6]": "0",
         "[6;7]": "0",
         "[7;0]": "0",
         "[7;1]": "0",
         "[7;2]": "13",
         "[7;3]": "5",
         "[7;4]": "0",
         "[7;5]": "0",
         "[7;6]": "0",
         "[7;7]": "0",
         "_deepnote_index_column": "7",
         "classe": "7"
        },
        {
         "[0;0]": "0",
         "[0;1]": "0",
         "[0;2]": "9",
         "[0;3]": "14",
         "[0;4]": "8",
         "[0;5]": "1",
         "[0;6]": "0",
         "[0;7]": "0",
         "[1;0]": "0",
         "[1;1]": "0",
         "[1;2]": "12",
         "[1;3]": "14",
         "[1;4]": "14",
         "[1;5]": "12",
         "[1;6]": "0",
         "[1;7]": "0",
         "[2;0]": "0",
         "[2;1]": "0",
         "[2;2]": "9",
         "[2;3]": "10",
         "[2;4]": "0",
         "[2;5]": "15",
         "[2;6]": "4",
         "[2;7]": "0",
         "[3;0]": "0",
         "[3;1]": "0",
         "[3;2]": "3",
         "[3;3]": "16",
         "[3;4]": "12",
         "[3;5]": "14",
         "[3;6]": "2",
         "[3;7]": "0",
         "[4;0]": "0",
         "[4;1]": "0",
         "[4;2]": "4",
         "[4;3]": "16",
         "[4;4]": "16",
         "[4;5]": "2",
         "[4;6]": "0",
         "[4;7]": "0",
         "[5;0]": "0",
         "[5;1]": "3",
         "[5;2]": "16",
         "[5;3]": "8",
         "[5;4]": "10",
         "[5;5]": "13",
         "[5;6]": "2",
         "[5;7]": "0",
         "[6;0]": "0",
         "[6;1]": "1",
         "[6;2]": "15",
         "[6;3]": "1",
         "[6;4]": "3",
         "[6;5]": "16",
         "[6;6]": "8",
         "[6;7]": "0",
         "[7;0]": "0",
         "[7;1]": "0",
         "[7;2]": "11",
         "[7;3]": "16",
         "[7;4]": "15",
         "[7;5]": "11",
         "[7;6]": "1",
         "[7;7]": "0",
         "_deepnote_index_column": "8",
         "classe": "8"
        },
        {
         "[0;0]": "0",
         "[0;1]": "0",
         "[0;2]": "11",
         "[0;3]": "12",
         "[0;4]": "0",
         "[0;5]": "0",
         "[0;6]": "0",
         "[0;7]": "0",
         "[1;0]": "0",
         "[1;1]": "2",
         "[1;2]": "16",
         "[1;3]": "16",
         "[1;4]": "16",
         "[1;5]": "13",
         "[1;6]": "0",
         "[1;7]": "0",
         "[2;0]": "0",
         "[2;1]": "3",
         "[2;2]": "16",
         "[2;3]": "12",
         "[2;4]": "10",
         "[2;5]": "14",
         "[2;6]": "0",
         "[2;7]": "0",
         "[3;0]": "0",
         "[3;1]": "1",
         "[3;2]": "16",
         "[3;3]": "1",
         "[3;4]": "12",
         "[3;5]": "15",
         "[3;6]": "0",
         "[3;7]": "0",
         "[4;0]": "0",
         "[4;1]": "0",
         "[4;2]": "13",
         "[4;3]": "16",
         "[4;4]": "9",
         "[4;5]": "15",
         "[4;6]": "2",
         "[4;7]": "0",
         "[5;0]": "0",
         "[5;1]": "0",
         "[5;2]": "0",
         "[5;3]": "3",
         "[5;4]": "0",
         "[5;5]": "9",
         "[5;6]": "11",
         "[5;7]": "0",
         "[6;0]": "0",
         "[6;1]": "0",
         "[6;2]": "0",
         "[6;3]": "0",
         "[6;4]": "9",
         "[6;5]": "15",
         "[6;6]": "4",
         "[6;7]": "0",
         "[7;0]": "0",
         "[7;1]": "0",
         "[7;2]": "9",
         "[7;3]": "12",
         "[7;4]": "13",
         "[7;5]": "3",
         "[7;6]": "0",
         "[7;7]": "0",
         "_deepnote_index_column": "9",
         "classe": "9"
        }
       ]
      },
      "text/html": [
       "<div>\n",
       "<style scoped>\n",
       "    .dataframe tbody tr th:only-of-type {\n",
       "        vertical-align: middle;\n",
       "    }\n",
       "\n",
       "    .dataframe tbody tr th {\n",
       "        vertical-align: top;\n",
       "    }\n",
       "\n",
       "    .dataframe thead th {\n",
       "        text-align: right;\n",
       "    }\n",
       "</style>\n",
       "<table border=\"1\" class=\"dataframe\">\n",
       "  <thead>\n",
       "    <tr style=\"text-align: right;\">\n",
       "      <th></th>\n",
       "      <th>[0;0]</th>\n",
       "      <th>[0;1]</th>\n",
       "      <th>[0;2]</th>\n",
       "      <th>[0;3]</th>\n",
       "      <th>[0;4]</th>\n",
       "      <th>[0;5]</th>\n",
       "      <th>[0;6]</th>\n",
       "      <th>[0;7]</th>\n",
       "      <th>[1;0]</th>\n",
       "      <th>[1;1]</th>\n",
       "      <th>...</th>\n",
       "      <th>[6;7]</th>\n",
       "      <th>[7;0]</th>\n",
       "      <th>[7;1]</th>\n",
       "      <th>[7;2]</th>\n",
       "      <th>[7;3]</th>\n",
       "      <th>[7;4]</th>\n",
       "      <th>[7;5]</th>\n",
       "      <th>[7;6]</th>\n",
       "      <th>[7;7]</th>\n",
       "      <th>classe</th>\n",
       "    </tr>\n",
       "  </thead>\n",
       "  <tbody>\n",
       "    <tr>\n",
       "      <th>0</th>\n",
       "      <td>0</td>\n",
       "      <td>0</td>\n",
       "      <td>5</td>\n",
       "      <td>13</td>\n",
       "      <td>9</td>\n",
       "      <td>1</td>\n",
       "      <td>0</td>\n",
       "      <td>0</td>\n",
       "      <td>0</td>\n",
       "      <td>0</td>\n",
       "      <td>...</td>\n",
       "      <td>0</td>\n",
       "      <td>0</td>\n",
       "      <td>0</td>\n",
       "      <td>6</td>\n",
       "      <td>13</td>\n",
       "      <td>10</td>\n",
       "      <td>0</td>\n",
       "      <td>0</td>\n",
       "      <td>0</td>\n",
       "      <td>0</td>\n",
       "    </tr>\n",
       "    <tr>\n",
       "      <th>1</th>\n",
       "      <td>0</td>\n",
       "      <td>0</td>\n",
       "      <td>0</td>\n",
       "      <td>12</td>\n",
       "      <td>13</td>\n",
       "      <td>5</td>\n",
       "      <td>0</td>\n",
       "      <td>0</td>\n",
       "      <td>0</td>\n",
       "      <td>0</td>\n",
       "      <td>...</td>\n",
       "      <td>0</td>\n",
       "      <td>0</td>\n",
       "      <td>0</td>\n",
       "      <td>0</td>\n",
       "      <td>11</td>\n",
       "      <td>16</td>\n",
       "      <td>10</td>\n",
       "      <td>0</td>\n",
       "      <td>0</td>\n",
       "      <td>1</td>\n",
       "    </tr>\n",
       "    <tr>\n",
       "      <th>2</th>\n",
       "      <td>0</td>\n",
       "      <td>0</td>\n",
       "      <td>0</td>\n",
       "      <td>4</td>\n",
       "      <td>15</td>\n",
       "      <td>12</td>\n",
       "      <td>0</td>\n",
       "      <td>0</td>\n",
       "      <td>0</td>\n",
       "      <td>0</td>\n",
       "      <td>...</td>\n",
       "      <td>0</td>\n",
       "      <td>0</td>\n",
       "      <td>0</td>\n",
       "      <td>0</td>\n",
       "      <td>3</td>\n",
       "      <td>11</td>\n",
       "      <td>16</td>\n",
       "      <td>9</td>\n",
       "      <td>0</td>\n",
       "      <td>2</td>\n",
       "    </tr>\n",
       "    <tr>\n",
       "      <th>3</th>\n",
       "      <td>0</td>\n",
       "      <td>0</td>\n",
       "      <td>7</td>\n",
       "      <td>15</td>\n",
       "      <td>13</td>\n",
       "      <td>1</td>\n",
       "      <td>0</td>\n",
       "      <td>0</td>\n",
       "      <td>0</td>\n",
       "      <td>8</td>\n",
       "      <td>...</td>\n",
       "      <td>0</td>\n",
       "      <td>0</td>\n",
       "      <td>0</td>\n",
       "      <td>7</td>\n",
       "      <td>13</td>\n",
       "      <td>13</td>\n",
       "      <td>9</td>\n",
       "      <td>0</td>\n",
       "      <td>0</td>\n",
       "      <td>3</td>\n",
       "    </tr>\n",
       "    <tr>\n",
       "      <th>4</th>\n",
       "      <td>0</td>\n",
       "      <td>0</td>\n",
       "      <td>0</td>\n",
       "      <td>1</td>\n",
       "      <td>11</td>\n",
       "      <td>0</td>\n",
       "      <td>0</td>\n",
       "      <td>0</td>\n",
       "      <td>0</td>\n",
       "      <td>0</td>\n",
       "      <td>...</td>\n",
       "      <td>0</td>\n",
       "      <td>0</td>\n",
       "      <td>0</td>\n",
       "      <td>0</td>\n",
       "      <td>2</td>\n",
       "      <td>16</td>\n",
       "      <td>4</td>\n",
       "      <td>0</td>\n",
       "      <td>0</td>\n",
       "      <td>4</td>\n",
       "    </tr>\n",
       "    <tr>\n",
       "      <th>...</th>\n",
       "      <td>...</td>\n",
       "      <td>...</td>\n",
       "      <td>...</td>\n",
       "      <td>...</td>\n",
       "      <td>...</td>\n",
       "      <td>...</td>\n",
       "      <td>...</td>\n",
       "      <td>...</td>\n",
       "      <td>...</td>\n",
       "      <td>...</td>\n",
       "      <td>...</td>\n",
       "      <td>...</td>\n",
       "      <td>...</td>\n",
       "      <td>...</td>\n",
       "      <td>...</td>\n",
       "      <td>...</td>\n",
       "      <td>...</td>\n",
       "      <td>...</td>\n",
       "      <td>...</td>\n",
       "      <td>...</td>\n",
       "      <td>...</td>\n",
       "    </tr>\n",
       "    <tr>\n",
       "      <th>1792</th>\n",
       "      <td>0</td>\n",
       "      <td>0</td>\n",
       "      <td>4</td>\n",
       "      <td>10</td>\n",
       "      <td>13</td>\n",
       "      <td>6</td>\n",
       "      <td>0</td>\n",
       "      <td>0</td>\n",
       "      <td>0</td>\n",
       "      <td>1</td>\n",
       "      <td>...</td>\n",
       "      <td>0</td>\n",
       "      <td>0</td>\n",
       "      <td>0</td>\n",
       "      <td>2</td>\n",
       "      <td>14</td>\n",
       "      <td>15</td>\n",
       "      <td>9</td>\n",
       "      <td>0</td>\n",
       "      <td>0</td>\n",
       "      <td>9</td>\n",
       "    </tr>\n",
       "    <tr>\n",
       "      <th>1793</th>\n",
       "      <td>0</td>\n",
       "      <td>0</td>\n",
       "      <td>6</td>\n",
       "      <td>16</td>\n",
       "      <td>13</td>\n",
       "      <td>11</td>\n",
       "      <td>1</td>\n",
       "      <td>0</td>\n",
       "      <td>0</td>\n",
       "      <td>0</td>\n",
       "      <td>...</td>\n",
       "      <td>0</td>\n",
       "      <td>0</td>\n",
       "      <td>0</td>\n",
       "      <td>6</td>\n",
       "      <td>16</td>\n",
       "      <td>14</td>\n",
       "      <td>6</td>\n",
       "      <td>0</td>\n",
       "      <td>0</td>\n",
       "      <td>0</td>\n",
       "    </tr>\n",
       "    <tr>\n",
       "      <th>1794</th>\n",
       "      <td>0</td>\n",
       "      <td>0</td>\n",
       "      <td>1</td>\n",
       "      <td>11</td>\n",
       "      <td>15</td>\n",
       "      <td>1</td>\n",
       "      <td>0</td>\n",
       "      <td>0</td>\n",
       "      <td>0</td>\n",
       "      <td>0</td>\n",
       "      <td>...</td>\n",
       "      <td>0</td>\n",
       "      <td>0</td>\n",
       "      <td>0</td>\n",
       "      <td>2</td>\n",
       "      <td>9</td>\n",
       "      <td>13</td>\n",
       "      <td>6</td>\n",
       "      <td>0</td>\n",
       "      <td>0</td>\n",
       "      <td>8</td>\n",
       "    </tr>\n",
       "    <tr>\n",
       "      <th>1795</th>\n",
       "      <td>0</td>\n",
       "      <td>0</td>\n",
       "      <td>2</td>\n",
       "      <td>10</td>\n",
       "      <td>7</td>\n",
       "      <td>0</td>\n",
       "      <td>0</td>\n",
       "      <td>0</td>\n",
       "      <td>0</td>\n",
       "      <td>0</td>\n",
       "      <td>...</td>\n",
       "      <td>0</td>\n",
       "      <td>0</td>\n",
       "      <td>0</td>\n",
       "      <td>5</td>\n",
       "      <td>12</td>\n",
       "      <td>16</td>\n",
       "      <td>12</td>\n",
       "      <td>0</td>\n",
       "      <td>0</td>\n",
       "      <td>9</td>\n",
       "    </tr>\n",
       "    <tr>\n",
       "      <th>1796</th>\n",
       "      <td>0</td>\n",
       "      <td>0</td>\n",
       "      <td>10</td>\n",
       "      <td>14</td>\n",
       "      <td>8</td>\n",
       "      <td>1</td>\n",
       "      <td>0</td>\n",
       "      <td>0</td>\n",
       "      <td>0</td>\n",
       "      <td>2</td>\n",
       "      <td>...</td>\n",
       "      <td>0</td>\n",
       "      <td>0</td>\n",
       "      <td>1</td>\n",
       "      <td>8</td>\n",
       "      <td>12</td>\n",
       "      <td>14</td>\n",
       "      <td>12</td>\n",
       "      <td>1</td>\n",
       "      <td>0</td>\n",
       "      <td>8</td>\n",
       "    </tr>\n",
       "  </tbody>\n",
       "</table>\n",
       "<p>1797 rows × 65 columns</p>\n",
       "</div>"
      ],
      "text/plain": [
       "      [0;0]  [0;1]  [0;2]  [0;3]  [0;4]  [0;5]  [0;6]  [0;7]  [1;0]  [1;1]  \\\n",
       "0         0      0      5     13      9      1      0      0      0      0   \n",
       "1         0      0      0     12     13      5      0      0      0      0   \n",
       "2         0      0      0      4     15     12      0      0      0      0   \n",
       "3         0      0      7     15     13      1      0      0      0      8   \n",
       "4         0      0      0      1     11      0      0      0      0      0   \n",
       "...     ...    ...    ...    ...    ...    ...    ...    ...    ...    ...   \n",
       "1792      0      0      4     10     13      6      0      0      0      1   \n",
       "1793      0      0      6     16     13     11      1      0      0      0   \n",
       "1794      0      0      1     11     15      1      0      0      0      0   \n",
       "1795      0      0      2     10      7      0      0      0      0      0   \n",
       "1796      0      0     10     14      8      1      0      0      0      2   \n",
       "\n",
       "      ...  [6;7]  [7;0]  [7;1]  [7;2]  [7;3]  [7;4]  [7;5]  [7;6]  [7;7]  \\\n",
       "0     ...      0      0      0      6     13     10      0      0      0   \n",
       "1     ...      0      0      0      0     11     16     10      0      0   \n",
       "2     ...      0      0      0      0      3     11     16      9      0   \n",
       "3     ...      0      0      0      7     13     13      9      0      0   \n",
       "4     ...      0      0      0      0      2     16      4      0      0   \n",
       "...   ...    ...    ...    ...    ...    ...    ...    ...    ...    ...   \n",
       "1792  ...      0      0      0      2     14     15      9      0      0   \n",
       "1793  ...      0      0      0      6     16     14      6      0      0   \n",
       "1794  ...      0      0      0      2      9     13      6      0      0   \n",
       "1795  ...      0      0      0      5     12     16     12      0      0   \n",
       "1796  ...      0      0      1      8     12     14     12      1      0   \n",
       "\n",
       "      classe  \n",
       "0          0  \n",
       "1          1  \n",
       "2          2  \n",
       "3          3  \n",
       "4          4  \n",
       "...      ...  \n",
       "1792       9  \n",
       "1793       0  \n",
       "1794       8  \n",
       "1795       9  \n",
       "1796       8  \n",
       "\n",
       "[1797 rows x 65 columns]"
      ]
     },
     "execution_count": 6,
     "metadata": {},
     "output_type": "execute_result"
    }
   ],
   "source": [
    "# 1) Chargez les données d'entraînement dans un objet Dataframe pandas (fonction pd.read_csv) et affichez les\n",
    "\n",
    "train_data = pd.read_csv('digits.csv', header=None)\n",
    "train_data.columns=[\"[0;0]\",\"[0;1]\",\"[0;2]\",\"[0;3]\",\"[0;4]\",\"[0;5]\",\"[0;6]\",\"[0;7]\",\n",
    "                \"[1;0]\",\"[1;1]\",\"[1;2]\",\"[1;3]\",\"[1;4]\",\"[1;5]\",\"[1;6]\",\"[1;7]\",\n",
    "                \"[2;0]\",\"[2;1]\",\"[2;2]\",\"[2;3]\",\"[2;4]\",\"[2;5]\",\"[2;6]\",\"[2;7]\",\n",
    "                \"[3;0]\",\"[3;1]\",\"[3;2]\",\"[3;3]\",\"[3;4]\",\"[3;5]\",\"[3;6]\",\"[3;7]\",\n",
    "                \"[4;0]\",\"[4;1]\",\"[4;2]\",\"[4;3]\",\"[4;4]\",\"[4;5]\",\"[4;6]\",\"[4;7]\",\n",
    "                \"[5;0]\",\"[5;1]\",\"[5;2]\",\"[5;3]\",\"[5;4]\",\"[5;5]\",\"[5;6]\",\"[5;7]\",\n",
    "                \"[6;0]\",\"[6;1]\",\"[6;2]\",\"[6;3]\",\"[6;4]\",\"[6;5]\",\"[6;6]\",\"[6;7]\",\n",
    "                \"[7;0]\",\"[7;1]\",\"[7;2]\",\"[7;3]\",\"[7;4]\",\"[7;5]\",\"[7;6]\",\"[7;7]\",\n",
    "                \"classe\"]\n",
    "\n",
    "train_data"
   ]
  },
  {
   "cell_type": "code",
   "execution_count": 7,
   "metadata": {
    "cell_id": "9ddaa51f784a4bce8aa8145b39532be8",
    "deepnote_cell_type": "code",
    "deepnote_to_be_reexecuted": false,
    "execution_millis": 269,
    "execution_start": 1681044334491,
    "source_hash": "ed0334b7",
    "tags": []
   },
   "outputs": [
    {
     "data": {
      "application/vnd.deepnote.dataframe.v3+json": {
       "column_count": 65,
       "columns": [
        {
         "dtype": "float64",
         "name": "[0;0]",
         "stats": {
          "histogram": [
           {
            "bin_end": 179.7,
            "bin_start": 0,
            "count": 7
           },
           {
            "bin_end": 359.4,
            "bin_start": 179.7,
            "count": 0
           },
           {
            "bin_end": 539.0999999999999,
            "bin_start": 359.4,
            "count": 0
           },
           {
            "bin_end": 718.8,
            "bin_start": 539.0999999999999,
            "count": 0
           },
           {
            "bin_end": 898.5,
            "bin_start": 718.8,
            "count": 0
           },
           {
            "bin_end": 1078.1999999999998,
            "bin_start": 898.5,
            "count": 0
           },
           {
            "bin_end": 1257.8999999999999,
            "bin_start": 1078.1999999999998,
            "count": 0
           },
           {
            "bin_end": 1437.6,
            "bin_start": 1257.8999999999999,
            "count": 0
           },
           {
            "bin_end": 1617.3,
            "bin_start": 1437.6,
            "count": 0
           },
           {
            "bin_end": 1797,
            "bin_start": 1617.3,
            "count": 1
           }
          ],
          "max": "1797.0",
          "min": "0.0",
          "nan_count": 0,
          "unique_count": 2
         }
        },
        {
         "dtype": "float64",
         "name": "[0;1]",
         "stats": {
          "histogram": [
           {
            "bin_end": 179.7,
            "bin_start": 0,
            "count": 7
           },
           {
            "bin_end": 359.4,
            "bin_start": 179.7,
            "count": 0
           },
           {
            "bin_end": 539.0999999999999,
            "bin_start": 359.4,
            "count": 0
           },
           {
            "bin_end": 718.8,
            "bin_start": 539.0999999999999,
            "count": 0
           },
           {
            "bin_end": 898.5,
            "bin_start": 718.8,
            "count": 0
           },
           {
            "bin_end": 1078.1999999999998,
            "bin_start": 898.5,
            "count": 0
           },
           {
            "bin_end": 1257.8999999999999,
            "bin_start": 1078.1999999999998,
            "count": 0
           },
           {
            "bin_end": 1437.6,
            "bin_start": 1257.8999999999999,
            "count": 0
           },
           {
            "bin_end": 1617.3,
            "bin_start": 1437.6,
            "count": 0
           },
           {
            "bin_end": 1797,
            "bin_start": 1617.3,
            "count": 1
           }
          ],
          "max": "1797.0",
          "min": "0.0",
          "nan_count": 0,
          "unique_count": 5
         }
        },
        {
         "dtype": "float64",
         "name": "[0;2]",
         "stats": {
          "histogram": [
           {
            "bin_end": 179.7,
            "bin_start": 0,
            "count": 7
           },
           {
            "bin_end": 359.4,
            "bin_start": 179.7,
            "count": 0
           },
           {
            "bin_end": 539.0999999999999,
            "bin_start": 359.4,
            "count": 0
           },
           {
            "bin_end": 718.8,
            "bin_start": 539.0999999999999,
            "count": 0
           },
           {
            "bin_end": 898.5,
            "bin_start": 718.8,
            "count": 0
           },
           {
            "bin_end": 1078.1999999999998,
            "bin_start": 898.5,
            "count": 0
           },
           {
            "bin_end": 1257.8999999999999,
            "bin_start": 1078.1999999999998,
            "count": 0
           },
           {
            "bin_end": 1437.6,
            "bin_start": 1257.8999999999999,
            "count": 0
           },
           {
            "bin_end": 1617.3,
            "bin_start": 1437.6,
            "count": 0
           },
           {
            "bin_end": 1797,
            "bin_start": 1617.3,
            "count": 1
           }
          ],
          "max": "1797.0",
          "min": "0.0",
          "nan_count": 0,
          "unique_count": 8
         }
        },
        {
         "dtype": "float64",
         "name": "[0;3]",
         "stats": {
          "histogram": [
           {
            "bin_end": 179.7,
            "bin_start": 0,
            "count": 7
           },
           {
            "bin_end": 359.4,
            "bin_start": 179.7,
            "count": 0
           },
           {
            "bin_end": 539.0999999999999,
            "bin_start": 359.4,
            "count": 0
           },
           {
            "bin_end": 718.8,
            "bin_start": 539.0999999999999,
            "count": 0
           },
           {
            "bin_end": 898.5,
            "bin_start": 718.8,
            "count": 0
           },
           {
            "bin_end": 1078.1999999999998,
            "bin_start": 898.5,
            "count": 0
           },
           {
            "bin_end": 1257.8999999999999,
            "bin_start": 1078.1999999999998,
            "count": 0
           },
           {
            "bin_end": 1437.6,
            "bin_start": 1257.8999999999999,
            "count": 0
           },
           {
            "bin_end": 1617.3,
            "bin_start": 1437.6,
            "count": 0
           },
           {
            "bin_end": 1797,
            "bin_start": 1617.3,
            "count": 1
           }
          ],
          "max": "1797.0",
          "min": "0.0",
          "nan_count": 0,
          "unique_count": 8
         }
        },
        {
         "dtype": "float64",
         "name": "[0;4]",
         "stats": {
          "histogram": [
           {
            "bin_end": 179.7,
            "bin_start": 0,
            "count": 7
           },
           {
            "bin_end": 359.4,
            "bin_start": 179.7,
            "count": 0
           },
           {
            "bin_end": 539.0999999999999,
            "bin_start": 359.4,
            "count": 0
           },
           {
            "bin_end": 718.8,
            "bin_start": 539.0999999999999,
            "count": 0
           },
           {
            "bin_end": 898.5,
            "bin_start": 718.8,
            "count": 0
           },
           {
            "bin_end": 1078.1999999999998,
            "bin_start": 898.5,
            "count": 0
           },
           {
            "bin_end": 1257.8999999999999,
            "bin_start": 1078.1999999999998,
            "count": 0
           },
           {
            "bin_end": 1437.6,
            "bin_start": 1257.8999999999999,
            "count": 0
           },
           {
            "bin_end": 1617.3,
            "bin_start": 1437.6,
            "count": 0
           },
           {
            "bin_end": 1797,
            "bin_start": 1617.3,
            "count": 1
           }
          ],
          "max": "1797.0",
          "min": "0.0",
          "nan_count": 0,
          "unique_count": 8
         }
        },
        {
         "dtype": "float64",
         "name": "[0;5]",
         "stats": {
          "histogram": [
           {
            "bin_end": 179.7,
            "bin_start": 0,
            "count": 7
           },
           {
            "bin_end": 359.4,
            "bin_start": 179.7,
            "count": 0
           },
           {
            "bin_end": 539.0999999999999,
            "bin_start": 359.4,
            "count": 0
           },
           {
            "bin_end": 718.8,
            "bin_start": 539.0999999999999,
            "count": 0
           },
           {
            "bin_end": 898.5,
            "bin_start": 718.8,
            "count": 0
           },
           {
            "bin_end": 1078.1999999999998,
            "bin_start": 898.5,
            "count": 0
           },
           {
            "bin_end": 1257.8999999999999,
            "bin_start": 1078.1999999999998,
            "count": 0
           },
           {
            "bin_end": 1437.6,
            "bin_start": 1257.8999999999999,
            "count": 0
           },
           {
            "bin_end": 1617.3,
            "bin_start": 1437.6,
            "count": 0
           },
           {
            "bin_end": 1797,
            "bin_start": 1617.3,
            "count": 1
           }
          ],
          "max": "1797.0",
          "min": "0.0",
          "nan_count": 0,
          "unique_count": 7
         }
        },
        {
         "dtype": "float64",
         "name": "[0;6]",
         "stats": {
          "histogram": [
           {
            "bin_end": 179.7,
            "bin_start": 0,
            "count": 7
           },
           {
            "bin_end": 359.4,
            "bin_start": 179.7,
            "count": 0
           },
           {
            "bin_end": 539.0999999999999,
            "bin_start": 359.4,
            "count": 0
           },
           {
            "bin_end": 718.8,
            "bin_start": 539.0999999999999,
            "count": 0
           },
           {
            "bin_end": 898.5,
            "bin_start": 718.8,
            "count": 0
           },
           {
            "bin_end": 1078.1999999999998,
            "bin_start": 898.5,
            "count": 0
           },
           {
            "bin_end": 1257.8999999999999,
            "bin_start": 1078.1999999999998,
            "count": 0
           },
           {
            "bin_end": 1437.6,
            "bin_start": 1257.8999999999999,
            "count": 0
           },
           {
            "bin_end": 1617.3,
            "bin_start": 1437.6,
            "count": 0
           },
           {
            "bin_end": 1797,
            "bin_start": 1617.3,
            "count": 1
           }
          ],
          "max": "1797.0",
          "min": "0.0",
          "nan_count": 0,
          "unique_count": 5
         }
        },
        {
         "dtype": "float64",
         "name": "[0;7]",
         "stats": {
          "histogram": [
           {
            "bin_end": 179.7,
            "bin_start": 0,
            "count": 7
           },
           {
            "bin_end": 359.4,
            "bin_start": 179.7,
            "count": 0
           },
           {
            "bin_end": 539.0999999999999,
            "bin_start": 359.4,
            "count": 0
           },
           {
            "bin_end": 718.8,
            "bin_start": 539.0999999999999,
            "count": 0
           },
           {
            "bin_end": 898.5,
            "bin_start": 718.8,
            "count": 0
           },
           {
            "bin_end": 1078.1999999999998,
            "bin_start": 898.5,
            "count": 0
           },
           {
            "bin_end": 1257.8999999999999,
            "bin_start": 1078.1999999999998,
            "count": 0
           },
           {
            "bin_end": 1437.6,
            "bin_start": 1257.8999999999999,
            "count": 0
           },
           {
            "bin_end": 1617.3,
            "bin_start": 1437.6,
            "count": 0
           },
           {
            "bin_end": 1797,
            "bin_start": 1617.3,
            "count": 1
           }
          ],
          "max": "1797.0",
          "min": "0.0",
          "nan_count": 0,
          "unique_count": 5
         }
        },
        {
         "dtype": "float64",
         "name": "[1;0]",
         "stats": {
          "histogram": [
           {
            "bin_end": 179.7,
            "bin_start": 0,
            "count": 7
           },
           {
            "bin_end": 359.4,
            "bin_start": 179.7,
            "count": 0
           },
           {
            "bin_end": 539.0999999999999,
            "bin_start": 359.4,
            "count": 0
           },
           {
            "bin_end": 718.8,
            "bin_start": 539.0999999999999,
            "count": 0
           },
           {
            "bin_end": 898.5,
            "bin_start": 718.8,
            "count": 0
           },
           {
            "bin_end": 1078.1999999999998,
            "bin_start": 898.5,
            "count": 0
           },
           {
            "bin_end": 1257.8999999999999,
            "bin_start": 1078.1999999999998,
            "count": 0
           },
           {
            "bin_end": 1437.6,
            "bin_start": 1257.8999999999999,
            "count": 0
           },
           {
            "bin_end": 1617.3,
            "bin_start": 1437.6,
            "count": 0
           },
           {
            "bin_end": 1797,
            "bin_start": 1617.3,
            "count": 1
           }
          ],
          "max": "1797.0",
          "min": "0.0",
          "nan_count": 0,
          "unique_count": 5
         }
        },
        {
         "dtype": "float64",
         "name": "[1;1]",
         "stats": {
          "histogram": [
           {
            "bin_end": 179.7,
            "bin_start": 0,
            "count": 7
           },
           {
            "bin_end": 359.4,
            "bin_start": 179.7,
            "count": 0
           },
           {
            "bin_end": 539.0999999999999,
            "bin_start": 359.4,
            "count": 0
           },
           {
            "bin_end": 718.8,
            "bin_start": 539.0999999999999,
            "count": 0
           },
           {
            "bin_end": 898.5,
            "bin_start": 718.8,
            "count": 0
           },
           {
            "bin_end": 1078.1999999999998,
            "bin_start": 898.5,
            "count": 0
           },
           {
            "bin_end": 1257.8999999999999,
            "bin_start": 1078.1999999999998,
            "count": 0
           },
           {
            "bin_end": 1437.6,
            "bin_start": 1257.8999999999999,
            "count": 0
           },
           {
            "bin_end": 1617.3,
            "bin_start": 1437.6,
            "count": 0
           },
           {
            "bin_end": 1797,
            "bin_start": 1617.3,
            "count": 1
           }
          ],
          "max": "1797.0",
          "min": "0.0",
          "nan_count": 0,
          "unique_count": 6
         }
        },
        {
         "dtype": "float64",
         "name": "[1;2]",
         "stats": {
          "histogram": [
           {
            "bin_end": 179.7,
            "bin_start": 0,
            "count": 7
           },
           {
            "bin_end": 359.4,
            "bin_start": 179.7,
            "count": 0
           },
           {
            "bin_end": 539.0999999999999,
            "bin_start": 359.4,
            "count": 0
           },
           {
            "bin_end": 718.8,
            "bin_start": 539.0999999999999,
            "count": 0
           },
           {
            "bin_end": 898.5,
            "bin_start": 718.8,
            "count": 0
           },
           {
            "bin_end": 1078.1999999999998,
            "bin_start": 898.5,
            "count": 0
           },
           {
            "bin_end": 1257.8999999999999,
            "bin_start": 1078.1999999999998,
            "count": 0
           },
           {
            "bin_end": 1437.6,
            "bin_start": 1257.8999999999999,
            "count": 0
           },
           {
            "bin_end": 1617.3,
            "bin_start": 1437.6,
            "count": 0
           },
           {
            "bin_end": 1797,
            "bin_start": 1617.3,
            "count": 1
           }
          ],
          "max": "1797.0",
          "min": "0.0",
          "nan_count": 0,
          "unique_count": 8
         }
        },
        {
         "dtype": "float64",
         "name": "[1;3]",
         "stats": {
          "histogram": [
           {
            "bin_end": 179.7,
            "bin_start": 0,
            "count": 7
           },
           {
            "bin_end": 359.4,
            "bin_start": 179.7,
            "count": 0
           },
           {
            "bin_end": 539.0999999999999,
            "bin_start": 359.4,
            "count": 0
           },
           {
            "bin_end": 718.8,
            "bin_start": 539.0999999999999,
            "count": 0
           },
           {
            "bin_end": 898.5,
            "bin_start": 718.8,
            "count": 0
           },
           {
            "bin_end": 1078.1999999999998,
            "bin_start": 898.5,
            "count": 0
           },
           {
            "bin_end": 1257.8999999999999,
            "bin_start": 1078.1999999999998,
            "count": 0
           },
           {
            "bin_end": 1437.6,
            "bin_start": 1257.8999999999999,
            "count": 0
           },
           {
            "bin_end": 1617.3,
            "bin_start": 1437.6,
            "count": 0
           },
           {
            "bin_end": 1797,
            "bin_start": 1617.3,
            "count": 1
           }
          ],
          "max": "1797.0",
          "min": "0.0",
          "nan_count": 0,
          "unique_count": 7
         }
        },
        {
         "dtype": "float64",
         "name": "[1;4]",
         "stats": {
          "histogram": [
           {
            "bin_end": 179.7,
            "bin_start": 0,
            "count": 7
           },
           {
            "bin_end": 359.4,
            "bin_start": 179.7,
            "count": 0
           },
           {
            "bin_end": 539.0999999999999,
            "bin_start": 359.4,
            "count": 0
           },
           {
            "bin_end": 718.8,
            "bin_start": 539.0999999999999,
            "count": 0
           },
           {
            "bin_end": 898.5,
            "bin_start": 718.8,
            "count": 0
           },
           {
            "bin_end": 1078.1999999999998,
            "bin_start": 898.5,
            "count": 0
           },
           {
            "bin_end": 1257.8999999999999,
            "bin_start": 1078.1999999999998,
            "count": 0
           },
           {
            "bin_end": 1437.6,
            "bin_start": 1257.8999999999999,
            "count": 0
           },
           {
            "bin_end": 1617.3,
            "bin_start": 1437.6,
            "count": 0
           },
           {
            "bin_end": 1797,
            "bin_start": 1617.3,
            "count": 1
           }
          ],
          "max": "1797.0",
          "min": "0.0",
          "nan_count": 0,
          "unique_count": 8
         }
        },
        {
         "dtype": "float64",
         "name": "[1;5]",
         "stats": {
          "histogram": [
           {
            "bin_end": 179.7,
            "bin_start": 0,
            "count": 7
           },
           {
            "bin_end": 359.4,
            "bin_start": 179.7,
            "count": 0
           },
           {
            "bin_end": 539.0999999999999,
            "bin_start": 359.4,
            "count": 0
           },
           {
            "bin_end": 718.8,
            "bin_start": 539.0999999999999,
            "count": 0
           },
           {
            "bin_end": 898.5,
            "bin_start": 718.8,
            "count": 0
           },
           {
            "bin_end": 1078.1999999999998,
            "bin_start": 898.5,
            "count": 0
           },
           {
            "bin_end": 1257.8999999999999,
            "bin_start": 1078.1999999999998,
            "count": 0
           },
           {
            "bin_end": 1437.6,
            "bin_start": 1257.8999999999999,
            "count": 0
           },
           {
            "bin_end": 1617.3,
            "bin_start": 1437.6,
            "count": 0
           },
           {
            "bin_end": 1797,
            "bin_start": 1617.3,
            "count": 1
           }
          ],
          "max": "1797.0",
          "min": "0.0",
          "nan_count": 0,
          "unique_count": 8
         }
        },
        {
         "dtype": "float64",
         "name": "[1;6]",
         "stats": {
          "histogram": [
           {
            "bin_end": 179.7,
            "bin_start": 0,
            "count": 7
           },
           {
            "bin_end": 359.4,
            "bin_start": 179.7,
            "count": 0
           },
           {
            "bin_end": 539.0999999999999,
            "bin_start": 359.4,
            "count": 0
           },
           {
            "bin_end": 718.8,
            "bin_start": 539.0999999999999,
            "count": 0
           },
           {
            "bin_end": 898.5,
            "bin_start": 718.8,
            "count": 0
           },
           {
            "bin_end": 1078.1999999999998,
            "bin_start": 898.5,
            "count": 0
           },
           {
            "bin_end": 1257.8999999999999,
            "bin_start": 1078.1999999999998,
            "count": 0
           },
           {
            "bin_end": 1437.6,
            "bin_start": 1257.8999999999999,
            "count": 0
           },
           {
            "bin_end": 1617.3,
            "bin_start": 1437.6,
            "count": 0
           },
           {
            "bin_end": 1797,
            "bin_start": 1617.3,
            "count": 1
           }
          ],
          "max": "1797.0",
          "min": "0.0",
          "nan_count": 0,
          "unique_count": 6
         }
        },
        {
         "dtype": "float64",
         "name": "[1;7]",
         "stats": {
          "histogram": [
           {
            "bin_end": 179.7,
            "bin_start": 0,
            "count": 7
           },
           {
            "bin_end": 359.4,
            "bin_start": 179.7,
            "count": 0
           },
           {
            "bin_end": 539.0999999999999,
            "bin_start": 359.4,
            "count": 0
           },
           {
            "bin_end": 718.8,
            "bin_start": 539.0999999999999,
            "count": 0
           },
           {
            "bin_end": 898.5,
            "bin_start": 718.8,
            "count": 0
           },
           {
            "bin_end": 1078.1999999999998,
            "bin_start": 898.5,
            "count": 0
           },
           {
            "bin_end": 1257.8999999999999,
            "bin_start": 1078.1999999999998,
            "count": 0
           },
           {
            "bin_end": 1437.6,
            "bin_start": 1257.8999999999999,
            "count": 0
           },
           {
            "bin_end": 1617.3,
            "bin_start": 1437.6,
            "count": 0
           },
           {
            "bin_end": 1797,
            "bin_start": 1617.3,
            "count": 1
           }
          ],
          "max": "1797.0",
          "min": "0.0",
          "nan_count": 0,
          "unique_count": 5
         }
        },
        {
         "dtype": "float64",
         "name": "[2;0]",
         "stats": {
          "histogram": [
           {
            "bin_end": 179.7,
            "bin_start": 0,
            "count": 7
           },
           {
            "bin_end": 359.4,
            "bin_start": 179.7,
            "count": 0
           },
           {
            "bin_end": 539.0999999999999,
            "bin_start": 359.4,
            "count": 0
           },
           {
            "bin_end": 718.8,
            "bin_start": 539.0999999999999,
            "count": 0
           },
           {
            "bin_end": 898.5,
            "bin_start": 718.8,
            "count": 0
           },
           {
            "bin_end": 1078.1999999999998,
            "bin_start": 898.5,
            "count": 0
           },
           {
            "bin_end": 1257.8999999999999,
            "bin_start": 1078.1999999999998,
            "count": 0
           },
           {
            "bin_end": 1437.6,
            "bin_start": 1257.8999999999999,
            "count": 0
           },
           {
            "bin_end": 1617.3,
            "bin_start": 1437.6,
            "count": 0
           },
           {
            "bin_end": 1797,
            "bin_start": 1617.3,
            "count": 1
           }
          ],
          "max": "1797.0",
          "min": "0.0",
          "nan_count": 0,
          "unique_count": 5
         }
        },
        {
         "dtype": "float64",
         "name": "[2;1]",
         "stats": {
          "histogram": [
           {
            "bin_end": 179.7,
            "bin_start": 0,
            "count": 7
           },
           {
            "bin_end": 359.4,
            "bin_start": 179.7,
            "count": 0
           },
           {
            "bin_end": 539.0999999999999,
            "bin_start": 359.4,
            "count": 0
           },
           {
            "bin_end": 718.8,
            "bin_start": 539.0999999999999,
            "count": 0
           },
           {
            "bin_end": 898.5,
            "bin_start": 718.8,
            "count": 0
           },
           {
            "bin_end": 1078.1999999999998,
            "bin_start": 898.5,
            "count": 0
           },
           {
            "bin_end": 1257.8999999999999,
            "bin_start": 1078.1999999999998,
            "count": 0
           },
           {
            "bin_end": 1437.6,
            "bin_start": 1257.8999999999999,
            "count": 0
           },
           {
            "bin_end": 1617.3,
            "bin_start": 1437.6,
            "count": 0
           },
           {
            "bin_end": 1797,
            "bin_start": 1617.3,
            "count": 1
           }
          ],
          "max": "1797.0",
          "min": "0.0",
          "nan_count": 0,
          "unique_count": 7
         }
        },
        {
         "dtype": "float64",
         "name": "[2;2]",
         "stats": {
          "histogram": [
           {
            "bin_end": 179.7,
            "bin_start": 0,
            "count": 7
           },
           {
            "bin_end": 359.4,
            "bin_start": 179.7,
            "count": 0
           },
           {
            "bin_end": 539.0999999999999,
            "bin_start": 359.4,
            "count": 0
           },
           {
            "bin_end": 718.8,
            "bin_start": 539.0999999999999,
            "count": 0
           },
           {
            "bin_end": 898.5,
            "bin_start": 718.8,
            "count": 0
           },
           {
            "bin_end": 1078.1999999999998,
            "bin_start": 898.5,
            "count": 0
           },
           {
            "bin_end": 1257.8999999999999,
            "bin_start": 1078.1999999999998,
            "count": 0
           },
           {
            "bin_end": 1437.6,
            "bin_start": 1257.8999999999999,
            "count": 0
           },
           {
            "bin_end": 1617.3,
            "bin_start": 1437.6,
            "count": 0
           },
           {
            "bin_end": 1797,
            "bin_start": 1617.3,
            "count": 1
           }
          ],
          "max": "1797.0",
          "min": "0.0",
          "nan_count": 0,
          "unique_count": 8
         }
        },
        {
         "dtype": "float64",
         "name": "[2;3]",
         "stats": {
          "histogram": [
           {
            "bin_end": 179.7,
            "bin_start": 0,
            "count": 7
           },
           {
            "bin_end": 359.4,
            "bin_start": 179.7,
            "count": 0
           },
           {
            "bin_end": 539.0999999999999,
            "bin_start": 359.4,
            "count": 0
           },
           {
            "bin_end": 718.8,
            "bin_start": 539.0999999999999,
            "count": 0
           },
           {
            "bin_end": 898.5,
            "bin_start": 718.8,
            "count": 0
           },
           {
            "bin_end": 1078.1999999999998,
            "bin_start": 898.5,
            "count": 0
           },
           {
            "bin_end": 1257.8999999999999,
            "bin_start": 1078.1999999999998,
            "count": 0
           },
           {
            "bin_end": 1437.6,
            "bin_start": 1257.8999999999999,
            "count": 0
           },
           {
            "bin_end": 1617.3,
            "bin_start": 1437.6,
            "count": 0
           },
           {
            "bin_end": 1797,
            "bin_start": 1617.3,
            "count": 1
           }
          ],
          "max": "1797.0",
          "min": "0.0",
          "nan_count": 0,
          "unique_count": 8
         }
        },
        {
         "dtype": "float64",
         "name": "[2;4]",
         "stats": {
          "histogram": [
           {
            "bin_end": 179.7,
            "bin_start": 0,
            "count": 7
           },
           {
            "bin_end": 359.4,
            "bin_start": 179.7,
            "count": 0
           },
           {
            "bin_end": 539.0999999999999,
            "bin_start": 359.4,
            "count": 0
           },
           {
            "bin_end": 718.8,
            "bin_start": 539.0999999999999,
            "count": 0
           },
           {
            "bin_end": 898.5,
            "bin_start": 718.8,
            "count": 0
           },
           {
            "bin_end": 1078.1999999999998,
            "bin_start": 898.5,
            "count": 0
           },
           {
            "bin_end": 1257.8999999999999,
            "bin_start": 1078.1999999999998,
            "count": 0
           },
           {
            "bin_end": 1437.6,
            "bin_start": 1257.8999999999999,
            "count": 0
           },
           {
            "bin_end": 1617.3,
            "bin_start": 1437.6,
            "count": 0
           },
           {
            "bin_end": 1797,
            "bin_start": 1617.3,
            "count": 1
           }
          ],
          "max": "1797.0",
          "min": "0.0",
          "nan_count": 0,
          "unique_count": 8
         }
        },
        {
         "dtype": "float64",
         "name": "[2;5]",
         "stats": {
          "histogram": [
           {
            "bin_end": 179.7,
            "bin_start": 0,
            "count": 7
           },
           {
            "bin_end": 359.4,
            "bin_start": 179.7,
            "count": 0
           },
           {
            "bin_end": 539.0999999999999,
            "bin_start": 359.4,
            "count": 0
           },
           {
            "bin_end": 718.8,
            "bin_start": 539.0999999999999,
            "count": 0
           },
           {
            "bin_end": 898.5,
            "bin_start": 718.8,
            "count": 0
           },
           {
            "bin_end": 1078.1999999999998,
            "bin_start": 898.5,
            "count": 0
           },
           {
            "bin_end": 1257.8999999999999,
            "bin_start": 1078.1999999999998,
            "count": 0
           },
           {
            "bin_end": 1437.6,
            "bin_start": 1257.8999999999999,
            "count": 0
           },
           {
            "bin_end": 1617.3,
            "bin_start": 1437.6,
            "count": 0
           },
           {
            "bin_end": 1797,
            "bin_start": 1617.3,
            "count": 1
           }
          ],
          "max": "1797.0",
          "min": "0.0",
          "nan_count": 0,
          "unique_count": 7
         }
        },
        {
         "dtype": "float64",
         "name": "[2;6]",
         "stats": {
          "histogram": [
           {
            "bin_end": 179.7,
            "bin_start": 0,
            "count": 7
           },
           {
            "bin_end": 359.4,
            "bin_start": 179.7,
            "count": 0
           },
           {
            "bin_end": 539.0999999999999,
            "bin_start": 359.4,
            "count": 0
           },
           {
            "bin_end": 718.8,
            "bin_start": 539.0999999999999,
            "count": 0
           },
           {
            "bin_end": 898.5,
            "bin_start": 718.8,
            "count": 0
           },
           {
            "bin_end": 1078.1999999999998,
            "bin_start": 898.5,
            "count": 0
           },
           {
            "bin_end": 1257.8999999999999,
            "bin_start": 1078.1999999999998,
            "count": 0
           },
           {
            "bin_end": 1437.6,
            "bin_start": 1257.8999999999999,
            "count": 0
           },
           {
            "bin_end": 1617.3,
            "bin_start": 1437.6,
            "count": 0
           },
           {
            "bin_end": 1797,
            "bin_start": 1617.3,
            "count": 1
           }
          ],
          "max": "1797.0",
          "min": "0.0",
          "nan_count": 0,
          "unique_count": 6
         }
        },
        {
         "dtype": "float64",
         "name": "[2;7]",
         "stats": {
          "histogram": [
           {
            "bin_end": 179.7,
            "bin_start": 0,
            "count": 7
           },
           {
            "bin_end": 359.4,
            "bin_start": 179.7,
            "count": 0
           },
           {
            "bin_end": 539.0999999999999,
            "bin_start": 359.4,
            "count": 0
           },
           {
            "bin_end": 718.8,
            "bin_start": 539.0999999999999,
            "count": 0
           },
           {
            "bin_end": 898.5,
            "bin_start": 718.8,
            "count": 0
           },
           {
            "bin_end": 1078.1999999999998,
            "bin_start": 898.5,
            "count": 0
           },
           {
            "bin_end": 1257.8999999999999,
            "bin_start": 1078.1999999999998,
            "count": 0
           },
           {
            "bin_end": 1437.6,
            "bin_start": 1257.8999999999999,
            "count": 0
           },
           {
            "bin_end": 1617.3,
            "bin_start": 1437.6,
            "count": 0
           },
           {
            "bin_end": 1797,
            "bin_start": 1617.3,
            "count": 1
           }
          ],
          "max": "1797.0",
          "min": "0.0",
          "nan_count": 0,
          "unique_count": 5
         }
        },
        {
         "dtype": "float64",
         "name": "[3;0]",
         "stats": {
          "histogram": [
           {
            "bin_end": 179.7,
            "bin_start": 0,
            "count": 7
           },
           {
            "bin_end": 359.4,
            "bin_start": 179.7,
            "count": 0
           },
           {
            "bin_end": 539.0999999999999,
            "bin_start": 359.4,
            "count": 0
           },
           {
            "bin_end": 718.8,
            "bin_start": 539.0999999999999,
            "count": 0
           },
           {
            "bin_end": 898.5,
            "bin_start": 718.8,
            "count": 0
           },
           {
            "bin_end": 1078.1999999999998,
            "bin_start": 898.5,
            "count": 0
           },
           {
            "bin_end": 1257.8999999999999,
            "bin_start": 1078.1999999999998,
            "count": 0
           },
           {
            "bin_end": 1437.6,
            "bin_start": 1257.8999999999999,
            "count": 0
           },
           {
            "bin_end": 1617.3,
            "bin_start": 1437.6,
            "count": 0
           },
           {
            "bin_end": 1797,
            "bin_start": 1617.3,
            "count": 1
           }
          ],
          "max": "1797.0",
          "min": "0.0",
          "nan_count": 0,
          "unique_count": 5
         }
        },
        {
         "dtype": "float64",
         "name": "[3;1]",
         "stats": {
          "histogram": [
           {
            "bin_end": 179.7,
            "bin_start": 0,
            "count": 7
           },
           {
            "bin_end": 359.4,
            "bin_start": 179.7,
            "count": 0
           },
           {
            "bin_end": 539.0999999999999,
            "bin_start": 359.4,
            "count": 0
           },
           {
            "bin_end": 718.8,
            "bin_start": 539.0999999999999,
            "count": 0
           },
           {
            "bin_end": 898.5,
            "bin_start": 718.8,
            "count": 0
           },
           {
            "bin_end": 1078.1999999999998,
            "bin_start": 898.5,
            "count": 0
           },
           {
            "bin_end": 1257.8999999999999,
            "bin_start": 1078.1999999999998,
            "count": 0
           },
           {
            "bin_end": 1437.6,
            "bin_start": 1257.8999999999999,
            "count": 0
           },
           {
            "bin_end": 1617.3,
            "bin_start": 1437.6,
            "count": 0
           },
           {
            "bin_end": 1797,
            "bin_start": 1617.3,
            "count": 1
           }
          ],
          "max": "1797.0",
          "min": "0.0",
          "nan_count": 0,
          "unique_count": 7
         }
        },
        {
         "dtype": "float64",
         "name": "[3;2]",
         "stats": {
          "histogram": [
           {
            "bin_end": 179.7,
            "bin_start": 0,
            "count": 7
           },
           {
            "bin_end": 359.4,
            "bin_start": 179.7,
            "count": 0
           },
           {
            "bin_end": 539.0999999999999,
            "bin_start": 359.4,
            "count": 0
           },
           {
            "bin_end": 718.8,
            "bin_start": 539.0999999999999,
            "count": 0
           },
           {
            "bin_end": 898.5,
            "bin_start": 718.8,
            "count": 0
           },
           {
            "bin_end": 1078.1999999999998,
            "bin_start": 898.5,
            "count": 0
           },
           {
            "bin_end": 1257.8999999999999,
            "bin_start": 1078.1999999999998,
            "count": 0
           },
           {
            "bin_end": 1437.6,
            "bin_start": 1257.8999999999999,
            "count": 0
           },
           {
            "bin_end": 1617.3,
            "bin_start": 1437.6,
            "count": 0
           },
           {
            "bin_end": 1797,
            "bin_start": 1617.3,
            "count": 1
           }
          ],
          "max": "1797.0",
          "min": "0.0",
          "nan_count": 0,
          "unique_count": 8
         }
        },
        {
         "dtype": "float64",
         "name": "[3;3]",
         "stats": {
          "histogram": [
           {
            "bin_end": 179.7,
            "bin_start": 0,
            "count": 7
           },
           {
            "bin_end": 359.4,
            "bin_start": 179.7,
            "count": 0
           },
           {
            "bin_end": 539.0999999999999,
            "bin_start": 359.4,
            "count": 0
           },
           {
            "bin_end": 718.8,
            "bin_start": 539.0999999999999,
            "count": 0
           },
           {
            "bin_end": 898.5,
            "bin_start": 718.8,
            "count": 0
           },
           {
            "bin_end": 1078.1999999999998,
            "bin_start": 898.5,
            "count": 0
           },
           {
            "bin_end": 1257.8999999999999,
            "bin_start": 1078.1999999999998,
            "count": 0
           },
           {
            "bin_end": 1437.6,
            "bin_start": 1257.8999999999999,
            "count": 0
           },
           {
            "bin_end": 1617.3,
            "bin_start": 1437.6,
            "count": 0
           },
           {
            "bin_end": 1797,
            "bin_start": 1617.3,
            "count": 1
           }
          ],
          "max": "1797.0",
          "min": "0.0",
          "nan_count": 0,
          "unique_count": 8
         }
        },
        {
         "dtype": "float64",
         "name": "[3;4]",
         "stats": {
          "histogram": [
           {
            "bin_end": 179.7,
            "bin_start": 0,
            "count": 7
           },
           {
            "bin_end": 359.4,
            "bin_start": 179.7,
            "count": 0
           },
           {
            "bin_end": 539.0999999999999,
            "bin_start": 359.4,
            "count": 0
           },
           {
            "bin_end": 718.8,
            "bin_start": 539.0999999999999,
            "count": 0
           },
           {
            "bin_end": 898.5,
            "bin_start": 718.8,
            "count": 0
           },
           {
            "bin_end": 1078.1999999999998,
            "bin_start": 898.5,
            "count": 0
           },
           {
            "bin_end": 1257.8999999999999,
            "bin_start": 1078.1999999999998,
            "count": 0
           },
           {
            "bin_end": 1437.6,
            "bin_start": 1257.8999999999999,
            "count": 0
           },
           {
            "bin_end": 1617.3,
            "bin_start": 1437.6,
            "count": 0
           },
           {
            "bin_end": 1797,
            "bin_start": 1617.3,
            "count": 1
           }
          ],
          "max": "1797.0",
          "min": "0.0",
          "nan_count": 0,
          "unique_count": 7
         }
        },
        {
         "dtype": "float64",
         "name": "[3;5]",
         "stats": {
          "histogram": [
           {
            "bin_end": 179.7,
            "bin_start": 0,
            "count": 7
           },
           {
            "bin_end": 359.4,
            "bin_start": 179.7,
            "count": 0
           },
           {
            "bin_end": 539.0999999999999,
            "bin_start": 359.4,
            "count": 0
           },
           {
            "bin_end": 718.8,
            "bin_start": 539.0999999999999,
            "count": 0
           },
           {
            "bin_end": 898.5,
            "bin_start": 718.8,
            "count": 0
           },
           {
            "bin_end": 1078.1999999999998,
            "bin_start": 898.5,
            "count": 0
           },
           {
            "bin_end": 1257.8999999999999,
            "bin_start": 1078.1999999999998,
            "count": 0
           },
           {
            "bin_end": 1437.6,
            "bin_start": 1257.8999999999999,
            "count": 0
           },
           {
            "bin_end": 1617.3,
            "bin_start": 1437.6,
            "count": 0
           },
           {
            "bin_end": 1797,
            "bin_start": 1617.3,
            "count": 1
           }
          ],
          "max": "1797.0",
          "min": "0.0",
          "nan_count": 0,
          "unique_count": 8
         }
        },
        {
         "dtype": "float64",
         "name": "[3;6]",
         "stats": {
          "histogram": [
           {
            "bin_end": 179.7,
            "bin_start": 0,
            "count": 7
           },
           {
            "bin_end": 359.4,
            "bin_start": 179.7,
            "count": 0
           },
           {
            "bin_end": 539.0999999999999,
            "bin_start": 359.4,
            "count": 0
           },
           {
            "bin_end": 718.8,
            "bin_start": 539.0999999999999,
            "count": 0
           },
           {
            "bin_end": 898.5,
            "bin_start": 718.8,
            "count": 0
           },
           {
            "bin_end": 1078.1999999999998,
            "bin_start": 898.5,
            "count": 0
           },
           {
            "bin_end": 1257.8999999999999,
            "bin_start": 1078.1999999999998,
            "count": 0
           },
           {
            "bin_end": 1437.6,
            "bin_start": 1257.8999999999999,
            "count": 0
           },
           {
            "bin_end": 1617.3,
            "bin_start": 1437.6,
            "count": 0
           },
           {
            "bin_end": 1797,
            "bin_start": 1617.3,
            "count": 1
           }
          ],
          "max": "1797.0",
          "min": "0.0",
          "nan_count": 0,
          "unique_count": 6
         }
        },
        {
         "dtype": "float64",
         "name": "[3;7]",
         "stats": {
          "histogram": [
           {
            "bin_end": 179.7,
            "bin_start": 0,
            "count": 7
           },
           {
            "bin_end": 359.4,
            "bin_start": 179.7,
            "count": 0
           },
           {
            "bin_end": 539.0999999999999,
            "bin_start": 359.4,
            "count": 0
           },
           {
            "bin_end": 718.8,
            "bin_start": 539.0999999999999,
            "count": 0
           },
           {
            "bin_end": 898.5,
            "bin_start": 718.8,
            "count": 0
           },
           {
            "bin_end": 1078.1999999999998,
            "bin_start": 898.5,
            "count": 0
           },
           {
            "bin_end": 1257.8999999999999,
            "bin_start": 1078.1999999999998,
            "count": 0
           },
           {
            "bin_end": 1437.6,
            "bin_start": 1257.8999999999999,
            "count": 0
           },
           {
            "bin_end": 1617.3,
            "bin_start": 1437.6,
            "count": 0
           },
           {
            "bin_end": 1797,
            "bin_start": 1617.3,
            "count": 1
           }
          ],
          "max": "1797.0",
          "min": "0.0",
          "nan_count": 0,
          "unique_count": 5
         }
        },
        {
         "dtype": "float64",
         "name": "[4;0]",
         "stats": {
          "histogram": [
           {
            "bin_end": 179.7,
            "bin_start": 0,
            "count": 7
           },
           {
            "bin_end": 359.4,
            "bin_start": 179.7,
            "count": 0
           },
           {
            "bin_end": 539.0999999999999,
            "bin_start": 359.4,
            "count": 0
           },
           {
            "bin_end": 718.8,
            "bin_start": 539.0999999999999,
            "count": 0
           },
           {
            "bin_end": 898.5,
            "bin_start": 718.8,
            "count": 0
           },
           {
            "bin_end": 1078.1999999999998,
            "bin_start": 898.5,
            "count": 0
           },
           {
            "bin_end": 1257.8999999999999,
            "bin_start": 1078.1999999999998,
            "count": 0
           },
           {
            "bin_end": 1437.6,
            "bin_start": 1257.8999999999999,
            "count": 0
           },
           {
            "bin_end": 1617.3,
            "bin_start": 1437.6,
            "count": 0
           },
           {
            "bin_end": 1797,
            "bin_start": 1617.3,
            "count": 1
           }
          ],
          "max": "1797.0",
          "min": "0.0",
          "nan_count": 0,
          "unique_count": 2
         }
        },
        {
         "dtype": "float64",
         "name": "[4;1]",
         "stats": {
          "histogram": [
           {
            "bin_end": 179.7,
            "bin_start": 0,
            "count": 7
           },
           {
            "bin_end": 359.4,
            "bin_start": 179.7,
            "count": 0
           },
           {
            "bin_end": 539.0999999999999,
            "bin_start": 359.4,
            "count": 0
           },
           {
            "bin_end": 718.8,
            "bin_start": 539.0999999999999,
            "count": 0
           },
           {
            "bin_end": 898.5,
            "bin_start": 718.8,
            "count": 0
           },
           {
            "bin_end": 1078.1999999999998,
            "bin_start": 898.5,
            "count": 0
           },
           {
            "bin_end": 1257.8999999999999,
            "bin_start": 1078.1999999999998,
            "count": 0
           },
           {
            "bin_end": 1437.6,
            "bin_start": 1257.8999999999999,
            "count": 0
           },
           {
            "bin_end": 1617.3,
            "bin_start": 1437.6,
            "count": 0
           },
           {
            "bin_end": 1797,
            "bin_start": 1617.3,
            "count": 1
           }
          ],
          "max": "1797.0",
          "min": "0.0",
          "nan_count": 0,
          "unique_count": 6
         }
        },
        {
         "dtype": "float64",
         "name": "[4;2]",
         "stats": {
          "histogram": [
           {
            "bin_end": 179.7,
            "bin_start": 0,
            "count": 7
           },
           {
            "bin_end": 359.4,
            "bin_start": 179.7,
            "count": 0
           },
           {
            "bin_end": 539.0999999999999,
            "bin_start": 359.4,
            "count": 0
           },
           {
            "bin_end": 718.8,
            "bin_start": 539.0999999999999,
            "count": 0
           },
           {
            "bin_end": 898.5,
            "bin_start": 718.8,
            "count": 0
           },
           {
            "bin_end": 1078.1999999999998,
            "bin_start": 898.5,
            "count": 0
           },
           {
            "bin_end": 1257.8999999999999,
            "bin_start": 1078.1999999999998,
            "count": 0
           },
           {
            "bin_end": 1437.6,
            "bin_start": 1257.8999999999999,
            "count": 0
           },
           {
            "bin_end": 1617.3,
            "bin_start": 1437.6,
            "count": 0
           },
           {
            "bin_end": 1797,
            "bin_start": 1617.3,
            "count": 1
           }
          ],
          "max": "1797.0",
          "min": "0.0",
          "nan_count": 0,
          "unique_count": 7
         }
        },
        {
         "dtype": "float64",
         "name": "[4;3]",
         "stats": {
          "histogram": [
           {
            "bin_end": 179.7,
            "bin_start": 0,
            "count": 7
           },
           {
            "bin_end": 359.4,
            "bin_start": 179.7,
            "count": 0
           },
           {
            "bin_end": 539.0999999999999,
            "bin_start": 359.4,
            "count": 0
           },
           {
            "bin_end": 718.8,
            "bin_start": 539.0999999999999,
            "count": 0
           },
           {
            "bin_end": 898.5,
            "bin_start": 718.8,
            "count": 0
           },
           {
            "bin_end": 1078.1999999999998,
            "bin_start": 898.5,
            "count": 0
           },
           {
            "bin_end": 1257.8999999999999,
            "bin_start": 1078.1999999999998,
            "count": 0
           },
           {
            "bin_end": 1437.6,
            "bin_start": 1257.8999999999999,
            "count": 0
           },
           {
            "bin_end": 1617.3,
            "bin_start": 1437.6,
            "count": 0
           },
           {
            "bin_end": 1797,
            "bin_start": 1617.3,
            "count": 1
           }
          ],
          "max": "1797.0",
          "min": "0.0",
          "nan_count": 0,
          "unique_count": 7
         }
        },
        {
         "dtype": "float64",
         "name": "[4;4]",
         "stats": {
          "histogram": [
           {
            "bin_end": 179.7,
            "bin_start": 0,
            "count": 7
           },
           {
            "bin_end": 359.4,
            "bin_start": 179.7,
            "count": 0
           },
           {
            "bin_end": 539.0999999999999,
            "bin_start": 359.4,
            "count": 0
           },
           {
            "bin_end": 718.8,
            "bin_start": 539.0999999999999,
            "count": 0
           },
           {
            "bin_end": 898.5,
            "bin_start": 718.8,
            "count": 0
           },
           {
            "bin_end": 1078.1999999999998,
            "bin_start": 898.5,
            "count": 0
           },
           {
            "bin_end": 1257.8999999999999,
            "bin_start": 1078.1999999999998,
            "count": 0
           },
           {
            "bin_end": 1437.6,
            "bin_start": 1257.8999999999999,
            "count": 0
           },
           {
            "bin_end": 1617.3,
            "bin_start": 1437.6,
            "count": 0
           },
           {
            "bin_end": 1797,
            "bin_start": 1617.3,
            "count": 1
           }
          ],
          "max": "1797.0",
          "min": "0.0",
          "nan_count": 0,
          "unique_count": 7
         }
        },
        {
         "dtype": "float64",
         "name": "[4;5]",
         "stats": {
          "histogram": [
           {
            "bin_end": 179.7,
            "bin_start": 0,
            "count": 7
           },
           {
            "bin_end": 359.4,
            "bin_start": 179.7,
            "count": 0
           },
           {
            "bin_end": 539.0999999999999,
            "bin_start": 359.4,
            "count": 0
           },
           {
            "bin_end": 718.8,
            "bin_start": 539.0999999999999,
            "count": 0
           },
           {
            "bin_end": 898.5,
            "bin_start": 718.8,
            "count": 0
           },
           {
            "bin_end": 1078.1999999999998,
            "bin_start": 898.5,
            "count": 0
           },
           {
            "bin_end": 1257.8999999999999,
            "bin_start": 1078.1999999999998,
            "count": 0
           },
           {
            "bin_end": 1437.6,
            "bin_start": 1257.8999999999999,
            "count": 0
           },
           {
            "bin_end": 1617.3,
            "bin_start": 1437.6,
            "count": 0
           },
           {
            "bin_end": 1797,
            "bin_start": 1617.3,
            "count": 1
           }
          ],
          "max": "1797.0",
          "min": "0.0",
          "nan_count": 0,
          "unique_count": 8
         }
        },
        {
         "dtype": "float64",
         "name": "[4;6]",
         "stats": {
          "histogram": [
           {
            "bin_end": 179.7,
            "bin_start": 0,
            "count": 7
           },
           {
            "bin_end": 359.4,
            "bin_start": 179.7,
            "count": 0
           },
           {
            "bin_end": 539.0999999999999,
            "bin_start": 359.4,
            "count": 0
           },
           {
            "bin_end": 718.8,
            "bin_start": 539.0999999999999,
            "count": 0
           },
           {
            "bin_end": 898.5,
            "bin_start": 718.8,
            "count": 0
           },
           {
            "bin_end": 1078.1999999999998,
            "bin_start": 898.5,
            "count": 0
           },
           {
            "bin_end": 1257.8999999999999,
            "bin_start": 1078.1999999999998,
            "count": 0
           },
           {
            "bin_end": 1437.6,
            "bin_start": 1257.8999999999999,
            "count": 0
           },
           {
            "bin_end": 1617.3,
            "bin_start": 1437.6,
            "count": 0
           },
           {
            "bin_end": 1797,
            "bin_start": 1617.3,
            "count": 1
           }
          ],
          "max": "1797.0",
          "min": "0.0",
          "nan_count": 0,
          "unique_count": 7
         }
        },
        {
         "dtype": "float64",
         "name": "[4;7]",
         "stats": {
          "histogram": [
           {
            "bin_end": 179.7,
            "bin_start": 0,
            "count": 7
           },
           {
            "bin_end": 359.4,
            "bin_start": 179.7,
            "count": 0
           },
           {
            "bin_end": 539.0999999999999,
            "bin_start": 359.4,
            "count": 0
           },
           {
            "bin_end": 718.8,
            "bin_start": 539.0999999999999,
            "count": 0
           },
           {
            "bin_end": 898.5,
            "bin_start": 718.8,
            "count": 0
           },
           {
            "bin_end": 1078.1999999999998,
            "bin_start": 898.5,
            "count": 0
           },
           {
            "bin_end": 1257.8999999999999,
            "bin_start": 1078.1999999999998,
            "count": 0
           },
           {
            "bin_end": 1437.6,
            "bin_start": 1257.8999999999999,
            "count": 0
           },
           {
            "bin_end": 1617.3,
            "bin_start": 1437.6,
            "count": 0
           },
           {
            "bin_end": 1797,
            "bin_start": 1617.3,
            "count": 1
           }
          ],
          "max": "1797.0",
          "min": "0.0",
          "nan_count": 0,
          "unique_count": 2
         }
        },
        {
         "dtype": "float64",
         "name": "[5;0]",
         "stats": {
          "histogram": [
           {
            "bin_end": 179.7,
            "bin_start": 0,
            "count": 7
           },
           {
            "bin_end": 359.4,
            "bin_start": 179.7,
            "count": 0
           },
           {
            "bin_end": 539.0999999999999,
            "bin_start": 359.4,
            "count": 0
           },
           {
            "bin_end": 718.8,
            "bin_start": 539.0999999999999,
            "count": 0
           },
           {
            "bin_end": 898.5,
            "bin_start": 718.8,
            "count": 0
           },
           {
            "bin_end": 1078.1999999999998,
            "bin_start": 898.5,
            "count": 0
           },
           {
            "bin_end": 1257.8999999999999,
            "bin_start": 1078.1999999999998,
            "count": 0
           },
           {
            "bin_end": 1437.6,
            "bin_start": 1257.8999999999999,
            "count": 0
           },
           {
            "bin_end": 1617.3,
            "bin_start": 1437.6,
            "count": 0
           },
           {
            "bin_end": 1797,
            "bin_start": 1617.3,
            "count": 1
           }
          ],
          "max": "1797.0",
          "min": "0.0",
          "nan_count": 0,
          "unique_count": 5
         }
        },
        {
         "dtype": "float64",
         "name": "[5;1]",
         "stats": {
          "histogram": [
           {
            "bin_end": 179.7,
            "bin_start": 0,
            "count": 7
           },
           {
            "bin_end": 359.4,
            "bin_start": 179.7,
            "count": 0
           },
           {
            "bin_end": 539.0999999999999,
            "bin_start": 359.4,
            "count": 0
           },
           {
            "bin_end": 718.8,
            "bin_start": 539.0999999999999,
            "count": 0
           },
           {
            "bin_end": 898.5,
            "bin_start": 718.8,
            "count": 0
           },
           {
            "bin_end": 1078.1999999999998,
            "bin_start": 898.5,
            "count": 0
           },
           {
            "bin_end": 1257.8999999999999,
            "bin_start": 1078.1999999999998,
            "count": 0
           },
           {
            "bin_end": 1437.6,
            "bin_start": 1257.8999999999999,
            "count": 0
           },
           {
            "bin_end": 1617.3,
            "bin_start": 1437.6,
            "count": 0
           },
           {
            "bin_end": 1797,
            "bin_start": 1617.3,
            "count": 1
           }
          ],
          "max": "1797.0",
          "min": "0.0",
          "nan_count": 0,
          "unique_count": 6
         }
        },
        {
         "dtype": "float64",
         "name": "[5;2]",
         "stats": {
          "histogram": [
           {
            "bin_end": 179.7,
            "bin_start": 0,
            "count": 7
           },
           {
            "bin_end": 359.4,
            "bin_start": 179.7,
            "count": 0
           },
           {
            "bin_end": 539.0999999999999,
            "bin_start": 359.4,
            "count": 0
           },
           {
            "bin_end": 718.8,
            "bin_start": 539.0999999999999,
            "count": 0
           },
           {
            "bin_end": 898.5,
            "bin_start": 718.8,
            "count": 0
           },
           {
            "bin_end": 1078.1999999999998,
            "bin_start": 898.5,
            "count": 0
           },
           {
            "bin_end": 1257.8999999999999,
            "bin_start": 1078.1999999999998,
            "count": 0
           },
           {
            "bin_end": 1437.6,
            "bin_start": 1257.8999999999999,
            "count": 0
           },
           {
            "bin_end": 1617.3,
            "bin_start": 1437.6,
            "count": 0
           },
           {
            "bin_end": 1797,
            "bin_start": 1617.3,
            "count": 1
           }
          ],
          "max": "1797.0",
          "min": "0.0",
          "nan_count": 0,
          "unique_count": 7
         }
        },
        {
         "dtype": "float64",
         "name": "[5;3]",
         "stats": {
          "histogram": [
           {
            "bin_end": 179.7,
            "bin_start": 0,
            "count": 7
           },
           {
            "bin_end": 359.4,
            "bin_start": 179.7,
            "count": 0
           },
           {
            "bin_end": 539.0999999999999,
            "bin_start": 359.4,
            "count": 0
           },
           {
            "bin_end": 718.8,
            "bin_start": 539.0999999999999,
            "count": 0
           },
           {
            "bin_end": 898.5,
            "bin_start": 718.8,
            "count": 0
           },
           {
            "bin_end": 1078.1999999999998,
            "bin_start": 898.5,
            "count": 0
           },
           {
            "bin_end": 1257.8999999999999,
            "bin_start": 1078.1999999999998,
            "count": 0
           },
           {
            "bin_end": 1437.6,
            "bin_start": 1257.8999999999999,
            "count": 0
           },
           {
            "bin_end": 1617.3,
            "bin_start": 1437.6,
            "count": 0
           },
           {
            "bin_end": 1797,
            "bin_start": 1617.3,
            "count": 1
           }
          ],
          "max": "1797.0",
          "min": "0.0",
          "nan_count": 0,
          "unique_count": 7
         }
        },
        {
         "dtype": "float64",
         "name": "[5;4]",
         "stats": {
          "histogram": [
           {
            "bin_end": 179.7,
            "bin_start": 0,
            "count": 7
           },
           {
            "bin_end": 359.4,
            "bin_start": 179.7,
            "count": 0
           },
           {
            "bin_end": 539.0999999999999,
            "bin_start": 359.4,
            "count": 0
           },
           {
            "bin_end": 718.8,
            "bin_start": 539.0999999999999,
            "count": 0
           },
           {
            "bin_end": 898.5,
            "bin_start": 718.8,
            "count": 0
           },
           {
            "bin_end": 1078.1999999999998,
            "bin_start": 898.5,
            "count": 0
           },
           {
            "bin_end": 1257.8999999999999,
            "bin_start": 1078.1999999999998,
            "count": 0
           },
           {
            "bin_end": 1437.6,
            "bin_start": 1257.8999999999999,
            "count": 0
           },
           {
            "bin_end": 1617.3,
            "bin_start": 1437.6,
            "count": 0
           },
           {
            "bin_end": 1797,
            "bin_start": 1617.3,
            "count": 1
           }
          ],
          "max": "1797.0",
          "min": "0.0",
          "nan_count": 0,
          "unique_count": 8
         }
        },
        {
         "dtype": "float64",
         "name": "[5;5]",
         "stats": {
          "histogram": [
           {
            "bin_end": 179.7,
            "bin_start": 0,
            "count": 7
           },
           {
            "bin_end": 359.4,
            "bin_start": 179.7,
            "count": 0
           },
           {
            "bin_end": 539.0999999999999,
            "bin_start": 359.4,
            "count": 0
           },
           {
            "bin_end": 718.8,
            "bin_start": 539.0999999999999,
            "count": 0
           },
           {
            "bin_end": 898.5,
            "bin_start": 718.8,
            "count": 0
           },
           {
            "bin_end": 1078.1999999999998,
            "bin_start": 898.5,
            "count": 0
           },
           {
            "bin_end": 1257.8999999999999,
            "bin_start": 1078.1999999999998,
            "count": 0
           },
           {
            "bin_end": 1437.6,
            "bin_start": 1257.8999999999999,
            "count": 0
           },
           {
            "bin_end": 1617.3,
            "bin_start": 1437.6,
            "count": 0
           },
           {
            "bin_end": 1797,
            "bin_start": 1617.3,
            "count": 1
           }
          ],
          "max": "1797.0",
          "min": "0.0",
          "nan_count": 0,
          "unique_count": 8
         }
        },
        {
         "dtype": "float64",
         "name": "[5;6]",
         "stats": {
          "histogram": [
           {
            "bin_end": 179.7,
            "bin_start": 0,
            "count": 7
           },
           {
            "bin_end": 359.4,
            "bin_start": 179.7,
            "count": 0
           },
           {
            "bin_end": 539.0999999999999,
            "bin_start": 359.4,
            "count": 0
           },
           {
            "bin_end": 718.8,
            "bin_start": 539.0999999999999,
            "count": 0
           },
           {
            "bin_end": 898.5,
            "bin_start": 718.8,
            "count": 0
           },
           {
            "bin_end": 1078.1999999999998,
            "bin_start": 898.5,
            "count": 0
           },
           {
            "bin_end": 1257.8999999999999,
            "bin_start": 1078.1999999999998,
            "count": 0
           },
           {
            "bin_end": 1437.6,
            "bin_start": 1257.8999999999999,
            "count": 0
           },
           {
            "bin_end": 1617.3,
            "bin_start": 1437.6,
            "count": 0
           },
           {
            "bin_end": 1797,
            "bin_start": 1617.3,
            "count": 1
           }
          ],
          "max": "1797.0",
          "min": "0.0",
          "nan_count": 0,
          "unique_count": 7
         }
        },
        {
         "dtype": "float64",
         "name": "[5;7]",
         "stats": {
          "histogram": [
           {
            "bin_end": 179.7,
            "bin_start": 0,
            "count": 7
           },
           {
            "bin_end": 359.4,
            "bin_start": 179.7,
            "count": 0
           },
           {
            "bin_end": 539.0999999999999,
            "bin_start": 359.4,
            "count": 0
           },
           {
            "bin_end": 718.8,
            "bin_start": 539.0999999999999,
            "count": 0
           },
           {
            "bin_end": 898.5,
            "bin_start": 718.8,
            "count": 0
           },
           {
            "bin_end": 1078.1999999999998,
            "bin_start": 898.5,
            "count": 0
           },
           {
            "bin_end": 1257.8999999999999,
            "bin_start": 1078.1999999999998,
            "count": 0
           },
           {
            "bin_end": 1437.6,
            "bin_start": 1257.8999999999999,
            "count": 0
           },
           {
            "bin_end": 1617.3,
            "bin_start": 1437.6,
            "count": 0
           },
           {
            "bin_end": 1797,
            "bin_start": 1617.3,
            "count": 1
           }
          ],
          "max": "1797.0",
          "min": "0.0",
          "nan_count": 0,
          "unique_count": 5
         }
        },
        {
         "dtype": "float64",
         "name": "[6;0]",
         "stats": {
          "histogram": [
           {
            "bin_end": 179.7,
            "bin_start": 0,
            "count": 7
           },
           {
            "bin_end": 359.4,
            "bin_start": 179.7,
            "count": 0
           },
           {
            "bin_end": 539.0999999999999,
            "bin_start": 359.4,
            "count": 0
           },
           {
            "bin_end": 718.8,
            "bin_start": 539.0999999999999,
            "count": 0
           },
           {
            "bin_end": 898.5,
            "bin_start": 718.8,
            "count": 0
           },
           {
            "bin_end": 1078.1999999999998,
            "bin_start": 898.5,
            "count": 0
           },
           {
            "bin_end": 1257.8999999999999,
            "bin_start": 1078.1999999999998,
            "count": 0
           },
           {
            "bin_end": 1437.6,
            "bin_start": 1257.8999999999999,
            "count": 0
           },
           {
            "bin_end": 1617.3,
            "bin_start": 1437.6,
            "count": 0
           },
           {
            "bin_end": 1797,
            "bin_start": 1617.3,
            "count": 1
           }
          ],
          "max": "1797.0",
          "min": "0.0",
          "nan_count": 0,
          "unique_count": 5
         }
        },
        {
         "dtype": "float64",
         "name": "[6;1]",
         "stats": {
          "histogram": [
           {
            "bin_end": 179.7,
            "bin_start": 0,
            "count": 7
           },
           {
            "bin_end": 359.4,
            "bin_start": 179.7,
            "count": 0
           },
           {
            "bin_end": 539.0999999999999,
            "bin_start": 359.4,
            "count": 0
           },
           {
            "bin_end": 718.8,
            "bin_start": 539.0999999999999,
            "count": 0
           },
           {
            "bin_end": 898.5,
            "bin_start": 718.8,
            "count": 0
           },
           {
            "bin_end": 1078.1999999999998,
            "bin_start": 898.5,
            "count": 0
           },
           {
            "bin_end": 1257.8999999999999,
            "bin_start": 1078.1999999999998,
            "count": 0
           },
           {
            "bin_end": 1437.6,
            "bin_start": 1257.8999999999999,
            "count": 0
           },
           {
            "bin_end": 1617.3,
            "bin_start": 1437.6,
            "count": 0
           },
           {
            "bin_end": 1797,
            "bin_start": 1617.3,
            "count": 1
           }
          ],
          "max": "1797.0",
          "min": "0.0",
          "nan_count": 0,
          "unique_count": 5
         }
        },
        {
         "dtype": "float64",
         "name": "[6;2]",
         "stats": {
          "histogram": [
           {
            "bin_end": 179.7,
            "bin_start": 0,
            "count": 7
           },
           {
            "bin_end": 359.4,
            "bin_start": 179.7,
            "count": 0
           },
           {
            "bin_end": 539.0999999999999,
            "bin_start": 359.4,
            "count": 0
           },
           {
            "bin_end": 718.8,
            "bin_start": 539.0999999999999,
            "count": 0
           },
           {
            "bin_end": 898.5,
            "bin_start": 718.8,
            "count": 0
           },
           {
            "bin_end": 1078.1999999999998,
            "bin_start": 898.5,
            "count": 0
           },
           {
            "bin_end": 1257.8999999999999,
            "bin_start": 1078.1999999999998,
            "count": 0
           },
           {
            "bin_end": 1437.6,
            "bin_start": 1257.8999999999999,
            "count": 0
           },
           {
            "bin_end": 1617.3,
            "bin_start": 1437.6,
            "count": 0
           },
           {
            "bin_end": 1797,
            "bin_start": 1617.3,
            "count": 1
           }
          ],
          "max": "1797.0",
          "min": "0.0",
          "nan_count": 0,
          "unique_count": 8
         }
        },
        {
         "dtype": "float64",
         "name": "[6;3]",
         "stats": {
          "histogram": [
           {
            "bin_end": 179.7,
            "bin_start": 0,
            "count": 7
           },
           {
            "bin_end": 359.4,
            "bin_start": 179.7,
            "count": 0
           },
           {
            "bin_end": 539.0999999999999,
            "bin_start": 359.4,
            "count": 0
           },
           {
            "bin_end": 718.8,
            "bin_start": 539.0999999999999,
            "count": 0
           },
           {
            "bin_end": 898.5,
            "bin_start": 718.8,
            "count": 0
           },
           {
            "bin_end": 1078.1999999999998,
            "bin_start": 898.5,
            "count": 0
           },
           {
            "bin_end": 1257.8999999999999,
            "bin_start": 1078.1999999999998,
            "count": 0
           },
           {
            "bin_end": 1437.6,
            "bin_start": 1257.8999999999999,
            "count": 0
           },
           {
            "bin_end": 1617.3,
            "bin_start": 1437.6,
            "count": 0
           },
           {
            "bin_end": 1797,
            "bin_start": 1617.3,
            "count": 1
           }
          ],
          "max": "1797.0",
          "min": "0.0",
          "nan_count": 0,
          "unique_count": 8
         }
        },
        {
         "dtype": "float64",
         "name": "[6;4]",
         "stats": {
          "histogram": [
           {
            "bin_end": 179.7,
            "bin_start": 0,
            "count": 7
           },
           {
            "bin_end": 359.4,
            "bin_start": 179.7,
            "count": 0
           },
           {
            "bin_end": 539.0999999999999,
            "bin_start": 359.4,
            "count": 0
           },
           {
            "bin_end": 718.8,
            "bin_start": 539.0999999999999,
            "count": 0
           },
           {
            "bin_end": 898.5,
            "bin_start": 718.8,
            "count": 0
           },
           {
            "bin_end": 1078.1999999999998,
            "bin_start": 898.5,
            "count": 0
           },
           {
            "bin_end": 1257.8999999999999,
            "bin_start": 1078.1999999999998,
            "count": 0
           },
           {
            "bin_end": 1437.6,
            "bin_start": 1257.8999999999999,
            "count": 0
           },
           {
            "bin_end": 1617.3,
            "bin_start": 1437.6,
            "count": 0
           },
           {
            "bin_end": 1797,
            "bin_start": 1617.3,
            "count": 1
           }
          ],
          "max": "1797.0",
          "min": "0.0",
          "nan_count": 0,
          "unique_count": 8
         }
        },
        {
         "dtype": "float64",
         "name": "[6;5]",
         "stats": {
          "histogram": [
           {
            "bin_end": 179.7,
            "bin_start": 0,
            "count": 7
           },
           {
            "bin_end": 359.4,
            "bin_start": 179.7,
            "count": 0
           },
           {
            "bin_end": 539.0999999999999,
            "bin_start": 359.4,
            "count": 0
           },
           {
            "bin_end": 718.8,
            "bin_start": 539.0999999999999,
            "count": 0
           },
           {
            "bin_end": 898.5,
            "bin_start": 718.8,
            "count": 0
           },
           {
            "bin_end": 1078.1999999999998,
            "bin_start": 898.5,
            "count": 0
           },
           {
            "bin_end": 1257.8999999999999,
            "bin_start": 1078.1999999999998,
            "count": 0
           },
           {
            "bin_end": 1437.6,
            "bin_start": 1257.8999999999999,
            "count": 0
           },
           {
            "bin_end": 1617.3,
            "bin_start": 1437.6,
            "count": 0
           },
           {
            "bin_end": 1797,
            "bin_start": 1617.3,
            "count": 1
           }
          ],
          "max": "1797.0",
          "min": "0.0",
          "nan_count": 0,
          "unique_count": 8
         }
        },
        {
         "dtype": "float64",
         "name": "[6;6]",
         "stats": {
          "histogram": [
           {
            "bin_end": 179.7,
            "bin_start": 0,
            "count": 7
           },
           {
            "bin_end": 359.4,
            "bin_start": 179.7,
            "count": 0
           },
           {
            "bin_end": 539.0999999999999,
            "bin_start": 359.4,
            "count": 0
           },
           {
            "bin_end": 718.8,
            "bin_start": 539.0999999999999,
            "count": 0
           },
           {
            "bin_end": 898.5,
            "bin_start": 718.8,
            "count": 0
           },
           {
            "bin_end": 1078.1999999999998,
            "bin_start": 898.5,
            "count": 0
           },
           {
            "bin_end": 1257.8999999999999,
            "bin_start": 1078.1999999999998,
            "count": 0
           },
           {
            "bin_end": 1437.6,
            "bin_start": 1257.8999999999999,
            "count": 0
           },
           {
            "bin_end": 1617.3,
            "bin_start": 1437.6,
            "count": 0
           },
           {
            "bin_end": 1797,
            "bin_start": 1617.3,
            "count": 1
           }
          ],
          "max": "1797.0",
          "min": "0.0",
          "nan_count": 0,
          "unique_count": 7
         }
        },
        {
         "dtype": "float64",
         "name": "[6;7]",
         "stats": {
          "histogram": [
           {
            "bin_end": 179.7,
            "bin_start": 0,
            "count": 7
           },
           {
            "bin_end": 359.4,
            "bin_start": 179.7,
            "count": 0
           },
           {
            "bin_end": 539.0999999999999,
            "bin_start": 359.4,
            "count": 0
           },
           {
            "bin_end": 718.8,
            "bin_start": 539.0999999999999,
            "count": 0
           },
           {
            "bin_end": 898.5,
            "bin_start": 718.8,
            "count": 0
           },
           {
            "bin_end": 1078.1999999999998,
            "bin_start": 898.5,
            "count": 0
           },
           {
            "bin_end": 1257.8999999999999,
            "bin_start": 1078.1999999999998,
            "count": 0
           },
           {
            "bin_end": 1437.6,
            "bin_start": 1257.8999999999999,
            "count": 0
           },
           {
            "bin_end": 1617.3,
            "bin_start": 1437.6,
            "count": 0
           },
           {
            "bin_end": 1797,
            "bin_start": 1617.3,
            "count": 1
           }
          ],
          "max": "1797.0",
          "min": "0.0",
          "nan_count": 0,
          "unique_count": 5
         }
        },
        {
         "dtype": "float64",
         "name": "[7;0]",
         "stats": {
          "histogram": [
           {
            "bin_end": 179.7,
            "bin_start": 0,
            "count": 7
           },
           {
            "bin_end": 359.4,
            "bin_start": 179.7,
            "count": 0
           },
           {
            "bin_end": 539.0999999999999,
            "bin_start": 359.4,
            "count": 0
           },
           {
            "bin_end": 718.8,
            "bin_start": 539.0999999999999,
            "count": 0
           },
           {
            "bin_end": 898.5,
            "bin_start": 718.8,
            "count": 0
           },
           {
            "bin_end": 1078.1999999999998,
            "bin_start": 898.5,
            "count": 0
           },
           {
            "bin_end": 1257.8999999999999,
            "bin_start": 1078.1999999999998,
            "count": 0
           },
           {
            "bin_end": 1437.6,
            "bin_start": 1257.8999999999999,
            "count": 0
           },
           {
            "bin_end": 1617.3,
            "bin_start": 1437.6,
            "count": 0
           },
           {
            "bin_end": 1797,
            "bin_start": 1617.3,
            "count": 1
           }
          ],
          "max": "1797.0",
          "min": "0.0",
          "nan_count": 0,
          "unique_count": 5
         }
        },
        {
         "dtype": "float64",
         "name": "[7;1]",
         "stats": {
          "histogram": [
           {
            "bin_end": 179.7,
            "bin_start": 0,
            "count": 7
           },
           {
            "bin_end": 359.4,
            "bin_start": 179.7,
            "count": 0
           },
           {
            "bin_end": 539.0999999999999,
            "bin_start": 359.4,
            "count": 0
           },
           {
            "bin_end": 718.8,
            "bin_start": 539.0999999999999,
            "count": 0
           },
           {
            "bin_end": 898.5,
            "bin_start": 718.8,
            "count": 0
           },
           {
            "bin_end": 1078.1999999999998,
            "bin_start": 898.5,
            "count": 0
           },
           {
            "bin_end": 1257.8999999999999,
            "bin_start": 1078.1999999999998,
            "count": 0
           },
           {
            "bin_end": 1437.6,
            "bin_start": 1257.8999999999999,
            "count": 0
           },
           {
            "bin_end": 1617.3,
            "bin_start": 1437.6,
            "count": 0
           },
           {
            "bin_end": 1797,
            "bin_start": 1617.3,
            "count": 1
           }
          ],
          "max": "1797.0",
          "min": "0.0",
          "nan_count": 0,
          "unique_count": 5
         }
        },
        {
         "dtype": "float64",
         "name": "[7;2]",
         "stats": {
          "histogram": [
           {
            "bin_end": 179.7,
            "bin_start": 0,
            "count": 7
           },
           {
            "bin_end": 359.4,
            "bin_start": 179.7,
            "count": 0
           },
           {
            "bin_end": 539.0999999999999,
            "bin_start": 359.4,
            "count": 0
           },
           {
            "bin_end": 718.8,
            "bin_start": 539.0999999999999,
            "count": 0
           },
           {
            "bin_end": 898.5,
            "bin_start": 718.8,
            "count": 0
           },
           {
            "bin_end": 1078.1999999999998,
            "bin_start": 898.5,
            "count": 0
           },
           {
            "bin_end": 1257.8999999999999,
            "bin_start": 1078.1999999999998,
            "count": 0
           },
           {
            "bin_end": 1437.6,
            "bin_start": 1257.8999999999999,
            "count": 0
           },
           {
            "bin_end": 1617.3,
            "bin_start": 1437.6,
            "count": 0
           },
           {
            "bin_end": 1797,
            "bin_start": 1617.3,
            "count": 1
           }
          ],
          "max": "1797.0",
          "min": "0.0",
          "nan_count": 0,
          "unique_count": 8
         }
        },
        {
         "dtype": "float64",
         "name": "[7;3]",
         "stats": {
          "histogram": [
           {
            "bin_end": 179.7,
            "bin_start": 0,
            "count": 7
           },
           {
            "bin_end": 359.4,
            "bin_start": 179.7,
            "count": 0
           },
           {
            "bin_end": 539.0999999999999,
            "bin_start": 359.4,
            "count": 0
           },
           {
            "bin_end": 718.8,
            "bin_start": 539.0999999999999,
            "count": 0
           },
           {
            "bin_end": 898.5,
            "bin_start": 718.8,
            "count": 0
           },
           {
            "bin_end": 1078.1999999999998,
            "bin_start": 898.5,
            "count": 0
           },
           {
            "bin_end": 1257.8999999999999,
            "bin_start": 1078.1999999999998,
            "count": 0
           },
           {
            "bin_end": 1437.6,
            "bin_start": 1257.8999999999999,
            "count": 0
           },
           {
            "bin_end": 1617.3,
            "bin_start": 1437.6,
            "count": 0
           },
           {
            "bin_end": 1797,
            "bin_start": 1617.3,
            "count": 1
           }
          ],
          "max": "1797.0",
          "min": "0.0",
          "nan_count": 0,
          "unique_count": 7
         }
        },
        {
         "dtype": "float64",
         "name": "[7;4]",
         "stats": {
          "histogram": [
           {
            "bin_end": 179.7,
            "bin_start": 0,
            "count": 7
           },
           {
            "bin_end": 359.4,
            "bin_start": 179.7,
            "count": 0
           },
           {
            "bin_end": 539.0999999999999,
            "bin_start": 359.4,
            "count": 0
           },
           {
            "bin_end": 718.8,
            "bin_start": 539.0999999999999,
            "count": 0
           },
           {
            "bin_end": 898.5,
            "bin_start": 718.8,
            "count": 0
           },
           {
            "bin_end": 1078.1999999999998,
            "bin_start": 898.5,
            "count": 0
           },
           {
            "bin_end": 1257.8999999999999,
            "bin_start": 1078.1999999999998,
            "count": 0
           },
           {
            "bin_end": 1437.6,
            "bin_start": 1257.8999999999999,
            "count": 0
           },
           {
            "bin_end": 1617.3,
            "bin_start": 1437.6,
            "count": 0
           },
           {
            "bin_end": 1797,
            "bin_start": 1617.3,
            "count": 1
           }
          ],
          "max": "1797.0",
          "min": "0.0",
          "nan_count": 0,
          "unique_count": 7
         }
        },
        {
         "dtype": "float64",
         "name": "[7;5]",
         "stats": {
          "histogram": [
           {
            "bin_end": 179.7,
            "bin_start": 0,
            "count": 7
           },
           {
            "bin_end": 359.4,
            "bin_start": 179.7,
            "count": 0
           },
           {
            "bin_end": 539.0999999999999,
            "bin_start": 359.4,
            "count": 0
           },
           {
            "bin_end": 718.8,
            "bin_start": 539.0999999999999,
            "count": 0
           },
           {
            "bin_end": 898.5,
            "bin_start": 718.8,
            "count": 0
           },
           {
            "bin_end": 1078.1999999999998,
            "bin_start": 898.5,
            "count": 0
           },
           {
            "bin_end": 1257.8999999999999,
            "bin_start": 1078.1999999999998,
            "count": 0
           },
           {
            "bin_end": 1437.6,
            "bin_start": 1257.8999999999999,
            "count": 0
           },
           {
            "bin_end": 1617.3,
            "bin_start": 1437.6,
            "count": 0
           },
           {
            "bin_end": 1797,
            "bin_start": 1617.3,
            "count": 1
           }
          ],
          "max": "1797.0",
          "min": "0.0",
          "nan_count": 0,
          "unique_count": 7
         }
        },
        {
         "dtype": "float64",
         "name": "[7;6]",
         "stats": {
          "histogram": [
           {
            "bin_end": 179.7,
            "bin_start": 0,
            "count": 7
           },
           {
            "bin_end": 359.4,
            "bin_start": 179.7,
            "count": 0
           },
           {
            "bin_end": 539.0999999999999,
            "bin_start": 359.4,
            "count": 0
           },
           {
            "bin_end": 718.8,
            "bin_start": 539.0999999999999,
            "count": 0
           },
           {
            "bin_end": 898.5,
            "bin_start": 718.8,
            "count": 0
           },
           {
            "bin_end": 1078.1999999999998,
            "bin_start": 898.5,
            "count": 0
           },
           {
            "bin_end": 1257.8999999999999,
            "bin_start": 1078.1999999999998,
            "count": 0
           },
           {
            "bin_end": 1437.6,
            "bin_start": 1257.8999999999999,
            "count": 0
           },
           {
            "bin_end": 1617.3,
            "bin_start": 1437.6,
            "count": 0
           },
           {
            "bin_end": 1797,
            "bin_start": 1617.3,
            "count": 1
           }
          ],
          "max": "1797.0",
          "min": "0.0",
          "nan_count": 0,
          "unique_count": 6
         }
        },
        {
         "dtype": "float64",
         "name": "[7;7]",
         "stats": {
          "histogram": [
           {
            "bin_end": 179.7,
            "bin_start": 0,
            "count": 7
           },
           {
            "bin_end": 359.4,
            "bin_start": 179.7,
            "count": 0
           },
           {
            "bin_end": 539.0999999999999,
            "bin_start": 359.4,
            "count": 0
           },
           {
            "bin_end": 718.8,
            "bin_start": 539.0999999999999,
            "count": 0
           },
           {
            "bin_end": 898.5,
            "bin_start": 718.8,
            "count": 0
           },
           {
            "bin_end": 1078.1999999999998,
            "bin_start": 898.5,
            "count": 0
           },
           {
            "bin_end": 1257.8999999999999,
            "bin_start": 1078.1999999999998,
            "count": 0
           },
           {
            "bin_end": 1437.6,
            "bin_start": 1257.8999999999999,
            "count": 0
           },
           {
            "bin_end": 1617.3,
            "bin_start": 1437.6,
            "count": 0
           },
           {
            "bin_end": 1797,
            "bin_start": 1617.3,
            "count": 1
           }
          ],
          "max": "1797.0",
          "min": "0.0",
          "nan_count": 0,
          "unique_count": 5
         }
        },
        {
         "dtype": "float64",
         "name": "classe",
         "stats": {
          "histogram": [
           {
            "bin_end": 179.7,
            "bin_start": 0,
            "count": 7
           },
           {
            "bin_end": 359.4,
            "bin_start": 179.7,
            "count": 0
           },
           {
            "bin_end": 539.0999999999999,
            "bin_start": 359.4,
            "count": 0
           },
           {
            "bin_end": 718.8,
            "bin_start": 539.0999999999999,
            "count": 0
           },
           {
            "bin_end": 898.5,
            "bin_start": 718.8,
            "count": 0
           },
           {
            "bin_end": 1078.1999999999998,
            "bin_start": 898.5,
            "count": 0
           },
           {
            "bin_end": 1257.8999999999999,
            "bin_start": 1078.1999999999998,
            "count": 0
           },
           {
            "bin_end": 1437.6,
            "bin_start": 1257.8999999999999,
            "count": 0
           },
           {
            "bin_end": 1617.3,
            "bin_start": 1437.6,
            "count": 0
           },
           {
            "bin_end": 1797,
            "bin_start": 1617.3,
            "count": 1
           }
          ],
          "max": "1797.0",
          "min": "0.0",
          "nan_count": 0,
          "unique_count": 8
         }
        },
        {
         "dtype": "object",
         "name": "_deepnote_index_column"
        }
       ],
       "row_count": 8,
       "rows": [
        {
         "[0;0]": "1797.0",
         "[0;1]": "1797.0",
         "[0;2]": "1797.0",
         "[0;3]": "1797.0",
         "[0;4]": "1797.0",
         "[0;5]": "1797.0",
         "[0;6]": "1797.0",
         "[0;7]": "1797.0",
         "[1;0]": "1797.0",
         "[1;1]": "1797.0",
         "[1;2]": "1797.0",
         "[1;3]": "1797.0",
         "[1;4]": "1797.0",
         "[1;5]": "1797.0",
         "[1;6]": "1797.0",
         "[1;7]": "1797.0",
         "[2;0]": "1797.0",
         "[2;1]": "1797.0",
         "[2;2]": "1797.0",
         "[2;3]": "1797.0",
         "[2;4]": "1797.0",
         "[2;5]": "1797.0",
         "[2;6]": "1797.0",
         "[2;7]": "1797.0",
         "[3;0]": "1797.0",
         "[3;1]": "1797.0",
         "[3;2]": "1797.0",
         "[3;3]": "1797.0",
         "[3;4]": "1797.0",
         "[3;5]": "1797.0",
         "[3;6]": "1797.0",
         "[3;7]": "1797.0",
         "[4;0]": "1797.0",
         "[4;1]": "1797.0",
         "[4;2]": "1797.0",
         "[4;3]": "1797.0",
         "[4;4]": "1797.0",
         "[4;5]": "1797.0",
         "[4;6]": "1797.0",
         "[4;7]": "1797.0",
         "[5;0]": "1797.0",
         "[5;1]": "1797.0",
         "[5;2]": "1797.0",
         "[5;3]": "1797.0",
         "[5;4]": "1797.0",
         "[5;5]": "1797.0",
         "[5;6]": "1797.0",
         "[5;7]": "1797.0",
         "[6;0]": "1797.0",
         "[6;1]": "1797.0",
         "[6;2]": "1797.0",
         "[6;3]": "1797.0",
         "[6;4]": "1797.0",
         "[6;5]": "1797.0",
         "[6;6]": "1797.0",
         "[6;7]": "1797.0",
         "[7;0]": "1797.0",
         "[7;1]": "1797.0",
         "[7;2]": "1797.0",
         "[7;3]": "1797.0",
         "[7;4]": "1797.0",
         "[7;5]": "1797.0",
         "[7;6]": "1797.0",
         "[7;7]": "1797.0",
         "_deepnote_index_column": "count",
         "classe": "1797.0"
        },
        {
         "[0;0]": "0.0",
         "[0;1]": "0.3038397328881469",
         "[0;2]": "5.204785754034502",
         "[0;3]": "11.835837506956038",
         "[0;4]": "11.848080133555927",
         "[0;5]": "5.781858653311074",
         "[0;6]": "1.3622704507512522",
         "[0;7]": "0.1296605453533667",
         "[1;0]": "0.005564830272676683",
         "[1;1]": "1.9938786867000557",
         "[1;2]": "10.382303839732888",
         "[1;3]": "11.979410127991097",
         "[1;4]": "10.279354479688369",
         "[1;5]": "8.175848636616584",
         "[1;6]": "1.8464106844741235",
         "[1;7]": "0.10795770728992765",
         "[2;0]": "0.0027824151363383415",
         "[2;1]": "2.6015581524763496",
         "[2;2]": "9.903171953255425",
         "[2;3]": "6.9927657206455205",
         "[2;4]": "7.09794101279911",
         "[2;5]": "7.806343906510851",
         "[2;6]": "1.788536449638286",
         "[2;7]": "0.05008347245409015",
         "[3;0]": "0.0011129660545353367",
         "[3;1]": "2.4696716750139123",
         "[3;2]": "9.091263216471898",
         "[3;3]": "8.821368948247079",
         "[3;4]": "9.927100723427936",
         "[3;5]": "7.55147468002226",
         "[3;6]": "2.3177518085698385",
         "[3;7]": "0.0022259321090706734",
         "[4;0]": "0.0",
         "[4;1]": "2.3394546466332775",
         "[4;2]": "7.6672231496939345",
         "[4;3]": "9.07178631051753",
         "[4;4]": "10.301613800779077",
         "[4;5]": "8.744017807456872",
         "[4;6]": "2.90929326655537",
         "[4;7]": "0.0",
         "[5;0]": "0.008903728436282694",
         "[5;1]": "1.5837506956037841",
         "[5;2]": "6.881469115191987",
         "[5;3]": "7.228158041179744",
         "[5;4]": "7.672231496939343",
         "[5;5]": "8.23650528658876",
         "[5;6]": "3.456316082359488",
         "[5;7]": "0.027267668336115748",
         "[6;0]": "0.007234279354479688",
         "[6;1]": "0.7045075125208681",
         "[6;2]": "7.506956037840846",
         "[6;3]": "9.53923205342237",
         "[6;4]": "9.416249304396215",
         "[6;5]": "8.758486366165831",
         "[6;6]": "3.725097384529772",
         "[6;7]": "0.20645520311630494",
         "[7;0]": "0.0005564830272676684",
         "[7;1]": "0.2793544796883695",
         "[7;2]": "5.557595993322204",
         "[7;3]": "12.089037284362828",
         "[7;4]": "11.80912632164719",
         "[7;5]": "6.764051196438508",
         "[7;6]": "2.0678909293266554",
         "[7;7]": "0.36449638286032277",
         "_deepnote_index_column": "mean",
         "classe": "4.490818030050083"
        },
        {
         "[0;0]": "0.0",
         "[0;1]": "0.9071920952507534",
         "[0;2]": "4.754826339660731",
         "[0;3]": "4.248841848260807",
         "[0;4]": "4.28738800696946",
         "[0;5]": "5.666417727450907",
         "[0;6]": "3.3257751860710005",
         "[0;7]": "1.0373828570282286",
         "[1;0]": "0.09422155480814322",
         "[1;1]": "3.1961604075094567",
         "[1;2]": "5.421455625901692",
         "[1;3]": "3.977542621880106",
         "[1;4]": "4.782680570148732",
         "[1;5]": "6.052960025710127",
         "[1;6]": "3.5863209359653294",
         "[1;7]": "0.8279150446454017",
         "[2;0]": "0.062368292960202604",
         "[2;1]": "3.576301267463955",
         "[2;2]": "5.690766948591139",
         "[2;3]": "5.802661720976788",
         "[2;4]": "6.17572851629557",
         "[2;5]": "6.197321772259614",
         "[2;6]": "3.259869701959605",
         "[2;7]": "0.43859748599498405",
         "[3;0]": "0.03335185696431645",
         "[3;1]": "3.1465324629263858",
         "[3;2]": "6.19203781578259",
         "[3;3]": "5.8829364927303525",
         "[3;4]": "6.152092831784637",
         "[3;5]": "5.872555577910245",
         "[3;6]": "3.686455957466465",
         "[3;7]": "0.04714036444139983",
         "[4;0]": "0.0",
         "[4;1]": "3.480372316561777",
         "[4;2]": "6.324687349487986",
         "[4;3]": "6.268391184618127",
         "[4;4]": "5.933490191906331",
         "[4;5]": "5.8706476173710325",
         "[4;6]": "3.5372827203489945",
         "[4;7]": "0.0",
         "[5;0]": "0.14518542852282407",
         "[5;1]": "2.981816228071556",
         "[5;2]": "6.537954671960845",
         "[5;3]": "6.441377552036687",
         "[5;4]": "6.259511441960655",
         "[5;5]": "5.695526575259536",
         "[5;6]": "4.330951227733621",
         "[5;7]": "0.30735588747482956",
         "[6;0]": "0.20422316602535767",
         "[6;1]": "1.7461528647057638",
         "[6;2]": "5.644496060205793",
         "[6;3]": "5.226947700207952",
         "[6;4]": "5.302048471649346",
         "[6;5]": "6.031154412119314",
         "[6;6]": "4.919406035223906",
         "[6;7]": "0.9844009177360414",
         "[7;0]": "0.023589892481053584",
         "[7;1]": "0.9343017983136351",
         "[7;2]": "5.10301936991174",
         "[7;3]": "4.374694009948624",
         "[7;4]": "4.933947353357587",
         "[7;5]": "5.900622711999103",
         "[7;6]": "4.090547887420139",
         "[7;7]": "1.8601217224980682",
         "_deepnote_index_column": "std",
         "classe": "2.8653037807262254"
        },
        {
         "[0;0]": "0.0",
         "[0;1]": "0.0",
         "[0;2]": "0.0",
         "[0;3]": "0.0",
         "[0;4]": "0.0",
         "[0;5]": "0.0",
         "[0;6]": "0.0",
         "[0;7]": "0.0",
         "[1;0]": "0.0",
         "[1;1]": "0.0",
         "[1;2]": "0.0",
         "[1;3]": "0.0",
         "[1;4]": "0.0",
         "[1;5]": "0.0",
         "[1;6]": "0.0",
         "[1;7]": "0.0",
         "[2;0]": "0.0",
         "[2;1]": "0.0",
         "[2;2]": "0.0",
         "[2;3]": "0.0",
         "[2;4]": "0.0",
         "[2;5]": "0.0",
         "[2;6]": "0.0",
         "[2;7]": "0.0",
         "[3;0]": "0.0",
         "[3;1]": "0.0",
         "[3;2]": "0.0",
         "[3;3]": "0.0",
         "[3;4]": "0.0",
         "[3;5]": "0.0",
         "[3;6]": "0.0",
         "[3;7]": "0.0",
         "[4;0]": "0.0",
         "[4;1]": "0.0",
         "[4;2]": "0.0",
         "[4;3]": "0.0",
         "[4;4]": "0.0",
         "[4;5]": "0.0",
         "[4;6]": "0.0",
         "[4;7]": "0.0",
         "[5;0]": "0.0",
         "[5;1]": "0.0",
         "[5;2]": "0.0",
         "[5;3]": "0.0",
         "[5;4]": "0.0",
         "[5;5]": "0.0",
         "[5;6]": "0.0",
         "[5;7]": "0.0",
         "[6;0]": "0.0",
         "[6;1]": "0.0",
         "[6;2]": "0.0",
         "[6;3]": "0.0",
         "[6;4]": "0.0",
         "[6;5]": "0.0",
         "[6;6]": "0.0",
         "[6;7]": "0.0",
         "[7;0]": "0.0",
         "[7;1]": "0.0",
         "[7;2]": "0.0",
         "[7;3]": "0.0",
         "[7;4]": "0.0",
         "[7;5]": "0.0",
         "[7;6]": "0.0",
         "[7;7]": "0.0",
         "_deepnote_index_column": "min",
         "classe": "0.0"
        },
        {
         "[0;0]": "0.0",
         "[0;1]": "0.0",
         "[0;2]": "1.0",
         "[0;3]": "10.0",
         "[0;4]": "10.0",
         "[0;5]": "0.0",
         "[0;6]": "0.0",
         "[0;7]": "0.0",
         "[1;0]": "0.0",
         "[1;1]": "0.0",
         "[1;2]": "6.0",
         "[1;3]": "9.0",
         "[1;4]": "7.0",
         "[1;5]": "2.0",
         "[1;6]": "0.0",
         "[1;7]": "0.0",
         "[2;0]": "0.0",
         "[2;1]": "0.0",
         "[2;2]": "5.0",
         "[2;3]": "1.0",
         "[2;4]": "1.0",
         "[2;5]": "0.0",
         "[2;6]": "0.0",
         "[2;7]": "0.0",
         "[3;0]": "0.0",
         "[3;1]": "0.0",
         "[3;2]": "3.0",
         "[3;3]": "3.0",
         "[3;4]": "4.0",
         "[3;5]": "1.0",
         "[3;6]": "0.0",
         "[3;7]": "0.0",
         "[4;0]": "0.0",
         "[4;1]": "0.0",
         "[4;2]": "0.0",
         "[4;3]": "3.0",
         "[4;4]": "6.0",
         "[4;5]": "3.0",
         "[4;6]": "0.0",
         "[4;7]": "0.0",
         "[5;0]": "0.0",
         "[5;1]": "0.0",
         "[5;2]": "0.0",
         "[5;3]": "0.0",
         "[5;4]": "1.0",
         "[5;5]": "3.0",
         "[5;6]": "0.0",
         "[5;7]": "0.0",
         "[6;0]": "0.0",
         "[6;1]": "0.0",
         "[6;2]": "2.0",
         "[6;3]": "5.0",
         "[6;4]": "5.0",
         "[6;5]": "2.0",
         "[6;6]": "0.0",
         "[6;7]": "0.0",
         "[7;0]": "0.0",
         "[7;1]": "0.0",
         "[7;2]": "1.0",
         "[7;3]": "11.0",
         "[7;4]": "10.0",
         "[7;5]": "0.0",
         "[7;6]": "0.0",
         "[7;7]": "0.0",
         "_deepnote_index_column": "25%",
         "classe": "2.0"
        },
        {
         "[0;0]": "0.0",
         "[0;1]": "0.0",
         "[0;2]": "4.0",
         "[0;3]": "13.0",
         "[0;4]": "13.0",
         "[0;5]": "4.0",
         "[0;6]": "0.0",
         "[0;7]": "0.0",
         "[1;0]": "0.0",
         "[1;1]": "0.0",
         "[1;2]": "12.0",
         "[1;3]": "13.0",
         "[1;4]": "11.0",
         "[1;5]": "9.0",
         "[1;6]": "0.0",
         "[1;7]": "0.0",
         "[2;0]": "0.0",
         "[2;1]": "1.0",
         "[2;2]": "12.0",
         "[2;3]": "6.0",
         "[2;4]": "6.0",
         "[2;5]": "8.0",
         "[2;6]": "0.0",
         "[2;7]": "0.0",
         "[3;0]": "0.0",
         "[3;1]": "1.0",
         "[3;2]": "11.0",
         "[3;3]": "10.0",
         "[3;4]": "12.0",
         "[3;5]": "7.0",
         "[3;6]": "0.0",
         "[3;7]": "0.0",
         "[4;0]": "0.0",
         "[4;1]": "0.0",
         "[4;2]": "8.0",
         "[4;3]": "10.0",
         "[4;4]": "13.0",
         "[4;5]": "10.0",
         "[4;6]": "1.0",
         "[4;7]": "0.0",
         "[5;0]": "0.0",
         "[5;1]": "0.0",
         "[5;2]": "6.0",
         "[5;3]": "7.0",
         "[5;4]": "8.0",
         "[5;5]": "9.0",
         "[5;6]": "1.0",
         "[5;7]": "0.0",
         "[6;0]": "0.0",
         "[6;1]": "0.0",
         "[6;2]": "8.0",
         "[6;3]": "10.0",
         "[6;4]": "10.0",
         "[6;5]": "10.0",
         "[6;6]": "1.0",
         "[6;7]": "0.0",
         "[7;0]": "0.0",
         "[7;1]": "0.0",
         "[7;2]": "4.0",
         "[7;3]": "13.0",
         "[7;4]": "14.0",
         "[7;5]": "6.0",
         "[7;6]": "0.0",
         "[7;7]": "0.0",
         "_deepnote_index_column": "50%",
         "classe": "4.0"
        },
        {
         "[0;0]": "0.0",
         "[0;1]": "0.0",
         "[0;2]": "9.0",
         "[0;3]": "15.0",
         "[0;4]": "15.0",
         "[0;5]": "11.0",
         "[0;6]": "0.0",
         "[0;7]": "0.0",
         "[1;0]": "0.0",
         "[1;1]": "3.0",
         "[1;2]": "15.0",
         "[1;3]": "16.0",
         "[1;4]": "15.0",
         "[1;5]": "14.0",
         "[1;6]": "2.0",
         "[1;7]": "0.0",
         "[2;0]": "0.0",
         "[2;1]": "4.0",
         "[2;2]": "15.0",
         "[2;3]": "12.0",
         "[2;4]": "13.0",
         "[2;5]": "14.0",
         "[2;6]": "3.0",
         "[2;7]": "0.0",
         "[3;0]": "0.0",
         "[3;1]": "4.0",
         "[3;2]": "15.0",
         "[3;3]": "15.0",
         "[3;4]": "16.0",
         "[3;5]": "13.0",
         "[3;6]": "4.0",
         "[3;7]": "0.0",
         "[4;0]": "0.0",
         "[4;1]": "4.0",
         "[4;2]": "14.0",
         "[4;3]": "16.0",
         "[4;4]": "16.0",
         "[4;5]": "14.0",
         "[4;6]": "6.0",
         "[4;7]": "0.0",
         "[5;0]": "0.0",
         "[5;1]": "2.0",
         "[5;2]": "14.0",
         "[5;3]": "14.0",
         "[5;4]": "14.0",
         "[5;5]": "13.0",
         "[5;6]": "7.0",
         "[5;7]": "0.0",
         "[6;0]": "0.0",
         "[6;1]": "0.0",
         "[6;2]": "13.0",
         "[6;3]": "14.0",
         "[6;4]": "15.0",
         "[6;5]": "15.0",
         "[6;6]": "7.0",
         "[6;7]": "0.0",
         "[7;0]": "0.0",
         "[7;1]": "0.0",
         "[7;2]": "10.0",
         "[7;3]": "16.0",
         "[7;4]": "16.0",
         "[7;5]": "12.0",
         "[7;6]": "2.0",
         "[7;7]": "0.0",
         "_deepnote_index_column": "75%",
         "classe": "7.0"
        },
        {
         "[0;0]": "0.0",
         "[0;1]": "8.0",
         "[0;2]": "16.0",
         "[0;3]": "16.0",
         "[0;4]": "16.0",
         "[0;5]": "16.0",
         "[0;6]": "16.0",
         "[0;7]": "15.0",
         "[1;0]": "2.0",
         "[1;1]": "16.0",
         "[1;2]": "16.0",
         "[1;3]": "16.0",
         "[1;4]": "16.0",
         "[1;5]": "16.0",
         "[1;6]": "16.0",
         "[1;7]": "12.0",
         "[2;0]": "2.0",
         "[2;1]": "16.0",
         "[2;2]": "16.0",
         "[2;3]": "16.0",
         "[2;4]": "16.0",
         "[2;5]": "16.0",
         "[2;6]": "16.0",
         "[2;7]": "8.0",
         "[3;0]": "1.0",
         "[3;1]": "15.0",
         "[3;2]": "16.0",
         "[3;3]": "16.0",
         "[3;4]": "16.0",
         "[3;5]": "16.0",
         "[3;6]": "15.0",
         "[3;7]": "1.0",
         "[4;0]": "0.0",
         "[4;1]": "14.0",
         "[4;2]": "16.0",
         "[4;3]": "16.0",
         "[4;4]": "16.0",
         "[4;5]": "16.0",
         "[4;6]": "14.0",
         "[4;7]": "0.0",
         "[5;0]": "4.0",
         "[5;1]": "16.0",
         "[5;2]": "16.0",
         "[5;3]": "16.0",
         "[5;4]": "16.0",
         "[5;5]": "16.0",
         "[5;6]": "16.0",
         "[5;7]": "6.0",
         "[6;0]": "8.0",
         "[6;1]": "16.0",
         "[6;2]": "16.0",
         "[6;3]": "16.0",
         "[6;4]": "16.0",
         "[6;5]": "16.0",
         "[6;6]": "16.0",
         "[6;7]": "13.0",
         "[7;0]": "1.0",
         "[7;1]": "9.0",
         "[7;2]": "16.0",
         "[7;3]": "16.0",
         "[7;4]": "16.0",
         "[7;5]": "16.0",
         "[7;6]": "16.0",
         "[7;7]": "16.0",
         "_deepnote_index_column": "max",
         "classe": "9.0"
        }
       ]
      },
      "text/html": [
       "<div>\n",
       "<style scoped>\n",
       "    .dataframe tbody tr th:only-of-type {\n",
       "        vertical-align: middle;\n",
       "    }\n",
       "\n",
       "    .dataframe tbody tr th {\n",
       "        vertical-align: top;\n",
       "    }\n",
       "\n",
       "    .dataframe thead th {\n",
       "        text-align: right;\n",
       "    }\n",
       "</style>\n",
       "<table border=\"1\" class=\"dataframe\">\n",
       "  <thead>\n",
       "    <tr style=\"text-align: right;\">\n",
       "      <th></th>\n",
       "      <th>[0;0]</th>\n",
       "      <th>[0;1]</th>\n",
       "      <th>[0;2]</th>\n",
       "      <th>[0;3]</th>\n",
       "      <th>[0;4]</th>\n",
       "      <th>[0;5]</th>\n",
       "      <th>[0;6]</th>\n",
       "      <th>[0;7]</th>\n",
       "      <th>[1;0]</th>\n",
       "      <th>[1;1]</th>\n",
       "      <th>...</th>\n",
       "      <th>[6;7]</th>\n",
       "      <th>[7;0]</th>\n",
       "      <th>[7;1]</th>\n",
       "      <th>[7;2]</th>\n",
       "      <th>[7;3]</th>\n",
       "      <th>[7;4]</th>\n",
       "      <th>[7;5]</th>\n",
       "      <th>[7;6]</th>\n",
       "      <th>[7;7]</th>\n",
       "      <th>classe</th>\n",
       "    </tr>\n",
       "  </thead>\n",
       "  <tbody>\n",
       "    <tr>\n",
       "      <th>count</th>\n",
       "      <td>1797.0</td>\n",
       "      <td>1797.000000</td>\n",
       "      <td>1797.000000</td>\n",
       "      <td>1797.000000</td>\n",
       "      <td>1797.000000</td>\n",
       "      <td>1797.000000</td>\n",
       "      <td>1797.000000</td>\n",
       "      <td>1797.000000</td>\n",
       "      <td>1797.000000</td>\n",
       "      <td>1797.000000</td>\n",
       "      <td>...</td>\n",
       "      <td>1797.000000</td>\n",
       "      <td>1797.000000</td>\n",
       "      <td>1797.000000</td>\n",
       "      <td>1797.000000</td>\n",
       "      <td>1797.000000</td>\n",
       "      <td>1797.000000</td>\n",
       "      <td>1797.000000</td>\n",
       "      <td>1797.000000</td>\n",
       "      <td>1797.000000</td>\n",
       "      <td>1797.000000</td>\n",
       "    </tr>\n",
       "    <tr>\n",
       "      <th>mean</th>\n",
       "      <td>0.0</td>\n",
       "      <td>0.303840</td>\n",
       "      <td>5.204786</td>\n",
       "      <td>11.835838</td>\n",
       "      <td>11.848080</td>\n",
       "      <td>5.781859</td>\n",
       "      <td>1.362270</td>\n",
       "      <td>0.129661</td>\n",
       "      <td>0.005565</td>\n",
       "      <td>1.993879</td>\n",
       "      <td>...</td>\n",
       "      <td>0.206455</td>\n",
       "      <td>0.000556</td>\n",
       "      <td>0.279354</td>\n",
       "      <td>5.557596</td>\n",
       "      <td>12.089037</td>\n",
       "      <td>11.809126</td>\n",
       "      <td>6.764051</td>\n",
       "      <td>2.067891</td>\n",
       "      <td>0.364496</td>\n",
       "      <td>4.490818</td>\n",
       "    </tr>\n",
       "    <tr>\n",
       "      <th>std</th>\n",
       "      <td>0.0</td>\n",
       "      <td>0.907192</td>\n",
       "      <td>4.754826</td>\n",
       "      <td>4.248842</td>\n",
       "      <td>4.287388</td>\n",
       "      <td>5.666418</td>\n",
       "      <td>3.325775</td>\n",
       "      <td>1.037383</td>\n",
       "      <td>0.094222</td>\n",
       "      <td>3.196160</td>\n",
       "      <td>...</td>\n",
       "      <td>0.984401</td>\n",
       "      <td>0.023590</td>\n",
       "      <td>0.934302</td>\n",
       "      <td>5.103019</td>\n",
       "      <td>4.374694</td>\n",
       "      <td>4.933947</td>\n",
       "      <td>5.900623</td>\n",
       "      <td>4.090548</td>\n",
       "      <td>1.860122</td>\n",
       "      <td>2.865304</td>\n",
       "    </tr>\n",
       "    <tr>\n",
       "      <th>min</th>\n",
       "      <td>0.0</td>\n",
       "      <td>0.000000</td>\n",
       "      <td>0.000000</td>\n",
       "      <td>0.000000</td>\n",
       "      <td>0.000000</td>\n",
       "      <td>0.000000</td>\n",
       "      <td>0.000000</td>\n",
       "      <td>0.000000</td>\n",
       "      <td>0.000000</td>\n",
       "      <td>0.000000</td>\n",
       "      <td>...</td>\n",
       "      <td>0.000000</td>\n",
       "      <td>0.000000</td>\n",
       "      <td>0.000000</td>\n",
       "      <td>0.000000</td>\n",
       "      <td>0.000000</td>\n",
       "      <td>0.000000</td>\n",
       "      <td>0.000000</td>\n",
       "      <td>0.000000</td>\n",
       "      <td>0.000000</td>\n",
       "      <td>0.000000</td>\n",
       "    </tr>\n",
       "    <tr>\n",
       "      <th>25%</th>\n",
       "      <td>0.0</td>\n",
       "      <td>0.000000</td>\n",
       "      <td>1.000000</td>\n",
       "      <td>10.000000</td>\n",
       "      <td>10.000000</td>\n",
       "      <td>0.000000</td>\n",
       "      <td>0.000000</td>\n",
       "      <td>0.000000</td>\n",
       "      <td>0.000000</td>\n",
       "      <td>0.000000</td>\n",
       "      <td>...</td>\n",
       "      <td>0.000000</td>\n",
       "      <td>0.000000</td>\n",
       "      <td>0.000000</td>\n",
       "      <td>1.000000</td>\n",
       "      <td>11.000000</td>\n",
       "      <td>10.000000</td>\n",
       "      <td>0.000000</td>\n",
       "      <td>0.000000</td>\n",
       "      <td>0.000000</td>\n",
       "      <td>2.000000</td>\n",
       "    </tr>\n",
       "    <tr>\n",
       "      <th>50%</th>\n",
       "      <td>0.0</td>\n",
       "      <td>0.000000</td>\n",
       "      <td>4.000000</td>\n",
       "      <td>13.000000</td>\n",
       "      <td>13.000000</td>\n",
       "      <td>4.000000</td>\n",
       "      <td>0.000000</td>\n",
       "      <td>0.000000</td>\n",
       "      <td>0.000000</td>\n",
       "      <td>0.000000</td>\n",
       "      <td>...</td>\n",
       "      <td>0.000000</td>\n",
       "      <td>0.000000</td>\n",
       "      <td>0.000000</td>\n",
       "      <td>4.000000</td>\n",
       "      <td>13.000000</td>\n",
       "      <td>14.000000</td>\n",
       "      <td>6.000000</td>\n",
       "      <td>0.000000</td>\n",
       "      <td>0.000000</td>\n",
       "      <td>4.000000</td>\n",
       "    </tr>\n",
       "    <tr>\n",
       "      <th>75%</th>\n",
       "      <td>0.0</td>\n",
       "      <td>0.000000</td>\n",
       "      <td>9.000000</td>\n",
       "      <td>15.000000</td>\n",
       "      <td>15.000000</td>\n",
       "      <td>11.000000</td>\n",
       "      <td>0.000000</td>\n",
       "      <td>0.000000</td>\n",
       "      <td>0.000000</td>\n",
       "      <td>3.000000</td>\n",
       "      <td>...</td>\n",
       "      <td>0.000000</td>\n",
       "      <td>0.000000</td>\n",
       "      <td>0.000000</td>\n",
       "      <td>10.000000</td>\n",
       "      <td>16.000000</td>\n",
       "      <td>16.000000</td>\n",
       "      <td>12.000000</td>\n",
       "      <td>2.000000</td>\n",
       "      <td>0.000000</td>\n",
       "      <td>7.000000</td>\n",
       "    </tr>\n",
       "    <tr>\n",
       "      <th>max</th>\n",
       "      <td>0.0</td>\n",
       "      <td>8.000000</td>\n",
       "      <td>16.000000</td>\n",
       "      <td>16.000000</td>\n",
       "      <td>16.000000</td>\n",
       "      <td>16.000000</td>\n",
       "      <td>16.000000</td>\n",
       "      <td>15.000000</td>\n",
       "      <td>2.000000</td>\n",
       "      <td>16.000000</td>\n",
       "      <td>...</td>\n",
       "      <td>13.000000</td>\n",
       "      <td>1.000000</td>\n",
       "      <td>9.000000</td>\n",
       "      <td>16.000000</td>\n",
       "      <td>16.000000</td>\n",
       "      <td>16.000000</td>\n",
       "      <td>16.000000</td>\n",
       "      <td>16.000000</td>\n",
       "      <td>16.000000</td>\n",
       "      <td>9.000000</td>\n",
       "    </tr>\n",
       "  </tbody>\n",
       "</table>\n",
       "<p>8 rows × 65 columns</p>\n",
       "</div>"
      ],
      "text/plain": [
       "        [0;0]        [0;1]        [0;2]        [0;3]        [0;4]  \\\n",
       "count  1797.0  1797.000000  1797.000000  1797.000000  1797.000000   \n",
       "mean      0.0     0.303840     5.204786    11.835838    11.848080   \n",
       "std       0.0     0.907192     4.754826     4.248842     4.287388   \n",
       "min       0.0     0.000000     0.000000     0.000000     0.000000   \n",
       "25%       0.0     0.000000     1.000000    10.000000    10.000000   \n",
       "50%       0.0     0.000000     4.000000    13.000000    13.000000   \n",
       "75%       0.0     0.000000     9.000000    15.000000    15.000000   \n",
       "max       0.0     8.000000    16.000000    16.000000    16.000000   \n",
       "\n",
       "             [0;5]        [0;6]        [0;7]        [1;0]        [1;1]  ...  \\\n",
       "count  1797.000000  1797.000000  1797.000000  1797.000000  1797.000000  ...   \n",
       "mean      5.781859     1.362270     0.129661     0.005565     1.993879  ...   \n",
       "std       5.666418     3.325775     1.037383     0.094222     3.196160  ...   \n",
       "min       0.000000     0.000000     0.000000     0.000000     0.000000  ...   \n",
       "25%       0.000000     0.000000     0.000000     0.000000     0.000000  ...   \n",
       "50%       4.000000     0.000000     0.000000     0.000000     0.000000  ...   \n",
       "75%      11.000000     0.000000     0.000000     0.000000     3.000000  ...   \n",
       "max      16.000000    16.000000    15.000000     2.000000    16.000000  ...   \n",
       "\n",
       "             [6;7]        [7;0]        [7;1]        [7;2]        [7;3]  \\\n",
       "count  1797.000000  1797.000000  1797.000000  1797.000000  1797.000000   \n",
       "mean      0.206455     0.000556     0.279354     5.557596    12.089037   \n",
       "std       0.984401     0.023590     0.934302     5.103019     4.374694   \n",
       "min       0.000000     0.000000     0.000000     0.000000     0.000000   \n",
       "25%       0.000000     0.000000     0.000000     1.000000    11.000000   \n",
       "50%       0.000000     0.000000     0.000000     4.000000    13.000000   \n",
       "75%       0.000000     0.000000     0.000000    10.000000    16.000000   \n",
       "max      13.000000     1.000000     9.000000    16.000000    16.000000   \n",
       "\n",
       "             [7;4]        [7;5]        [7;6]        [7;7]       classe  \n",
       "count  1797.000000  1797.000000  1797.000000  1797.000000  1797.000000  \n",
       "mean     11.809126     6.764051     2.067891     0.364496     4.490818  \n",
       "std       4.933947     5.900623     4.090548     1.860122     2.865304  \n",
       "min       0.000000     0.000000     0.000000     0.000000     0.000000  \n",
       "25%      10.000000     0.000000     0.000000     0.000000     2.000000  \n",
       "50%      14.000000     6.000000     0.000000     0.000000     4.000000  \n",
       "75%      16.000000    12.000000     2.000000     0.000000     7.000000  \n",
       "max      16.000000    16.000000    16.000000    16.000000     9.000000  \n",
       "\n",
       "[8 rows x 65 columns]"
      ]
     },
     "execution_count": 7,
     "metadata": {},
     "output_type": "execute_result"
    }
   ],
   "source": [
    "# 2) Affichez le descriptif des données (méthode describe).\n",
    "\n",
    "# On doit voir apparaître un certain nombre de statistiques descriptives pour les différentes variables\n",
    "# (moyenne, médiane, nombre de données manquantes, etc.)\n",
    "\n",
    "train_data.describe()"
   ]
  },
  {
   "cell_type": "markdown",
   "metadata": {
    "cell_id": "7a2ea4c92cd44512af4e0420c9ef77b0",
    "deepnote_cell_type": "markdown",
    "tags": []
   },
   "source": [
    "# Pré-traitement et visualisation"
   ]
  },
  {
   "cell_type": "code",
   "execution_count": 8,
   "metadata": {
    "cell_id": "52ff48cfb8bf41038d32752109d12def",
    "deepnote_cell_type": "code",
    "deepnote_to_be_reexecuted": false,
    "execution_millis": 24,
    "execution_start": 1681044339063,
    "source_hash": "35f4e648",
    "tags": []
   },
   "outputs": [
    {
     "data": {
      "text/plain": [
       "Index(['[0;0]', '[0;1]', '[0;2]', '[0;3]', '[0;4]', '[0;5]', '[0;6]', '[0;7]',\n",
       "       '[1;0]', '[1;1]', '[1;2]', '[1;3]', '[1;4]', '[1;5]', '[1;6]', '[1;7]',\n",
       "       '[2;0]', '[2;1]', '[2;2]', '[2;3]', '[2;4]', '[2;5]', '[2;6]', '[2;7]',\n",
       "       '[3;0]', '[3;1]', '[3;2]', '[3;3]', '[3;4]', '[3;5]', '[3;6]', '[3;7]',\n",
       "       '[4;0]', '[4;1]', '[4;2]', '[4;3]', '[4;4]', '[4;5]', '[4;6]', '[4;7]',\n",
       "       '[5;0]', '[5;1]', '[5;2]', '[5;3]', '[5;4]', '[5;5]', '[5;6]', '[5;7]',\n",
       "       '[6;0]', '[6;1]', '[6;2]', '[6;3]', '[6;4]', '[6;5]', '[6;6]', '[6;7]',\n",
       "       '[7;0]', '[7;1]', '[7;2]', '[7;3]', '[7;4]', '[7;5]', '[7;6]', '[7;7]'],\n",
       "      dtype='object')"
      ]
     },
     "execution_count": 8,
     "metadata": {},
     "output_type": "execute_result"
    }
   ],
   "source": [
    "# 3) Affichez la liste des noms des caractéristiques \n",
    "# (sans la colonne \"Outcome\" qui correspond à la classe entre 0 et 9). \n",
    "# Assignez cette liste à une variable nommée 'features'.\n",
    "\n",
    "features = train_data.columns[:-1]\n",
    "\n",
    "features"
   ]
  },
  {
   "cell_type": "code",
   "execution_count": 5,
   "metadata": {
    "cell_id": "ed7912f608bc4b31b6a9cd605b4dfde9",
    "deepnote_cell_type": "code",
    "deepnote_to_be_reexecuted": false,
    "execution_millis": 5,
    "execution_start": 1680596293914,
    "source_hash": "2de152a9",
    "tags": []
   },
   "outputs": [],
   "source": [
    "# En fonction des données utilisées il peut être utile de vérifier si des données sont absentes \n",
    "# et d'effectuer un traitement pour les remplacer par une valeur chiffrée\n",
    "\n",
    "# Il peut être intéressant de faire une normalisation des données si celles-ci ne sont pas sur la \n",
    "# même échelle\n",
    "\n",
    "# Dans notre cas toutes les données sont présentes et se trouve sur l'intervalle [0;16]\n",
    "# il n'y a pas de traitement préalable à faire"
   ]
  },
  {
   "cell_type": "markdown",
   "metadata": {
    "cell_id": "6ea8441c209f467ab27b65cca0c68357",
    "deepnote_cell_type": "markdown",
    "tags": []
   },
   "source": [
    "## Visualisation avec TSNE"
   ]
  },
  {
   "cell_type": "code",
   "execution_count": 10,
   "metadata": {
    "cell_id": "d3866694f21742f3bc45a363278459cc",
    "deepnote_cell_type": "code",
    "deepnote_to_be_reexecuted": false,
    "execution_millis": 13133,
    "execution_start": 1681044366172,
    "source_hash": "4edd34a8",
    "tags": []
   },
   "outputs": [
    {
     "name": "stderr",
     "output_type": "stream",
     "text": [
      "/shared-libs/python3.7/py/lib/python3.7/site-packages/sklearn/manifold/_t_sne.py:783: FutureWarning: The default initialization in TSNE will change from 'random' to 'pca' in 1.2.\n",
      "  FutureWarning,\n",
      "/shared-libs/python3.7/py/lib/python3.7/site-packages/sklearn/manifold/_t_sne.py:793: FutureWarning: The default learning rate in TSNE will change from 200.0 to 'auto' in 1.2.\n",
      "  FutureWarning,\n",
      "(1797, 2)\n"
     ]
    }
   ],
   "source": [
    "# 6) Lancer ce bloc de calcul qui permet d'appliquer la méthode TSNE. \n",
    "\n",
    "# La méthode TSNE permet de projeter les données dans un nouvel espace de dimension plus réduite (ici en dimension 2), \n",
    "# de telle sorte que les données proches dans l'espace d'origine aient une probabilité élevée d'être proche dans le nouvel espace. \n",
    "# Pour plus de détails sur cette méthode, voir https://dataanalyticspost.com/Lexique/t-sne/\n",
    "\n",
    "tsne = TSNE(n_components=2)\n",
    "X_embedded = tsne.fit_transform(train_data[features].values)\n",
    "print(X_embedded.shape)"
   ]
  },
  {
   "cell_type": "code",
   "execution_count": 11,
   "metadata": {
    "cell_id": "8096266b5cab44ab851ea1023f402262",
    "deepnote_cell_type": "code",
    "deepnote_to_be_reexecuted": false,
    "execution_millis": 2490,
    "execution_start": 1681044383281,
    "source_hash": "8f355ffa",
    "tags": []
   },
   "outputs": [
    {
     "data": {
      "text/html": [
       "<html>\n",
       "<head><meta charset=\"utf-8\" /></head>\n",
       "<body>\n",
       "    <div>            <script src=\"https://cdnjs.cloudflare.com/ajax/libs/mathjax/2.7.5/MathJax.js?config=TeX-AMS-MML_SVG\"></script><script type=\"text/javascript\">if (window.MathJax && window.MathJax.Hub && window.MathJax.Hub.Config) {window.MathJax.Hub.Config({SVG: {font: \"STIX-Web\"}});}</script>                <script type=\"text/javascript\">window.PlotlyConfig = {MathJaxConfig: 'local'};</script>\n",
       "        <script src=\"https://cdn.plot.ly/plotly-2.14.0.min.js\"></script>                <div id=\"bebd5a54-bde8-4831-bde7-7df1ffbf0250\" class=\"plotly-graph-div\" style=\"height:525px; width:100%;\"></div>            <script type=\"text/javascript\">                                    window.PLOTLYENV=window.PLOTLYENV || {};                                    if (document.getElementById(\"bebd5a54-bde8-4831-bde7-7df1ffbf0250\")) {                    Plotly.newPlot(                        \"bebd5a54-bde8-4831-bde7-7df1ffbf0250\",                        [{\"hovertemplate\":\"0=%{x}<br>1=%{y}<br>color=%{marker.color}<extra></extra>\",\"legendgroup\":\"\",\"marker\":{\"color\":[0,1,2,3,4,5,6,7,8,9,0,1,2,3,4,5,6,7,8,9,0,1,2,3,4,5,6,7,8,9,0,9,5,5,6,5,0,9,8,9,8,4,1,7,7,3,5,1,0,0,2,2,7,8,2,0,1,2,6,3,3,7,3,3,4,6,6,6,4,9,1,5,0,9,5,2,8,2,0,0,1,7,6,3,2,1,7,4,6,3,1,3,9,1,7,6,8,4,3,1,4,0,5,3,6,9,6,1,7,5,4,4,7,2,8,2,2,5,7,9,5,4,8,8,4,9,0,8,9,8,0,1,2,3,4,5,6,7,8,9,0,1,2,3,4,5,6,7,8,9,0,1,2,3,4,5,6,7,8,9,0,9,5,5,6,5,0,9,8,9,8,4,1,7,7,3,5,1,0,0,2,2,7,8,2,0,1,2,6,3,3,7,3,3,4,6,6,6,4,9,1,5,0,9,5,2,8,2,0,0,1,7,6,3,2,1,7,3,1,3,9,1,7,6,8,4,3,1,4,0,5,3,6,9,6,1,7,5,4,4,7,2,8,2,2,5,5,4,8,8,4,9,0,8,9,8,0,1,2,3,4,5,6,7,8,9,0,1,2,3,4,5,6,7,8,9,0,1,2,3,4,5,6,7,8,9,0,9,5,5,6,5,0,9,8,9,8,4,1,7,7,3,5,1,0,0,2,2,7,8,2,0,1,2,6,3,3,7,3,3,4,6,6,6,4,9,1,5,0,9,5,2,8,2,0,0,1,7,6,3,2,1,7,4,6,3,1,3,9,1,7,6,8,4,3,1,4,0,5,3,6,9,6,1,7,5,4,4,7,2,8,2,2,5,7,9,5,4,8,8,4,9,0,8,9,3,0,1,2,3,4,5,6,7,8,9,0,1,2,3,4,5,6,7,8,9,0,1,2,3,4,5,6,7,8,9,0,9,5,5,6,5,0,9,8,9,8,4,1,7,7,3,5,1,0,0,2,2,7,8,2,0,1,2,6,3,3,7,3,3,4,6,6,6,4,9,1,5,0,9,5,2,8,2,0,0,1,7,6,3,2,1,7,4,6,3,1,3,9,1,7,6,8,4,3,1,4,0,5,3,6,9,6,1,7,5,4,4,7,2,8,2,2,5,7,9,5,4,8,8,4,9,0,8,9,8,0,1,2,3,4,5,6,7,8,9,0,1,2,3,4,5,6,7,8,9,0,1,2,3,4,5,6,7,8,9,0,9,5,5,6,5,0,9,8,9,8,4,1,7,7,3,5,1,0,0,2,2,7,8,2,0,1,2,6,3,3,7,3,3,4,6,6,6,4,9,1,5,0,9,5,2,8,2,0,0,1,7,6,3,2,1,7,4,6,3,1,3,9,1,7,6,8,4,3,1,4,0,5,3,6,9,6,1,7,5,4,4,7,2,8,2,2,5,7,9,5,4,8,8,4,9,0,8,9,8,0,1,2,3,4,5,6,7,8,9,0,1,2,3,4,5,6,7,8,9,0,1,2,3,4,5,6,7,8,9,0,9,5,5,6,5,0,9,8,9,8,4,1,7,7,3,5,1,0,0,2,2,7,8,2,0,1,2,6,3,3,7,3,3,4,6,6,6,4,9,1,5,0,9,5,2,8,2,0,0,1,7,6,3,2,1,7,4,6,3,1,3,9,1,7,6,8,4,3,1,4,0,5,3,6,9,6,1,7,5,4,4,7,2,8,2,2,5,7,9,5,4,8,8,4,9,0,8,9,8,0,1,2,3,4,5,6,7,8,9,0,1,2,3,4,5,6,7,8,9,0,1,2,3,4,5,6,7,8,9,0,9,5,5,6,5,0,9,8,9,8,4,1,7,7,3,5,1,0,0,2,2,7,8,2,0,1,2,6,3,3,7,3,3,4,6,6,6,4,9,1,5,0,9,5,2,8,2,0,0,1,7,6,3,2,1,7,4,6,3,1,3,9,1,7,6,8,4,3,1,4,0,5,3,6,9,6,1,7,5,4,4,7,2,8,2,2,5,7,9,5,4,8,8,4,9,0,8,9,8,1,2,3,4,5,6,7,8,9,0,1,2,3,4,5,6,7,8,9,0,1,2,3,4,5,6,7,8,9,0,9,5,5,6,5,0,9,8,9,8,4,1,7,7,3,5,1,2,7,8,2,0,1,2,6,3,3,7,3,3,4,6,6,6,4,9,1,5,0,9,5,2,8,2,0,0,1,7,6,3,2,1,4,6,3,1,3,9,1,7,6,8,4,3,1,4,0,5,3,6,9,6,1,7,5,4,4,7,2,8,2,2,5,7,9,5,4,4,9,0,8,9,8,0,1,2,3,4,5,6,7,8,9,0,1,2,3,4,5,6,7,8,9,0,1,2,3,4,5,6,7,8,9,0,9,5,5,6,5,0,9,8,9,8,4,1,7,7,3,5,1,0,0,7,8,2,0,1,2,6,3,3,7,3,3,4,6,6,6,4,9,1,5,0,9,5,2,8,2,0,0,1,7,6,3,2,1,7,4,6,3,1,3,9,1,7,6,8,4,3,1,4,0,5,3,6,9,6,1,7,5,4,4,7,2,8,2,2,5,7,9,5,4,8,8,4,9,0,8,9,8,0,1,2,3,4,5,6,7,8,9,0,1,2,3,4,5,6,7,8,9,0,1,2,3,4,5,6,7,8,9,0,9,5,5,6,5,0,9,8,9,8,4,1,7,7,3,5,1,0,0,2,2,7,8,2,0,1,2,6,3,3,7,3,3,4,6,6,6,4,9,1,5,0,9,5,2,8,2,0,0,1,7,6,3,2,1,7,4,6,3,1,3,9,1,7,6,8,4,3,1,4,0,5,3,6,9,6,1,7,5,4,4,7,2,8,2,2,5,7,9,5,4,8,8,4,9,0,8,9,8,0,1,2,3,4,5,6,7,8,9,0,1,2,3,4,5,6,7,8,9,0,1,2,3,4,5,6,7,8,9,0,9,5,5,6,5,0,9,8,9,8,4,1,7,7,3,5,1,0,0,2,2,7,8,2,0,1,2,6,3,3,7,3,3,4,6,6,6,4,9,1,5,0,9,5,2,8,2,0,0,1,7,6,3,2,1,7,4,6,3,1,3,9,1,7,6,8,4,3,1,4,0,5,3,6,9,6,1,7,5,4,4,7,2,8,2,2,5,7,9,5,4,8,8,4,9,0,8,0,1,2,3,4,5,6,7,8,9,0,1,2,3,4,5,6,7,8,9,0,1,2,3,4,5,6,7,8,9,0,9,5,5,6,5,0,9,8,9,8,4,1,7,7,3,5,1,0,0,2,2,7,8,2,0,1,2,6,3,3,7,3,3,4,6,6,6,4,9,1,5,0,9,5,2,8,2,0,0,1,7,6,3,2,1,7,4,6,3,1,3,9,1,7,6,8,4,3,1,4,0,5,3,6,9,6,1,7,5,4,4,7,2,8,2,2,5,7,9,5,4,8,8,4,9,0,8,9,8,0,1,2,3,4,5,6,7,8,9,0,1,2,3,4,5,6,9,0,1,2,3,4,5,6,7,8,9,0,9,5,5,6,5,0,9,8,9,8,4,1,7,7,3,5,1,0,0,2,2,7,8,2,0,1,2,6,3,3,7,3,3,4,6,6,6,4,9,1,5,0,9,5,2,8,0,1,7,6,3,2,1,7,4,6,3,1,3,9,1,7,6,8,4,3,1,4,0,5,3,6,9,6,1,7,5,4,4,7,2,2,5,7,9,5,4,4,9,0,8,9,8,0,1,2,3,4,5,6,7,8,9,0,1,2,3,4,5,6,7,8,9,0,1,2,3,4,5,6,7,8,9,0,9,5,5,6,5,0,9,8,9,8,4,1,7,7,3,5,1,0,0,2,2,7,8,2,0,1,2,6,3,3,7,3,3,4,6,6,6,4,9,1,5,0,9,5,2,8,2,0,0,1,7,6,3,2,1,7,4,6,3,1,3,9,1,7,6,8,4,3,1,4,0,5,3,6,9,6,1,7,5,4,4,7,2,8,2,2,5,7,9,5,4,8,8,4,9,0,8,9,8],\"coloraxis\":\"coloraxis\",\"symbol\":\"circle\"},\"mode\":\"markers\",\"name\":\"\",\"showlegend\":false,\"x\":[-1.798344612121582,11.398794174194336,-16.929826736450195,-38.49054718017578,41.16146469116211,-28.41915512084961,-4.462706565856934,44.37743377685547,-13.559162139892578,-21.220752716064453,0.8049474358558655,21.307043075561523,-41.91173553466797,-44.249874114990234,44.61907196044922,10.761225700378418,-9.636159896850586,41.86406707763672,-0.7942826747894287,-31.327720642089844,9.198663711547852,19.656160354614258,-37.85866165161133,-44.39575958251953,39.94696044921875,14.371960639953613,-3.9065535068511963,43.361732482910156,-5.67351770401001,-30.6517333984375,1.7975389957427979,-31.550888061523438,3.3126025199890137,7.970564842224121,-7.934798240661621,7.89634895324707,8.626317977905273,-30.503252029418945,1.203050971031189,-26.823379516601562,-4.568305015563965,45.88643264770508,20.420150756835938,43.62790298461914,45.201412200927734,-47.37389373779297,8.885139465332031,18.62040901184082,1.4788858890533447,4.850528240203857,-18.359472274780273,-16.880821228027344,42.78143310546875,-5.720232009887695,-16.73115348815918,10.288153648376465,19.125608444213867,-16.883886337280273,-3.441330671310425,-42.89888000488281,-46.98479461669922,41.95566940307617,-47.1359748840332,-44.930545806884766,44.420677185058594,-2.3757243156433105,-4.255853652954102,3.385284662246704,47.39888381958008,17.132875442504883,17.552539825439453,4.107448101043701,9.727632522583008,-29.486568450927734,2.891782522201538,-16.383201599121094,-2.1894030570983887,-16.054330825805664,3.26369047164917,4.999861240386963,18.78740119934082,45.10520553588867,-4.454761981964111,-46.37583923339844,-34.67913055419922,19.298797607421875,42.67165756225586,46.16531753540039,-5.352482318878174,-47.04440689086914,20.54018211364746,-44.385292053222656,-26.061634063720703,11.609533309936523,40.72146987915039,-3.916158676147461,-0.14321181178092957,40.85150909423828,-45.32023239135742,2.6300160884857178,40.872806549072266,10.367833137512207,3.781952381134033,3.475626230239868,-0.8810970187187195,-31.009597778320312,-6.535303115844727,22.57802963256836,42.169918060302734,12.645587921142578,49.124271392822266,47.815486907958984,43.32477569580078,-35.94570541381836,-4.757488250732422,-17.802810668945312,-18.60845375061035,13.362439155578613,43.83363342285156,-31.57360076904297,7.26625394821167,46.25048065185547,-5.321664810180664,-9.981666564941406,46.3584098815918,-24.43263816833496,9.686269760131836,1.4858002662658691,-23.014389038085938,1.6513805389404297,2.8490993976593018,22.097675323486328,-32.49697494506836,-46.50550842285156,31.795276641845703,14.93812370300293,3.399240732192993,49.4428825378418,-8.276247024536133,-29.35189437866211,9.21428394317627,22.65390396118164,-30.27521324157715,-47.683101654052734,32.14487075805664,11.026957511901855,-6.2296247482299805,50.00999450683594,-7.632565975189209,-27.6015625,9.241265296936035,23.225664138793945,-32.9771728515625,-45.27142333984375,34.23198699951172,19.243478775024414,-4.998703956604004,51.17396545410156,-7.069703578948975,-28.62826919555664,7.477949619293213,-29.44924545288086,12.960132598876953,18.15723991394043,3.951937437057495,16.50426483154297,4.842068672180176,-32.12468338012695,-8.09943962097168,-29.803064346313477,-5.586950778961182,32.55760192871094,21.233448028564453,42.411075592041016,38.56931686401367,-43.2648811340332,13.417150497436523,22.676544189453125,4.754159927368164,11.061395645141602,-27.957963943481445,-30.119911193847656,48.421653747558594,-10.028923988342285,-33.93141174316406,10.049620628356934,20.18329620361328,-37.106300354003906,2.2340211868286133,-48.08672332763672,-47.37776184082031,53.513816833496094,-45.637752532958984,-46.23985290527344,35.054229736328125,-4.2228217124938965,2.164703369140625,3.2637221813201904,33.185237884521484,-26.458494186401367,22.317842483520508,14.254669189453125,7.721927642822266,-23.06778335571289,19.182819366455078,-32.51980209350586,-5.61717414855957,-29.000343322753906,10.187125205993652,10.121807098388672,21.470989227294922,48.440914154052734,3.514617443084717,-46.3458137512207,-30.05035972595215,23.339946746826172,52.892608642578125,-46.840145111083984,23.313291549682617,-45.91703414916992,-21.911006927490234,20.770496368408203,43.819679260253906,-8.682633399963379,-11.575923919677734,32.6610221862793,-45.76089859008789,21.8724422454834,33.06606674194336,5.763575077056885,16.03834342956543,-44.130821228027344,0.0486140139400959,-28.521644592285156,6.273509979248047,21.24020004272461,50.01353073120117,15.671815872192383,33.31606674194336,33.57392883300781,52.57579803466797,-33.78604507446289,-6.521740436553955,-33.32160568237305,-27.5616455078125,16.4010009765625,14.960293769836426,33.7938232421875,-8.933834075927734,-10.04201889038086,32.31584930419922,-20.212940216064453,8.483118057250977,-11.37646484375,-21.878429412841797,-5.205431938171387,-0.12359341233968735,3.2516074180603027,-34.61884689331055,-37.95071792602539,47.88566207885742,-4.58526611328125,3.904649019241333,44.54317855834961,-13.959322929382324,26.20026206970215,7.804074287414551,6.186039924621582,-34.783653259277344,-43.15638732910156,47.841434478759766,12.053605079650879,2.288501501083374,47.152225494384766,-4.6449127197265625,24.90157127380371,0.136482834815979,4.639998912811279,-32.941802978515625,-43.54270935058594,50.38666915893555,0.12673401832580566,4.237905502319336,37.83103561401367,-4.999788761138916,-26.11911392211914,-0.7781274318695068,-31.883159637451172,0.5040996074676514,-5.28812837600708,-1.2066736221313477,-8.683503150939941,-1.5432146787643433,-19.446313858032227,-11.910252571105957,-28.842477798461914,-11.929368019104004,47.88312911987305,-2.0651891231536865,47.75579071044922,37.472042083740234,-43.99516296386719,0.9006650447845459,-1.9591668844223022,1.2606600522994995,0.5982486009597778,-31.965627670288086,-30.83503532409668,40.73255157470703,-13.329609870910645,-34.65482711791992,0.31578341126441956,23.068496704101562,-34.27445983886719,7.416258335113525,-37.91632080078125,-45.00208282470703,38.146217346191406,-42.55955123901367,-42.179683685302734,49.153594970703125,0.46979716420173645,0.4240790605545044,-2.4983062744140625,51.005592346191406,25.221416473388672,3.074232578277588,9.99738883972168,-0.3020000755786896,24.966646194458008,0.4223648011684418,-33.98554229736328,-13.740068435668945,-32.04214859008789,1.0197659730911255,-0.9867346286773682,5.507183074951172,39.92649459838867,-9.002519607543945,-43.41358947753906,-31.683069229125977,5.853946208953857,40.738197326660156,48.083106994628906,5.11358642578125,-43.8874626159668,4.5329155921936035,-37.810546875,25.69746208190918,5.062585353851318,50.33689880371094,-1.1865326166152954,-7.580756664276123,48.323875427246094,-37.348506927490234,7.469422817230225,47.35274124145508,9.346099853515625,-3.736917018890381,-43.615264892578125,2.624540328979492,24.98069953918457,-0.21714754402637482,-0.7902750372886658,51.764122009277344,2.8236608505249023,48.15243911743164,47.62034606933594,40.810298919677734,-33.46246337890625,-12.569433212280273,-31.93244171142578,-34.92293167114258,-5.973031997680664,40.09615707397461,26.86384391784668,17.425203323364258,50.05314254760742,-17.95970344543457,-11.729662895202637,46.027923583984375,26.94096565246582,2.9846630096435547,-4.91546106338501,25.757888793945312,-41.64484786987305,6.69694185256958,19.623735427856445,-40.77819061279297,-45.36330032348633,34.69774627685547,3.4125964641571045,-0.6951535940170288,30.648378372192383,-11.581757545471191,-25.335798263549805,6.2756781578063965,16.614593505859375,-43.741756439208984,-36.500057220458984,55.490474700927734,6.057441711425781,-1.51603102684021,30.550750732421875,-5.949195384979248,-31.6435604095459,7.666750431060791,18.409887313842773,-39.63790512084961,-41.078086853027344,35.51936721801758,5.793453693389893,-3.2248597145080566,30.70490074157715,-9.11103343963623,-31.678903579711914,8.585175514221191,-19.89398956298828,3.301669120788574,4.941489219665527,-2.08925724029541,-26.10886001586914,7.224687576293945,-19.92444610595703,-10.511528968811035,-24.85960578918457,-11.358015060424805,36.4930305480957,19.3321475982666,30.193695068359375,31.304039001464844,-37.13321304321289,5.556652069091797,16.612150192260742,4.672430038452148,6.257863521575928,-43.73886489868164,-40.62726974487305,30.578643798828125,-12.698871612548828,-41.571617126464844,-0.6642307043075562,-33.58161544799805,-44.1580810546875,5.032287120819092,-37.05306625366211,-35.78385543823242,30.782018661499023,-36.88658142089844,-35.604087829589844,36.499271392822266,-3.472766399383545,-1.3395382165908813,-3.3234434127807617,35.81688690185547,-24.021503448486328,19.297563552856445,0.47115400433540344,5.2133708000183105,-20.000513076782227,4.938425540924072,-42.69255065917969,-10.638469696044922,-37.99623107910156,-1.2402642965316772,5.502209186553955,16.48688507080078,30.45622444152832,-1.764849305152893,-36.212345123291016,-38.66325378417969,16.162742614746094,31.148134231567383,39.18941879272461,-5.551541805267334,-35.92374038696289,19.840129852294922,-35.64860534667969,-24.868696212768555,17.554489135742188,27.227460861206055,-3.3386054039001465,-17.215024948120117,36.559146881103516,-36.43328094482422,16.94512176513672,35.85527801513672,9.100275039672852,4.125584602355957,-34.80770492553711,-3.8275938034057617,-19.904470443725586,0.43032723665237427,18.776731491088867,30.99642562866211,5.477715015411377,38.31523895263672,36.90677261352539,30.176406860351562,-37.43156814575195,-15.082695007324219,-39.515445709228516,-18.0314998626709,13.485943794250488,31.0158634185791,-24.787704467773438,4.659282684326172,38.89961242675781,-6.812906742095947,-6.901045799255371,34.3770751953125,-22.592660903930664,2.318683624267578,-12.327146530151367,-24.547216415405273,-11.274284362792969,3.7045977115631104,-32.731266021728516,-44.83523178100586,-27.820297241210938,54.82974624633789,-1.3570562601089478,-0.49319568276405334,48.18164825439453,-12.579585075378418,-20.401798248291016,-3.780801773071289,-32.834266662597656,-40.517974853515625,-28.81768226623535,54.09300994873047,-4.477233409881592,3.7958426475524902,44.642738342285156,-13.682426452636719,-19.367326736450195,3.025942087173462,-31.748327255249023,-40.90986633300781,-28.341590881347656,54.62947463989258,-3.0022363662719727,0.8561540246009827,40.901344299316406,-14.27545166015625,-22.190109252929688,3.734692335128784,-6.233612060546875,2.27578067779541,-4.695498943328857,0.7583790421485901,-3.8568592071533203,-1.047142744064331,-22.100505828857422,-13.321555137634277,-21.016408920288086,-14.557807922363281,53.747432708740234,-31.884801864624023,42.90271759033203,44.00489807128906,-28.731042861938477,-2.9802308082580566,-30.552114486694336,3.457038402557373,2.7881979942321777,-39.57548522949219,-39.35834503173828,46.72214889526367,-15.728747367858887,-40.62326431274414,1.6186540126800537,-31.786418914794922,-39.34736633300781,1.0069712400436401,-28.263521194458008,-33.95954513549805,40.147884368896484,-26.98065757751465,-28.206621170043945,52.03561782836914,2.7412352561950684,-0.12623128294944763,3.9001669883728027,54.26576232910156,-20.380592346191406,-30.992090225219727,-1.8087900876998901,11.616626739501953,-20.57282829284668,-4.415602684020996,-41.81962585449219,-15.339486122131348,-35.34923553466797,-3.0169472694396973,3.5770153999328613,-30.80717658996582,46.39445495605469,2.7663729190826416,-28.287277221679688,-35.155574798583984,-31.285419464111328,44.746910095214844,55.56708908081055,0.7279516458511353,-27.71109390258789,-30.44306182861328,-28.116636276245117,-20.896703720092773,-32.158870697021484,48.030235290527344,-0.41959455609321594,-14.397801399230957,54.406646728515625,-29.06001091003418,-3.4850175380706787,55.072235107421875,2.66373348236084,-5.436163902282715,-28.932435989379883,-0.8238281607627869,-21.079980850219727,0.9828393459320068,-32.847259521484375,45.65015411376953,-1.711301565170288,56.0175895690918,51.555511474609375,50.20751953125,-39.834415435791016,-13.665898323059082,-35.53326416015625,-39.21284866333008,-1.1681623458862305,44.077022552490234,-26.22394561767578,-4.2396650314331055,55.66196823120117,-12.932650566101074,-14.901150703430176,55.07844161987305,-21.362794876098633,3.3375680446624756,-14.918212890625,-31.266660690307617,-13.44273567199707,4.936310291290283,1.5079114437103271,-28.958932876586914,-44.79478454589844,34.79140853881836,0.26415008306503296,0.8992183804512024,45.64814758300781,-14.005582809448242,26.258161544799805,-4.449596405029297,-2.206634759902954,-28.008808135986328,-46.057769775390625,34.4228630065918,14.960235595703125,1.5325714349746704,40.365360260009766,-8.193563461303711,27.27390480041504,5.566410541534424,-1.68437659740448,-30.595792770385742,-42.97099304199219,38.13166046142578,15.01872444152832,2.0260071754455566,40.0511474609375,-13.944074630737305,26.456783294677734,-0.6266364455223083,27.372798919677734,-0.13058532774448395,12.995665550231934,3.631192445755005,14.167135238647461,6.235781192779541,24.15064811706543,-9.302600860595703,26.90013313293457,-9.613239288330078,35.8383674621582,1.9580377340316772,40.715614318847656,40.67411804199219,-40.84736251831055,14.072874069213867,1.8272638320922852,6.650413990020752,-3.5636813640594482,-30.90580177307129,-29.525449752807617,41.7640266418457,-8.081018447875977,-30.540904998779297,10.838845252990723,6.934598922729492,-30.729557037353516,2.870772123336792,-46.80560302734375,-45.177703857421875,40.8713493347168,-47.45199966430664,-43.669334411621094,36.17560958862305,4.767518997192383,-2.9689698219299316,6.193922519683838,35.1124267578125,26.367298126220703,0.461986243724823,-0.06521499156951904,6.739642143249512,26.27702522277832,-0.05923356115818024,-30.395910263061523,-14.038290023803711,-27.462589263916016,6.5338287353515625,-0.026060691103339195,7.055822372436523,41.86814498901367,1.9414290189743042,-45.83932113647461,-30.590198516845703,-0.019051309674978256,40.357643127441406,35.28742218017578,-8.188735008239746,-47.722415924072266,-0.6463980078697205,-35.95833206176758,25.896074295043945,-0.14171470701694489,41.534881591796875,4.966957092285156,-6.571735382080078,55.305233001708984,-35.9922981262207,0.7116043567657471,50.75901794433594,6.9736809730529785,-2.2363221645355225,-42.403133392333984,-7.825716972351074,27.827699661254883,-8.130439758300781,1.672957181930542,41.71912384033203,14.560763359069824,56.1330451965332,50.33494567871094,41.81130599975586,-29.280921936035156,-2.4045982360839844,-29.08173179626465,-29.60976219177246,15.820039749145508,44.917236328125,27.08823585510254,19.438899993896484,55.470035552978516,-13.332642555236816,-1.2315019369125366,50.51974105834961,26.049226760864258,5.587026596069336,-13.861425399780273,25.10908317565918,-7.844455718994141,-5.163395404815674,6.932178974151611,-32.98173904418945,-36.06903076171875,52.67254638671875,11.297098159790039,8.552339553833008,39.98692321777344,-12.557401657104492,-28.300304412841797,1.0774154663085938,8.517427444458008,-34.725162506103516,-39.1634521484375,51.02938461303711,17.967378616333008,9.094921112060547,47.465763092041016,16.808801651000977,-20.781848907470703,-1.3519439697265625,6.506136894226074,-31.25784683227539,-40.146297454833984,53.66390609741211,17.456819534301758,-4.270134449005127,47.48790740966797,-3.163966655731201,-31.655179977416992,0.7760931253433228,-21.531972885131836,11.24172592163086,15.734147071838379,7.291499614715576,11.58951473236084,1.1322510242462158,-28.015405654907227,-14.767034530639648,-21.846351623535156,-10.902498245239258,47.14469909667969,-2.680967330932617,51.62997817993164,39.926788330078125,-39.51362228393555,12.48310661315918,-0.14097820222377777,10.500473022460938,0.8075429797172546,-29.641592025756836,-32.87925720214844,52.858829498291016,-10.75513744354248,-30.89958381652832,3.106987714767456,-33.07491683959961,-38.34756851196289,-4.6345038414001465,-38.80582046508789,-38.80349349975586,47.56796646118164,-46.417579650878906,-45.719329833984375,51.42900085449219,-3.0321226119995117,7.361435890197754,8.663216590881348,52.74933624267578,-31.360319137573242,1.8600411415100098,11.546365737915039,8.181057929992676,-23.037431716918945,12.540261268615723,-31.356937408447266,-8.53804874420166,-32.7734260559082,9.692452430725098,-0.4978460371494293,-2.0332047939300537,48.11500930786133,1.7619898319244385,-42.25143051147461,-34.05640411376953,2.7126858234405518,44.60776901245117,44.656654357910156,-4.247106075286865,-38.21694564819336,3.73762583732605,-40.325889587402344,-22.06850814819336,3.747199296951294,52.08462905883789,4.761383056640625,-12.616277694702148,53.348270416259766,-39.16426086425781,5.381292343139648,48.200809478759766,-1.5028501749038696,10.7979736328125,-42.97725296020508,-7.584590911865234,-31.830230712890625,3.890960693359375,2.6535542011260986,49.08152770996094,16.275226593017578,53.25975799560547,45.95631408691406,47.927982330322266,-31.862749099731445,-8.49545669555664,34.55583572387695,-30.30943489074707,9.335797309875488,47.75456237792969,-23.112552642822266,17.32712173461914,52.61119842529297,-8.812792778015137,-12.728020668029785,47.46957015991211,-23.03177261352539,4.049685001373291,-8.183226585388184,-25.557476043701172,-12.23749828338623,-32.71903610229492,-36.170108795166016,-42.415924072265625,43.29216003417969,-1.1634807586669922,4.388747215270996,35.90476608276367,-14.646265029907227,-29.625276565551758,-1.9321966171264648,-33.20486068725586,-35.957916259765625,-40.06224822998047,43.06816101074219,-6.919424057006836,5.079546928405762,36.53255844116211,-15.761650085449219,-27.71527099609375,-1.516200304031372,-32.436195373535156,-37.72653579711914,-38.39403533935547,41.515655517578125,-9.19575309753418,5.406179428100586,35.91286849975586,-15.8207368850708,-28.67413902282715,3.040390968322754,-26.778488159179688,-8.121231079101562,-4.989909648895264,1.9972264766693115,-8.786952018737793,-2.265575647354126,-29.737159729003906,-14.737813949584961,-27.606019973754883,-12.01450252532959,44.09843444824219,-33.385799407958984,37.5256462097168,35.50969696044922,-38.86635208129883,-9.914694786071777,-33.865074157714844,-38.850624084472656,36.91547393798828,-16.022184371948242,-43.88637161254883,-0.7376847863197327,-33.58790969848633,-40.74021530151367,4.707345008850098,-40.41188430786133,-40.509483337402344,35.54600524902344,-42.46096420288086,-39.987300872802734,41.462886810302734,1.706252098083496,2.6803970336914062,3.8993942737579346,41.49561309814453,-30.19873809814453,-33.303749084472656,-5.397279262542725,-2.297677993774414,-29.47553062438965,-6.989205837249756,-43.3132438659668,-12.712159156799316,-43.359779357910156,-5.163930892944336,0.997910737991333,-33.5831413269043,40.693485260009766,4.209780693054199,-42.5527458190918,-38.18980026245117,-32.7298469543457,46.33000183105469,-2.6219587326049805,-42.67966842651367,-33.180328369140625,-41.447322845458984,-29.92053985595703,-33.501739501953125,35.607818603515625,0.004284316673874855,-13.100842475891113,41.437095642089844,-40.528385162353516,-33.7361946105957,41.4744873046875,-1.846758246421814,0.596307098865509,-40.050941467285156,4.381261348724365,-27.616777420043945,4.745308876037598,-33.33421325683594,35.46199035644531,-8.295490264892578,42.949501037597656,43.33564758300781,38.28528594970703,-40.378963470458984,-16.244014739990234,-44.329681396484375,-40.3881721496582,-8.556781768798828,37.14287185668945,-27.537004470825195,-6.06892204284668,43.27778625488281,45.82761001586914,-23.557180404663086,-2.839754343032837,-14.0869779586792,-27.16861915588379,-14.14354133605957,-2.240137815475464,-1.5628596544265747,-35.399131774902344,-44.30274963378906,44.024803161621094,9.7510347366333,5.899505138397217,40.346214294433594,-4.553381443023682,-31.75416374206543,4.322299480438232,-1.8157908916473389,-36.907081604003906,-44.69280242919922,43.4359245300293,6.517978668212891,6.237995624542236,38.464637756347656,-2.526747703552246,-26.012371063232422,-1.1172887086868286,5.461190700531006,-43.09080123901367,-46.193626403808594,44.42095947265625,-0.06923158466815948,0.3459942638874054,39.61237716674805,-15.837579727172852,-25.42194938659668,-0.05673318728804588,-18.75374412536621,8.493500709533691,9.491156578063965,-8.836650848388672,8.608237266540527,5.416225910186768,-25.693410873413086,-16.727664947509766,-18.765583038330078,-9.019006729125977,42.710994720458984,0.06736132502555847,38.21896743774414,39.84316635131836,-48.11097717285156,2.634244441986084,3.790142059326172,-2.2596218585968018,-2.2341697216033936,39.148338317871094,-2.3420450687408447,-43.691383361816406,1.7262415885925293,0.282819002866745,-42.85895919799805,-2.366079092025757,-47.345947265625,-47.92336654663086,38.222412109375,-46.6214599609375,-47.25890350341797,45.50086212158203,0.22074708342552185,-4.4098968505859375,-1.983826756477356,48.32276916503906,-26.080820083618164,5.950591564178467,1.588736891746521,-0.14039850234985352,-2.7146191596984863,12.72117805480957,-43.94826126098633,-16.17230224609375,-45.384952545166016,1.7388836145401,2.6651201248168945,1.7724462747573853,42.066436767578125,-6.841423034667969,-45.14814758300781,-40.02254867553711,6.031411170959473,38.132408142089844,44.72344207763672,0.02896381914615631,-45.07166290283203,0.7588246464729309,38.273101806640625,-25.28836441040039,4.766329765319824,38.76239013671875,-3.804313898086548,-15.925886154174805,46.25429916381836,-45.77462387084961,1.7025787830352783,46.7365608215332,-2.7733123302459717,3.858590841293335,-47.65967559814453,-3.3671863079071045,-26.094783782958984,1.0572272539138794,3.0037028789520264,43.4267463684082,-0.5304144024848938,45.14856719970703,44.77113723754883,41.54652786254883,-40.20247268676758,-3.3348305225372314,-37.05857467651367,-44.68614196777344,10.207770347595215,39.4027099609375,-24.932472229003906,0.9764408469200134,46.433433532714844,-17.55762481689453,-10.835103988647461,46.3551139831543,-26.1827449798584,-0.3882791996002197,-15.584122657775879,-24.863964080810547,-15.739925384521484,2.4065656661987305,17.464950561523438,-33.712650299072266,-45.84145736694336,47.04103469848633,-1.107135534286499,6.28666877746582,46.247711181640625,-16.828235626220703,-19.619245529174805,-2.570478677749634,18.040447235107422,-36.77043151855469,-47.10186004638672,43.94158172607422,-2.3590123653411865,-0.45035219192504883,44.37179946899414,-0.4576868414878845,-31.731481552124023,-1.929373860359192,12.195764541625977,-31.098249435424805,-49.785430908203125,52.904396057128906,17.8489990234375,-3.0752222537994385,40.12226104736328,-1.3243556022644043,-19.879989624023438,-3.6953535079956055,-21.156373977661133,1.8242350816726685,9.075410842895508,-2.1947097778320312,11.191619873046875,0.09929092228412628,-20.38945198059082,-0.9035349488258362,-21.08342933654785,0.361403226852417,43.25345993041992,3.5111353397369385,47.91483688354492,45.63959884643555,2.9974801540374756,-0.4462096393108368,13.943379402160645,0.8730289340019226,0.2541283965110779,-34.0565185546875,-30.12982749938965,46.20586395263672,15.533681869506836,-32.03057098388672,-3.8505148887634277,6.9607253074646,-34.13340377807617,-5.182473659515381,-49.801116943359375,-41.62943649291992,45.647560119628906,-43.63713073730469,-48.454803466796875,47.07396697998047,-4.326827526092529,-2.5702788829803467,-2.4867100715637207,45.717586517333984,-27.006975173950195,1.9545785188674927,15.1959867477417,-3.4220685958862305,-20.351593017578125,-0.22408060729503632,-33.739994049072266,-1.3120481967926025,-34.196659088134766,-4.210120677947998,-3.604356288909912,6.385380268096924,47.61860275268555,-4.197292327880859,-43.34617233276367,-32.49340057373047,13.221994400024414,49.66059494018555,45.43584442138672,-4.916993618011475,-44.2978630065918,2.7882239818573,-45.110721588134766,-20.45218276977539,2.4296772480010986,47.05660629272461,-5.0611653327941895,-1.3193490505218506,46.16763687133789,-42.12233352661133,0.4166974127292633,48.28443908691406,11.186258316040039,18.08086585998535,-43.41109085083008,-1.463692307472229,-21.01201629638672,-5.871540546417236,11.10096263885498,46.3275146484375,16.367496490478516,47.124996185302734,47.16659927368164,41.69548416137695,-30.657440185546875,-13.402307510375977,-32.24580383300781,-33.27518844604492,19.51061248779297,45.730445861816406,-21.030071258544922,14.214107513427734,45.0218391418457,-0.6675723791122437,-2.162431001663208,49.600711822509766,-25.67974090576172,-4.556092262268066,-3.331200122833252,-19.152570724487305,-2.949915885925293,-1.285091519355774,18.226221084594727,-43.884117126464844,-44.388572692871094,46.88100051879883,-4.510181427001953,-9.07420825958252,49.03941345214844,-4.364193439483643,-27.265127182006836,5.227964878082275,13.278424263000488,-45.82377243041992,-48.20908737182617,46.831912994384766,-1.0186876058578491,-9.337193489074707,39.96250915527344,-2.318715810775757,-22.495288848876953,5.1621575355529785,23.569921493530273,-44.6376953125,-39.27421951293945,46.90681457519531,0.5418466925621033,-7.370272636413574,45.40719985961914,-2.220463752746582,-21.413362503051758,3.952328681945801,-23.198936462402344,1.7839218378067017,2.1927566528320312,-6.93553352355957,3.7081501483917236,10.923678398132324,-23.900432586669922,-4.137560844421387,-19.706926345825195,-4.992377758026123,46.69752883911133,6.314884662628174,39.24947738647461,45.0259895324707,-44.30455780029297,1.5507030487060547,7.027591228485107,6.820553302764893,7.093554496765137,-45.64992904663086,-46.551025390625,45.50436019897461,-3.393983840942383,-47.542137145996094,2.4612245559692383,18.804853439331055,-45.797576904296875,-4.913422584533691,-43.36745834350586,-46.72171401977539,47.34423065185547,-47.712100982666016,-46.925941467285156,46.189735412597656,-4.565374374389648,-4.761929988861084,-5.219776153564453,48.1669807434082,-32.01961135864258,6.229112148284912,-1.0045428276062012,1.5013434886932373,-22.70037841796875,4.031020164489746,-42.60546875,-7.14089298248291,-47.954124450683594,-2.1371419429779053,6.400588035583496,17.868486404418945,46.16762924194336,-7.558396816253662,-43.83169174194336,-42.209598541259766,8.782833099365234,51.8675651550293,48.48108673095703,-7.348255157470703,-41.70444869995117,7.722956657409668,-41.850547790527344,-29.289554595947266,5.971729755401611,41.18716049194336,-8.713761329650879,-2.4182791709899902,46.1610107421875,-46.49326705932617,4.047164440155029,46.4147834777832,5.687533855438232,4.545701503753662,-45.15782928466797,-8.641867637634277,-21.4178409576416,-4.752600193023682,4.420298099517822,49.38787841796875,8.067584037780762,44.87331771850586,44.93757629394531,41.22209167480469,-45.65467834472656,-4.317099571228027,-43.7316780090332,-43.772377014160156,-1.8748985528945923,44.806941986083984,-20.989816665649414,3.2469289302825928,44.872745513916016,-4.016824245452881,-1.8988593816757202,48.24889373779297,-20.24369239807129,11.100533485412598,-1.2994985580444336,-1.5385106801986694,18.574024200439453,-38.098472595214844,-37.303340911865234,54.768924713134766,-2.322859287261963,5.4468207359313965,36.55622100830078,-13.437963485717773,-24.96223258972168,3.4764533042907715,19.694581985473633,-38.43796157836914,-37.7014045715332,53.704925537109375,-4.980530738830566,5.996222972869873,36.29170608520508,-13.975836753845215,-25.255022048950195,-4.173580646514893,19.67902946472168,-38.62454605102539,-37.646392822265625,53.594337463378906,-8.714692115783691,5.771877288818359,36.30531692504883,-14.656682014465332,-26.054880142211914,2.1793212890625,-25.000436782836914,-5.0803961753845215,-5.171289443969727,4.174779415130615,-4.437036037445068,2.3193883895874023,-24.910741806030273,-11.105246543884277,-26.75341033935547,-11.772889137268066,50.11948776245117,21.54932403564453,37.96931838989258,37.24140167236328,-40.078487396240234,-5.680784225463867,21.623239517211914,1.4204885959625244,1.4398564100265503,-41.80049514770508,-39.02519989013672,36.33646011352539,-10.637084007263184,-40.51746368408203,3.726142168045044,20.05044937133789,-40.477699279785156,6.796727657318115,-37.43186569213867,-41.24247360229492,37.54917526245117,-38.30161666870117,-42.913352966308594,54.16301345825195,4.413507461547852,5.784217357635498,2.121026039123535,52.3980712890625,-27.146909713745117,20.117345809936523,-4.926436901092529,5.258534908294678,-26.01212501525879,0.6468787789344788,-39.451576232910156,-12.329791069030762,-40.45595169067383,4.251471996307373,0.8848258256912231,20.688720703125,38.58192443847656,5.326355934143066,-39.7243537902832,-34.76441192626953,18.5672607421875,38.80487823486328,52.53657531738281,5.174300670623779,-41.89130401611328,19.781272888183594,-40.06414031982422,-24.716062545776367,20.745914459228516,37.846923828125,4.00767707824707,-11.809021949768066,53.81487274169922,-42.077152252197266,21.450881958007812,53.27162551879883,1.8933217525482178,-5.700085163116455,-39.49884796142578,4.0877156257629395,-26.564653396606445,-2.525139808654785,19.538131713867188,35.401275634765625,-8.420034408569336,52.76338577270508,53.514461517333984,36.85784149169922,-40.96650695800781,-10.840030670166016,-42.00505447387695,-40.515377044677734,-3.3937017917633057,35.978660583496094,-23.95064353942871,-0.6526744365692139,53.597679138183594,-10.136456489562988,-10.153717041015625,51.11925506591797,-23.990001678466797,-0.6874791383743286,-10.416285514831543,-24.151283264160156,-9.971457481384277,7.796241283416748,6.347180366516113,-37.866676330566406,-44.222652435302734,48.06684112548828,16.745553970336914,-9.864592552185059,48.14106750488281,12.435430526733398,25.779129028320312,8.308542251586914,1.2692099809646606,-48.074493408203125,-42.44176483154297,48.421627044677734,16.691495895385742,-7.437961101531982,25.136917114257812,7.654336452484131,0.5520269274711609,-44.90501022338867,-41.95928955078125,51.37315368652344,10.376059532165527,-6.795008659362793,48.004940032958984,2.2388668060302734,25.304555892944336,12.636115074157715,25.169349670410156,13.692340850830078,19.065574645996094,-6.21119499206543,16.90397834777832,4.320167541503906,23.953744888305664,-2.788099527359009,13.742413520812988,-11.433774948120117,50.01547622680664,8.018203735351562,48.115821838378906,50.88589096069336,2.6687135696411133,19.4837589263916,5.122213840484619,12.324627876281738,-3.807110548019409,-48.41835403442383,-38.44135284423828,51.46888732910156,-2.629514217376709,-48.12796401977539,11.928091049194336,1.282609224319458,-29.505779266357422,-8.202448844909668,2.270394802093506,3.3620173931121826,50.96335983276367,4.925086975097656,1.652294397354126,51.409217834472656,-6.0590996742248535,-6.810210704803467,-7.603065013885498,17.75979232788086,26.765560150146484,4.806720733642578,16.756793975830078,12.215373039245605,-30.764341354370117,4.55281925201416,-48.0545768737793,-10.25189208984375,1.382071614265442,5.6353583335876465,49.100807189941406,-8.137381553649902,-42.36585235595703,-33.440093994140625,7.611732482910156,52.674015045166016,17.696786880493164,-7.226953983306885,-44.947021484375,7.964757919311523,-39.6279182434082,24.69072914123535,6.466007709503174,50.13758087158203,-7.226304054260254,-10.965819358825684,50.10012435913086,-43.70957565307617,7.8999176025390625,48.25422286987305,9.39254379272461,10.855843544006348,-44.791038513183594,-7.233774662017822,-31.35405158996582,-3.9253172874450684,8.322921752929688,46.250633239746094,13.14937686920166,48.39785385131836,52.621009826660156,50.145751953125,-37.20398712158203,-44.739383697509766,16.539764404296875,51.94109344482422,-39.088436126708984,10.786991119384766,17.850967407226562,49.55839538574219,13.92519474029541,1.840407371520996,-8.132733345031738,24.332767486572266,-8.799230575561523,4.173624515533447,-3.7623562812805176,-38.95458221435547,-35.19935989379883,40.57444763183594,-1.5004860162734985,1.7787439823150635,45.25140380859375,-10.775001525878906,-26.53998374938965,5.164713382720947,-0.23268795013427734,-28.917142868041992,1.2843793630599976,48.05852127075195,-0.4928995370864868,1.4727592468261719,42.65293884277344,-4.16665506362915,-22.140811920166016,8.398094177246094,-2.7791779041290283,-31.87797737121582,0.9991880655288696,47.04204559326172,-1.1248009204864502,2.007155179977417,45.030677795410156,-10.951155662536621,-29.400083541870117,-1.2990902662277222,-25.96318244934082,1.7785999774932861,0.8733628392219543,2.457397222518921,4.186801910400391,7.4866943359375,-25.176259994506836,-13.1903076171875,-24.141328811645508,-3.0612566471099854,48.381954193115234,-3.554577350616455,34.613929748535156,42.10555648803711,2.8773512840270996,-0.777277946472168,0.5026118159294128,7.352020740509033,-0.6358745098114014,-35.01995849609375,-38.13130187988281,49.01865768432617,-3.231658697128296,-34.95125198364258,8.559072494506836,-3.472071886062622,-38.94057846069336,1.044338583946228,1.2083709239959717,1.3389736413955688,50.80637741088867,-34.45988082885742,1.808807611465454,44.001617431640625,-2.5348498821258545,2.572129487991333,4.36606502532959,41.62430191040039,-23.899555206298828,-0.16338741779327393,-1.1246683597564697,7.633606433868408,-25.95104217529297,-1.382555365562439,-43.03038024902344,-10.61406135559082,-30.750778198242188,-4.3849263191223145,8.160005569458008,-2.6239824295043945,51.704986572265625,-2.7443604469299316,-41.030086517333984,-31.8380126953125,8.053484916687012,51.7161750793457,42.459957122802734,-5.790689945220947,-42.23416519165039,1.1573047637939453,-41.717254638671875,-23.77373504638672,-2.298574924468994,43.48128890991211,-1.3559805154800415,-7.089176177978516,46.65569305419922,1.0107967853546143,-2.1709659099578857,41.598426818847656,11.95837688446045,-2.8626840114593506,-40.63741683959961,-5.472494125366211,-22.860671997070312,3.2863755226135254,-1.929695963859558,48.05675506591797,-2.3270468711853027,41.18343734741211,44.851829528808594,44.79398727416992,-41.811729431152344,-12.31727123260498,-39.74582290649414,-39.82324981689453,-1.0552072525024414,50.70417022705078,-27.89154815673828,-3.100882053375244,44.30125427246094,0.3237368166446686,1.5814623832702637,46.18612289428711,-24.764734268188477,7.062629699707031,-7.626480579376221,-21.38579750061035,-12.979509353637695],\"xaxis\":\"x\",\"y\":[-67.78115844726562,21.40627670288086,16.753263473510742,-11.539012908935547,28.18691062927246,-20.015399932861328,53.6641960144043,-17.92223358154297,4.419601917266846,-19.709918975830078,-64.8573989868164,15.412921905517578,27.679920196533203,-3.581886053085327,23.3843936920166,-29.11643409729004,57.65371322631836,-10.781004905700684,5.634100437164307,-20.825166702270508,-67.05253601074219,14.330300331115723,26.458547592163086,2.7946369647979736,26.356489181518555,-31.30685043334961,52.5897216796875,-4.044461250305176,6.629705905914307,-20.51264190673828,-61.40205383300781,-21.260316848754883,-30.35213851928711,-24.738943099975586,57.039573669433594,-24.638042449951172,-64.15868377685547,-17.98394203186035,7.191976547241211,-31.120216369628906,6.458950519561768,23.10511016845703,16.446430206298828,-5.05319881439209,-17.16105842590332,-2.6161351203918457,-23.951013565063477,16.40891456604004,-69.86151123046875,-71.37948608398438,17.40712547302246,17.76795768737793,-6.071517467498779,10.585344314575195,17.909740447998047,-67.31038665771484,15.619294166564941,16.927204132080078,53.594120025634766,-1.2879643440246582,-2.1849465370178223,-9.780463218688965,-1.3770520687103271,-0.1959650069475174,26.490455627441406,63.04398727416992,53.48517990112305,70.63633728027344,18.74173927307129,-10.17426586151123,16.685630798339844,-30.234729766845703,-68.87158966064453,-20.494714736938477,-22.86740493774414,17.93024253845215,9.606766700744629,18.261686325073242,-75.18828582763672,-73.53905487060547,15.258146286010742,-14.6285400390625,53.0740852355957,1.0331923961639404,33.205718994140625,17.593090057373047,-2.555605173110962,15.203861236572266,55.3673095703125,-0.7755275368690491,16.606685638427734,0.5898885726928711,-32.95220184326172,21.33340072631836,-12.772233963012695,50.911251068115234,7.397002696990967,26.309236526489258,0.5689067244529724,24.37487030029297,26.714134216308594,-70.342529296875,-23.907442092895508,-0.2032170444726944,51.909217834472656,-22.687768936157227,53.9734001159668,14.940095901489258,-8.60402774810791,-28.925138473510742,18.5068416595459,19.242929458618164,-12.747503280639648,24.768253326416016,9.815630912780762,17.581722259521484,17.477100372314453,-26.87409210205078,-10.226874351501465,-24.05742645263672,-24.076738357543945,15.419590950012207,12.134199142456055,9.933890342712402,23.046411514282227,-19.21151351928711,-68.62799072265625,7.477193355560303,-32.94124221801758,21.904621124267578,-71.07258605957031,11.020186424255371,32.579288482666016,2.0911641120910645,25.53101921081543,-27.565113067626953,62.421539306640625,-11.368523597717285,6.5556769371032715,-22.942092895507812,-63.40082550048828,14.145390510559082,30.184677124023438,-1.159690260887146,26.581188201904297,-26.516315460205078,60.45463943481445,-11.626179695129395,8.216837882995605,-21.053956985473633,-70.61763000488281,12.928838729858398,22.127328872680664,2.073373794555664,26.414993286132812,-29.139564514160156,55.52916717529297,-14.522631645202637,12.630496978759766,-22.30235481262207,-64.00350952148438,-21.889684677124023,-27.455791473388672,-28.493677139282227,69.21238708496094,-27.404294967651367,-65.19615173339844,-26.823335647583008,6.608095169067383,-23.216697692871094,14.709261894226074,28.020938873291016,12.972454071044922,-6.009368419647217,-8.226912498474121,-0.4741888642311096,-28.088668823242188,12.487940788269043,-74.60879516601562,-67.478271484375,28.8288631439209,29.67335319519043,-12.516304016113281,8.474480628967285,35.474281311035156,-68.09848022460938,13.26594352722168,34.43391799926758,69.41725158691406,-1.184931993484497,0.19357474148273468,-15.016504287719727,3.2803215980529785,-0.7259933948516846,28.4259090423584,56.25617599487305,69.43057250976562,68.3734130859375,29.449342727661133,-21.473005294799805,15.954073905944824,-28.18199920654297,-70.8558349609375,-21.78301239013672,-28.589008331298828,21.854530334472656,14.635735511779785,29.30597496032715,-66.24369812011719,-69.89785766601562,13.18566608428955,-20.95525550842285,70.5322265625,0.9098252058029175,30.785242080688477,16.441394805908203,-14.689453125,0.9031429886817932,13.03121566772461,-0.20942382514476776,-22.512392044067383,14.554181098937988,-8.697277069091797,56.533817291259766,11.276327133178711,27.231733322143555,2.7252004146575928,15.562872886657715,26.952756881713867,-73.38665771484375,-26.653186798095703,3.264404058456421,60.33231735229492,-21.3763370513916,63.257266998291016,14.333086967468262,-14.941180229187012,-27.45772361755371,29.420001983642578,26.33622932434082,-14.23763656616211,35.996673583984375,11.946463584899902,35.915958404541016,28.941347122192383,-27.143508911132812,-26.6876220703125,25.4027042388916,9.66447639465332,9.544426918029785,26.568775177001953,-20.0052490234375,-69.61100006103516,11.23015308380127,-21.120166778564453,9.262831687927246,-64.16488647460938,20.20758819580078,28.839141845703125,-11.576770782470703,19.513343811035156,-30.295602798461914,64.89431762695312,-6.902569770812988,-1.5437873601913452,-6.610645294189453,-73.35567474365234,16.176515579223633,29.17734146118164,-7.555505275726318,21.519493103027344,-25.92339515686035,65.34331512451172,-14.558905601501465,2.371262311935425,-7.55475378036499,-67.21542358398438,16.76586151123047,29.184494018554688,-12.597091674804688,20.35029411315918,-29.97920036315918,69.47447204589844,-5.972781658172607,2.0419695377349854,-29.475690841674805,-64.09283447265625,-25.793272018432617,-31.09130859375,-25.578004837036133,64.14970397949219,-26.624080657958984,-62.823081970214844,-23.998231887817383,3.1343255043029785,-27.984102249145508,2.461305618286133,25.777950286865234,22.84153938293457,-14.855648040771484,-7.865990161895752,-7.365467071533203,-31.735872268676758,19.13984489440918,-69.9436264038086,-69.23050689697266,31.989561080932617,28.93579864501953,-5.724867820739746,-4.030492782592773,28.178205490112305,-68.23384857177734,16.320758819580078,30.267507553100586,64.47960662841797,-8.563032150268555,-6.233600616455078,-5.687917709350586,-9.105439186096191,-8.476300239562988,22.030513763427734,67.42190551757812,67.17935943603516,66.78571319580078,21.271207809448242,-6.327763080596924,22.191116333007812,-32.02996063232422,-66.5904312133789,-7.399265289306641,-31.229740142822266,28.02661895751953,-0.6263295412063599,30.646865844726562,-65.43053436279297,-66.36463165283203,16.891311645507812,-12.114616394042969,55.59750747680664,-7.549872875213623,28.897464752197266,16.352914810180664,-11.963129043579102,21.741594314575195,64.7936782836914,-5.0389628410339355,19.61054039001465,-8.793234825134277,-6.823594570159912,23.551586151123047,-13.231918334960938,64.15889739990234,4.808140754699707,27.799930572509766,-8.364453315734863,22.078367233276367,17.363862991333008,-72.8396224975586,-29.852924346923828,-12.965596199035645,66.00213623046875,-6.905716896057129,67.84184265136719,22.731834411621094,-13.249815940856934,-28.98497772216797,30.92561912536621,23.314077377319336,-11.974613189697266,28.616785049438477,1.3852664232254028,30.665685653686523,30.981874465942383,-27.015506744384766,-7.80954122543335,5.194037914276123,-26.08838653564453,21.8094425201416,0.5548657774925232,1.7882211208343506,23.139989852905273,6.151655197143555,-72.2635498046875,2.4756410121917725,-6.481130123138428,-2.8814032077789307,-75.70100402832031,10.616549491882324,27.58070945739746,-5.325414657592773,29.39579963684082,-32.94297790527344,59.53419494628906,-6.146134853363037,-3.510719060897827,-32.65616989135742,-72.9605484008789,14.405946731567383,27.87105941772461,-13.909884452819824,24.577226638793945,-27.049890518188477,59.851322174072266,-5.592374324798584,5.20632266998291,-27.85479736328125,-70.54336547851562,13.744330406188965,31.26725196838379,-17.63990592956543,27.640491485595703,-27.24720001220703,59.5642204284668,-5.158642292022705,-5.068756580352783,-27.85352325439453,-63.00105285644531,-18.727970123291016,-33.300331115722656,-26.621742248535156,60.434452056884766,-34.56254959106445,-75.50334167480469,-18.36763572692871,-1.9963469505310059,-25.32697868347168,-1.4886771440505981,25.557252883911133,13.357491493225098,-4.707880020141602,-7.942054271697998,-14.859228134155273,-27.915714263916016,14.812080383300781,-72.9399185180664,-71.09146118164062,28.35009765625,29.114013671875,-5.834142684936523,-5.677880764007568,28.731056213378906,-72.14630889892578,47.088653564453125,27.36749839782715,58.47865676879883,-15.603920936584473,-14.258427619934082,-4.314145565032959,-15.225144386291504,-13.526430130004883,28.503076553344727,59.589698791503906,59.529701232910156,59.8403434753418,27.741355895996094,-25.300039291381836,13.956998825073242,-33.34532928466797,-64.99381256103516,-18.202320098876953,-26.63968849182129,29.232955932617188,-0.727318525314331,31.11353874206543,-70.2278060913086,-74.3800048828125,15.447927474975586,-4.386477947235107,55.82301330566406,-13.799057960510254,34.130802154541016,16.088960647583008,-7.271402835845947,26.109167098999023,60.666255950927734,-13.07699203491211,15.609267234802246,-11.717534065246582,-24.075820922851562,13.96191692352295,-5.856947898864746,61.02788543701172,-2.1943392753601074,28.928985595703125,-11.999829292297363,14.216912269592285,26.95911407470703,-74.85872650146484,-31.763559341430664,-13.868949890136719,58.867191314697266,-18.108386993408203,50.964393615722656,13.268974304199219,-4.810834884643555,-26.51418685913086,25.9671688079834,27.191524505615234,-5.355655193328857,31.616695404052734,-2.070021152496338,31.9362735748291,16.586280822753906,-29.588191986083984,-7.097236633300781,-24.62529182434082,-27.347450256347656,26.197404861450195,5.264124870300293,6.146773338317871,29.474279403686523,-34.193878173828125,-67.99009704589844,-0.37405693531036377,-24.663272857666016,-1.812351107597351,-65.83086395263672,49.17261505126953,23.160694122314453,-5.632653713226318,21.2289981842041,-33.08053970336914,56.341758728027344,-21.37113380432129,13.720284461975098,-15.83755874633789,-73.29605865478516,47.152626037597656,21.707008361816406,-4.359949588775635,19.361129760742188,-32.795963287353516,57.24948501586914,-16.30937957763672,12.130236625671387,-30.869770050048828,-64.3912582397461,47.536476135253906,21.857154846191406,-3.3241448402404785,25.840251922607422,-31.87096405029297,57.36415100097656,-5.447671890258789,11.481451034545898,-15.245258331298828,-65.37075805664062,3.6252145767211914,-31.608407974243164,-31.900436401367188,54.989532470703125,-31.97871208190918,-74.01151275634766,-32.42288589477539,13.74339771270752,-15.079141616821289,12.138739585876465,22.528650283813477,47.002498626708984,-10.137571334838867,-14.63660717010498,-5.5536394119262695,-31.617021560668945,48.341068267822266,-69.33667755126953,-77.15403747558594,23.553403854370117,23.0955753326416,-18.59382438659668,11.96434497833252,24.522249221801758,-65.88985443115234,46.63206481933594,23.130842208862305,53.1478271484375,-6.437858581542969,-3.3800370693206787,-4.978482246398926,-4.574207782745361,-5.2614054679870605,22.856372833251953,55.266422271728516,55.813961029052734,56.52357864379883,19.871864318847656,-30.609220504760742,48.61051559448242,-31.201393127441406,-71.54817962646484,-26.3027286529541,-33.409786224365234,22.792205810546875,12.463464736938477,29.107933044433594,-70.83155822753906,-65.01640319824219,47.64250946044922,-16.218822479248047,55.27985382080078,-6.4131927490234375,33.77786636352539,48.61342239379883,-15.355430603027344,21.183927536010742,52.80625915527344,-4.198020935058594,47.336456298828125,-3.9822988510131836,-15.420353889465332,49.23628616333008,-13.30112361907959,56.4100341796875,12.337737083435059,22.806509017944336,-5.166879653930664,19.356664657592773,22.48345184326172,-63.744300842285156,-31.885103225708008,-4.929948806762695,55.741878509521484,-15.252833366394043,54.33672332763672,50.46901321411133,-13.982194900512695,-30.63665199279785,26.422365188598633,22.949586868286133,-17.655040740966797,22.506893157958984,14.48051929473877,27.44502067565918,23.159101486206055,-33.593868255615234,-15.186363220214844,-26.156230926513672,-32.69176483154297,20.73644256591797,13.597807884216309,12.846911430358887,21.501766204833984,-30.271331787109375,-66.3909912109375,12.481657028198242,-29.121074676513672,13.601762771606445,-62.607059478759766,18.961532592773438,26.846555709838867,-7.431049346923828,26.215564727783203,-26.505678176879883,68.3853530883789,-14.801098823547363,1.4766162633895874,6.084310054779053,-63.34101867675781,21.908306121826172,26.584815979003906,-8.205827713012695,26.842012405395508,-31.884544372558594,67.80875396728516,-4.852915287017822,1.9151636362075806,7.502668380737305,-62.85332107543945,22.255386352539062,25.885759353637695,-6.831214427947998,25.1239013671875,-31.612775802612305,67.53193664550781,-1.1059350967407227,1.614901065826416,6.906448841094971,-66.16130828857422,7.941991806030273,-20.582185745239258,-30.38078498840332,68.65589904785156,-31.764759063720703,-72.50289154052734,7.814606189727783,2.3568592071533203,7.394683361053467,2.120975971221924,24.695932388305664,17.47466468811035,-1.0479785203933716,-0.9798262119293213,3.104931354522705,-29.909568786621094,17.56635856628418,-66.61213684082031,-66.06790924072266,21.968486785888672,24.154691696166992,-4.656195640563965,2.579824686050415,21.187255859375,-66.23554229736328,19.700458526611328,21.202281951904297,70.47821044921875,-7.518210411071777,-7.257621765136719,-4.390154838562012,-8.16767406463623,-6.271809101104736,23.962039947509766,65.73361206054688,66.9991226196289,67.25324249267578,26.98896026611328,7.456413269042969,20.2113094329834,-21.88889503479004,-66.04432678222656,8.657674789428711,-21.565839767456055,22.756502151489258,-2.646512985229492,27.361900329589844,-64.05419158935547,-66.68399810791016,19.463424682617188,-3.846831798553467,66.90313720703125,-7.4342145919799805,32.777706146240234,21.172502517700195,-1.248529314994812,26.58285903930664,52.42007827758789,-8.238860130310059,21.348045349121094,-9.31138801574707,8.205613136291504,19.760616302490234,-3.540269136428833,65.15491485595703,8.21143913269043,22.023332595825195,-9.332090377807617,20.16745948791504,13.259602546691895,-68.48690032958984,-24.020368576049805,-6.7774834632873535,52.91887664794922,7.4057183265686035,53.06145095825195,19.09373664855957,-3.4039461612701416,-29.490835189819336,26.479623794555664,13.903121948242188,-2.50404691696167,25.908069610595703,11.428948402404785,25.531831741333008,26.588258743286133,-30.636735916137695,-13.941812515258789,6.74026346206665,-29.82697296142578,27.367511749267578,-0.9491050243377686,10.29636287689209,13.66986083984375,6.549510955810547,-66.18197631835938,2.0800392627716064,6.441947937011719,3.1667943000793457,-70.89493560791016,22.868181228637695,31.87137222290039,-8.230148315429688,28.7874698638916,-27.246580123901367,58.835853576660156,-10.996341705322266,25.30673599243164,-25.034887313842773,-76.35738372802734,21.70020294189453,31.604169845581055,-8.595938682556152,26.88202476501465,-26.61458969116211,58.74082946777344,-13.526963233947754,17.254638671875,-32.837032318115234,-64.19972229003906,20.308452606201172,32.87363815307617,-8.549400329589844,26.629072189331055,-27.543325424194336,59.983524322509766,-12.001289367675781,11.154232025146484,-29.259340286254883,-68.71971130371094,-32.36236572265625,-24.565519332885742,-29.36922836303711,60.69221115112305,-26.8857364654541,-67.71846771240234,-7.341702461242676,-4.443141937255859,-31.08374786376953,-7.528541088104248,27.686357498168945,17.60801887512207,-16.191852569580078,-10.093249320983887,-6.506905555725098,-26.76725959777832,17.926876068115234,-72.8372802734375,-63.975563049316406,29.372026443481445,35.7076301574707,-15.413646697998047,-7.766586780548096,32.19070816040039,-61.78346252441406,45.39413070678711,33.9942626953125,56.75688171386719,-6.036208152770996,-5.727551460266113,-11.150527000427246,-4.233828544616699,-3.743562698364258,25.353870391845703,58.46625518798828,60.66173553466797,58.66120910644531,26.906034469604492,-29.68655014038086,15.62138843536377,-24.581409454345703,-66.15316009521484,-22.84061622619629,-25.012798309326172,33.90818786621094,-2.0662126541137695,35.0435676574707,-64.8033218383789,-70.85977172851562,23.349424362182617,-10.611330032348633,61.540836334228516,-4.802582740783691,22.3494815826416,19.9990177154541,-7.720619201660156,29.829526901245117,61.17848587036133,-9.708680152893066,21.89309310913086,-9.672094345092773,-32.70069122314453,22.826885223388672,-15.456912994384766,60.606632232666016,25.159717559814453,28.154375076293945,-10.261033058166504,21.37446403503418,32.2232551574707,-67.7361068725586,-25.80986976623535,-3.095182418823242,56.83928298950195,-27.03223991394043,67.72332000732422,16.381336212158203,-12.000043869018555,-28.155941009521484,26.791309356689453,27.24698829650879,-11.09705924987793,34.45303726196289,-7.1821184158325195,-2.9713926315307617,26.955297470092773,-26.742769241333008,-20.21184539794922,-33.549217224121094,-27.018701553344727,28.677501678466797,-7.137050628662109,7.398301601409912,31.42583465576172,-33.839393615722656,-67.8006591796875,-7.089361667633057,-31.540115356445312,25.349163055419922,45.91160202026367,28.391149520874023,-15.467341423034668,27.811384201049805,-30.605785369873047,67.14567565917969,-11.110884666442871,0.19358988106250763,-25.765727996826172,-73.73760986328125,45.77891159057617,36.07505798339844,-13.120209693908691,28.28457260131836,-30.64011573791504,68.51402282714844,-13.334644317626953,0.35286733508110046,-26.051321029663086,-73.31211853027344,45.3568115234375,28.35233497619629,-13.208773612976074,23.11912727355957,-30.861391067504883,66.10151672363281,-10.454127311706543,1.013085126876831,-26.031774520874023,-70.54927062988281,-29.546613693237305,-29.61332893371582,-30.054067611694336,64.24309539794922,-30.535728454589844,-72.11363220214844,-27.619482040405273,0.733230710029602,-27.318113327026367,-1.7236343622207642,20.426780700683594,50.39905548095703,-13.389949798583984,-8.234416007995605,-13.16131591796875,-29.77445411682129,48.33808898925781,28.68381690979004,-13.240984916687012,-0.10430875420570374,25.108612060546875,-71.34742736816406,47.620880126953125,26.695009231567383,67.36767578125,-11.67108154296875,-13.20803165435791,-12.001749992370605,-16.752504348754883,-16.50960922241211,22.10953140258789,63.84920883178711,64.37654113769531,66.60696411132812,23.22317886352539,-25.928518295288086,49.843231201171875,-30.020017623901367,-72.7729721069336,-25.924396514892578,-29.890338897705078,24.62725257873535,-0.2289460003376007,25.18145751953125,-70.91239929199219,-74.06421661376953,48.317874908447266,-10.605777740478516,65.97906494140625,-17.366580963134766,30.34917449951172,45.998836517333984,33.717437744140625,64.0276107788086,-15.15490436553955,48.168548583984375,-17.466018676757812,-27.487009048461914,49.47119140625,-11.921051979064941,63.87393569946289,-4.934593200683594,22.025556564331055,-10.734840393066406,49.62195587158203,29.277326583862305,-71.30414581298828,-30.200014114379883,-16.37320899963379,64.71743774414062,-26.355287551879883,63.11553192138672,47.1837043762207,-10.37731647491455,-29.961116790771484,27.174108505249023,19.85777473449707,-13.178592681884766,26.030885696411133,1.2118850946426392,24.78211784362793,31.82072639465332,-30.17112159729004,-11.43476390838623,-29.567901611328125,-28.340044021606445,18.17854118347168,18.513530731201172,-15.42092227935791,-73.94361877441406,-3.809959650039673,-25.86003303527832,0.8485528230667114,-68.5816879272461,16.91544532775879,32.10704803466797,-13.385947227478027,18.55418586730957,-29.753923416137695,65.56639862060547,-15.241803169250488,0.8876155018806458,-15.531879425048828,-71.931396484375,18.670608520507812,24.847871780395508,-13.891036987304688,18.746681213378906,-30.78028106689453,61.98146438598633,-13.029911994934082,4.204095840454102,-15.864680290222168,-76.22279357910156,22.91218376159668,24.062156677246094,-12.35715389251709,19.539735794067383,-31.888338088989258,65.08723449707031,-15.568283081054688,5.884883403778076,-17.049055099487305,-73.39268493652344,-22.579654693603516,-29.80811882019043,-31.207300186157227,57.214508056640625,-29.835968017578125,-70.84162139892578,-15.985284805297852,4.381548881530762,-23.021921157836914,8.305876731872559,19.526248931884766,16.848255157470703,-15.655643463134766,-13.684354782104492,-6.653878688812256,-29.314298629760742,23.360244750976562,-77.5076904296875,-77.44428253173828,-16.042314529418945,4.311026573181152,22.30980110168457,-77.37578582763672,21.806665420532227,24.294984817504883,55.23775100708008,-11.288376808166504,-5.996373176574707,-17.444862365722656,-10.090601921081543,-11.261497497558594,18.533048629760742,69.25602722167969,65.28987884521484,65.866455078125,16.135372161865234,-16.012983322143555,23.211196899414062,-27.73423957824707,-72.16050720214844,1.2905102968215942,-30.262178421020508,27.326677322387695,5.059972286224365,21.09396743774414,-77.7243881225586,-77.22006225585938,23.73710823059082,-17.424564361572266,52.44232177734375,-12.990151405334473,27.851144790649414,22.530412673950195,-17.6254940032959,18.755599975585938,69.06875610351562,-12.993359565734863,15.863066673278809,-3.544799327850342,-15.83501148223877,20.174419403076172,-13.955782890319824,66.00829315185547,5.024275302886963,17.560640335083008,-13.349672317504883,22.668947219848633,20.291688919067383,-69.15310668945312,-24.094226837158203,-12.258535385131836,51.947025299072266,-19.620779037475586,64.95197296142578,23.516407012939453,-17.060405731201172,-24.95220375061035,24.921897888183594,18.809141159057617,-16.94363021850586,31.2685489654541,1.8785258531570435,24.839738845825195,23.524572372436523,-29.814239501953125,-16.477676391601562,-20.83331298828125,-22.940210342407227,21.603410720825195,4.67370080947876,4.903842926025391,17.27095603942871,-15.077898025512695,-74.64816284179688,6.993337631225586,-19.17889404296875,6.121633529663086,-68.54447937011719,16.10649871826172,32.11899948120117,-10.661208152770996,22.590774536132812,-23.77497673034668,64.78716278076172,-18.133262634277344,-0.05477685108780861,-20.217052459716797,-67.02741241455078,16.066513061523438,27.51863670349121,-5.406966209411621,29.33026885986328,-24.201194763183594,54.43464660644531,-8.883796691894531,8.364280700683594,-24.187856674194336,-66.12940216064453,18.64689826965332,25.507741928100586,-8.95401668548584,22.938058853149414,-27.36875343322754,64.70208740234375,-4.469400882720947,7.622711658477783,-20.208980560302734,-63.65243911743164,-26.5914249420166,-28.695541381835938,-26.739303588867188,65.50580596923828,-27.56434440612793,-61.621612548828125,-27.665321350097656,2.604335308074951,-26.336395263671875,5.773929119110107,28.564857482910156,18.648393630981445,-17.90717315673828,-17.34136962890625,-1.6180461645126343,-22.15730094909668,18.29676628112793,-61.12936019897461,-61.46822738647461,24.54559898376465,26.19188690185547,-14.737678527832031,-10.516495704650879,31.24439811706543,-64.24874877929688,24.739444732666016,27.332992553710938,60.96733093261719,-8.703404426574707,-2.3402273654937744,-18.794414520263672,2.1325302124023438,-5.073485851287842,31.00093650817871,65.05553436279297,56.958229064941406,56.602142333984375,24.003875732421875,-21.348796844482422,23.230178833007812,-31.140247344970703,-62.92842483520508,-23.03761863708496,-23.75442123413086,26.612751007080078,2.8618011474609375,22.65294647216797,-63.365562438964844,-64.05091094970703,22.53059196472168,-18.14558982849121,63.92412567138672,0.6570828557014465,27.620452880859375,18.846458435058594,-17.91927146911621,25.98905372619629,64.4298324584961,-1.026216745376587,22.807144165039062,-11.138532638549805,-26.317276000976562,22.7862491607666,-14.017011642456055,64.67144012451172,4.418085098266602,25.407224655151367,-4.913659572601318,23.359220504760742,28.018930435180664,-72.33274841308594,-26.077831268310547,0.8342685103416443,57.285526275634766,-23.667203903198242,63.93632125854492,18.59377670288086,-19.14723014831543,-26.476089477539062,29.1743106842041,24.3778018951416,-5.429162979125977,32.936981201171875,24.525659561157227,30.02485466003418,26.552244186401367,-30.14196014404297,-6.667205810546875,-23.121023178100586,-28.513729095458984,26.83784294128418,7.460812568664551,6.1772565841674805,18.60395622253418,-30.123682022094727,-62.80663299560547,6.712324619293213,-23.92106819152832,5.877965450286865,-76.20124053955078,9.315632820129395,21.37510108947754,-9.568745613098145,32.602622985839844,-27.433895111083984,60.61185836791992,-18.446992874145508,9.146798133850098,-25.02666473388672,-68.27283477783203,18.573200225830078,24.123367309570312,-5.836910724639893,33.11128234863281,-28.999021530151367,60.900306701660156,-9.467022895812988,9.589537620544434,-27.000307083129883,-69.42049407958984,12.36179256439209,21.81503677368164,-14.449918746948242,33.24920654296875,-23.141788482666016,64.44055938720703,-10.981578826904297,7.783045291900635,-27.124164581298828,-76.81694793701172,-27.876712799072266,-24.450563430786133,-23.51001739501953,63.923675537109375,-30.905282974243164,-64.87567901611328,-26.273542404174805,7.254868507385254,-25.98883056640625,9.823838233947754,32.06681823730469,24.728649139404297,-9.409502983093262,-12.417491912841797,-10.78383731842041,-24.413545608520508,23.56027603149414,-68.08660888671875,-67.88252258300781,20.901098251342773,21.132957458496094,-10.999363899230957,8.904243469238281,22.21063232421875,-61.63929748535156,12.536087989807129,21.443544387817383,59.70255661010742,-2.663752794265747,-7.080519676208496,-19.28980827331543,-9.74095630645752,-9.865378379821777,32.31980895996094,60.10187530517578,60.82038497924805,59.43328094482422,29.573009490966797,-26.067914962768555,21.752973556518555,-23.309215545654297,-66.5884780883789,-26.45572280883789,55.9387321472168,26.606849670410156,8.477617263793945,21.570232391357422,-68.01786041259766,-69.2488784790039,16.569997787475586,-17.460758209228516,61.327056884765625,-10.591885566711426,24.386960983276367,22.386770248413086,-16.02757453918457,29.46821403503418,64.33910369873047,-1.2837175130844116,23.26190185546875,-10.580021858215332,-29.494136810302734,23.84162712097168,-9.221153259277344,61.597923278808594,5.244672775268555,32.569881439208984,-8.390571594238281,24.272266387939453,24.556243896484375,-68.69010925292969,-22.515949249267578,-10.947039604187012,62.93526840209961,-28.923011779785156,61.948280334472656,25.134078979492188,-14.739814758300781,-28.05022430419922,28.50310516357422,28.202880859375,-7.216197967529297,22.238428115844727,6.492433547973633,24.295392990112305,23.097614288330078,-22.718658447265625,-13.387096405029297,-28.537643432617188,-30.930545806884766,27.722393035888672,10.15883731842041,9.559014320373535,29.55278968811035,-30.168855667114258,-64.9477767944336,5.808910369873047,-72.60952758789062,10.074331283569336,33.4132080078125,-11.562891960144043,20.72100257873535,-30.275083541870117,62.329750061035156,-8.796504020690918,-4.428555488586426,-28.752513885498047,-73.31306457519531,9.751157760620117,35.14591979980469,-13.73095417022705,25.525306701660156,-28.010555267333984,62.42759704589844,-7.716015338897705,-4.270068168640137,-31.068986892700195,-72.80158996582031,11.96521282196045,32.832366943359375,-10.397415161132812,23.708911895751953,-26.624860763549805,64.14643859863281,-8.921317100524902,-4.209836483001709,-27.85009765625,-73.50787353515625,-27.407745361328125,-27.922033309936523,-27.804983139038086,58.13145446777344,-28.046533584594727,-72.88987731933594,-30.199172973632812,-2.992849826812744,-30.91999053955078,-3.5997140407562256,25.428226470947266,10.602462768554688,-10.015130996704102,-10.601998329162598,-7.328263759613037,-30.712404251098633,10.00011920928955,-71.92159271240234,-72.23174285888672,31.892911911010742,33.06913757324219,-6.650985240936279,-8.461545944213867,33.15895080566406,-76.84314727783203,9.230461120605469,33.83307647705078,63.02521896362305,-13.053564071655273,-11.920863151550293,-8.264302253723145,-13.721975326538086,-11.126932144165039,25.090896606445312,64.00159454345703,68.06561279296875,63.0461311340332,24.5040283203125,-27.69469451904297,9.1917085647583,-26.62209129333496,-76.08456420898438,-28.661903381347656,-24.412952423095703,33.010353088378906,-6.177491188049316,33.00435256958008,-76.71258544921875,-71.67875671386719,8.8425931930542,-9.34468936920166,62.23081970214844,-11.428276062011719,36.214420318603516,9.649604797363281,-10.616134643554688,25.635385513305664,61.60427474975586,-8.42680549621582,11.973170280456543,-7.176950454711914,-29.972116470336914,9.881484985351562,-9.742195129394531,61.350406646728516,-6.1875152587890625,23.463788986206055,-12.051970481872559,9.575515747070312,23.83510398864746,-73.55412292480469,-30.851043701171875,-10.310262680053711,61.45986557006836,-27.880102157592773,64.0168228149414,8.95195484161377,-9.367775917053223,-31.181364059448242,25.142736434936523,19.733091354370117,-7.765826225280762,31.345441818237305,-6.78388786315918,25.565298080444336,33.788055419921875,-27.26496124267578,-9.078473091125488,-27.611310958862305,-29.542442321777344,24.948503494262695,-5.992521286010742,-5.371679782867432,25.73906707763672,-31.269126892089844,-70.39130401611328,-6.703439712524414,-30.922941207885742,-5.0000481605529785,-67.23887634277344,25.894262313842773,26.11011505126953,-2.014427900314331,20.616342544555664,-29.11446762084961,59.874122619628906,-22.04475975036621,17.584196090698242,7.463406562805176,-67.85930633544922,24.621414184570312,23.0535888671875,2.743504762649536,19.949953079223633,-30.23393440246582,58.93305206298828,4.131324291229248,-65.9289779663086,24.43874168395996,27.3145694732666,-1.1664252281188965,19.26215934753418,-29.83373260498047,54.69892120361328,-21.21137046813965,8.078617095947266,3.946483850479126,-64.95415496826172,4.443262100219727,-22.70707130432129,-26.742633819580078,59.14088821411133,-29.734838485717773,-69.14274597167969,-5.164572238922119,12.69063663482666,-22.391273498535156,12.32331657409668,22.086715698242188,24.181068420410156,-15.759819984436035,-18.859106063842773,-0.25675705075263977,-27.99728012084961,25.149532318115234,-66.1865234375,-68.8219223022461,21.378366470336914,28.40163230895996,-19.74811553955078,8.223776817321777,21.846294403076172,-68.67876434326172,25.240619659423828,27.39154624938965,59.97610092163086,-0.3143191337585449,-0.26582688093185425,-18.39505958557129,-1.739562749862671,0.21091945469379425,18.727252960205078,56.794471740722656,56.2462272644043,60.37511444091797,-9.871715545654297,4.869138240814209,24.109479904174805,-28.632596969604492,-66.670166015625,-24.151710510253906,-23.346729278564453,22.85911750793457,11.965728759765625,-76.4319839477539,24.945823669433594,-17.09471893310547,60.157371520996094,-0.3535885810852051,32.5843620300293,25.281221389770508,-16.802656173706055,-9.903474807739258,57.51963424682617,-1.7089167833328247,24.58281898498535,-0.7427397966384888,-6.146572113037109,23.710020065307617,-19.185373306274414,62.472930908203125,12.846299171447754,22.729921340942383,-2.195998430252075,23.707128524780273,21.166181564331055,-65.95502471923828,-31.110218048095703,-2.0743155479431152,55.79874038696289,-22.509248733520508,55.18852233886719,23.978878021240234,-12.609099388122559,-25.97478485107422,20.589229583740234,18.9581241607666,-15.051653861999512,34.8320198059082,20.90161895751953,-30.784263610839844,-18.32032012939453,-1.7228379249572754,-31.075929641723633,-9.824528694152832,21.276891708374023,-22.717370986938477,-66.56696319580078,12.888747215270996,-5.818774223327637,12.756844520568848,-73.56627655029297,20.44805908203125,30.013132095336914,-7.983612537384033,29.858022689819336,-27.78241539001465,58.55916976928711,-15.93839168548584,6.024298667907715,-25.800722122192383,-72.28009033203125,18.95262336730957,27.409732818603516,-2.1677119731903076,26.173877716064453,-26.993642807006836,61.13405990600586,-7.050368309020996,4.66218900680542,-24.56791114807129,-75.02088165283203,22.33232879638672,23.872657775878906,-15.407876968383789,26.125778198242188,-26.53070831298828,59.31679916381836,-15.787723541259766,6.759829521179199,-24.095199584960938,-68.64424896240234,-22.93578338623047,-26.328542709350586,-28.541034698486328,59.96353530883789,-30.09046745300293,-64.75639343261719,-32.580631256103516,5.197526931762695,-29.701650619506836,3.229623556137085,25.035417556762695,19.755756378173828,-12.146088600158691,-4.862692356109619,-1.9360496997833252,-27.100767135620117,18.514829635620117,-73.9522933959961,-68.3666000366211,36.2080192565918,32.99753952026367,-13.643709182739258,2.116518259048462,35.821502685546875,-62.33079528808594,21.956745147705078,35.60173034667969,60.52899932861328,-2.992672920227051,-3.270801067352295,-10.238605499267578,-7.8183207511901855,-2.523172616958618,24.81578826904297,51.73394775390625,60.367000579833984,70.85853576660156,29.42941665649414,-24.509794235229492,16.829130172729492,-32.79975128173828,-73.85806274414062,-23.31982421875,-26.623083114624023,32.751312255859375,7.467029094696045,25.06103515625,-67.28019714355469,-74.96027374267578,17.068391799926758,-14.205168724060059,52.782379150390625,0.38857030868530273,23.946195602416992,17.763484954833984,-12.490328788757324,29.607379913330078,52.77637481689453,-1.9509456157684326,16.372547149658203,-7.398761749267578,-23.952980041503906,20.983980178833008,-11.904769897460938,53.80112075805664,9.855283737182617,29.988378524780273,-15.473173141479492,17.410903930664062,25.822589874267578,-69.27046203613281,-29.689313888549805,-4.410912990570068,54.052734375,-23.858293533325195,61.55817413330078,17.344669342041016,-19.804624557495117,-25.55023956298828,28.170175552368164,30.885696411132812,-8.369199752807617,32.144649505615234,7.0430426597595215,32.195457458496094,34.8310546875,-25.918771743774414,-14.633830070495605,-20.919605255126953,-29.08224868774414,29.58127212524414,12.938204765319824,14.46259880065918,26.973255157470703,-22.93365478515625,-63.81013488769531,9.71318531036377,-20.69967269897461,5.7882771492004395],\"yaxis\":\"y\",\"type\":\"scattergl\"}],                        {\"template\":{\"data\":{\"histogram2dcontour\":[{\"type\":\"histogram2dcontour\",\"colorbar\":{\"outlinewidth\":0,\"ticks\":\"\"},\"colorscale\":[[0.0,\"#0d0887\"],[0.1111111111111111,\"#46039f\"],[0.2222222222222222,\"#7201a8\"],[0.3333333333333333,\"#9c179e\"],[0.4444444444444444,\"#bd3786\"],[0.5555555555555556,\"#d8576b\"],[0.6666666666666666,\"#ed7953\"],[0.7777777777777778,\"#fb9f3a\"],[0.8888888888888888,\"#fdca26\"],[1.0,\"#f0f921\"]]}],\"choropleth\":[{\"type\":\"choropleth\",\"colorbar\":{\"outlinewidth\":0,\"ticks\":\"\"}}],\"histogram2d\":[{\"type\":\"histogram2d\",\"colorbar\":{\"outlinewidth\":0,\"ticks\":\"\"},\"colorscale\":[[0.0,\"#0d0887\"],[0.1111111111111111,\"#46039f\"],[0.2222222222222222,\"#7201a8\"],[0.3333333333333333,\"#9c179e\"],[0.4444444444444444,\"#bd3786\"],[0.5555555555555556,\"#d8576b\"],[0.6666666666666666,\"#ed7953\"],[0.7777777777777778,\"#fb9f3a\"],[0.8888888888888888,\"#fdca26\"],[1.0,\"#f0f921\"]]}],\"heatmap\":[{\"type\":\"heatmap\",\"colorbar\":{\"outlinewidth\":0,\"ticks\":\"\"},\"colorscale\":[[0.0,\"#0d0887\"],[0.1111111111111111,\"#46039f\"],[0.2222222222222222,\"#7201a8\"],[0.3333333333333333,\"#9c179e\"],[0.4444444444444444,\"#bd3786\"],[0.5555555555555556,\"#d8576b\"],[0.6666666666666666,\"#ed7953\"],[0.7777777777777778,\"#fb9f3a\"],[0.8888888888888888,\"#fdca26\"],[1.0,\"#f0f921\"]]}],\"heatmapgl\":[{\"type\":\"heatmapgl\",\"colorbar\":{\"outlinewidth\":0,\"ticks\":\"\"},\"colorscale\":[[0.0,\"#0d0887\"],[0.1111111111111111,\"#46039f\"],[0.2222222222222222,\"#7201a8\"],[0.3333333333333333,\"#9c179e\"],[0.4444444444444444,\"#bd3786\"],[0.5555555555555556,\"#d8576b\"],[0.6666666666666666,\"#ed7953\"],[0.7777777777777778,\"#fb9f3a\"],[0.8888888888888888,\"#fdca26\"],[1.0,\"#f0f921\"]]}],\"contourcarpet\":[{\"type\":\"contourcarpet\",\"colorbar\":{\"outlinewidth\":0,\"ticks\":\"\"}}],\"contour\":[{\"type\":\"contour\",\"colorbar\":{\"outlinewidth\":0,\"ticks\":\"\"},\"colorscale\":[[0.0,\"#0d0887\"],[0.1111111111111111,\"#46039f\"],[0.2222222222222222,\"#7201a8\"],[0.3333333333333333,\"#9c179e\"],[0.4444444444444444,\"#bd3786\"],[0.5555555555555556,\"#d8576b\"],[0.6666666666666666,\"#ed7953\"],[0.7777777777777778,\"#fb9f3a\"],[0.8888888888888888,\"#fdca26\"],[1.0,\"#f0f921\"]]}],\"surface\":[{\"type\":\"surface\",\"colorbar\":{\"outlinewidth\":0,\"ticks\":\"\"},\"colorscale\":[[0.0,\"#0d0887\"],[0.1111111111111111,\"#46039f\"],[0.2222222222222222,\"#7201a8\"],[0.3333333333333333,\"#9c179e\"],[0.4444444444444444,\"#bd3786\"],[0.5555555555555556,\"#d8576b\"],[0.6666666666666666,\"#ed7953\"],[0.7777777777777778,\"#fb9f3a\"],[0.8888888888888888,\"#fdca26\"],[1.0,\"#f0f921\"]]}],\"mesh3d\":[{\"type\":\"mesh3d\",\"colorbar\":{\"outlinewidth\":0,\"ticks\":\"\"}}],\"scatter\":[{\"fillpattern\":{\"fillmode\":\"overlay\",\"size\":10,\"solidity\":0.2},\"type\":\"scatter\"}],\"parcoords\":[{\"type\":\"parcoords\",\"line\":{\"colorbar\":{\"outlinewidth\":0,\"ticks\":\"\"}}}],\"scatterpolargl\":[{\"type\":\"scatterpolargl\",\"marker\":{\"colorbar\":{\"outlinewidth\":0,\"ticks\":\"\"}}}],\"bar\":[{\"error_x\":{\"color\":\"#2a3f5f\"},\"error_y\":{\"color\":\"#2a3f5f\"},\"marker\":{\"line\":{\"color\":\"#E5ECF6\",\"width\":0.5},\"pattern\":{\"fillmode\":\"overlay\",\"size\":10,\"solidity\":0.2}},\"type\":\"bar\"}],\"scattergeo\":[{\"type\":\"scattergeo\",\"marker\":{\"colorbar\":{\"outlinewidth\":0,\"ticks\":\"\"}}}],\"scatterpolar\":[{\"type\":\"scatterpolar\",\"marker\":{\"colorbar\":{\"outlinewidth\":0,\"ticks\":\"\"}}}],\"histogram\":[{\"marker\":{\"pattern\":{\"fillmode\":\"overlay\",\"size\":10,\"solidity\":0.2}},\"type\":\"histogram\"}],\"scattergl\":[{\"type\":\"scattergl\",\"marker\":{\"colorbar\":{\"outlinewidth\":0,\"ticks\":\"\"}}}],\"scatter3d\":[{\"type\":\"scatter3d\",\"line\":{\"colorbar\":{\"outlinewidth\":0,\"ticks\":\"\"}},\"marker\":{\"colorbar\":{\"outlinewidth\":0,\"ticks\":\"\"}}}],\"scattermapbox\":[{\"type\":\"scattermapbox\",\"marker\":{\"colorbar\":{\"outlinewidth\":0,\"ticks\":\"\"}}}],\"scatterternary\":[{\"type\":\"scatterternary\",\"marker\":{\"colorbar\":{\"outlinewidth\":0,\"ticks\":\"\"}}}],\"scattercarpet\":[{\"type\":\"scattercarpet\",\"marker\":{\"colorbar\":{\"outlinewidth\":0,\"ticks\":\"\"}}}],\"carpet\":[{\"aaxis\":{\"endlinecolor\":\"#2a3f5f\",\"gridcolor\":\"white\",\"linecolor\":\"white\",\"minorgridcolor\":\"white\",\"startlinecolor\":\"#2a3f5f\"},\"baxis\":{\"endlinecolor\":\"#2a3f5f\",\"gridcolor\":\"white\",\"linecolor\":\"white\",\"minorgridcolor\":\"white\",\"startlinecolor\":\"#2a3f5f\"},\"type\":\"carpet\"}],\"table\":[{\"cells\":{\"fill\":{\"color\":\"#EBF0F8\"},\"line\":{\"color\":\"white\"}},\"header\":{\"fill\":{\"color\":\"#C8D4E3\"},\"line\":{\"color\":\"white\"}},\"type\":\"table\"}],\"barpolar\":[{\"marker\":{\"line\":{\"color\":\"#E5ECF6\",\"width\":0.5},\"pattern\":{\"fillmode\":\"overlay\",\"size\":10,\"solidity\":0.2}},\"type\":\"barpolar\"}],\"pie\":[{\"automargin\":true,\"type\":\"pie\"}]},\"layout\":{\"autotypenumbers\":\"strict\",\"colorway\":[\"#636efa\",\"#EF553B\",\"#00cc96\",\"#ab63fa\",\"#FFA15A\",\"#19d3f3\",\"#FF6692\",\"#B6E880\",\"#FF97FF\",\"#FECB52\"],\"font\":{\"color\":\"#2a3f5f\"},\"hovermode\":\"closest\",\"hoverlabel\":{\"align\":\"left\"},\"paper_bgcolor\":\"white\",\"plot_bgcolor\":\"#E5ECF6\",\"polar\":{\"bgcolor\":\"#E5ECF6\",\"angularaxis\":{\"gridcolor\":\"white\",\"linecolor\":\"white\",\"ticks\":\"\"},\"radialaxis\":{\"gridcolor\":\"white\",\"linecolor\":\"white\",\"ticks\":\"\"}},\"ternary\":{\"bgcolor\":\"#E5ECF6\",\"aaxis\":{\"gridcolor\":\"white\",\"linecolor\":\"white\",\"ticks\":\"\"},\"baxis\":{\"gridcolor\":\"white\",\"linecolor\":\"white\",\"ticks\":\"\"},\"caxis\":{\"gridcolor\":\"white\",\"linecolor\":\"white\",\"ticks\":\"\"}},\"coloraxis\":{\"colorbar\":{\"outlinewidth\":0,\"ticks\":\"\"}},\"colorscale\":{\"sequential\":[[0.0,\"#0d0887\"],[0.1111111111111111,\"#46039f\"],[0.2222222222222222,\"#7201a8\"],[0.3333333333333333,\"#9c179e\"],[0.4444444444444444,\"#bd3786\"],[0.5555555555555556,\"#d8576b\"],[0.6666666666666666,\"#ed7953\"],[0.7777777777777778,\"#fb9f3a\"],[0.8888888888888888,\"#fdca26\"],[1.0,\"#f0f921\"]],\"sequentialminus\":[[0.0,\"#0d0887\"],[0.1111111111111111,\"#46039f\"],[0.2222222222222222,\"#7201a8\"],[0.3333333333333333,\"#9c179e\"],[0.4444444444444444,\"#bd3786\"],[0.5555555555555556,\"#d8576b\"],[0.6666666666666666,\"#ed7953\"],[0.7777777777777778,\"#fb9f3a\"],[0.8888888888888888,\"#fdca26\"],[1.0,\"#f0f921\"]],\"diverging\":[[0,\"#8e0152\"],[0.1,\"#c51b7d\"],[0.2,\"#de77ae\"],[0.3,\"#f1b6da\"],[0.4,\"#fde0ef\"],[0.5,\"#f7f7f7\"],[0.6,\"#e6f5d0\"],[0.7,\"#b8e186\"],[0.8,\"#7fbc41\"],[0.9,\"#4d9221\"],[1,\"#276419\"]]},\"xaxis\":{\"gridcolor\":\"white\",\"linecolor\":\"white\",\"ticks\":\"\",\"title\":{\"standoff\":15},\"zerolinecolor\":\"white\",\"automargin\":true,\"zerolinewidth\":2},\"yaxis\":{\"gridcolor\":\"white\",\"linecolor\":\"white\",\"ticks\":\"\",\"title\":{\"standoff\":15},\"zerolinecolor\":\"white\",\"automargin\":true,\"zerolinewidth\":2},\"scene\":{\"xaxis\":{\"backgroundcolor\":\"#E5ECF6\",\"gridcolor\":\"white\",\"linecolor\":\"white\",\"showbackground\":true,\"ticks\":\"\",\"zerolinecolor\":\"white\",\"gridwidth\":2},\"yaxis\":{\"backgroundcolor\":\"#E5ECF6\",\"gridcolor\":\"white\",\"linecolor\":\"white\",\"showbackground\":true,\"ticks\":\"\",\"zerolinecolor\":\"white\",\"gridwidth\":2},\"zaxis\":{\"backgroundcolor\":\"#E5ECF6\",\"gridcolor\":\"white\",\"linecolor\":\"white\",\"showbackground\":true,\"ticks\":\"\",\"zerolinecolor\":\"white\",\"gridwidth\":2}},\"shapedefaults\":{\"line\":{\"color\":\"#2a3f5f\"}},\"annotationdefaults\":{\"arrowcolor\":\"#2a3f5f\",\"arrowhead\":0,\"arrowwidth\":1},\"geo\":{\"bgcolor\":\"white\",\"landcolor\":\"#E5ECF6\",\"subunitcolor\":\"white\",\"showland\":true,\"showlakes\":true,\"lakecolor\":\"white\"},\"title\":{\"x\":0.05},\"mapbox\":{\"style\":\"light\"}}},\"xaxis\":{\"anchor\":\"y\",\"domain\":[0.0,1.0],\"title\":{\"text\":\"0\"}},\"yaxis\":{\"anchor\":\"x\",\"domain\":[0.0,1.0],\"title\":{\"text\":\"1\"}},\"coloraxis\":{\"colorbar\":{\"title\":{\"text\":\"color\"}},\"colorscale\":[[0.0,\"#0d0887\"],[0.1111111111111111,\"#46039f\"],[0.2222222222222222,\"#7201a8\"],[0.3333333333333333,\"#9c179e\"],[0.4444444444444444,\"#bd3786\"],[0.5555555555555556,\"#d8576b\"],[0.6666666666666666,\"#ed7953\"],[0.7777777777777778,\"#fb9f3a\"],[0.8888888888888888,\"#fdca26\"],[1.0,\"#f0f921\"]]},\"legend\":{\"tracegroupgap\":0},\"margin\":{\"t\":60}},                        {\"responsive\": true}                    ).then(function(){\n",
       "                            \n",
       "var gd = document.getElementById('bebd5a54-bde8-4831-bde7-7df1ffbf0250');\n",
       "var x = new MutationObserver(function (mutations, observer) {{\n",
       "        var display = window.getComputedStyle(gd).display;\n",
       "        if (!display || display === 'none') {{\n",
       "            console.log([gd, 'removed!']);\n",
       "            Plotly.purge(gd);\n",
       "            observer.disconnect();\n",
       "        }}\n",
       "}});\n",
       "\n",
       "// Listen for the removal of the full notebook cells\n",
       "var notebookContainer = gd.closest('#notebook-container');\n",
       "if (notebookContainer) {{\n",
       "    x.observe(notebookContainer, {childList: true});\n",
       "}}\n",
       "\n",
       "// Listen for the clearing of the current output cell\n",
       "var outputEl = gd.closest('.output');\n",
       "if (outputEl) {{\n",
       "    x.observe(outputEl, {childList: true});\n",
       "}}\n",
       "\n",
       "                        })                };                            </script>        </div>\n",
       "</body>\n",
       "</html>"
      ]
     },
     "metadata": {},
     "output_type": "display_data"
    }
   ],
   "source": [
    "# 7) Lancer ce bloc de calcul qui permet de visualiser les données dans le nouvel espace de dimension 2.\n",
    "\n",
    "# Les points sont colorés sur une échelle de couleurs allant de bleu pour le 0 à jaune pour le 9 \n",
    "# en fonction de la classe attribuée à chaque matrice de pixels\n",
    "\n",
    "# Qu'observez-vous au niveau de la répartition des points dans le nouvel espace ? \n",
    "# Que peut-on en déduire concernant les chances de succès d'une méthode de classification ?\n",
    "\n",
    "px.scatter(X_embedded, x=0, y=1, color=train_data['classe'])"
   ]
  },
  {
   "cell_type": "markdown",
   "metadata": {
    "cell_id": "b58819f2cee947a8944e6a31af7c1501",
    "deepnote_cell_type": "markdown",
    "tags": []
   },
   "source": [
    "## Séparation des données"
   ]
  },
  {
   "cell_type": "code",
   "execution_count": 12,
   "metadata": {
    "cell_id": "cdedc0182c384fccaba34a402033a66c",
    "deepnote_cell_type": "code",
    "deepnote_to_be_reexecuted": false,
    "execution_millis": 132,
    "execution_start": 1681044453656,
    "source_hash": "367d03d2",
    "tags": []
   },
   "outputs": [
    {
     "data": {
      "application/vnd.deepnote.dataframe.v3+json": {
       "column_count": 65,
       "columns": [
        {
         "dtype": "int64",
         "name": "[0;0]",
         "stats": {
          "histogram": [
           {
            "bin_end": -0.4,
            "bin_start": -0.5,
            "count": 0
           },
           {
            "bin_end": -0.3,
            "bin_start": -0.4,
            "count": 0
           },
           {
            "bin_end": -0.19999999999999996,
            "bin_start": -0.3,
            "count": 0
           },
           {
            "bin_end": -0.09999999999999998,
            "bin_start": -0.19999999999999996,
            "count": 0
           },
           {
            "bin_end": 0,
            "bin_start": -0.09999999999999998,
            "count": 0
           },
           {
            "bin_end": 0.10000000000000009,
            "bin_start": 0,
            "count": 1438
           },
           {
            "bin_end": 0.20000000000000007,
            "bin_start": 0.10000000000000009,
            "count": 0
           },
           {
            "bin_end": 0.30000000000000004,
            "bin_start": 0.20000000000000007,
            "count": 0
           },
           {
            "bin_end": 0.4,
            "bin_start": 0.30000000000000004,
            "count": 0
           },
           {
            "bin_end": 0.5,
            "bin_start": 0.4,
            "count": 0
           }
          ],
          "max": "0",
          "min": "0",
          "nan_count": 0,
          "unique_count": 1
         }
        },
        {
         "dtype": "int64",
         "name": "[0;1]",
         "stats": {
          "histogram": [
           {
            "bin_end": 0.8,
            "bin_start": 0,
            "count": 1231
           },
           {
            "bin_end": 1.6,
            "bin_start": 0.8,
            "count": 99
           },
           {
            "bin_end": 2.4000000000000004,
            "bin_start": 1.6,
            "count": 54
           },
           {
            "bin_end": 3.2,
            "bin_start": 2.4000000000000004,
            "count": 24
           },
           {
            "bin_end": 4,
            "bin_start": 3.2,
            "count": 0
           },
           {
            "bin_end": 4.800000000000001,
            "bin_start": 4,
            "count": 15
           },
           {
            "bin_end": 5.6000000000000005,
            "bin_start": 4.800000000000001,
            "count": 8
           },
           {
            "bin_end": 6.4,
            "bin_start": 5.6000000000000005,
            "count": 2
           },
           {
            "bin_end": 7.2,
            "bin_start": 6.4,
            "count": 3
           },
           {
            "bin_end": 8,
            "bin_start": 7.2,
            "count": 2
           }
          ],
          "max": "8",
          "min": "0",
          "nan_count": 0,
          "unique_count": 9
         }
        },
        {
         "dtype": "int64",
         "name": "[0;2]",
         "stats": {
          "histogram": [
           {
            "bin_end": 1.6,
            "bin_start": 0,
            "count": 438
           },
           {
            "bin_end": 3.2,
            "bin_start": 1.6,
            "count": 213
           },
           {
            "bin_end": 4.800000000000001,
            "bin_start": 3.2,
            "count": 84
           },
           {
            "bin_end": 6.4,
            "bin_start": 4.800000000000001,
            "count": 172
           },
           {
            "bin_end": 8,
            "bin_start": 6.4,
            "count": 84
           },
           {
            "bin_end": 9.600000000000001,
            "bin_start": 8,
            "count": 135
           },
           {
            "bin_end": 11.200000000000001,
            "bin_start": 9.600000000000001,
            "count": 126
           },
           {
            "bin_end": 12.8,
            "bin_start": 11.200000000000001,
            "count": 43
           },
           {
            "bin_end": 14.4,
            "bin_start": 12.8,
            "count": 71
           },
           {
            "bin_end": 16,
            "bin_start": 14.4,
            "count": 72
           }
          ],
          "max": "16",
          "min": "0",
          "nan_count": 0,
          "unique_count": 17
         }
        },
        {
         "dtype": "int64",
         "name": "[0;3]",
         "stats": {
          "histogram": [
           {
            "bin_end": 1.6,
            "bin_start": 0,
            "count": 70
           },
           {
            "bin_end": 3.2,
            "bin_start": 1.6,
            "count": 34
           },
           {
            "bin_end": 4.800000000000001,
            "bin_start": 3.2,
            "count": 20
           },
           {
            "bin_end": 6.4,
            "bin_start": 4.800000000000001,
            "count": 51
           },
           {
            "bin_end": 8,
            "bin_start": 6.4,
            "count": 30
           },
           {
            "bin_end": 9.600000000000001,
            "bin_start": 8,
            "count": 117
           },
           {
            "bin_end": 11.200000000000001,
            "bin_start": 9.600000000000001,
            "count": 164
           },
           {
            "bin_end": 12.8,
            "bin_start": 11.200000000000001,
            "count": 165
           },
           {
            "bin_end": 14.4,
            "bin_start": 12.8,
            "count": 305
           },
           {
            "bin_end": 16,
            "bin_start": 14.4,
            "count": 482
           }
          ],
          "max": "16",
          "min": "0",
          "nan_count": 0,
          "unique_count": 17
         }
        },
        {
         "dtype": "int64",
         "name": "[0;4]",
         "stats": {
          "histogram": [
           {
            "bin_end": 1.6,
            "bin_start": 0,
            "count": 62
           },
           {
            "bin_end": 3.2,
            "bin_start": 1.6,
            "count": 44
           },
           {
            "bin_end": 4.800000000000001,
            "bin_start": 3.2,
            "count": 24
           },
           {
            "bin_end": 6.4,
            "bin_start": 4.800000000000001,
            "count": 67
           },
           {
            "bin_end": 8,
            "bin_start": 6.4,
            "count": 34
           },
           {
            "bin_end": 9.600000000000001,
            "bin_start": 8,
            "count": 116
           },
           {
            "bin_end": 11.200000000000001,
            "bin_start": 9.600000000000001,
            "count": 146
           },
           {
            "bin_end": 12.8,
            "bin_start": 11.200000000000001,
            "count": 126
           },
           {
            "bin_end": 14.4,
            "bin_start": 12.8,
            "count": 306
           },
           {
            "bin_end": 16,
            "bin_start": 14.4,
            "count": 513
           }
          ],
          "max": "16",
          "min": "0",
          "nan_count": 0,
          "unique_count": 17
         }
        },
        {
         "dtype": "int64",
         "name": "[0;5]",
         "stats": {
          "histogram": [
           {
            "bin_end": 1.6,
            "bin_start": 0,
            "count": 531
           },
           {
            "bin_end": 3.2,
            "bin_start": 1.6,
            "count": 158
           },
           {
            "bin_end": 4.800000000000001,
            "bin_start": 3.2,
            "count": 63
           },
           {
            "bin_end": 6.4,
            "bin_start": 4.800000000000001,
            "count": 123
           },
           {
            "bin_end": 8,
            "bin_start": 6.4,
            "count": 40
           },
           {
            "bin_end": 9.600000000000001,
            "bin_start": 8,
            "count": 100
           },
           {
            "bin_end": 11.200000000000001,
            "bin_start": 9.600000000000001,
            "count": 89
           },
           {
            "bin_end": 12.8,
            "bin_start": 11.200000000000001,
            "count": 53
           },
           {
            "bin_end": 14.4,
            "bin_start": 12.8,
            "count": 99
           },
           {
            "bin_end": 16,
            "bin_start": 14.4,
            "count": 182
           }
          ],
          "max": "16",
          "min": "0",
          "nan_count": 0,
          "unique_count": 17
         }
        },
        {
         "dtype": "int64",
         "name": "[0;6]",
         "stats": {
          "histogram": [
           {
            "bin_end": 1.6,
            "bin_start": 0,
            "count": 1164
           },
           {
            "bin_end": 3.2,
            "bin_start": 1.6,
            "count": 78
           },
           {
            "bin_end": 4.800000000000001,
            "bin_start": 3.2,
            "count": 29
           },
           {
            "bin_end": 6.4,
            "bin_start": 4.800000000000001,
            "count": 43
           },
           {
            "bin_end": 8,
            "bin_start": 6.4,
            "count": 22
           },
           {
            "bin_end": 9.600000000000001,
            "bin_start": 8,
            "count": 21
           },
           {
            "bin_end": 11.200000000000001,
            "bin_start": 9.600000000000001,
            "count": 30
           },
           {
            "bin_end": 12.8,
            "bin_start": 11.200000000000001,
            "count": 9
           },
           {
            "bin_end": 14.4,
            "bin_start": 12.8,
            "count": 18
           },
           {
            "bin_end": 16,
            "bin_start": 14.4,
            "count": 24
           }
          ],
          "max": "16",
          "min": "0",
          "nan_count": 0,
          "unique_count": 17
         }
        },
        {
         "dtype": "int64",
         "name": "[0;7]",
         "stats": {
          "histogram": [
           {
            "bin_end": 1.5,
            "bin_start": 0,
            "count": 1410
           },
           {
            "bin_end": 3,
            "bin_start": 1.5,
            "count": 9
           },
           {
            "bin_end": 4.5,
            "bin_start": 3,
            "count": 3
           },
           {
            "bin_end": 6,
            "bin_start": 4.5,
            "count": 3
           },
           {
            "bin_end": 7.5,
            "bin_start": 6,
            "count": 2
           },
           {
            "bin_end": 9,
            "bin_start": 7.5,
            "count": 2
           },
           {
            "bin_end": 10.5,
            "bin_start": 9,
            "count": 4
           },
           {
            "bin_end": 12,
            "bin_start": 10.5,
            "count": 0
           },
           {
            "bin_end": 13.5,
            "bin_start": 12,
            "count": 3
           },
           {
            "bin_end": 15,
            "bin_start": 13.5,
            "count": 2
           }
          ],
          "max": "15",
          "min": "0",
          "nan_count": 0,
          "unique_count": 14
         }
        },
        {
         "dtype": "int64",
         "name": "[1;0]",
         "stats": {
          "histogram": [
           {
            "bin_end": 0.2,
            "bin_start": 0,
            "count": 1433
           },
           {
            "bin_end": 0.4,
            "bin_start": 0.2,
            "count": 0
           },
           {
            "bin_end": 0.6000000000000001,
            "bin_start": 0.4,
            "count": 0
           },
           {
            "bin_end": 0.8,
            "bin_start": 0.6000000000000001,
            "count": 0
           },
           {
            "bin_end": 1,
            "bin_start": 0.8,
            "count": 0
           },
           {
            "bin_end": 1.2000000000000002,
            "bin_start": 1,
            "count": 2
           },
           {
            "bin_end": 1.4000000000000001,
            "bin_start": 1.2000000000000002,
            "count": 0
           },
           {
            "bin_end": 1.6,
            "bin_start": 1.4000000000000001,
            "count": 0
           },
           {
            "bin_end": 1.8,
            "bin_start": 1.6,
            "count": 0
           },
           {
            "bin_end": 2,
            "bin_start": 1.8,
            "count": 3
           }
          ],
          "max": "2",
          "min": "0",
          "nan_count": 0,
          "unique_count": 3
         }
        },
        {
         "dtype": "int64",
         "name": "[1;1]",
         "stats": {
          "histogram": [
           {
            "bin_end": 1.6,
            "bin_start": 0,
            "count": 955
           },
           {
            "bin_end": 3.2,
            "bin_start": 1.6,
            "count": 137
           },
           {
            "bin_end": 4.800000000000001,
            "bin_start": 3.2,
            "count": 79
           },
           {
            "bin_end": 6.4,
            "bin_start": 4.800000000000001,
            "count": 93
           },
           {
            "bin_end": 8,
            "bin_start": 6.4,
            "count": 47
           },
           {
            "bin_end": 9.600000000000001,
            "bin_start": 8,
            "count": 65
           },
           {
            "bin_end": 11.200000000000001,
            "bin_start": 9.600000000000001,
            "count": 39
           },
           {
            "bin_end": 12.8,
            "bin_start": 11.200000000000001,
            "count": 10
           },
           {
            "bin_end": 14.4,
            "bin_start": 12.8,
            "count": 10
           },
           {
            "bin_end": 16,
            "bin_start": 14.4,
            "count": 3
           }
          ],
          "max": "16",
          "min": "0",
          "nan_count": 0,
          "unique_count": 17
         }
        },
        {
         "dtype": "int64",
         "name": "[1;2]",
         "stats": {
          "histogram": [
           {
            "bin_end": 1.6,
            "bin_start": 0,
            "count": 161
           },
           {
            "bin_end": 3.2,
            "bin_start": 1.6,
            "count": 63
           },
           {
            "bin_end": 4.800000000000001,
            "bin_start": 3.2,
            "count": 42
           },
           {
            "bin_end": 6.4,
            "bin_start": 4.800000000000001,
            "count": 90
           },
           {
            "bin_end": 8,
            "bin_start": 6.4,
            "count": 57
           },
           {
            "bin_end": 9.600000000000001,
            "bin_start": 8,
            "count": 107
           },
           {
            "bin_end": 11.200000000000001,
            "bin_start": 9.600000000000001,
            "count": 134
           },
           {
            "bin_end": 12.8,
            "bin_start": 11.200000000000001,
            "count": 91
           },
           {
            "bin_end": 14.4,
            "bin_start": 12.8,
            "count": 236
           },
           {
            "bin_end": 16,
            "bin_start": 14.4,
            "count": 457
           }
          ],
          "max": "16",
          "min": "0",
          "nan_count": 0,
          "unique_count": 17
         }
        },
        {
         "dtype": "int64",
         "name": "[1;3]",
         "stats": {
          "histogram": [
           {
            "bin_end": 1.6,
            "bin_start": 0,
            "count": 19
           },
           {
            "bin_end": 3.2,
            "bin_start": 1.6,
            "count": 24
           },
           {
            "bin_end": 4.800000000000001,
            "bin_start": 3.2,
            "count": 39
           },
           {
            "bin_end": 6.4,
            "bin_start": 4.800000000000001,
            "count": 96
           },
           {
            "bin_end": 8,
            "bin_start": 6.4,
            "count": 42
           },
           {
            "bin_end": 9.600000000000001,
            "bin_start": 8,
            "count": 167
           },
           {
            "bin_end": 11.200000000000001,
            "bin_start": 9.600000000000001,
            "count": 159
           },
           {
            "bin_end": 12.8,
            "bin_start": 11.200000000000001,
            "count": 104
           },
           {
            "bin_end": 14.4,
            "bin_start": 12.8,
            "count": 269
           },
           {
            "bin_end": 16,
            "bin_start": 14.4,
            "count": 519
           }
          ],
          "max": "16",
          "min": "0",
          "nan_count": 0,
          "unique_count": 17
         }
        },
        {
         "dtype": "int64",
         "name": "[1;4]",
         "stats": {
          "histogram": [
           {
            "bin_end": 1.6,
            "bin_start": 0,
            "count": 83
           },
           {
            "bin_end": 3.2,
            "bin_start": 1.6,
            "count": 65
           },
           {
            "bin_end": 4.800000000000001,
            "bin_start": 3.2,
            "count": 73
           },
           {
            "bin_end": 6.4,
            "bin_start": 4.800000000000001,
            "count": 128
           },
           {
            "bin_end": 8,
            "bin_start": 6.4,
            "count": 66
           },
           {
            "bin_end": 9.600000000000001,
            "bin_start": 8,
            "count": 188
           },
           {
            "bin_end": 11.200000000000001,
            "bin_start": 9.600000000000001,
            "count": 189
           },
           {
            "bin_end": 12.8,
            "bin_start": 11.200000000000001,
            "count": 90
           },
           {
            "bin_end": 14.4,
            "bin_start": 12.8,
            "count": 178
           },
           {
            "bin_end": 16,
            "bin_start": 14.4,
            "count": 378
           }
          ],
          "max": "16",
          "min": "0",
          "nan_count": 0,
          "unique_count": 17
         }
        },
        {
         "dtype": "int64",
         "name": "[1;5]",
         "stats": {
          "histogram": [
           {
            "bin_end": 1.6,
            "bin_start": 0,
            "count": 349
           },
           {
            "bin_end": 3.2,
            "bin_start": 1.6,
            "count": 88
           },
           {
            "bin_end": 4.800000000000001,
            "bin_start": 3.2,
            "count": 74
           },
           {
            "bin_end": 6.4,
            "bin_start": 4.800000000000001,
            "count": 86
           },
           {
            "bin_end": 8,
            "bin_start": 6.4,
            "count": 52
           },
           {
            "bin_end": 9.600000000000001,
            "bin_start": 8,
            "count": 110
           },
           {
            "bin_end": 11.200000000000001,
            "bin_start": 9.600000000000001,
            "count": 108
           },
           {
            "bin_end": 12.8,
            "bin_start": 11.200000000000001,
            "count": 84
           },
           {
            "bin_end": 14.4,
            "bin_start": 12.8,
            "count": 166
           },
           {
            "bin_end": 16,
            "bin_start": 14.4,
            "count": 321
           }
          ],
          "max": "16",
          "min": "0",
          "nan_count": 0,
          "unique_count": 17
         }
        },
        {
         "dtype": "int64",
         "name": "[1;6]",
         "stats": {
          "histogram": [
           {
            "bin_end": 1.6,
            "bin_start": 0,
            "count": 1045
           },
           {
            "bin_end": 3.2,
            "bin_start": 1.6,
            "count": 115
           },
           {
            "bin_end": 4.800000000000001,
            "bin_start": 3.2,
            "count": 54
           },
           {
            "bin_end": 6.4,
            "bin_start": 4.800000000000001,
            "count": 49
           },
           {
            "bin_end": 8,
            "bin_start": 6.4,
            "count": 29
           },
           {
            "bin_end": 9.600000000000001,
            "bin_start": 8,
            "count": 59
           },
           {
            "bin_end": 11.200000000000001,
            "bin_start": 9.600000000000001,
            "count": 29
           },
           {
            "bin_end": 12.8,
            "bin_start": 11.200000000000001,
            "count": 15
           },
           {
            "bin_end": 14.4,
            "bin_start": 12.8,
            "count": 17
           },
           {
            "bin_end": 16,
            "bin_start": 14.4,
            "count": 26
           }
          ],
          "max": "16",
          "min": "0",
          "nan_count": 0,
          "unique_count": 17
         }
        },
        {
         "dtype": "int64",
         "name": "[1;7]",
         "stats": {
          "histogram": [
           {
            "bin_end": 1.2,
            "bin_start": 0,
            "count": 1410
           },
           {
            "bin_end": 2.4,
            "bin_start": 1.2,
            "count": 5
           },
           {
            "bin_end": 3.5999999999999996,
            "bin_start": 2.4,
            "count": 5
           },
           {
            "bin_end": 4.8,
            "bin_start": 3.5999999999999996,
            "count": 1
           },
           {
            "bin_end": 6,
            "bin_start": 4.8,
            "count": 4
           },
           {
            "bin_end": 7.199999999999999,
            "bin_start": 6,
            "count": 6
           },
           {
            "bin_end": 8.4,
            "bin_start": 7.199999999999999,
            "count": 1
           },
           {
            "bin_end": 9.6,
            "bin_start": 8.4,
            "count": 2
           },
           {
            "bin_end": 10.799999999999999,
            "bin_start": 9.6,
            "count": 2
           },
           {
            "bin_end": 12,
            "bin_start": 10.799999999999999,
            "count": 2
           }
          ],
          "max": "12",
          "min": "0",
          "nan_count": 0,
          "unique_count": 13
         }
        },
        {
         "dtype": "int64",
         "name": "[2;0]",
         "stats": {
          "histogram": [
           {
            "bin_end": 0.1,
            "bin_start": 0,
            "count": 1436
           },
           {
            "bin_end": 0.2,
            "bin_start": 0.1,
            "count": 0
           },
           {
            "bin_end": 0.30000000000000004,
            "bin_start": 0.2,
            "count": 0
           },
           {
            "bin_end": 0.4,
            "bin_start": 0.30000000000000004,
            "count": 0
           },
           {
            "bin_end": 0.5,
            "bin_start": 0.4,
            "count": 0
           },
           {
            "bin_end": 0.6000000000000001,
            "bin_start": 0.5,
            "count": 0
           },
           {
            "bin_end": 0.7000000000000001,
            "bin_start": 0.6000000000000001,
            "count": 0
           },
           {
            "bin_end": 0.8,
            "bin_start": 0.7000000000000001,
            "count": 0
           },
           {
            "bin_end": 0.9,
            "bin_start": 0.8,
            "count": 0
           },
           {
            "bin_end": 1,
            "bin_start": 0.9,
            "count": 2
           }
          ],
          "max": "1",
          "min": "0",
          "nan_count": 0,
          "unique_count": 2
         }
        },
        {
         "dtype": "int64",
         "name": "[2;1]",
         "stats": {
          "histogram": [
           {
            "bin_end": 1.6,
            "bin_start": 0,
            "count": 814
           },
           {
            "bin_end": 3.2,
            "bin_start": 1.6,
            "count": 192
           },
           {
            "bin_end": 4.800000000000001,
            "bin_start": 3.2,
            "count": 99
           },
           {
            "bin_end": 6.4,
            "bin_start": 4.800000000000001,
            "count": 111
           },
           {
            "bin_end": 8,
            "bin_start": 6.4,
            "count": 44
           },
           {
            "bin_end": 9.600000000000001,
            "bin_start": 8,
            "count": 82
           },
           {
            "bin_end": 11.200000000000001,
            "bin_start": 9.600000000000001,
            "count": 50
           },
           {
            "bin_end": 12.8,
            "bin_start": 11.200000000000001,
            "count": 18
           },
           {
            "bin_end": 14.4,
            "bin_start": 12.8,
            "count": 19
           },
           {
            "bin_end": 16,
            "bin_start": 14.4,
            "count": 9
           }
          ],
          "max": "16",
          "min": "0",
          "nan_count": 0,
          "unique_count": 17
         }
        },
        {
         "dtype": "int64",
         "name": "[2;2]",
         "stats": {
          "histogram": [
           {
            "bin_end": 1.6,
            "bin_start": 0,
            "count": 230
           },
           {
            "bin_end": 3.2,
            "bin_start": 1.6,
            "count": 70
           },
           {
            "bin_end": 4.800000000000001,
            "bin_start": 3.2,
            "count": 40
           },
           {
            "bin_end": 6.4,
            "bin_start": 4.800000000000001,
            "count": 79
           },
           {
            "bin_end": 8,
            "bin_start": 6.4,
            "count": 51
           },
           {
            "bin_end": 9.600000000000001,
            "bin_start": 8,
            "count": 99
           },
           {
            "bin_end": 11.200000000000001,
            "bin_start": 9.600000000000001,
            "count": 126
           },
           {
            "bin_end": 12.8,
            "bin_start": 11.200000000000001,
            "count": 96
           },
           {
            "bin_end": 14.4,
            "bin_start": 12.8,
            "count": 217
           },
           {
            "bin_end": 16,
            "bin_start": 14.4,
            "count": 430
           }
          ],
          "max": "16",
          "min": "0",
          "nan_count": 0,
          "unique_count": 17
         }
        },
        {
         "dtype": "int64",
         "name": "[2;3]",
         "stats": {
          "histogram": [
           {
            "bin_end": 1.6,
            "bin_start": 0,
            "count": 388
           },
           {
            "bin_end": 3.2,
            "bin_start": 1.6,
            "count": 160
           },
           {
            "bin_end": 4.800000000000001,
            "bin_start": 3.2,
            "count": 67
           },
           {
            "bin_end": 6.4,
            "bin_start": 4.800000000000001,
            "count": 144
           },
           {
            "bin_end": 8,
            "bin_start": 6.4,
            "count": 59
           },
           {
            "bin_end": 9.600000000000001,
            "bin_start": 8,
            "count": 127
           },
           {
            "bin_end": 11.200000000000001,
            "bin_start": 9.600000000000001,
            "count": 101
           },
           {
            "bin_end": 12.8,
            "bin_start": 11.200000000000001,
            "count": 42
           },
           {
            "bin_end": 14.4,
            "bin_start": 12.8,
            "count": 107
           },
           {
            "bin_end": 16,
            "bin_start": 14.4,
            "count": 243
           }
          ],
          "max": "16",
          "min": "0",
          "nan_count": 0,
          "unique_count": 17
         }
        },
        {
         "dtype": "int64",
         "name": "[2;4]",
         "stats": {
          "histogram": [
           {
            "bin_end": 1.6,
            "bin_start": 0,
            "count": 455
           },
           {
            "bin_end": 3.2,
            "bin_start": 1.6,
            "count": 123
           },
           {
            "bin_end": 4.800000000000001,
            "bin_start": 3.2,
            "count": 55
           },
           {
            "bin_end": 6.4,
            "bin_start": 4.800000000000001,
            "count": 109
           },
           {
            "bin_end": 8,
            "bin_start": 6.4,
            "count": 31
           },
           {
            "bin_end": 9.600000000000001,
            "bin_start": 8,
            "count": 93
           },
           {
            "bin_end": 11.200000000000001,
            "bin_start": 9.600000000000001,
            "count": 110
           },
           {
            "bin_end": 12.8,
            "bin_start": 11.200000000000001,
            "count": 44
           },
           {
            "bin_end": 14.4,
            "bin_start": 12.8,
            "count": 127
           },
           {
            "bin_end": 16,
            "bin_start": 14.4,
            "count": 291
           }
          ],
          "max": "16",
          "min": "0",
          "nan_count": 0,
          "unique_count": 17
         }
        },
        {
         "dtype": "int64",
         "name": "[2;5]",
         "stats": {
          "histogram": [
           {
            "bin_end": 1.6,
            "bin_start": 0,
            "count": 431
           },
           {
            "bin_end": 3.2,
            "bin_start": 1.6,
            "count": 77
           },
           {
            "bin_end": 4.800000000000001,
            "bin_start": 3.2,
            "count": 44
           },
           {
            "bin_end": 6.4,
            "bin_start": 4.800000000000001,
            "count": 87
           },
           {
            "bin_end": 8,
            "bin_start": 6.4,
            "count": 35
           },
           {
            "bin_end": 9.600000000000001,
            "bin_start": 8,
            "count": 126
           },
           {
            "bin_end": 11.200000000000001,
            "bin_start": 9.600000000000001,
            "count": 105
           },
           {
            "bin_end": 12.8,
            "bin_start": 11.200000000000001,
            "count": 75
           },
           {
            "bin_end": 14.4,
            "bin_start": 12.8,
            "count": 167
           },
           {
            "bin_end": 16,
            "bin_start": 14.4,
            "count": 291
           }
          ],
          "max": "16",
          "min": "0",
          "nan_count": 0,
          "unique_count": 17
         }
        },
        {
         "dtype": "int64",
         "name": "[2;6]",
         "stats": {
          "histogram": [
           {
            "bin_end": 1.6,
            "bin_start": 0,
            "count": 1005
           },
           {
            "bin_end": 3.2,
            "bin_start": 1.6,
            "count": 131
           },
           {
            "bin_end": 4.800000000000001,
            "bin_start": 3.2,
            "count": 83
           },
           {
            "bin_end": 6.4,
            "bin_start": 4.800000000000001,
            "count": 85
           },
           {
            "bin_end": 8,
            "bin_start": 6.4,
            "count": 27
           },
           {
            "bin_end": 9.600000000000001,
            "bin_start": 8,
            "count": 42
           },
           {
            "bin_end": 11.200000000000001,
            "bin_start": 9.600000000000001,
            "count": 21
           },
           {
            "bin_end": 12.8,
            "bin_start": 11.200000000000001,
            "count": 13
           },
           {
            "bin_end": 14.4,
            "bin_start": 12.8,
            "count": 10
           },
           {
            "bin_end": 16,
            "bin_start": 14.4,
            "count": 21
           }
          ],
          "max": "16",
          "min": "0",
          "nan_count": 0,
          "unique_count": 17
         }
        },
        {
         "dtype": "int64",
         "name": "[2;7]",
         "stats": {
          "histogram": [
           {
            "bin_end": 0.8,
            "bin_start": 0,
            "count": 1407
           },
           {
            "bin_end": 1.6,
            "bin_start": 0.8,
            "count": 11
           },
           {
            "bin_end": 2.4000000000000004,
            "bin_start": 1.6,
            "count": 5
           },
           {
            "bin_end": 3.2,
            "bin_start": 2.4000000000000004,
            "count": 6
           },
           {
            "bin_end": 4,
            "bin_start": 3.2,
            "count": 0
           },
           {
            "bin_end": 4.800000000000001,
            "bin_start": 4,
            "count": 4
           },
           {
            "bin_end": 5.6000000000000005,
            "bin_start": 4.800000000000001,
            "count": 3
           },
           {
            "bin_end": 6.4,
            "bin_start": 5.6000000000000005,
            "count": 1
           },
           {
            "bin_end": 7.2,
            "bin_start": 6.4,
            "count": 0
           },
           {
            "bin_end": 8,
            "bin_start": 7.2,
            "count": 1
           }
          ],
          "max": "8",
          "min": "0",
          "nan_count": 0,
          "unique_count": 8
         }
        },
        {
         "dtype": "int64",
         "name": "[3;0]",
         "stats": {
          "histogram": [
           {
            "bin_end": -0.4,
            "bin_start": -0.5,
            "count": 0
           },
           {
            "bin_end": -0.3,
            "bin_start": -0.4,
            "count": 0
           },
           {
            "bin_end": -0.19999999999999996,
            "bin_start": -0.3,
            "count": 0
           },
           {
            "bin_end": -0.09999999999999998,
            "bin_start": -0.19999999999999996,
            "count": 0
           },
           {
            "bin_end": 0,
            "bin_start": -0.09999999999999998,
            "count": 0
           },
           {
            "bin_end": 0.10000000000000009,
            "bin_start": 0,
            "count": 1438
           },
           {
            "bin_end": 0.20000000000000007,
            "bin_start": 0.10000000000000009,
            "count": 0
           },
           {
            "bin_end": 0.30000000000000004,
            "bin_start": 0.20000000000000007,
            "count": 0
           },
           {
            "bin_end": 0.4,
            "bin_start": 0.30000000000000004,
            "count": 0
           },
           {
            "bin_end": 0.5,
            "bin_start": 0.4,
            "count": 0
           }
          ],
          "max": "0",
          "min": "0",
          "nan_count": 0,
          "unique_count": 1
         }
        },
        {
         "dtype": "int64",
         "name": "[3;1]",
         "stats": {
          "histogram": [
           {
            "bin_end": 1.5,
            "bin_start": 0,
            "count": 811
           },
           {
            "bin_end": 3,
            "bin_start": 1.5,
            "count": 73
           },
           {
            "bin_end": 4.5,
            "bin_start": 3,
            "count": 193
           },
           {
            "bin_end": 6,
            "bin_start": 4.5,
            "count": 96
           },
           {
            "bin_end": 7.5,
            "bin_start": 6,
            "count": 118
           },
           {
            "bin_end": 9,
            "bin_start": 7.5,
            "count": 69
           },
           {
            "bin_end": 10.5,
            "bin_start": 9,
            "count": 48
           },
           {
            "bin_end": 12,
            "bin_start": 10.5,
            "count": 14
           },
           {
            "bin_end": 13.5,
            "bin_start": 12,
            "count": 12
           },
           {
            "bin_end": 15,
            "bin_start": 13.5,
            "count": 4
           }
          ],
          "max": "15",
          "min": "0",
          "nan_count": 0,
          "unique_count": 16
         }
        },
        {
         "dtype": "int64",
         "name": "[3;2]",
         "stats": {
          "histogram": [
           {
            "bin_end": 1.6,
            "bin_start": 0,
            "count": 317
           },
           {
            "bin_end": 3.2,
            "bin_start": 1.6,
            "count": 91
           },
           {
            "bin_end": 4.800000000000001,
            "bin_start": 3.2,
            "count": 38
           },
           {
            "bin_end": 6.4,
            "bin_start": 4.800000000000001,
            "count": 90
           },
           {
            "bin_end": 8,
            "bin_start": 6.4,
            "count": 41
           },
           {
            "bin_end": 9.600000000000001,
            "bin_start": 8,
            "count": 86
           },
           {
            "bin_end": 11.200000000000001,
            "bin_start": 9.600000000000001,
            "count": 97
           },
           {
            "bin_end": 12.8,
            "bin_start": 11.200000000000001,
            "count": 85
           },
           {
            "bin_end": 14.4,
            "bin_start": 12.8,
            "count": 162
           },
           {
            "bin_end": 16,
            "bin_start": 14.4,
            "count": 431
           }
          ],
          "max": "16",
          "min": "0",
          "nan_count": 0,
          "unique_count": 17
         }
        },
        {
         "dtype": "int64",
         "name": "[3;3]",
         "stats": {
          "histogram": [
           {
            "bin_end": 1.6,
            "bin_start": 0,
            "count": 263
           },
           {
            "bin_end": 3.2,
            "bin_start": 1.6,
            "count": 122
           },
           {
            "bin_end": 4.800000000000001,
            "bin_start": 3.2,
            "count": 55
           },
           {
            "bin_end": 6.4,
            "bin_start": 4.800000000000001,
            "count": 95
           },
           {
            "bin_end": 8,
            "bin_start": 6.4,
            "count": 46
           },
           {
            "bin_end": 9.600000000000001,
            "bin_start": 8,
            "count": 120
           },
           {
            "bin_end": 11.200000000000001,
            "bin_start": 9.600000000000001,
            "count": 130
           },
           {
            "bin_end": 12.8,
            "bin_start": 11.200000000000001,
            "count": 95
           },
           {
            "bin_end": 14.4,
            "bin_start": 12.8,
            "count": 138
           },
           {
            "bin_end": 16,
            "bin_start": 14.4,
            "count": 374
           }
          ],
          "max": "16",
          "min": "0",
          "nan_count": 0,
          "unique_count": 17
         }
        },
        {
         "dtype": "int64",
         "name": "[3;4]",
         "stats": {
          "histogram": [
           {
            "bin_end": 1.6,
            "bin_start": 0,
            "count": 283
           },
           {
            "bin_end": 3.2,
            "bin_start": 1.6,
            "count": 51
           },
           {
            "bin_end": 4.800000000000001,
            "bin_start": 3.2,
            "count": 31
           },
           {
            "bin_end": 6.4,
            "bin_start": 4.800000000000001,
            "count": 62
           },
           {
            "bin_end": 8,
            "bin_start": 6.4,
            "count": 35
           },
           {
            "bin_end": 9.600000000000001,
            "bin_start": 8,
            "count": 89
           },
           {
            "bin_end": 11.200000000000001,
            "bin_start": 9.600000000000001,
            "count": 102
           },
           {
            "bin_end": 12.8,
            "bin_start": 11.200000000000001,
            "count": 69
           },
           {
            "bin_end": 14.4,
            "bin_start": 12.8,
            "count": 192
           },
           {
            "bin_end": 16,
            "bin_start": 14.4,
            "count": 524
           }
          ],
          "max": "16",
          "min": "0",
          "nan_count": 0,
          "unique_count": 17
         }
        },
        {
         "dtype": "int64",
         "name": "[3;5]",
         "stats": {
          "histogram": [
           {
            "bin_end": 1.6,
            "bin_start": 0,
            "count": 370
           },
           {
            "bin_end": 3.2,
            "bin_start": 1.6,
            "count": 126
           },
           {
            "bin_end": 4.800000000000001,
            "bin_start": 3.2,
            "count": 64
           },
           {
            "bin_end": 6.4,
            "bin_start": 4.800000000000001,
            "count": 102
           },
           {
            "bin_end": 8,
            "bin_start": 6.4,
            "count": 65
           },
           {
            "bin_end": 9.600000000000001,
            "bin_start": 8,
            "count": 126
           },
           {
            "bin_end": 11.200000000000001,
            "bin_start": 9.600000000000001,
            "count": 117
           },
           {
            "bin_end": 12.8,
            "bin_start": 11.200000000000001,
            "count": 65
           },
           {
            "bin_end": 14.4,
            "bin_start": 12.8,
            "count": 128
           },
           {
            "bin_end": 16,
            "bin_start": 14.4,
            "count": 275
           }
          ],
          "max": "16",
          "min": "0",
          "nan_count": 0,
          "unique_count": 17
         }
        },
        {
         "dtype": "int64",
         "name": "[3;6]",
         "stats": {
          "histogram": [
           {
            "bin_end": 1.5,
            "bin_start": 0,
            "count": 953
           },
           {
            "bin_end": 3,
            "bin_start": 1.5,
            "count": 66
           },
           {
            "bin_end": 4.5,
            "bin_start": 3,
            "count": 90
           },
           {
            "bin_end": 6,
            "bin_start": 4.5,
            "count": 52
           },
           {
            "bin_end": 7.5,
            "bin_start": 6,
            "count": 75
           },
           {
            "bin_end": 9,
            "bin_start": 7.5,
            "count": 82
           },
           {
            "bin_end": 10.5,
            "bin_start": 9,
            "count": 53
           },
           {
            "bin_end": 12,
            "bin_start": 10.5,
            "count": 14
           },
           {
            "bin_end": 13.5,
            "bin_start": 12,
            "count": 31
           },
           {
            "bin_end": 15,
            "bin_start": 13.5,
            "count": 22
           }
          ],
          "max": "15",
          "min": "0",
          "nan_count": 0,
          "unique_count": 16
         }
        },
        {
         "dtype": "int64",
         "name": "[3;7]",
         "stats": {
          "histogram": [
           {
            "bin_end": 0.1,
            "bin_start": 0,
            "count": 1434
           },
           {
            "bin_end": 0.2,
            "bin_start": 0.1,
            "count": 0
           },
           {
            "bin_end": 0.30000000000000004,
            "bin_start": 0.2,
            "count": 0
           },
           {
            "bin_end": 0.4,
            "bin_start": 0.30000000000000004,
            "count": 0
           },
           {
            "bin_end": 0.5,
            "bin_start": 0.4,
            "count": 0
           },
           {
            "bin_end": 0.6000000000000001,
            "bin_start": 0.5,
            "count": 0
           },
           {
            "bin_end": 0.7000000000000001,
            "bin_start": 0.6000000000000001,
            "count": 0
           },
           {
            "bin_end": 0.8,
            "bin_start": 0.7000000000000001,
            "count": 0
           },
           {
            "bin_end": 0.9,
            "bin_start": 0.8,
            "count": 0
           },
           {
            "bin_end": 1,
            "bin_start": 0.9,
            "count": 4
           }
          ],
          "max": "1",
          "min": "0",
          "nan_count": 0,
          "unique_count": 2
         }
        },
        {
         "dtype": "int64",
         "name": "[4;0]",
         "stats": {
          "histogram": [
           {
            "bin_end": -0.4,
            "bin_start": -0.5,
            "count": 0
           },
           {
            "bin_end": -0.3,
            "bin_start": -0.4,
            "count": 0
           },
           {
            "bin_end": -0.19999999999999996,
            "bin_start": -0.3,
            "count": 0
           },
           {
            "bin_end": -0.09999999999999998,
            "bin_start": -0.19999999999999996,
            "count": 0
           },
           {
            "bin_end": 0,
            "bin_start": -0.09999999999999998,
            "count": 0
           },
           {
            "bin_end": 0.10000000000000009,
            "bin_start": 0,
            "count": 1438
           },
           {
            "bin_end": 0.20000000000000007,
            "bin_start": 0.10000000000000009,
            "count": 0
           },
           {
            "bin_end": 0.30000000000000004,
            "bin_start": 0.20000000000000007,
            "count": 0
           },
           {
            "bin_end": 0.4,
            "bin_start": 0.30000000000000004,
            "count": 0
           },
           {
            "bin_end": 0.5,
            "bin_start": 0.4,
            "count": 0
           }
          ],
          "max": "0",
          "min": "0",
          "nan_count": 0,
          "unique_count": 1
         }
        },
        {
         "dtype": "int64",
         "name": "[4;1]",
         "stats": {
          "histogram": [
           {
            "bin_end": 1.4,
            "bin_start": 0,
            "count": 897
           },
           {
            "bin_end": 2.8,
            "bin_start": 1.4,
            "count": 67
           },
           {
            "bin_end": 4.199999999999999,
            "bin_start": 2.8,
            "count": 138
           },
           {
            "bin_end": 5.6,
            "bin_start": 4.199999999999999,
            "count": 70
           },
           {
            "bin_end": 7,
            "bin_start": 5.6,
            "count": 44
           },
           {
            "bin_end": 8.399999999999999,
            "bin_start": 7,
            "count": 129
           },
           {
            "bin_end": 9.799999999999999,
            "bin_start": 8.399999999999999,
            "count": 22
           },
           {
            "bin_end": 11.2,
            "bin_start": 9.799999999999999,
            "count": 42
           },
           {
            "bin_end": 12.6,
            "bin_start": 11.2,
            "count": 15
           },
           {
            "bin_end": 14,
            "bin_start": 12.6,
            "count": 14
           }
          ],
          "max": "14",
          "min": "0",
          "nan_count": 0,
          "unique_count": 15
         }
        },
        {
         "dtype": "int64",
         "name": "[4;2]",
         "stats": {
          "histogram": [
           {
            "bin_end": 1.6,
            "bin_start": 0,
            "count": 437
           },
           {
            "bin_end": 3.2,
            "bin_start": 1.6,
            "count": 96
           },
           {
            "bin_end": 4.800000000000001,
            "bin_start": 3.2,
            "count": 40
           },
           {
            "bin_end": 6.4,
            "bin_start": 4.800000000000001,
            "count": 75
           },
           {
            "bin_end": 8,
            "bin_start": 6.4,
            "count": 60
           },
           {
            "bin_end": 9.600000000000001,
            "bin_start": 8,
            "count": 107
           },
           {
            "bin_end": 11.200000000000001,
            "bin_start": 9.600000000000001,
            "count": 91
           },
           {
            "bin_end": 12.8,
            "bin_start": 11.200000000000001,
            "count": 74
           },
           {
            "bin_end": 14.4,
            "bin_start": 12.8,
            "count": 116
           },
           {
            "bin_end": 16,
            "bin_start": 14.4,
            "count": 342
           }
          ],
          "max": "16",
          "min": "0",
          "nan_count": 0,
          "unique_count": 17
         }
        },
        {
         "dtype": "int64",
         "name": "[4;3]",
         "stats": {
          "histogram": [
           {
            "bin_end": 1.6,
            "bin_start": 0,
            "count": 300
           },
           {
            "bin_end": 3.2,
            "bin_start": 1.6,
            "count": 74
           },
           {
            "bin_end": 4.800000000000001,
            "bin_start": 3.2,
            "count": 61
           },
           {
            "bin_end": 6.4,
            "bin_start": 4.800000000000001,
            "count": 82
           },
           {
            "bin_end": 8,
            "bin_start": 6.4,
            "count": 49
           },
           {
            "bin_end": 9.600000000000001,
            "bin_start": 8,
            "count": 97
           },
           {
            "bin_end": 11.200000000000001,
            "bin_start": 9.600000000000001,
            "count": 101
           },
           {
            "bin_end": 12.8,
            "bin_start": 11.200000000000001,
            "count": 72
           },
           {
            "bin_end": 14.4,
            "bin_start": 12.8,
            "count": 133
           },
           {
            "bin_end": 16,
            "bin_start": 14.4,
            "count": 469
           }
          ],
          "max": "16",
          "min": "0",
          "nan_count": 0,
          "unique_count": 17
         }
        },
        {
         "dtype": "int64",
         "name": "[4;4]",
         "stats": {
          "histogram": [
           {
            "bin_end": 1.6,
            "bin_start": 0,
            "count": 246
           },
           {
            "bin_end": 3.2,
            "bin_start": 1.6,
            "count": 50
           },
           {
            "bin_end": 4.800000000000001,
            "bin_start": 3.2,
            "count": 28
           },
           {
            "bin_end": 6.4,
            "bin_start": 4.800000000000001,
            "count": 57
           },
           {
            "bin_end": 8,
            "bin_start": 6.4,
            "count": 40
           },
           {
            "bin_end": 9.600000000000001,
            "bin_start": 8,
            "count": 112
           },
           {
            "bin_end": 11.200000000000001,
            "bin_start": 9.600000000000001,
            "count": 109
           },
           {
            "bin_end": 12.8,
            "bin_start": 11.200000000000001,
            "count": 72
           },
           {
            "bin_end": 14.4,
            "bin_start": 12.8,
            "count": 183
           },
           {
            "bin_end": 16,
            "bin_start": 14.4,
            "count": 541
           }
          ],
          "max": "16",
          "min": "0",
          "nan_count": 0,
          "unique_count": 17
         }
        },
        {
         "dtype": "int64",
         "name": "[4;5]",
         "stats": {
          "histogram": [
           {
            "bin_end": 1.6,
            "bin_start": 0,
            "count": 305
           },
           {
            "bin_end": 3.2,
            "bin_start": 1.6,
            "count": 70
           },
           {
            "bin_end": 4.800000000000001,
            "bin_start": 3.2,
            "count": 56
           },
           {
            "bin_end": 6.4,
            "bin_start": 4.800000000000001,
            "count": 95
           },
           {
            "bin_end": 8,
            "bin_start": 6.4,
            "count": 54
           },
           {
            "bin_end": 9.600000000000001,
            "bin_start": 8,
            "count": 127
           },
           {
            "bin_end": 11.200000000000001,
            "bin_start": 9.600000000000001,
            "count": 118
           },
           {
            "bin_end": 12.8,
            "bin_start": 11.200000000000001,
            "count": 95
           },
           {
            "bin_end": 14.4,
            "bin_start": 12.8,
            "count": 176
           },
           {
            "bin_end": 16,
            "bin_start": 14.4,
            "count": 342
           }
          ],
          "max": "16",
          "min": "0",
          "nan_count": 0,
          "unique_count": 17
         }
        },
        {
         "dtype": "int64",
         "name": "[4;6]",
         "stats": {
          "histogram": [
           {
            "bin_end": 1.4,
            "bin_start": 0,
            "count": 770
           },
           {
            "bin_end": 2.8,
            "bin_start": 1.4,
            "count": 82
           },
           {
            "bin_end": 4.199999999999999,
            "bin_start": 2.8,
            "count": 140
           },
           {
            "bin_end": 5.6,
            "bin_start": 4.199999999999999,
            "count": 74
           },
           {
            "bin_end": 7,
            "bin_start": 5.6,
            "count": 57
           },
           {
            "bin_end": 8.399999999999999,
            "bin_start": 7,
            "count": 198
           },
           {
            "bin_end": 9.799999999999999,
            "bin_start": 8.399999999999999,
            "count": 47
           },
           {
            "bin_end": 11.2,
            "bin_start": 9.799999999999999,
            "count": 55
           },
           {
            "bin_end": 12.6,
            "bin_start": 11.2,
            "count": 8
           },
           {
            "bin_end": 14,
            "bin_start": 12.6,
            "count": 7
           }
          ],
          "max": "14",
          "min": "0",
          "nan_count": 0,
          "unique_count": 15
         }
        },
        {
         "dtype": "int64",
         "name": "[4;7]",
         "stats": {
          "histogram": [
           {
            "bin_end": -0.4,
            "bin_start": -0.5,
            "count": 0
           },
           {
            "bin_end": -0.3,
            "bin_start": -0.4,
            "count": 0
           },
           {
            "bin_end": -0.19999999999999996,
            "bin_start": -0.3,
            "count": 0
           },
           {
            "bin_end": -0.09999999999999998,
            "bin_start": -0.19999999999999996,
            "count": 0
           },
           {
            "bin_end": 0,
            "bin_start": -0.09999999999999998,
            "count": 0
           },
           {
            "bin_end": 0.10000000000000009,
            "bin_start": 0,
            "count": 1438
           },
           {
            "bin_end": 0.20000000000000007,
            "bin_start": 0.10000000000000009,
            "count": 0
           },
           {
            "bin_end": 0.30000000000000004,
            "bin_start": 0.20000000000000007,
            "count": 0
           },
           {
            "bin_end": 0.4,
            "bin_start": 0.30000000000000004,
            "count": 0
           },
           {
            "bin_end": 0.5,
            "bin_start": 0.4,
            "count": 0
           }
          ],
          "max": "0",
          "min": "0",
          "nan_count": 0,
          "unique_count": 1
         }
        },
        {
         "dtype": "int64",
         "name": "[5;0]",
         "stats": {
          "histogram": [
           {
            "bin_end": 0.4,
            "bin_start": 0,
            "count": 1431
           },
           {
            "bin_end": 0.8,
            "bin_start": 0.4,
            "count": 0
           },
           {
            "bin_end": 1.2000000000000002,
            "bin_start": 0.8,
            "count": 4
           },
           {
            "bin_end": 1.6,
            "bin_start": 1.2000000000000002,
            "count": 0
           },
           {
            "bin_end": 2,
            "bin_start": 1.6,
            "count": 0
           },
           {
            "bin_end": 2.4000000000000004,
            "bin_start": 2,
            "count": 1
           },
           {
            "bin_end": 2.8000000000000003,
            "bin_start": 2.4000000000000004,
            "count": 0
           },
           {
            "bin_end": 3.2,
            "bin_start": 2.8000000000000003,
            "count": 1
           },
           {
            "bin_end": 3.6,
            "bin_start": 3.2,
            "count": 0
           },
           {
            "bin_end": 4,
            "bin_start": 3.6,
            "count": 1
           }
          ],
          "max": "4",
          "min": "0",
          "nan_count": 0,
          "unique_count": 5
         }
        },
        {
         "dtype": "int64",
         "name": "[5;1]",
         "stats": {
          "histogram": [
           {
            "bin_end": 1.6,
            "bin_start": 0,
            "count": 1038
           },
           {
            "bin_end": 3.2,
            "bin_start": 1.6,
            "count": 143
           },
           {
            "bin_end": 4.800000000000001,
            "bin_start": 3.2,
            "count": 70
           },
           {
            "bin_end": 6.4,
            "bin_start": 4.800000000000001,
            "count": 86
           },
           {
            "bin_end": 8,
            "bin_start": 6.4,
            "count": 22
           },
           {
            "bin_end": 9.600000000000001,
            "bin_start": 8,
            "count": 36
           },
           {
            "bin_end": 11.200000000000001,
            "bin_start": 9.600000000000001,
            "count": 16
           },
           {
            "bin_end": 12.8,
            "bin_start": 11.200000000000001,
            "count": 6
           },
           {
            "bin_end": 14.4,
            "bin_start": 12.8,
            "count": 11
           },
           {
            "bin_end": 16,
            "bin_start": 14.4,
            "count": 10
           }
          ],
          "max": "16",
          "min": "0",
          "nan_count": 0,
          "unique_count": 17
         }
        },
        {
         "dtype": "int64",
         "name": "[5;2]",
         "stats": {
          "histogram": [
           {
            "bin_end": 1.6,
            "bin_start": 0,
            "count": 555
           },
           {
            "bin_end": 3.2,
            "bin_start": 1.6,
            "count": 89
           },
           {
            "bin_end": 4.800000000000001,
            "bin_start": 3.2,
            "count": 47
           },
           {
            "bin_end": 6.4,
            "bin_start": 4.800000000000001,
            "count": 67
           },
           {
            "bin_end": 8,
            "bin_start": 6.4,
            "count": 27
           },
           {
            "bin_end": 9.600000000000001,
            "bin_start": 8,
            "count": 64
           },
           {
            "bin_end": 11.200000000000001,
            "bin_start": 9.600000000000001,
            "count": 84
           },
           {
            "bin_end": 12.8,
            "bin_start": 11.200000000000001,
            "count": 67
           },
           {
            "bin_end": 14.4,
            "bin_start": 12.8,
            "count": 134
           },
           {
            "bin_end": 16,
            "bin_start": 14.4,
            "count": 304
           }
          ],
          "max": "16",
          "min": "0",
          "nan_count": 0,
          "unique_count": 17
         }
        },
        {
         "dtype": "int64",
         "name": "[5;3]",
         "stats": {
          "histogram": [
           {
            "bin_end": 1.6,
            "bin_start": 0,
            "count": 516
           },
           {
            "bin_end": 3.2,
            "bin_start": 1.6,
            "count": 75
           },
           {
            "bin_end": 4.800000000000001,
            "bin_start": 3.2,
            "count": 38
           },
           {
            "bin_end": 6.4,
            "bin_start": 4.800000000000001,
            "count": 66
           },
           {
            "bin_end": 8,
            "bin_start": 6.4,
            "count": 34
           },
           {
            "bin_end": 9.600000000000001,
            "bin_start": 8,
            "count": 96
           },
           {
            "bin_end": 11.200000000000001,
            "bin_start": 9.600000000000001,
            "count": 97
           },
           {
            "bin_end": 12.8,
            "bin_start": 11.200000000000001,
            "count": 61
           },
           {
            "bin_end": 14.4,
            "bin_start": 12.8,
            "count": 131
           },
           {
            "bin_end": 16,
            "bin_start": 14.4,
            "count": 324
           }
          ],
          "max": "16",
          "min": "0",
          "nan_count": 0,
          "unique_count": 17
         }
        },
        {
         "dtype": "int64",
         "name": "[5;4]",
         "stats": {
          "histogram": [
           {
            "bin_end": 1.6,
            "bin_start": 0,
            "count": 420
           },
           {
            "bin_end": 3.2,
            "bin_start": 1.6,
            "count": 111
           },
           {
            "bin_end": 4.800000000000001,
            "bin_start": 3.2,
            "count": 53
           },
           {
            "bin_end": 6.4,
            "bin_start": 4.800000000000001,
            "count": 84
           },
           {
            "bin_end": 8,
            "bin_start": 6.4,
            "count": 49
           },
           {
            "bin_end": 9.600000000000001,
            "bin_start": 8,
            "count": 112
           },
           {
            "bin_end": 11.200000000000001,
            "bin_start": 9.600000000000001,
            "count": 85
           },
           {
            "bin_end": 12.8,
            "bin_start": 11.200000000000001,
            "count": 52
           },
           {
            "bin_end": 14.4,
            "bin_start": 12.8,
            "count": 139
           },
           {
            "bin_end": 16,
            "bin_start": 14.4,
            "count": 333
           }
          ],
          "max": "16",
          "min": "0",
          "nan_count": 0,
          "unique_count": 17
         }
        },
        {
         "dtype": "int64",
         "name": "[5;5]",
         "stats": {
          "histogram": [
           {
            "bin_end": 1.6,
            "bin_start": 0,
            "count": 322
           },
           {
            "bin_end": 3.2,
            "bin_start": 1.6,
            "count": 80
           },
           {
            "bin_end": 4.800000000000001,
            "bin_start": 3.2,
            "count": 50
           },
           {
            "bin_end": 6.4,
            "bin_start": 4.800000000000001,
            "count": 98
           },
           {
            "bin_end": 8,
            "bin_start": 6.4,
            "count": 63
           },
           {
            "bin_end": 9.600000000000001,
            "bin_start": 8,
            "count": 149
           },
           {
            "bin_end": 11.200000000000001,
            "bin_start": 9.600000000000001,
            "count": 150
           },
           {
            "bin_end": 12.8,
            "bin_start": 11.200000000000001,
            "count": 91
           },
           {
            "bin_end": 14.4,
            "bin_start": 12.8,
            "count": 188
           },
           {
            "bin_end": 16,
            "bin_start": 14.4,
            "count": 247
           }
          ],
          "max": "16",
          "min": "0",
          "nan_count": 0,
          "unique_count": 17
         }
        },
        {
         "dtype": "int64",
         "name": "[5;6]",
         "stats": {
          "histogram": [
           {
            "bin_end": 1.6,
            "bin_start": 0,
            "count": 766
           },
           {
            "bin_end": 3.2,
            "bin_start": 1.6,
            "count": 131
           },
           {
            "bin_end": 4.800000000000001,
            "bin_start": 3.2,
            "count": 63
           },
           {
            "bin_end": 6.4,
            "bin_start": 4.800000000000001,
            "count": 106
           },
           {
            "bin_end": 8,
            "bin_start": 6.4,
            "count": 69
           },
           {
            "bin_end": 9.600000000000001,
            "bin_start": 8,
            "count": 125
           },
           {
            "bin_end": 11.200000000000001,
            "bin_start": 9.600000000000001,
            "count": 74
           },
           {
            "bin_end": 12.8,
            "bin_start": 11.200000000000001,
            "count": 49
           },
           {
            "bin_end": 14.4,
            "bin_start": 12.8,
            "count": 35
           },
           {
            "bin_end": 16,
            "bin_start": 14.4,
            "count": 20
           }
          ],
          "max": "16",
          "min": "0",
          "nan_count": 0,
          "unique_count": 17
         }
        },
        {
         "dtype": "int64",
         "name": "[5;7]",
         "stats": {
          "histogram": [
           {
            "bin_end": 0.6,
            "bin_start": 0,
            "count": 1420
           },
           {
            "bin_end": 1.2,
            "bin_start": 0.6,
            "count": 10
           },
           {
            "bin_end": 1.7999999999999998,
            "bin_start": 1.2,
            "count": 0
           },
           {
            "bin_end": 2.4,
            "bin_start": 1.7999999999999998,
            "count": 2
           },
           {
            "bin_end": 3,
            "bin_start": 2.4,
            "count": 0
           },
           {
            "bin_end": 3.5999999999999996,
            "bin_start": 3,
            "count": 2
           },
           {
            "bin_end": 4.2,
            "bin_start": 3.5999999999999996,
            "count": 2
           },
           {
            "bin_end": 4.8,
            "bin_start": 4.2,
            "count": 0
           },
           {
            "bin_end": 5.3999999999999995,
            "bin_start": 4.8,
            "count": 0
           },
           {
            "bin_end": 6,
            "bin_start": 5.3999999999999995,
            "count": 2
           }
          ],
          "max": "6",
          "min": "0",
          "nan_count": 0,
          "unique_count": 6
         }
        },
        {
         "dtype": "int64",
         "name": "[6;0]",
         "stats": {
          "histogram": [
           {
            "bin_end": 0.8,
            "bin_start": 0,
            "count": 1435
           },
           {
            "bin_end": 1.6,
            "bin_start": 0.8,
            "count": 2
           },
           {
            "bin_end": 2.4000000000000004,
            "bin_start": 1.6,
            "count": 0
           },
           {
            "bin_end": 3.2,
            "bin_start": 2.4000000000000004,
            "count": 0
           },
           {
            "bin_end": 4,
            "bin_start": 3.2,
            "count": 0
           },
           {
            "bin_end": 4.800000000000001,
            "bin_start": 4,
            "count": 0
           },
           {
            "bin_end": 5.6000000000000005,
            "bin_start": 4.800000000000001,
            "count": 0
           },
           {
            "bin_end": 6.4,
            "bin_start": 5.6000000000000005,
            "count": 0
           },
           {
            "bin_end": 7.2,
            "bin_start": 6.4,
            "count": 0
           },
           {
            "bin_end": 8,
            "bin_start": 7.2,
            "count": 1
           }
          ],
          "max": "8",
          "min": "0",
          "nan_count": 0,
          "unique_count": 3
         }
        },
        {
         "dtype": "int64",
         "name": "[6;1]",
         "stats": {
          "histogram": [
           {
            "bin_end": 1.6,
            "bin_start": 0,
            "count": 1221
           },
           {
            "bin_end": 3.2,
            "bin_start": 1.6,
            "count": 113
           },
           {
            "bin_end": 4.800000000000001,
            "bin_start": 3.2,
            "count": 42
           },
           {
            "bin_end": 6.4,
            "bin_start": 4.800000000000001,
            "count": 35
           },
           {
            "bin_end": 8,
            "bin_start": 6.4,
            "count": 6
           },
           {
            "bin_end": 9.600000000000001,
            "bin_start": 8,
            "count": 10
           },
           {
            "bin_end": 11.200000000000001,
            "bin_start": 9.600000000000001,
            "count": 7
           },
           {
            "bin_end": 12.8,
            "bin_start": 11.200000000000001,
            "count": 0
           },
           {
            "bin_end": 14.4,
            "bin_start": 12.8,
            "count": 2
           },
           {
            "bin_end": 16,
            "bin_start": 14.4,
            "count": 2
           }
          ],
          "max": "16",
          "min": "0",
          "nan_count": 0,
          "unique_count": 15
         }
        },
        {
         "dtype": "int64",
         "name": "[6;2]",
         "stats": {
          "histogram": [
           {
            "bin_end": 1.6,
            "bin_start": 0,
            "count": 352
           },
           {
            "bin_end": 3.2,
            "bin_start": 1.6,
            "count": 114
           },
           {
            "bin_end": 4.800000000000001,
            "bin_start": 3.2,
            "count": 60
           },
           {
            "bin_end": 6.4,
            "bin_start": 4.800000000000001,
            "count": 107
           },
           {
            "bin_end": 8,
            "bin_start": 6.4,
            "count": 61
           },
           {
            "bin_end": 9.600000000000001,
            "bin_start": 8,
            "count": 149
           },
           {
            "bin_end": 11.200000000000001,
            "bin_start": 9.600000000000001,
            "count": 140
           },
           {
            "bin_end": 12.8,
            "bin_start": 11.200000000000001,
            "count": 91
           },
           {
            "bin_end": 14.4,
            "bin_start": 12.8,
            "count": 156
           },
           {
            "bin_end": 16,
            "bin_start": 14.4,
            "count": 208
           }
          ],
          "max": "16",
          "min": "0",
          "nan_count": 0,
          "unique_count": 17
         }
        },
        {
         "dtype": "int64",
         "name": "[6;3]",
         "stats": {
          "histogram": [
           {
            "bin_end": 1.6,
            "bin_start": 0,
            "count": 140
           },
           {
            "bin_end": 3.2,
            "bin_start": 1.6,
            "count": 95
           },
           {
            "bin_end": 4.800000000000001,
            "bin_start": 3.2,
            "count": 81
           },
           {
            "bin_end": 6.4,
            "bin_start": 4.800000000000001,
            "count": 126
           },
           {
            "bin_end": 8,
            "bin_start": 6.4,
            "count": 59
           },
           {
            "bin_end": 9.600000000000001,
            "bin_start": 8,
            "count": 160
           },
           {
            "bin_end": 11.200000000000001,
            "bin_start": 9.600000000000001,
            "count": 165
           },
           {
            "bin_end": 12.8,
            "bin_start": 11.200000000000001,
            "count": 88
           },
           {
            "bin_end": 14.4,
            "bin_start": 12.8,
            "count": 176
           },
           {
            "bin_end": 16,
            "bin_start": 14.4,
            "count": 348
           }
          ],
          "max": "16",
          "min": "0",
          "nan_count": 0,
          "unique_count": 17
         }
        },
        {
         "dtype": "int64",
         "name": "[6;4]",
         "stats": {
          "histogram": [
           {
            "bin_end": 1.6,
            "bin_start": 0,
            "count": 158
           },
           {
            "bin_end": 3.2,
            "bin_start": 1.6,
            "count": 93
           },
           {
            "bin_end": 4.800000000000001,
            "bin_start": 3.2,
            "count": 89
           },
           {
            "bin_end": 6.4,
            "bin_start": 4.800000000000001,
            "count": 129
           },
           {
            "bin_end": 8,
            "bin_start": 6.4,
            "count": 63
           },
           {
            "bin_end": 9.600000000000001,
            "bin_start": 8,
            "count": 165
           },
           {
            "bin_end": 11.200000000000001,
            "bin_start": 9.600000000000001,
            "count": 136
           },
           {
            "bin_end": 12.8,
            "bin_start": 11.200000000000001,
            "count": 81
           },
           {
            "bin_end": 14.4,
            "bin_start": 12.8,
            "count": 167
           },
           {
            "bin_end": 16,
            "bin_start": 14.4,
            "count": 357
           }
          ],
          "max": "16",
          "min": "0",
          "nan_count": 0,
          "unique_count": 17
         }
        },
        {
         "dtype": "int64",
         "name": "[6;5]",
         "stats": {
          "histogram": [
           {
            "bin_end": 1.6,
            "bin_start": 0,
            "count": 336
           },
           {
            "bin_end": 3.2,
            "bin_start": 1.6,
            "count": 70
           },
           {
            "bin_end": 4.800000000000001,
            "bin_start": 3.2,
            "count": 57
           },
           {
            "bin_end": 6.4,
            "bin_start": 4.800000000000001,
            "count": 69
           },
           {
            "bin_end": 8,
            "bin_start": 6.4,
            "count": 39
           },
           {
            "bin_end": 9.600000000000001,
            "bin_start": 8,
            "count": 122
           },
           {
            "bin_end": 11.200000000000001,
            "bin_start": 9.600000000000001,
            "count": 138
           },
           {
            "bin_end": 12.8,
            "bin_start": 11.200000000000001,
            "count": 80
           },
           {
            "bin_end": 14.4,
            "bin_start": 12.8,
            "count": 183
           },
           {
            "bin_end": 16,
            "bin_start": 14.4,
            "count": 344
           }
          ],
          "max": "16",
          "min": "0",
          "nan_count": 0,
          "unique_count": 17
         }
        },
        {
         "dtype": "int64",
         "name": "[6;6]",
         "stats": {
          "histogram": [
           {
            "bin_end": 1.6,
            "bin_start": 0,
            "count": 793
           },
           {
            "bin_end": 3.2,
            "bin_start": 1.6,
            "count": 111
           },
           {
            "bin_end": 4.800000000000001,
            "bin_start": 3.2,
            "count": 53
           },
           {
            "bin_end": 6.4,
            "bin_start": 4.800000000000001,
            "count": 86
           },
           {
            "bin_end": 8,
            "bin_start": 6.4,
            "count": 53
           },
           {
            "bin_end": 9.600000000000001,
            "bin_start": 8,
            "count": 94
           },
           {
            "bin_end": 11.200000000000001,
            "bin_start": 9.600000000000001,
            "count": 76
           },
           {
            "bin_end": 12.8,
            "bin_start": 11.200000000000001,
            "count": 50
           },
           {
            "bin_end": 14.4,
            "bin_start": 12.8,
            "count": 51
           },
           {
            "bin_end": 16,
            "bin_start": 14.4,
            "count": 71
           }
          ],
          "max": "16",
          "min": "0",
          "nan_count": 0,
          "unique_count": 17
         }
        },
        {
         "dtype": "int64",
         "name": "[6;7]",
         "stats": {
          "histogram": [
           {
            "bin_end": 1.3,
            "bin_start": 0,
            "count": 1369
           },
           {
            "bin_end": 2.6,
            "bin_start": 1.3,
            "count": 19
           },
           {
            "bin_end": 3.9000000000000004,
            "bin_start": 2.6,
            "count": 17
           },
           {
            "bin_end": 5.2,
            "bin_start": 3.9000000000000004,
            "count": 20
           },
           {
            "bin_end": 6.5,
            "bin_start": 5.2,
            "count": 5
           },
           {
            "bin_end": 7.800000000000001,
            "bin_start": 6.5,
            "count": 3
           },
           {
            "bin_end": 9.1,
            "bin_start": 7.800000000000001,
            "count": 3
           },
           {
            "bin_end": 10.4,
            "bin_start": 9.1,
            "count": 1
           },
           {
            "bin_end": 11.700000000000001,
            "bin_start": 10.4,
            "count": 0
           },
           {
            "bin_end": 13,
            "bin_start": 11.700000000000001,
            "count": 1
           }
          ],
          "max": "13",
          "min": "0",
          "nan_count": 0,
          "unique_count": 12
         }
        },
        {
         "dtype": "int64",
         "name": "[7;0]",
         "stats": {
          "histogram": [
           {
            "bin_end": -0.4,
            "bin_start": -0.5,
            "count": 0
           },
           {
            "bin_end": -0.3,
            "bin_start": -0.4,
            "count": 0
           },
           {
            "bin_end": -0.19999999999999996,
            "bin_start": -0.3,
            "count": 0
           },
           {
            "bin_end": -0.09999999999999998,
            "bin_start": -0.19999999999999996,
            "count": 0
           },
           {
            "bin_end": 0,
            "bin_start": -0.09999999999999998,
            "count": 0
           },
           {
            "bin_end": 0.10000000000000009,
            "bin_start": 0,
            "count": 1438
           },
           {
            "bin_end": 0.20000000000000007,
            "bin_start": 0.10000000000000009,
            "count": 0
           },
           {
            "bin_end": 0.30000000000000004,
            "bin_start": 0.20000000000000007,
            "count": 0
           },
           {
            "bin_end": 0.4,
            "bin_start": 0.30000000000000004,
            "count": 0
           },
           {
            "bin_end": 0.5,
            "bin_start": 0.4,
            "count": 0
           }
          ],
          "max": "0",
          "min": "0",
          "nan_count": 0,
          "unique_count": 1
         }
        },
        {
         "dtype": "int64",
         "name": "[7;1]",
         "stats": {
          "histogram": [
           {
            "bin_end": 0.9,
            "bin_start": 0,
            "count": 1265
           },
           {
            "bin_end": 1.8,
            "bin_start": 0.9,
            "count": 72
           },
           {
            "bin_end": 2.7,
            "bin_start": 1.8,
            "count": 43
           },
           {
            "bin_end": 3.6,
            "bin_start": 2.7,
            "count": 25
           },
           {
            "bin_end": 4.5,
            "bin_start": 3.6,
            "count": 16
           },
           {
            "bin_end": 5.4,
            "bin_start": 4.5,
            "count": 9
           },
           {
            "bin_end": 6.3,
            "bin_start": 5.4,
            "count": 2
           },
           {
            "bin_end": 7.2,
            "bin_start": 6.3,
            "count": 2
           },
           {
            "bin_end": 8.1,
            "bin_start": 7.2,
            "count": 1
           },
           {
            "bin_end": 9,
            "bin_start": 8.1,
            "count": 3
           }
          ],
          "max": "9",
          "min": "0",
          "nan_count": 0,
          "unique_count": 10
         }
        },
        {
         "dtype": "int64",
         "name": "[7;2]",
         "stats": {
          "histogram": [
           {
            "bin_end": 1.6,
            "bin_start": 0,
            "count": 439
           },
           {
            "bin_end": 3.2,
            "bin_start": 1.6,
            "count": 191
           },
           {
            "bin_end": 4.800000000000001,
            "bin_start": 3.2,
            "count": 78
           },
           {
            "bin_end": 6.4,
            "bin_start": 4.800000000000001,
            "count": 175
           },
           {
            "bin_end": 8,
            "bin_start": 6.4,
            "count": 92
           },
           {
            "bin_end": 9.600000000000001,
            "bin_start": 8,
            "count": 101
           },
           {
            "bin_end": 11.200000000000001,
            "bin_start": 9.600000000000001,
            "count": 115
           },
           {
            "bin_end": 12.8,
            "bin_start": 11.200000000000001,
            "count": 50
           },
           {
            "bin_end": 14.4,
            "bin_start": 12.8,
            "count": 85
           },
           {
            "bin_end": 16,
            "bin_start": 14.4,
            "count": 112
           }
          ],
          "max": "16",
          "min": "0",
          "nan_count": 0,
          "unique_count": 17
         }
        },
        {
         "dtype": "int64",
         "name": "[7;3]",
         "stats": {
          "histogram": [
           {
            "bin_end": 1.6,
            "bin_start": 0,
            "count": 68
           },
           {
            "bin_end": 3.2,
            "bin_start": 1.6,
            "count": 42
           },
           {
            "bin_end": 4.800000000000001,
            "bin_start": 3.2,
            "count": 25
           },
           {
            "bin_end": 6.4,
            "bin_start": 4.800000000000001,
            "count": 44
           },
           {
            "bin_end": 8,
            "bin_start": 6.4,
            "count": 26
           },
           {
            "bin_end": 9.600000000000001,
            "bin_start": 8,
            "count": 88
           },
           {
            "bin_end": 11.200000000000001,
            "bin_start": 9.600000000000001,
            "count": 165
           },
           {
            "bin_end": 12.8,
            "bin_start": 11.200000000000001,
            "count": 141
           },
           {
            "bin_end": 14.4,
            "bin_start": 12.8,
            "count": 291
           },
           {
            "bin_end": 16,
            "bin_start": 14.4,
            "count": 548
           }
          ],
          "max": "16",
          "min": "0",
          "nan_count": 0,
          "unique_count": 17
         }
        },
        {
         "dtype": "int64",
         "name": "[7;4]",
         "stats": {
          "histogram": [
           {
            "bin_end": 1.6,
            "bin_start": 0,
            "count": 122
           },
           {
            "bin_end": 3.2,
            "bin_start": 1.6,
            "count": 47
           },
           {
            "bin_end": 4.800000000000001,
            "bin_start": 3.2,
            "count": 24
           },
           {
            "bin_end": 6.4,
            "bin_start": 4.800000000000001,
            "count": 49
           },
           {
            "bin_end": 8,
            "bin_start": 6.4,
            "count": 31
           },
           {
            "bin_end": 9.600000000000001,
            "bin_start": 8,
            "count": 88
           },
           {
            "bin_end": 11.200000000000001,
            "bin_start": 9.600000000000001,
            "count": 107
           },
           {
            "bin_end": 12.8,
            "bin_start": 11.200000000000001,
            "count": 112
           },
           {
            "bin_end": 14.4,
            "bin_start": 12.8,
            "count": 257
           },
           {
            "bin_end": 16,
            "bin_start": 14.4,
            "count": 601
           }
          ],
          "max": "16",
          "min": "0",
          "nan_count": 0,
          "unique_count": 17
         }
        },
        {
         "dtype": "int64",
         "name": "[7;5]",
         "stats": {
          "histogram": [
           {
            "bin_end": 1.6,
            "bin_start": 0,
            "count": 465
           },
           {
            "bin_end": 3.2,
            "bin_start": 1.6,
            "count": 120
           },
           {
            "bin_end": 4.800000000000001,
            "bin_start": 3.2,
            "count": 48
           },
           {
            "bin_end": 6.4,
            "bin_start": 4.800000000000001,
            "count": 106
           },
           {
            "bin_end": 8,
            "bin_start": 6.4,
            "count": 52
           },
           {
            "bin_end": 9.600000000000001,
            "bin_start": 8,
            "count": 122
           },
           {
            "bin_end": 11.200000000000001,
            "bin_start": 9.600000000000001,
            "count": 106
           },
           {
            "bin_end": 12.8,
            "bin_start": 11.200000000000001,
            "count": 85
           },
           {
            "bin_end": 14.4,
            "bin_start": 12.8,
            "count": 100
           },
           {
            "bin_end": 16,
            "bin_start": 14.4,
            "count": 234
           }
          ],
          "max": "16",
          "min": "0",
          "nan_count": 0,
          "unique_count": 17
         }
        },
        {
         "dtype": "int64",
         "name": "[7;6]",
         "stats": {
          "histogram": [
           {
            "bin_end": 1.6,
            "bin_start": 0,
            "count": 1056
           },
           {
            "bin_end": 3.2,
            "bin_start": 1.6,
            "count": 96
           },
           {
            "bin_end": 4.800000000000001,
            "bin_start": 3.2,
            "count": 35
           },
           {
            "bin_end": 6.4,
            "bin_start": 4.800000000000001,
            "count": 62
           },
           {
            "bin_end": 8,
            "bin_start": 6.4,
            "count": 24
           },
           {
            "bin_end": 9.600000000000001,
            "bin_start": 8,
            "count": 46
           },
           {
            "bin_end": 11.200000000000001,
            "bin_start": 9.600000000000001,
            "count": 32
           },
           {
            "bin_end": 12.8,
            "bin_start": 11.200000000000001,
            "count": 16
           },
           {
            "bin_end": 14.4,
            "bin_start": 12.8,
            "count": 18
           },
           {
            "bin_end": 16,
            "bin_start": 14.4,
            "count": 53
           }
          ],
          "max": "16",
          "min": "0",
          "nan_count": 0,
          "unique_count": 17
         }
        },
        {
         "dtype": "int64",
         "name": "[7;7]",
         "stats": {
          "histogram": [
           {
            "bin_end": 1.6,
            "bin_start": 0,
            "count": 1376
           },
           {
            "bin_end": 3.2,
            "bin_start": 1.6,
            "count": 16
           },
           {
            "bin_end": 4.800000000000001,
            "bin_start": 3.2,
            "count": 3
           },
           {
            "bin_end": 6.4,
            "bin_start": 4.800000000000001,
            "count": 12
           },
           {
            "bin_end": 8,
            "bin_start": 6.4,
            "count": 3
           },
           {
            "bin_end": 9.600000000000001,
            "bin_start": 8,
            "count": 8
           },
           {
            "bin_end": 11.200000000000001,
            "bin_start": 9.600000000000001,
            "count": 6
           },
           {
            "bin_end": 12.8,
            "bin_start": 11.200000000000001,
            "count": 4
           },
           {
            "bin_end": 14.4,
            "bin_start": 12.8,
            "count": 3
           },
           {
            "bin_end": 16,
            "bin_start": 14.4,
            "count": 7
           }
          ],
          "max": "16",
          "min": "0",
          "nan_count": 0,
          "unique_count": 17
         }
        },
        {
         "dtype": "int64",
         "name": "classe",
         "stats": {
          "histogram": [
           {
            "bin_end": 0.9,
            "bin_start": 0,
            "count": 134
           },
           {
            "bin_end": 1.8,
            "bin_start": 0.9,
            "count": 144
           },
           {
            "bin_end": 2.7,
            "bin_start": 1.8,
            "count": 144
           },
           {
            "bin_end": 3.6,
            "bin_start": 2.7,
            "count": 147
           },
           {
            "bin_end": 4.5,
            "bin_start": 3.6,
            "count": 140
           },
           {
            "bin_end": 5.4,
            "bin_start": 4.5,
            "count": 149
           },
           {
            "bin_end": 6.3,
            "bin_start": 5.4,
            "count": 150
           },
           {
            "bin_end": 7.2,
            "bin_start": 6.3,
            "count": 149
           },
           {
            "bin_end": 8.1,
            "bin_start": 7.2,
            "count": 135
           },
           {
            "bin_end": 9,
            "bin_start": 8.1,
            "count": 146
           }
          ],
          "max": "9",
          "min": "0",
          "nan_count": 0,
          "unique_count": 10
         }
        },
        {
         "dtype": "int64",
         "name": "_deepnote_index_column"
        }
       ],
       "row_count": 1438,
       "rows": [
        {
         "[0;0]": "0",
         "[0;1]": "0",
         "[0;2]": "0",
         "[0;3]": "7",
         "[0;4]": "12",
         "[0;5]": "0",
         "[0;6]": "0",
         "[0;7]": "0",
         "[1;0]": "0",
         "[1;1]": "0",
         "[1;2]": "4",
         "[1;3]": "16",
         "[1;4]": "8",
         "[1;5]": "0",
         "[1;6]": "0",
         "[1;7]": "0",
         "[2;0]": "0",
         "[2;1]": "0",
         "[2;2]": "12",
         "[2;3]": "11",
         "[2;4]": "0",
         "[2;5]": "0",
         "[2;6]": "0",
         "[2;7]": "0",
         "[3;0]": "0",
         "[3;1]": "0",
         "[3;2]": "15",
         "[3;3]": "10",
         "[3;4]": "8",
         "[3;5]": "6",
         "[3;6]": "1",
         "[3;7]": "0",
         "[4;0]": "0",
         "[4;1]": "0",
         "[4;2]": "15",
         "[4;3]": "16",
         "[4;4]": "8",
         "[4;5]": "10",
         "[4;6]": "8",
         "[4;7]": "0",
         "[5;0]": "0",
         "[5;1]": "0",
         "[5;2]": "14",
         "[5;3]": "7",
         "[5;4]": "0",
         "[5;5]": "0",
         "[5;6]": "12",
         "[5;7]": "0",
         "[6;0]": "0",
         "[6;1]": "0",
         "[6;2]": "8",
         "[6;3]": "11",
         "[6;4]": "0",
         "[6;5]": "5",
         "[6;6]": "16",
         "[6;7]": "2",
         "[7;0]": "0",
         "[7;1]": "0",
         "[7;2]": "0",
         "[7;3]": "9",
         "[7;4]": "14",
         "[7;5]": "14",
         "[7;6]": "5",
         "[7;7]": "0",
         "_deepnote_index_column": "1245",
         "classe": "6"
        },
        {
         "[0;0]": "0",
         "[0;1]": "0",
         "[0;2]": "11",
         "[0;3]": "16",
         "[0;4]": "8",
         "[0;5]": "0",
         "[0;6]": "0",
         "[0;7]": "0",
         "[1;0]": "0",
         "[1;1]": "6",
         "[1;2]": "16",
         "[1;3]": "11",
         "[1;4]": "13",
         "[1;5]": "9",
         "[1;6]": "0",
         "[1;7]": "0",
         "[2;0]": "0",
         "[2;1]": "7",
         "[2;2]": "16",
         "[2;3]": "0",
         "[2;4]": "9",
         "[2;5]": "16",
         "[2;6]": "0",
         "[2;7]": "0",
         "[3;0]": "0",
         "[3;1]": "2",
         "[3;2]": "15",
         "[3;3]": "12",
         "[3;4]": "16",
         "[3;5]": "16",
         "[3;6]": "3",
         "[3;7]": "0",
         "[4;0]": "0",
         "[4;1]": "0",
         "[4;2]": "5",
         "[4;3]": "7",
         "[4;4]": "7",
         "[4;5]": "16",
         "[4;6]": "4",
         "[4;7]": "0",
         "[5;0]": "0",
         "[5;1]": "0",
         "[5;2]": "0",
         "[5;3]": "0",
         "[5;4]": "5",
         "[5;5]": "16",
         "[5;6]": "5",
         "[5;7]": "0",
         "[6;0]": "0",
         "[6;1]": "0",
         "[6;2]": "3",
         "[6;3]": "7",
         "[6;4]": "16",
         "[6;5]": "11",
         "[6;6]": "0",
         "[6;7]": "0",
         "[7;0]": "0",
         "[7;1]": "0",
         "[7;2]": "13",
         "[7;3]": "16",
         "[7;4]": "11",
         "[7;5]": "1",
         "[7;6]": "0",
         "[7;7]": "0",
         "_deepnote_index_column": "220",
         "classe": "9"
        },
        {
         "[0;0]": "0",
         "[0;1]": "0",
         "[0;2]": "8",
         "[0;3]": "15",
         "[0;4]": "12",
         "[0;5]": "4",
         "[0;6]": "0",
         "[0;7]": "0",
         "[1;0]": "0",
         "[1;1]": "5",
         "[1;2]": "14",
         "[1;3]": "4",
         "[1;4]": "11",
         "[1;5]": "7",
         "[1;6]": "0",
         "[1;7]": "0",
         "[2;0]": "0",
         "[2;1]": "0",
         "[2;2]": "0",
         "[2;3]": "1",
         "[2;4]": "14",
         "[2;5]": "3",
         "[2;6]": "0",
         "[2;7]": "0",
         "[3;0]": "0",
         "[3;1]": "0",
         "[3;2]": "2",
         "[3;3]": "15",
         "[3;4]": "14",
         "[3;5]": "1",
         "[3;6]": "0",
         "[3;7]": "0",
         "[4;0]": "0",
         "[4;1]": "0",
         "[4;2]": "0",
         "[4;3]": "8",
         "[4;4]": "13",
         "[4;5]": "11",
         "[4;6]": "0",
         "[4;7]": "0",
         "[5;0]": "0",
         "[5;1]": "0",
         "[5;2]": "0",
         "[5;3]": "0",
         "[5;4]": "0",
         "[5;5]": "13",
         "[5;6]": "5",
         "[5;7]": "0",
         "[6;0]": "0",
         "[6;1]": "0",
         "[6;2]": "12",
         "[6;3]": "2",
         "[6;4]": "3",
         "[6;5]": "12",
         "[6;6]": "7",
         "[6;7]": "0",
         "[7;0]": "0",
         "[7;1]": "0",
         "[7;2]": "13",
         "[7;3]": "16",
         "[7;4]": "15",
         "[7;5]": "8",
         "[7;6]": "0",
         "[7;7]": "0",
         "_deepnote_index_column": "1518",
         "classe": "3"
        },
        {
         "[0;0]": "0",
         "[0;1]": "0",
         "[0;2]": "2",
         "[0;3]": "12",
         "[0;4]": "12",
         "[0;5]": "12",
         "[0;6]": "9",
         "[0;7]": "2",
         "[1;0]": "0",
         "[1;1]": "0",
         "[1;2]": "9",
         "[1;3]": "15",
         "[1;4]": "12",
         "[1;5]": "13",
         "[1;6]": "16",
         "[1;7]": "5",
         "[2;0]": "0",
         "[2;1]": "0",
         "[2;2]": "12",
         "[2;3]": "8",
         "[2;4]": "0",
         "[2;5]": "8",
         "[2;6]": "10",
         "[2;7]": "0",
         "[3;0]": "0",
         "[3;1]": "1",
         "[3;2]": "16",
         "[3;3]": "3",
         "[3;4]": "3",
         "[3;5]": "15",
         "[3;6]": "2",
         "[3;7]": "0",
         "[4;0]": "0",
         "[4;1]": "1",
         "[4;2]": "3",
         "[4;3]": "0",
         "[4;4]": "12",
         "[4;5]": "7",
         "[4;6]": "0",
         "[4;7]": "0",
         "[5;0]": "0",
         "[5;1]": "0",
         "[5;2]": "0",
         "[5;3]": "4",
         "[5;4]": "13",
         "[5;5]": "0",
         "[5;6]": "0",
         "[5;7]": "0",
         "[6;0]": "0",
         "[6;1]": "0",
         "[6;2]": "0",
         "[6;3]": "13",
         "[6;4]": "9",
         "[6;5]": "0",
         "[6;6]": "0",
         "[6;7]": "0",
         "[7;0]": "0",
         "[7;1]": "0",
         "[7;2]": "3",
         "[7;3]": "15",
         "[7;4]": "3",
         "[7;5]": "0",
         "[7;6]": "0",
         "[7;7]": "0",
         "_deepnote_index_column": "438",
         "classe": "7"
        },
        {
         "[0;0]": "0",
         "[0;1]": "2",
         "[0;2]": "13",
         "[0;3]": "16",
         "[0;4]": "10",
         "[0;5]": "0",
         "[0;6]": "0",
         "[0;7]": "0",
         "[1;0]": "0",
         "[1;1]": "6",
         "[1;2]": "13",
         "[1;3]": "10",
         "[1;4]": "16",
         "[1;5]": "0",
         "[1;6]": "0",
         "[1;7]": "0",
         "[2;0]": "0",
         "[2;1]": "0",
         "[2;2]": "0",
         "[2;3]": "8",
         "[2;4]": "14",
         "[2;5]": "0",
         "[2;6]": "0",
         "[2;7]": "0",
         "[3;0]": "0",
         "[3;1]": "0",
         "[3;2]": "1",
         "[3;3]": "14",
         "[3;4]": "9",
         "[3;5]": "0",
         "[3;6]": "0",
         "[3;7]": "0",
         "[4;0]": "0",
         "[4;1]": "0",
         "[4;2]": "9",
         "[4;3]": "14",
         "[4;4]": "1",
         "[4;5]": "0",
         "[4;6]": "0",
         "[4;7]": "0",
         "[5;0]": "0",
         "[5;1]": "1",
         "[5;2]": "14",
         "[5;3]": "7",
         "[5;4]": "0",
         "[5;5]": "0",
         "[5;6]": "1",
         "[5;7]": "0",
         "[6;0]": "0",
         "[6;1]": "4",
         "[6;2]": "16",
         "[6;3]": "5",
         "[6;4]": "7",
         "[6;5]": "12",
         "[6;6]": "14",
         "[6;7]": "0",
         "[7;0]": "0",
         "[7;1]": "3",
         "[7;2]": "15",
         "[7;3]": "16",
         "[7;4]": "16",
         "[7;5]": "10",
         "[7;6]": "1",
         "[7;7]": "0",
         "_deepnote_index_column": "1270",
         "classe": "2"
        },
        {
         "[0;0]": "0",
         "[0;1]": "0",
         "[0;2]": "14",
         "[0;3]": "10",
         "[0;4]": "0",
         "[0;5]": "0",
         "[0;6]": "0",
         "[0;7]": "0",
         "[1;0]": "0",
         "[1;1]": "0",
         "[1;2]": "15",
         "[1;3]": "13",
         "[1;4]": "0",
         "[1;5]": "0",
         "[1;6]": "0",
         "[1;7]": "0",
         "[2;0]": "0",
         "[2;1]": "11",
         "[2;2]": "16",
         "[2;3]": "16",
         "[2;4]": "2",
         "[2;5]": "0",
         "[2;6]": "0",
         "[2;7]": "0",
         "[3;0]": "0",
         "[3;1]": "3",
         "[3;2]": "10",
         "[3;3]": "16",
         "[3;4]": "5",
         "[3;5]": "0",
         "[3;6]": "0",
         "[3;7]": "0",
         "[4;0]": "0",
         "[4;1]": "0",
         "[4;2]": "0",
         "[4;3]": "14",
         "[4;4]": "10",
         "[4;5]": "0",
         "[4;6]": "0",
         "[4;7]": "0",
         "[5;0]": "0",
         "[5;1]": "0",
         "[5;2]": "0",
         "[5;3]": "10",
         "[5;4]": "14",
         "[5;5]": "0",
         "[5;6]": "0",
         "[5;7]": "0",
         "[6;0]": "0",
         "[6;1]": "0",
         "[6;2]": "9",
         "[6;3]": "14",
         "[6;4]": "16",
         "[6;5]": "11",
         "[6;6]": "6",
         "[6;7]": "0",
         "[7;0]": "0",
         "[7;1]": "0",
         "[7;2]": "12",
         "[7;3]": "16",
         "[7;4]": "16",
         "[7;5]": "16",
         "[7;6]": "16",
         "[7;7]": "9",
         "_deepnote_index_column": "832",
         "classe": "1"
        },
        {
         "[0;0]": "0",
         "[0;1]": "0",
         "[0;2]": "8",
         "[0;3]": "12",
         "[0;4]": "16",
         "[0;5]": "16",
         "[0;6]": "9",
         "[0;7]": "0",
         "[1;0]": "0",
         "[1;1]": "4",
         "[1;2]": "16",
         "[1;3]": "16",
         "[1;4]": "13",
         "[1;5]": "9",
         "[1;6]": "2",
         "[1;7]": "0",
         "[2;0]": "0",
         "[2;1]": "11",
         "[2;2]": "14",
         "[2;3]": "4",
         "[2;4]": "0",
         "[2;5]": "0",
         "[2;6]": "0",
         "[2;7]": "0",
         "[3;0]": "0",
         "[3;1]": "7",
         "[3;2]": "15",
         "[3;3]": "10",
         "[3;4]": "1",
         "[3;5]": "0",
         "[3;6]": "0",
         "[3;7]": "0",
         "[4;0]": "0",
         "[4;1]": "0",
         "[4;2]": "12",
         "[4;3]": "16",
         "[4;4]": "13",
         "[4;5]": "1",
         "[4;6]": "0",
         "[4;7]": "0",
         "[5;0]": "0",
         "[5;1]": "0",
         "[5;2]": "0",
         "[5;3]": "4",
         "[5;4]": "16",
         "[5;5]": "4",
         "[5;6]": "0",
         "[5;7]": "0",
         "[6;0]": "0",
         "[6;1]": "0",
         "[6;2]": "5",
         "[6;3]": "10",
         "[6;4]": "16",
         "[6;5]": "3",
         "[6;6]": "0",
         "[6;7]": "0",
         "[7;0]": "0",
         "[7;1]": "0",
         "[7;2]": "9",
         "[7;3]": "16",
         "[7;4]": "10",
         "[7;5]": "0",
         "[7;6]": "0",
         "[7;7]": "0",
         "_deepnote_index_column": "692",
         "classe": "5"
        },
        {
         "[0;0]": "0",
         "[0;1]": "0",
         "[0;2]": "4",
         "[0;3]": "16",
         "[0;4]": "16",
         "[0;5]": "4",
         "[0;6]": "0",
         "[0;7]": "0",
         "[1;0]": "0",
         "[1;1]": "0",
         "[1;2]": "12",
         "[1;3]": "11",
         "[1;4]": "7",
         "[1;5]": "11",
         "[1;6]": "0",
         "[1;7]": "0",
         "[2;0]": "0",
         "[2;1]": "0",
         "[2;2]": "9",
         "[2;3]": "2",
         "[2;4]": "5",
         "[2;5]": "12",
         "[2;6]": "0",
         "[2;7]": "0",
         "[3;0]": "0",
         "[3;1]": "0",
         "[3;2]": "0",
         "[3;3]": "0",
         "[3;4]": "7",
         "[3;5]": "11",
         "[3;6]": "0",
         "[3;7]": "0",
         "[4;0]": "0",
         "[4;1]": "0",
         "[4;2]": "0",
         "[4;3]": "0",
         "[4;4]": "13",
         "[4;5]": "6",
         "[4;6]": "0",
         "[4;7]": "0",
         "[5;0]": "0",
         "[5;1]": "0",
         "[5;2]": "0",
         "[5;3]": "2",
         "[5;4]": "16",
         "[5;5]": "1",
         "[5;6]": "0",
         "[5;7]": "0",
         "[6;0]": "0",
         "[6;1]": "0",
         "[6;2]": "1",
         "[6;3]": "15",
         "[6;4]": "15",
         "[6;5]": "10",
         "[6;6]": "1",
         "[6;7]": "0",
         "[7;0]": "0",
         "[7;1]": "0",
         "[7;2]": "5",
         "[7;3]": "16",
         "[7;4]": "8",
         "[7;5]": "11",
         "[7;6]": "11",
         "[7;7]": "0",
         "_deepnote_index_column": "1309",
         "classe": "2"
        },
        {
         "[0;0]": "0",
         "[0;1]": "1",
         "[0;2]": "12",
         "[0;3]": "16",
         "[0;4]": "16",
         "[0;5]": "16",
         "[0;6]": "4",
         "[0;7]": "0",
         "[1;0]": "0",
         "[1;1]": "4",
         "[1;2]": "16",
         "[1;3]": "10",
         "[1;4]": "4",
         "[1;5]": "1",
         "[1;6]": "1",
         "[1;7]": "0",
         "[2;0]": "0",
         "[2;1]": "6",
         "[2;2]": "13",
         "[2;3]": "0",
         "[2;4]": "0",
         "[2;5]": "0",
         "[2;6]": "0",
         "[2;7]": "0",
         "[3;0]": "0",
         "[3;1]": "6",
         "[3;2]": "16",
         "[3;3]": "12",
         "[3;4]": "5",
         "[3;5]": "0",
         "[3;6]": "0",
         "[3;7]": "0",
         "[4;0]": "0",
         "[4;1]": "7",
         "[4;2]": "11",
         "[4;3]": "11",
         "[4;4]": "15",
         "[4;5]": "0",
         "[4;6]": "0",
         "[4;7]": "0",
         "[5;0]": "0",
         "[5;1]": "0",
         "[5;2]": "0",
         "[5;3]": "4",
         "[5;4]": "16",
         "[5;5]": "2",
         "[5;6]": "0",
         "[5;7]": "0",
         "[6;0]": "0",
         "[6;1]": "0",
         "[6;2]": "2",
         "[6;3]": "13",
         "[6;4]": "10",
         "[6;5]": "0",
         "[6;6]": "0",
         "[6;7]": "0",
         "[7;0]": "0",
         "[7;1]": "2",
         "[7;2]": "16",
         "[7;3]": "11",
         "[7;4]": "0",
         "[7;5]": "0",
         "[7;6]": "0",
         "[7;7]": "0",
         "_deepnote_index_column": "1101",
         "classe": "5"
        },
        {
         "[0;0]": "0",
         "[0;1]": "4",
         "[0;2]": "15",
         "[0;3]": "15",
         "[0;4]": "8",
         "[0;5]": "0",
         "[0;6]": "0",
         "[0;7]": "0",
         "[1;0]": "0",
         "[1;1]": "8",
         "[1;2]": "16",
         "[1;3]": "16",
         "[1;4]": "16",
         "[1;5]": "3",
         "[1;6]": "0",
         "[1;7]": "0",
         "[2;0]": "0",
         "[2;1]": "1",
         "[2;2]": "0",
         "[2;3]": "1",
         "[2;4]": "15",
         "[2;5]": "5",
         "[2;6]": "0",
         "[2;7]": "0",
         "[3;0]": "0",
         "[3;1]": "0",
         "[3;2]": "0",
         "[3;3]": "0",
         "[3;4]": "11",
         "[3;5]": "6",
         "[3;6]": "0",
         "[3;7]": "0",
         "[4;0]": "0",
         "[4;1]": "0",
         "[4;2]": "0",
         "[4;3]": "3",
         "[4;4]": "15",
         "[4;5]": "2",
         "[4;6]": "0",
         "[4;7]": "0",
         "[5;0]": "0",
         "[5;1]": "0",
         "[5;2]": "4",
         "[5;3]": "15",
         "[5;4]": "16",
         "[5;5]": "14",
         "[5;6]": "6",
         "[5;7]": "0",
         "[6;0]": "0",
         "[6;1]": "6",
         "[6;2]": "16",
         "[6;3]": "16",
         "[6;4]": "15",
         "[6;5]": "11",
         "[6;6]": "3",
         "[6;7]": "0",
         "[7;0]": "0",
         "[7;1]": "7",
         "[7;2]": "14",
         "[7;3]": "11",
         "[7;4]": "0",
         "[7;5]": "0",
         "[7;6]": "0",
         "[7;7]": "0",
         "_deepnote_index_column": "1742",
         "classe": "2"
        }
       ]
      },
      "text/html": [
       "<div>\n",
       "<style scoped>\n",
       "    .dataframe tbody tr th:only-of-type {\n",
       "        vertical-align: middle;\n",
       "    }\n",
       "\n",
       "    .dataframe tbody tr th {\n",
       "        vertical-align: top;\n",
       "    }\n",
       "\n",
       "    .dataframe thead th {\n",
       "        text-align: right;\n",
       "    }\n",
       "</style>\n",
       "<table border=\"1\" class=\"dataframe\">\n",
       "  <thead>\n",
       "    <tr style=\"text-align: right;\">\n",
       "      <th></th>\n",
       "      <th>[0;0]</th>\n",
       "      <th>[0;1]</th>\n",
       "      <th>[0;2]</th>\n",
       "      <th>[0;3]</th>\n",
       "      <th>[0;4]</th>\n",
       "      <th>[0;5]</th>\n",
       "      <th>[0;6]</th>\n",
       "      <th>[0;7]</th>\n",
       "      <th>[1;0]</th>\n",
       "      <th>[1;1]</th>\n",
       "      <th>...</th>\n",
       "      <th>[6;7]</th>\n",
       "      <th>[7;0]</th>\n",
       "      <th>[7;1]</th>\n",
       "      <th>[7;2]</th>\n",
       "      <th>[7;3]</th>\n",
       "      <th>[7;4]</th>\n",
       "      <th>[7;5]</th>\n",
       "      <th>[7;6]</th>\n",
       "      <th>[7;7]</th>\n",
       "      <th>classe</th>\n",
       "    </tr>\n",
       "  </thead>\n",
       "  <tbody>\n",
       "    <tr>\n",
       "      <th>1245</th>\n",
       "      <td>0</td>\n",
       "      <td>0</td>\n",
       "      <td>0</td>\n",
       "      <td>7</td>\n",
       "      <td>12</td>\n",
       "      <td>0</td>\n",
       "      <td>0</td>\n",
       "      <td>0</td>\n",
       "      <td>0</td>\n",
       "      <td>0</td>\n",
       "      <td>...</td>\n",
       "      <td>2</td>\n",
       "      <td>0</td>\n",
       "      <td>0</td>\n",
       "      <td>0</td>\n",
       "      <td>9</td>\n",
       "      <td>14</td>\n",
       "      <td>14</td>\n",
       "      <td>5</td>\n",
       "      <td>0</td>\n",
       "      <td>6</td>\n",
       "    </tr>\n",
       "    <tr>\n",
       "      <th>220</th>\n",
       "      <td>0</td>\n",
       "      <td>0</td>\n",
       "      <td>11</td>\n",
       "      <td>16</td>\n",
       "      <td>8</td>\n",
       "      <td>0</td>\n",
       "      <td>0</td>\n",
       "      <td>0</td>\n",
       "      <td>0</td>\n",
       "      <td>6</td>\n",
       "      <td>...</td>\n",
       "      <td>0</td>\n",
       "      <td>0</td>\n",
       "      <td>0</td>\n",
       "      <td>13</td>\n",
       "      <td>16</td>\n",
       "      <td>11</td>\n",
       "      <td>1</td>\n",
       "      <td>0</td>\n",
       "      <td>0</td>\n",
       "      <td>9</td>\n",
       "    </tr>\n",
       "    <tr>\n",
       "      <th>1518</th>\n",
       "      <td>0</td>\n",
       "      <td>0</td>\n",
       "      <td>8</td>\n",
       "      <td>15</td>\n",
       "      <td>12</td>\n",
       "      <td>4</td>\n",
       "      <td>0</td>\n",
       "      <td>0</td>\n",
       "      <td>0</td>\n",
       "      <td>5</td>\n",
       "      <td>...</td>\n",
       "      <td>0</td>\n",
       "      <td>0</td>\n",
       "      <td>0</td>\n",
       "      <td>13</td>\n",
       "      <td>16</td>\n",
       "      <td>15</td>\n",
       "      <td>8</td>\n",
       "      <td>0</td>\n",
       "      <td>0</td>\n",
       "      <td>3</td>\n",
       "    </tr>\n",
       "    <tr>\n",
       "      <th>438</th>\n",
       "      <td>0</td>\n",
       "      <td>0</td>\n",
       "      <td>2</td>\n",
       "      <td>12</td>\n",
       "      <td>12</td>\n",
       "      <td>12</td>\n",
       "      <td>9</td>\n",
       "      <td>2</td>\n",
       "      <td>0</td>\n",
       "      <td>0</td>\n",
       "      <td>...</td>\n",
       "      <td>0</td>\n",
       "      <td>0</td>\n",
       "      <td>0</td>\n",
       "      <td>3</td>\n",
       "      <td>15</td>\n",
       "      <td>3</td>\n",
       "      <td>0</td>\n",
       "      <td>0</td>\n",
       "      <td>0</td>\n",
       "      <td>7</td>\n",
       "    </tr>\n",
       "    <tr>\n",
       "      <th>1270</th>\n",
       "      <td>0</td>\n",
       "      <td>2</td>\n",
       "      <td>13</td>\n",
       "      <td>16</td>\n",
       "      <td>10</td>\n",
       "      <td>0</td>\n",
       "      <td>0</td>\n",
       "      <td>0</td>\n",
       "      <td>0</td>\n",
       "      <td>6</td>\n",
       "      <td>...</td>\n",
       "      <td>0</td>\n",
       "      <td>0</td>\n",
       "      <td>3</td>\n",
       "      <td>15</td>\n",
       "      <td>16</td>\n",
       "      <td>16</td>\n",
       "      <td>10</td>\n",
       "      <td>1</td>\n",
       "      <td>0</td>\n",
       "      <td>2</td>\n",
       "    </tr>\n",
       "    <tr>\n",
       "      <th>...</th>\n",
       "      <td>...</td>\n",
       "      <td>...</td>\n",
       "      <td>...</td>\n",
       "      <td>...</td>\n",
       "      <td>...</td>\n",
       "      <td>...</td>\n",
       "      <td>...</td>\n",
       "      <td>...</td>\n",
       "      <td>...</td>\n",
       "      <td>...</td>\n",
       "      <td>...</td>\n",
       "      <td>...</td>\n",
       "      <td>...</td>\n",
       "      <td>...</td>\n",
       "      <td>...</td>\n",
       "      <td>...</td>\n",
       "      <td>...</td>\n",
       "      <td>...</td>\n",
       "      <td>...</td>\n",
       "      <td>...</td>\n",
       "      <td>...</td>\n",
       "    </tr>\n",
       "    <tr>\n",
       "      <th>658</th>\n",
       "      <td>0</td>\n",
       "      <td>0</td>\n",
       "      <td>6</td>\n",
       "      <td>15</td>\n",
       "      <td>15</td>\n",
       "      <td>1</td>\n",
       "      <td>0</td>\n",
       "      <td>0</td>\n",
       "      <td>0</td>\n",
       "      <td>4</td>\n",
       "      <td>...</td>\n",
       "      <td>0</td>\n",
       "      <td>0</td>\n",
       "      <td>0</td>\n",
       "      <td>8</td>\n",
       "      <td>16</td>\n",
       "      <td>12</td>\n",
       "      <td>5</td>\n",
       "      <td>0</td>\n",
       "      <td>0</td>\n",
       "      <td>2</td>\n",
       "    </tr>\n",
       "    <tr>\n",
       "      <th>1463</th>\n",
       "      <td>0</td>\n",
       "      <td>0</td>\n",
       "      <td>3</td>\n",
       "      <td>12</td>\n",
       "      <td>8</td>\n",
       "      <td>1</td>\n",
       "      <td>0</td>\n",
       "      <td>0</td>\n",
       "      <td>0</td>\n",
       "      <td>0</td>\n",
       "      <td>...</td>\n",
       "      <td>0</td>\n",
       "      <td>0</td>\n",
       "      <td>0</td>\n",
       "      <td>3</td>\n",
       "      <td>11</td>\n",
       "      <td>15</td>\n",
       "      <td>7</td>\n",
       "      <td>0</td>\n",
       "      <td>0</td>\n",
       "      <td>0</td>\n",
       "    </tr>\n",
       "    <tr>\n",
       "      <th>1019</th>\n",
       "      <td>0</td>\n",
       "      <td>0</td>\n",
       "      <td>4</td>\n",
       "      <td>16</td>\n",
       "      <td>8</td>\n",
       "      <td>11</td>\n",
       "      <td>7</td>\n",
       "      <td>0</td>\n",
       "      <td>0</td>\n",
       "      <td>0</td>\n",
       "      <td>...</td>\n",
       "      <td>0</td>\n",
       "      <td>0</td>\n",
       "      <td>0</td>\n",
       "      <td>4</td>\n",
       "      <td>15</td>\n",
       "      <td>2</td>\n",
       "      <td>0</td>\n",
       "      <td>0</td>\n",
       "      <td>0</td>\n",
       "      <td>7</td>\n",
       "    </tr>\n",
       "    <tr>\n",
       "      <th>1498</th>\n",
       "      <td>0</td>\n",
       "      <td>1</td>\n",
       "      <td>9</td>\n",
       "      <td>15</td>\n",
       "      <td>13</td>\n",
       "      <td>4</td>\n",
       "      <td>0</td>\n",
       "      <td>0</td>\n",
       "      <td>0</td>\n",
       "      <td>5</td>\n",
       "      <td>...</td>\n",
       "      <td>0</td>\n",
       "      <td>0</td>\n",
       "      <td>0</td>\n",
       "      <td>8</td>\n",
       "      <td>15</td>\n",
       "      <td>16</td>\n",
       "      <td>9</td>\n",
       "      <td>1</td>\n",
       "      <td>0</td>\n",
       "      <td>3</td>\n",
       "    </tr>\n",
       "    <tr>\n",
       "      <th>959</th>\n",
       "      <td>0</td>\n",
       "      <td>0</td>\n",
       "      <td>11</td>\n",
       "      <td>16</td>\n",
       "      <td>7</td>\n",
       "      <td>0</td>\n",
       "      <td>0</td>\n",
       "      <td>0</td>\n",
       "      <td>0</td>\n",
       "      <td>1</td>\n",
       "      <td>...</td>\n",
       "      <td>0</td>\n",
       "      <td>0</td>\n",
       "      <td>0</td>\n",
       "      <td>13</td>\n",
       "      <td>14</td>\n",
       "      <td>14</td>\n",
       "      <td>16</td>\n",
       "      <td>16</td>\n",
       "      <td>6</td>\n",
       "      <td>2</td>\n",
       "    </tr>\n",
       "  </tbody>\n",
       "</table>\n",
       "<p>1438 rows × 65 columns</p>\n",
       "</div>"
      ],
      "text/plain": [
       "      [0;0]  [0;1]  [0;2]  [0;3]  [0;4]  [0;5]  [0;6]  [0;7]  [1;0]  [1;1]  \\\n",
       "1245      0      0      0      7     12      0      0      0      0      0   \n",
       "220       0      0     11     16      8      0      0      0      0      6   \n",
       "1518      0      0      8     15     12      4      0      0      0      5   \n",
       "438       0      0      2     12     12     12      9      2      0      0   \n",
       "1270      0      2     13     16     10      0      0      0      0      6   \n",
       "...     ...    ...    ...    ...    ...    ...    ...    ...    ...    ...   \n",
       "658       0      0      6     15     15      1      0      0      0      4   \n",
       "1463      0      0      3     12      8      1      0      0      0      0   \n",
       "1019      0      0      4     16      8     11      7      0      0      0   \n",
       "1498      0      1      9     15     13      4      0      0      0      5   \n",
       "959       0      0     11     16      7      0      0      0      0      1   \n",
       "\n",
       "      ...  [6;7]  [7;0]  [7;1]  [7;2]  [7;3]  [7;4]  [7;5]  [7;6]  [7;7]  \\\n",
       "1245  ...      2      0      0      0      9     14     14      5      0   \n",
       "220   ...      0      0      0     13     16     11      1      0      0   \n",
       "1518  ...      0      0      0     13     16     15      8      0      0   \n",
       "438   ...      0      0      0      3     15      3      0      0      0   \n",
       "1270  ...      0      0      3     15     16     16     10      1      0   \n",
       "...   ...    ...    ...    ...    ...    ...    ...    ...    ...    ...   \n",
       "658   ...      0      0      0      8     16     12      5      0      0   \n",
       "1463  ...      0      0      0      3     11     15      7      0      0   \n",
       "1019  ...      0      0      0      4     15      2      0      0      0   \n",
       "1498  ...      0      0      0      8     15     16      9      1      0   \n",
       "959   ...      0      0      0     13     14     14     16     16      6   \n",
       "\n",
       "      classe  \n",
       "1245       6  \n",
       "220        9  \n",
       "1518       3  \n",
       "438        7  \n",
       "1270       2  \n",
       "...      ...  \n",
       "658        2  \n",
       "1463       0  \n",
       "1019       7  \n",
       "1498       3  \n",
       "959        2  \n",
       "\n",
       "[1438 rows x 65 columns]"
      ]
     },
     "execution_count": 12,
     "metadata": {},
     "output_type": "execute_result"
    }
   ],
   "source": [
    "# On veut s'assurer que le modèle fonctionnera aussi pour de nouveaux chiffres. \n",
    "# On sépare donc les données en un jeu d'entraînement et un jeu de validation.\n",
    "\n",
    "# 8) Séparer les données de manière à avoir 80 % des données dans l'ensemble d'entraînement \n",
    "# et 20 % pour l'ensemble de validation.\n",
    "# On appelera respectivement ces ensembles digits_train et digits_valid.\n",
    "\n",
    "digits_train=train_data.sample(frac=0.8,random_state=42) \n",
    "digits_valid=train_data.drop(digits_train.index)\n",
    "\n",
    "digits_train\n"
   ]
  },
  {
   "cell_type": "code",
   "execution_count": 13,
   "metadata": {
    "cell_id": "517484008e184f1fb329ecbfb3e8f8e5",
    "deepnote_cell_type": "code",
    "deepnote_to_be_reexecuted": false,
    "execution_millis": 6,
    "execution_start": 1681044467645,
    "source_hash": "35b7d045",
    "tags": []
   },
   "outputs": [
    {
     "name": "stdout",
     "output_type": "stream",
     "text": [
      "(1438, 64) (359, 64)\n"
     ]
    }
   ],
   "source": [
    "# 9) Séparer pour chaque ensemble les features (matrice de pixels) et la cible à prédire (\"outcome\").\n",
    "# On notera X_train, Y_train et X_valid, Y_valid respectivement \n",
    "# les features et les cibles pour l'ensemble d'entraînement et de validation.\n",
    "\n",
    "X_train = digits_train[digits_train.columns[:-1]]\n",
    "Y_train = digits_train[digits_train.columns[-1]]\n",
    "\n",
    "X_valid = digits_valid[digits_train.columns[:-1]]\n",
    "Y_valid = digits_valid[digits_train.columns[-1]]\n",
    "\n",
    "print(X_train.shape, X_valid.shape)"
   ]
  },
  {
   "cell_type": "markdown",
   "metadata": {
    "cell_id": "bca95f7549fa4440badb4947f25a1886",
    "deepnote_cell_type": "markdown",
    "tags": []
   },
   "source": [
    "# KPPV: K plus proches voisins\n",
    "\n",
    "La méthode des K plus proches voisins est un algorithme d'apprentissage supervisé que l'on va utiliser pour classifier les différentes matrices de pixels du jeu de données digits. À partir d'un point x dont on ne connait pas la classe (Outcome), on cherche les k plus proches voisins de x dans le jeu d'entraînement selon la distance euclidienne. On récupère l'Outcome ayant le plus grand nombre d'occurrences parmi les k plus proches voisins. On considère que x appartient à la classe correspondant au plus grand taux d'occurrences.\n",
    "\n",
    "https://fr.wikipedia.org/wiki/Méthode_des_k_plus_proches_voisins\n",
    "\n",
    "https://scikit-learn.org/stable/modules/neighbors.html#classification"
   ]
  },
  {
   "cell_type": "markdown",
   "metadata": {
    "cell_id": "bb6b84fa92e1428eb2de07d9dab63691",
    "deepnote_cell_type": "markdown",
    "tags": []
   },
   "source": [
    "## Implémentation"
   ]
  },
  {
   "cell_type": "code",
   "execution_count": 14,
   "metadata": {
    "cell_id": "f0b14c60b5454b4297ea8b20f780d382",
    "deepnote_cell_type": "code",
    "deepnote_to_be_reexecuted": false,
    "execution_millis": 16,
    "execution_start": 1681044512948,
    "source_hash": "b0dd133f",
    "tags": []
   },
   "outputs": [],
   "source": [
    "# 11) Définissez une fonction euclidean_distance(v1, v2), calculant la distance euclidienne entre les vecteurs v1 et v2.\n",
    "\n",
    "def euclidean_distance(v1,v2):\n",
    "\n",
    "    distance = 0\n",
    "    # Ecrire le calcul de la distance euclidienne entre les vecteurs v1 et v2"
   ]
  },
  {
   "cell_type": "code",
   "execution_count": 41,
   "metadata": {
    "cell_id": "c97dca3cf8124fab8c3f18bf4190e6b0",
    "deepnote_cell_type": "code",
    "deepnote_to_be_reexecuted": false,
    "execution_millis": 17,
    "execution_start": 1681044734349,
    "source_hash": "bf273581",
    "tags": []
   },
   "outputs": [
    {
     "name": "stdout",
     "output_type": "stream",
     "text": [
      "classe de la 1ère ligne :  6\n",
      "classe de la 2ème ligne :  9\n",
      "classe de la 26ème ligne :  6\n",
      "Distance entre la ligne 0 et la ligne 1 :  55.235857918565905\n",
      "Distance entre la ligne 0 et la ligne 25 :  39.28103868280471\n"
     ]
    }
   ],
   "source": [
    "# 12) Tester la fonction euclidean_distance avec deux points du dataset d'entraînement de façon à vérifier si \n",
    "#     le calcul de distance fonctionne bien.\n",
    "\n",
    "print(\"classe de la 1ère ligne : \", Y_train.iloc[0])\n",
    "print(\"classe de la 2ème ligne : \", Y_train.iloc[1])\n",
    "print(\"classe de la 26ème ligne : \", Y_train.iloc[25])\n",
    "\n",
    "print(\"Distance entre la ligne 0 et la ligne 1 : \", euclidean_distance(X_train.iloc[0],X_train.iloc[1]))\n",
    "print(\"Distance entre la ligne 0 et la ligne 25 : \", euclidean_distance(X_train.iloc[0],X_train.iloc[25]))\n"
   ]
  },
  {
   "cell_type": "code",
   "execution_count": 42,
   "metadata": {
    "cell_id": "c0f7917640d54ddaaa73635fd9381a58",
    "deepnote_cell_type": "code",
    "deepnote_to_be_reexecuted": false,
    "execution_millis": 1,
    "execution_start": 1681044858973,
    "source_hash": "8b2aa23c",
    "tags": []
   },
   "outputs": [],
   "source": [
    "# 13) Sélection des k plus proches voisins du point x_test \n",
    "# dans l'ensemble des points contenus dans X_train. \n",
    "\n",
    "def neighbors(X_train, y_label, x_test, k):\n",
    "    \n",
    "    list_distances =  []\n",
    "\n",
    "    #Calculer la liste des distances par rapport à la donnée x_test\n",
    "    # ...\n",
    "    # ...\n",
    "\n",
    "    df = pd.DataFrame()\n",
    "\n",
    "    df[\"label\"] = y_label\n",
    "    df[\"distance\"] = list_distances\n",
    "\n",
    "    df = df.sort_values(by=\"distance\")\n",
    "\n",
    "    return df.iloc[:k,:]\n"
   ]
  },
  {
   "cell_type": "code",
   "execution_count": 52,
   "metadata": {
    "cell_id": "11be26a9d72e4847906748ede737a5b7",
    "deepnote_cell_type": "code",
    "deepnote_to_be_reexecuted": false,
    "execution_millis": 1134,
    "execution_start": 1681044921044,
    "source_hash": "ce0f73e7",
    "tags": []
   },
   "outputs": [
    {
     "data": {
      "image/png": "[encoded data removed]",
      "text/plain": [
       "<Figure size 640x480 with 1 Axes>"
      ]
     },
     "metadata": {
      "image/png": {
       "height": 413,
       "width": 408
      }
     },
     "output_type": "display_data"
    },
    {
     "name": "stdout",
     "output_type": "stream",
     "text": [
      "      label   distance\n",
      "1740      9  23.494680\n",
      "1146      9  25.980762\n",
      "1132      9  26.305893\n",
      "1686      9  26.324893\n",
      "199       9  26.608269\n"
     ]
    }
   ],
   "source": [
    "# Ajout de nouveaux chiffres manuscrits ne provenant pas du jeu de données original pour tester l'efficacité\n",
    "\n",
    "test0 = [0, 0, 3, 13, 14, 2, 0, 0, 0, 2, 15, 14, 13, 15, 4, 0, 0, 11, 16, 4, 6, 12, 15, 1, 1, 16, 12, 0, 0, 6, 16, 4, 4, 16, 8, 0, 0, 6, 16, 6, 4, 16, 10, 0, 0, 11, 16, 3, 0, 13, 15, 8, 10, 16, 12, 0, 0, 2, 12, 16, 16, 12, 2, 0]\n",
    "test1 = [0, 0, 0, 0, 0, 11, 11, 0, 0, 0, 0, 0, 8, 16, 12, 0, 0, 1, 5, 12, 16, 16, 12, 0, 0, 8, 16, 15, 9, 16, 11, 0, 0, 0, 2, 1, 2, 16, 10, 0, 0, 0, 0, 0, 2, 16, 9, 0, 0, 0, 0, 0, 1, 16, 8, 0, 0, 0, 0, 0, 0, 13, 6, 0]\n",
    "test2 = [0, 2, 12, 15, 12, 1, 0, 0, 0, 6, 14, 11, 16, 4, 0, 0, 0, 1, 1, 11, 15, 1, 0, 0, 0, 0, 3, 16, 8, 0, 0, 0, 0, 0, 12, 15, 1, 0, 0, 0, 0, 3, 16, 8, 0, 0, 0, 0, 0, 7, 16, 6, 4, 8, 4, 0, 0, 2, 14, 16, 15, 10, 2, 0]\n",
    "test3 = [0, 9, 16, 14, 6, 0, 0, 0, 0, 6, 11, 15, 16, 6, 0, 0, 0, 0, 4, 14, 16, 5, 0, 0, 0, 2, 15, 16, 16, 9, 1, 0, 0, 0, 2, 5, 11, 16, 10, 0, 0, 0, 0, 0, 5, 16, 15, 0, 0, 2, 6, 8, 15, 16, 9, 0, 0, 7, 16, 16, 14, 8, 0, 0]\n",
    "test4 = [0, 0, 0, 9, 15, 1, 0, 0, 0, 0, 5, 16, 7, 0, 0, 0, 0, 0, 13, 13, 0, 0, 0, 0, 0, 2, 16, 6, 0, 4, 0, 0, 0, 1, 13, 12, 13, 16, 2, 0, 0, 0, 2, 8, 14, 14, 0, 0, 0, 0, 0, 0, 12, 11, 0, 0, 0, 0, 0, 0, 9, 9, 0, 0]\n",
    "test5 = [0, 2, 14, 13, 8, 1, 0, 0, 0, 5, 16, 10, 9, 5, 0, 0, 0, 7, 16, 4, 0, 0, 0, 0, 0, 8, 16, 4, 0, 0, 0, 0, 0, 8, 16, 16, 12, 2, 0, 0, 0, 1, 7, 7, 15, 15, 2, 0, 0, 0, 7, 5, 5, 16, 10, 0, 0, 1, 11, 15, 16, 16, 9, 0]\n",
    "test6 = [0, 0, 0, 0, 8, 15, 7, 0, 0, 0, 0, 7, 16, 14, 3, 0, 0, 0, 5, 16, 14, 1, 0, 0, 0, 1, 14, 15, 3, 0, 0, 0, 0, 6, 16, 13, 7, 1, 0, 0, 0, 7, 16, 12, 8, 14, 1, 0, 0, 4, 16, 10, 10, 16, 2, 0, 0, 0, 7, 15, 16, 10, 0, 0]\n",
    "test7 = [0, 3, 11, 12, 14, 15, 6, 0, 0, 3, 13, 15, 16, 16, 6, 0, 0, 0, 0, 0, 15, 16, 2, 0, 0, 0, 0, 3, 16, 13, 0, 0, 0, 6, 12, 13, 16, 14, 8, 0, 0, 6, 15, 16, 16, 15, 12, 0, 0, 0, 0, 12, 16, 4, 0, 0, 0, 0, 0, 11, 16, 2, 0, 0]\n",
    "test8 = [0, 0, 0, 12, 15, 11, 8, 0, 0, 0, 2, 16, 10, 6, 4, 1, 0, 0, 1, 16, 9, 0, 1, 5, 0, 0, 0, 15, 11, 0, 9, 8, 0, 0, 0, 12, 15, 14, 15, 2, 0, 3, 11, 16, 16, 9, 2, 0, 3, 15, 16, 16, 14, 0, 0, 0, 0, 9, 15, 16, 8, 0, 0, 0]\n",
    "test9 = [0, 0, 5, 13, 15, 5, 0, 0, 0, 3, 16, 9, 10, 3, 0, 0, 0, 6, 16, 2, 7, 11, 2, 0, 0, 1, 10, 16, 16, 16, 5, 0, 0, 0, 0, 2, 15, 9, 0, 0, 0, 0, 0, 0, 10, 13, 0, 0, 0, 0, 5, 4, 4, 16, 4, 0, 0, 1, 10, 13, 16, 16, 6, 0]\n",
    "\n",
    "# 14) Pour un des nouveaux  premier point de l'ensemble de validation, affichez ses 5 plus proches voisins \n",
    "#     de l'ensemble d'entraînement.\n",
    "\n",
    "nearest_neighbors = neighbors(X_train, Y_train, test0, 5)\n",
    "\n",
    "plt.imshow(np.array(test0).reshape(8,8), cmap='Greys')\n",
    "plt.show()\n",
    "\n",
    "print(nearest_neighbors)"
   ]
  },
  {
   "cell_type": "code",
   "execution_count": 53,
   "metadata": {
    "cell_id": "d3bc9c90a409431e9f0de591684e0eb2",
    "deepnote_cell_type": "code",
    "deepnote_to_be_reexecuted": false,
    "execution_millis": 1,
    "execution_start": 1681044978545,
    "source_hash": "6d065db7",
    "tags": []
   },
   "outputs": [],
   "source": [
    "# 15) Fonction de prédiction qui prend en entrée un dataframe contenant les plus proches voisins \n",
    "# d'un point avec leur classe (obtenu par la méthode neighbors) et qui renvoie la classe prédite pour ce point.\n",
    "\n",
    "def prediction(neighbors):\n",
    "    # Calculer la classe prédite"
   ]
  },
  {
   "cell_type": "code",
   "execution_count": 54,
   "metadata": {
    "cell_id": "4012d54f95bf4db19c54a33e78e0e529",
    "deepnote_cell_type": "code",
    "deepnote_to_be_reexecuted": false,
    "execution_millis": 35,
    "execution_start": 1681044982243,
    "source_hash": "3966a2cb",
    "tags": []
   },
   "outputs": [
    {
     "name": "stdout",
     "output_type": "stream",
     "text": [
      "9\n"
     ]
    }
   ],
   "source": [
    "# 16) Afficher la prédiction du modèle pour le premier point de l'ensemble de validation\n",
    "\n",
    "print(prediction(nearest_neighbors))\n"
   ]
  },
  {
   "cell_type": "markdown",
   "metadata": {
    "cell_id": "7d6ef3e40a0e4f8399b7d9554cfb8ade",
    "deepnote_cell_type": "markdown",
    "tags": []
   },
   "source": [
    "## Evaluation"
   ]
  },
  {
   "cell_type": "code",
   "execution_count": 55,
   "metadata": {
    "cell_id": "cd1d6107a99044bd8fe168887b788959",
    "deepnote_cell_type": "code",
    "deepnote_to_be_reexecuted": false,
    "execution_millis": 261688,
    "execution_start": 1681045002779,
    "source_hash": "b768df36",
    "tags": []
   },
   "outputs": [
    {
     "name": "stdout",
     "output_type": "stream",
     "text": [
      "Erreur de prédiction : \n",
      "Prediction :  1\n",
      "Résultat attendu :  4\n",
      "Erreur de prédiction : \n",
      "Prediction :  3\n",
      "Résultat attendu :  8\n",
      "Erreur de prédiction : \n",
      "Prediction :  8\n",
      "Résultat attendu :  6\n",
      "Erreur de prédiction : \n",
      "Prediction :  1\n",
      "Résultat attendu :  9\n",
      "Erreur de prédiction : \n",
      "Prediction :  1\n",
      "Résultat attendu :  8\n",
      "Erreur de prédiction : \n",
      "Prediction :  7\n",
      "Résultat attendu :  2\n",
      "Erreur de prédiction : \n",
      "Prediction :  3\n",
      "Résultat attendu :  9\n",
      "Erreur de prédiction : \n",
      "Prediction :  8\n",
      "Résultat attendu :  4\n",
      "Accuracy:0.9777158774373259\n"
     ]
    },
    {
     "data": {
      "text/plain": [
       "0.9777158774373259"
      ]
     },
     "execution_count": 55,
     "metadata": {},
     "output_type": "execute_result"
    }
   ],
   "source": [
    "# 17) Compléter la fonction evaluation qui permet de calculer et d'afficher le nombre de prédictions correctes \n",
    "# et incorrectes pour un ensemble de validation donné en entrée. \n",
    "# La fonction evaluation calcule également la métrique accuracy, qui correspond\n",
    "# à la proportion de prédictions correctes.\n",
    "\n",
    "\n",
    "def evaluation(X_train, Y_train, X_valid, Y_valid, k, verbose=True):\n",
    "\n",
    "    TP=0 # vrai\n",
    "    FP=0 # faux\n",
    "\n",
    "    total = 0\n",
    "\n",
    "    for i in range(X_valid.shape[0]):\n",
    "\n",
    "        nearest_neighbors = neighbors(X_train, Y_train, X_valid.iloc[i], k)\n",
    "\n",
    "        if (prediction(nearest_neighbors) == Y_valid.iloc[i]): \n",
    "            TP += 1\n",
    "        elif ((prediction(nearest_neighbors) != Y_valid.iloc[i])):\n",
    "            FP+=1\n",
    "            print(\"Erreur de prédiction : \")\n",
    "            print(\"Prediction : \", prediction(nearest_neighbors))\n",
    "            print(\"Résultat attendu : \", Y_valid.iloc[i])\n",
    "        total += 1 \n",
    "\n",
    "    accuracy = (TP)/total\n",
    "\n",
    "    if verbose:\n",
    "        print(\"Accuracy:\" + str(accuracy))\n",
    "\n",
    "    return accuracy\n",
    "    \n",
    "\n",
    "\n",
    "evaluation(X_train, Y_train, X_valid, Y_valid, 5)"
   ]
  },
  {
   "cell_type": "code",
   "execution_count": null,
   "metadata": {
    "cell_id": "d75c090fac2f48d0bd2ce44ba91599f5",
    "deepnote_cell_type": "code",
    "deepnote_to_be_reexecuted": false,
    "execution_millis": 1333018,
    "execution_start": 1681045438720,
    "source_hash": "86e31b0a",
    "tags": []
   },
   "outputs": [
    {
     "name": "stdout",
     "output_type": "stream",
     "text": [
      "Erreur de prédiction : \n",
      "Prediction :  3\n",
      "Résultat attendu :  9\n",
      "Erreur de prédiction : \n",
      "Prediction :  1\n",
      "Résultat attendu :  6\n",
      "Erreur de prédiction : \n",
      "Prediction :  1\n",
      "Résultat attendu :  8\n",
      "Erreur de prédiction : \n",
      "Prediction :  3\n",
      "Résultat attendu :  2\n",
      "Erreur de prédiction : \n",
      "Prediction :  3\n",
      "Résultat attendu :  9\n",
      "Erreur de prédiction : \n",
      "Prediction :  1\n",
      "Résultat attendu :  8\n",
      "Erreur de prédiction : \n",
      "Prediction :  1\n",
      "Résultat attendu :  9\n",
      "Erreur de prédiction : \n",
      "Prediction :  1\n",
      "Résultat attendu :  8\n",
      "Erreur de prédiction : \n",
      "Prediction :  3\n",
      "Résultat attendu :  2\n",
      "Erreur de prédiction : \n",
      "Prediction :  3\n",
      "Résultat attendu :  9\n",
      "Erreur de prédiction : \n",
      "Prediction :  1\n",
      "Résultat attendu :  4\n",
      "Erreur de prédiction : \n",
      "Prediction :  3\n",
      "Résultat attendu :  8\n",
      "Erreur de prédiction : \n",
      "Prediction :  8\n",
      "Résultat attendu :  6\n",
      "Erreur de prédiction : \n",
      "Prediction :  1\n",
      "Résultat attendu :  9\n",
      "Erreur de prédiction : \n",
      "Prediction :  1\n",
      "Résultat attendu :  8\n",
      "Erreur de prédiction : \n",
      "Prediction :  7\n",
      "Résultat attendu :  2\n",
      "Erreur de prédiction : \n",
      "Prediction :  3\n",
      "Résultat attendu :  9\n",
      "Erreur de prédiction : \n",
      "Prediction :  8\n",
      "Résultat attendu :  4\n",
      "Erreur de prédiction : \n",
      "Prediction :  1\n",
      "Résultat attendu :  4\n",
      "Erreur de prédiction : \n",
      "Prediction :  3\n",
      "Résultat attendu :  8\n",
      "Erreur de prédiction : \n",
      "Prediction :  1\n",
      "Résultat attendu :  6\n",
      "Erreur de prédiction : \n",
      "Prediction :  1\n",
      "Résultat attendu :  8\n",
      "Erreur de prédiction : \n",
      "Prediction :  7\n",
      "Résultat attendu :  2\n",
      "Erreur de prédiction : \n",
      "Prediction :  8\n",
      "Résultat attendu :  4\n",
      "Erreur de prédiction : \n",
      "Prediction :  1\n",
      "Résultat attendu :  4\n",
      "Erreur de prédiction : \n",
      "Prediction :  3\n",
      "Résultat attendu :  8\n",
      "Erreur de prédiction : \n",
      "Prediction :  1\n",
      "Résultat attendu :  6\n",
      "Erreur de prédiction : \n",
      "Prediction :  1\n",
      "Résultat attendu :  9\n",
      "Erreur de prédiction : \n",
      "Prediction :  1\n",
      "Résultat attendu :  8\n",
      "Erreur de prédiction : \n",
      "Prediction :  7\n",
      "Résultat attendu :  2\n",
      "Erreur de prédiction : \n",
      "Prediction :  1\n",
      "Résultat attendu :  8\n",
      "Erreur de prédiction : \n",
      "Prediction :  8\n",
      "Résultat attendu :  4\n",
      "[0.9832869080779945, 0.9888579387186629, 0.9777158774373259, 0.9832869080779945, 0.9777158774373259]\n"
     ]
    }
   ],
   "source": [
    "# 18) Lancer ce bloc d'évaluation pour différentes valeurs de k entre 1 et 9 de 2 en 2 et stocker les valeurs d'accuracy obtenues \n",
    "# dans une liste\n",
    "\n",
    "list_accuracy = []\n",
    "\n",
    "for k in range(1,11,2):\n",
    "    list_accuracy.append(evaluation(X_train, Y_train, X_valid, Y_valid, k, verbose=False))\n",
    "\n",
    "print(list_accuracy)   \n",
    "\n"
   ]
  },
  {
   "cell_type": "code",
   "execution_count": 57,
   "metadata": {
    "cell_id": "a72b72ec7c984a93a2a22405bfd9f27b",
    "deepnote_cell_type": "code",
    "deepnote_to_be_reexecuted": false,
    "execution_millis": 68,
    "execution_start": 1681047269415,
    "source_hash": "260ecde5",
    "tags": []
   },
   "outputs": [
    {
     "data": {
      "text/html": [
       "<html>\n",
       "<head><meta charset=\"utf-8\" /></head>\n",
       "<body>\n",
       "    <div>            <script src=\"https://cdnjs.cloudflare.com/ajax/libs/mathjax/2.7.5/MathJax.js?config=TeX-AMS-MML_SVG\"></script><script type=\"text/javascript\">if (window.MathJax && window.MathJax.Hub && window.MathJax.Hub.Config) {window.MathJax.Hub.Config({SVG: {font: \"STIX-Web\"}});}</script>                <script type=\"text/javascript\">window.PlotlyConfig = {MathJaxConfig: 'local'};</script>\n",
       "        <script src=\"https://cdn.plot.ly/plotly-2.14.0.min.js\"></script>                <div id=\"1e9d2a30-5d5a-4768-939c-a400145ee9f9\" class=\"plotly-graph-div\" style=\"height:525px; width:100%;\"></div>            <script type=\"text/javascript\">                                    window.PLOTLYENV=window.PLOTLYENV || {};                                    if (document.getElementById(\"1e9d2a30-5d5a-4768-939c-a400145ee9f9\")) {                    Plotly.newPlot(                        \"1e9d2a30-5d5a-4768-939c-a400145ee9f9\",                        [{\"hovertemplate\":\"k=%{x}<br>accuracy=%{y}<extra></extra>\",\"legendgroup\":\"\",\"line\":{\"color\":\"#636efa\",\"dash\":\"solid\"},\"marker\":{\"symbol\":\"circle\"},\"mode\":\"lines\",\"name\":\"\",\"orientation\":\"v\",\"showlegend\":false,\"x\":[1,3,5,7,9],\"xaxis\":\"x\",\"y\":[0.9832869080779945,0.9888579387186629,0.9777158774373259,0.9832869080779945,0.9777158774373259],\"yaxis\":\"y\",\"type\":\"scatter\"}],                        {\"template\":{\"data\":{\"histogram2dcontour\":[{\"type\":\"histogram2dcontour\",\"colorbar\":{\"outlinewidth\":0,\"ticks\":\"\"},\"colorscale\":[[0.0,\"#0d0887\"],[0.1111111111111111,\"#46039f\"],[0.2222222222222222,\"#7201a8\"],[0.3333333333333333,\"#9c179e\"],[0.4444444444444444,\"#bd3786\"],[0.5555555555555556,\"#d8576b\"],[0.6666666666666666,\"#ed7953\"],[0.7777777777777778,\"#fb9f3a\"],[0.8888888888888888,\"#fdca26\"],[1.0,\"#f0f921\"]]}],\"choropleth\":[{\"type\":\"choropleth\",\"colorbar\":{\"outlinewidth\":0,\"ticks\":\"\"}}],\"histogram2d\":[{\"type\":\"histogram2d\",\"colorbar\":{\"outlinewidth\":0,\"ticks\":\"\"},\"colorscale\":[[0.0,\"#0d0887\"],[0.1111111111111111,\"#46039f\"],[0.2222222222222222,\"#7201a8\"],[0.3333333333333333,\"#9c179e\"],[0.4444444444444444,\"#bd3786\"],[0.5555555555555556,\"#d8576b\"],[0.6666666666666666,\"#ed7953\"],[0.7777777777777778,\"#fb9f3a\"],[0.8888888888888888,\"#fdca26\"],[1.0,\"#f0f921\"]]}],\"heatmap\":[{\"type\":\"heatmap\",\"colorbar\":{\"outlinewidth\":0,\"ticks\":\"\"},\"colorscale\":[[0.0,\"#0d0887\"],[0.1111111111111111,\"#46039f\"],[0.2222222222222222,\"#7201a8\"],[0.3333333333333333,\"#9c179e\"],[0.4444444444444444,\"#bd3786\"],[0.5555555555555556,\"#d8576b\"],[0.6666666666666666,\"#ed7953\"],[0.7777777777777778,\"#fb9f3a\"],[0.8888888888888888,\"#fdca26\"],[1.0,\"#f0f921\"]]}],\"heatmapgl\":[{\"type\":\"heatmapgl\",\"colorbar\":{\"outlinewidth\":0,\"ticks\":\"\"},\"colorscale\":[[0.0,\"#0d0887\"],[0.1111111111111111,\"#46039f\"],[0.2222222222222222,\"#7201a8\"],[0.3333333333333333,\"#9c179e\"],[0.4444444444444444,\"#bd3786\"],[0.5555555555555556,\"#d8576b\"],[0.6666666666666666,\"#ed7953\"],[0.7777777777777778,\"#fb9f3a\"],[0.8888888888888888,\"#fdca26\"],[1.0,\"#f0f921\"]]}],\"contourcarpet\":[{\"type\":\"contourcarpet\",\"colorbar\":{\"outlinewidth\":0,\"ticks\":\"\"}}],\"contour\":[{\"type\":\"contour\",\"colorbar\":{\"outlinewidth\":0,\"ticks\":\"\"},\"colorscale\":[[0.0,\"#0d0887\"],[0.1111111111111111,\"#46039f\"],[0.2222222222222222,\"#7201a8\"],[0.3333333333333333,\"#9c179e\"],[0.4444444444444444,\"#bd3786\"],[0.5555555555555556,\"#d8576b\"],[0.6666666666666666,\"#ed7953\"],[0.7777777777777778,\"#fb9f3a\"],[0.8888888888888888,\"#fdca26\"],[1.0,\"#f0f921\"]]}],\"surface\":[{\"type\":\"surface\",\"colorbar\":{\"outlinewidth\":0,\"ticks\":\"\"},\"colorscale\":[[0.0,\"#0d0887\"],[0.1111111111111111,\"#46039f\"],[0.2222222222222222,\"#7201a8\"],[0.3333333333333333,\"#9c179e\"],[0.4444444444444444,\"#bd3786\"],[0.5555555555555556,\"#d8576b\"],[0.6666666666666666,\"#ed7953\"],[0.7777777777777778,\"#fb9f3a\"],[0.8888888888888888,\"#fdca26\"],[1.0,\"#f0f921\"]]}],\"mesh3d\":[{\"type\":\"mesh3d\",\"colorbar\":{\"outlinewidth\":0,\"ticks\":\"\"}}],\"scatter\":[{\"fillpattern\":{\"fillmode\":\"overlay\",\"size\":10,\"solidity\":0.2},\"type\":\"scatter\"}],\"parcoords\":[{\"type\":\"parcoords\",\"line\":{\"colorbar\":{\"outlinewidth\":0,\"ticks\":\"\"}}}],\"scatterpolargl\":[{\"type\":\"scatterpolargl\",\"marker\":{\"colorbar\":{\"outlinewidth\":0,\"ticks\":\"\"}}}],\"bar\":[{\"error_x\":{\"color\":\"#2a3f5f\"},\"error_y\":{\"color\":\"#2a3f5f\"},\"marker\":{\"line\":{\"color\":\"#E5ECF6\",\"width\":0.5},\"pattern\":{\"fillmode\":\"overlay\",\"size\":10,\"solidity\":0.2}},\"type\":\"bar\"}],\"scattergeo\":[{\"type\":\"scattergeo\",\"marker\":{\"colorbar\":{\"outlinewidth\":0,\"ticks\":\"\"}}}],\"scatterpolar\":[{\"type\":\"scatterpolar\",\"marker\":{\"colorbar\":{\"outlinewidth\":0,\"ticks\":\"\"}}}],\"histogram\":[{\"marker\":{\"pattern\":{\"fillmode\":\"overlay\",\"size\":10,\"solidity\":0.2}},\"type\":\"histogram\"}],\"scattergl\":[{\"type\":\"scattergl\",\"marker\":{\"colorbar\":{\"outlinewidth\":0,\"ticks\":\"\"}}}],\"scatter3d\":[{\"type\":\"scatter3d\",\"line\":{\"colorbar\":{\"outlinewidth\":0,\"ticks\":\"\"}},\"marker\":{\"colorbar\":{\"outlinewidth\":0,\"ticks\":\"\"}}}],\"scattermapbox\":[{\"type\":\"scattermapbox\",\"marker\":{\"colorbar\":{\"outlinewidth\":0,\"ticks\":\"\"}}}],\"scatterternary\":[{\"type\":\"scatterternary\",\"marker\":{\"colorbar\":{\"outlinewidth\":0,\"ticks\":\"\"}}}],\"scattercarpet\":[{\"type\":\"scattercarpet\",\"marker\":{\"colorbar\":{\"outlinewidth\":0,\"ticks\":\"\"}}}],\"carpet\":[{\"aaxis\":{\"endlinecolor\":\"#2a3f5f\",\"gridcolor\":\"white\",\"linecolor\":\"white\",\"minorgridcolor\":\"white\",\"startlinecolor\":\"#2a3f5f\"},\"baxis\":{\"endlinecolor\":\"#2a3f5f\",\"gridcolor\":\"white\",\"linecolor\":\"white\",\"minorgridcolor\":\"white\",\"startlinecolor\":\"#2a3f5f\"},\"type\":\"carpet\"}],\"table\":[{\"cells\":{\"fill\":{\"color\":\"#EBF0F8\"},\"line\":{\"color\":\"white\"}},\"header\":{\"fill\":{\"color\":\"#C8D4E3\"},\"line\":{\"color\":\"white\"}},\"type\":\"table\"}],\"barpolar\":[{\"marker\":{\"line\":{\"color\":\"#E5ECF6\",\"width\":0.5},\"pattern\":{\"fillmode\":\"overlay\",\"size\":10,\"solidity\":0.2}},\"type\":\"barpolar\"}],\"pie\":[{\"automargin\":true,\"type\":\"pie\"}]},\"layout\":{\"autotypenumbers\":\"strict\",\"colorway\":[\"#636efa\",\"#EF553B\",\"#00cc96\",\"#ab63fa\",\"#FFA15A\",\"#19d3f3\",\"#FF6692\",\"#B6E880\",\"#FF97FF\",\"#FECB52\"],\"font\":{\"color\":\"#2a3f5f\"},\"hovermode\":\"closest\",\"hoverlabel\":{\"align\":\"left\"},\"paper_bgcolor\":\"white\",\"plot_bgcolor\":\"#E5ECF6\",\"polar\":{\"bgcolor\":\"#E5ECF6\",\"angularaxis\":{\"gridcolor\":\"white\",\"linecolor\":\"white\",\"ticks\":\"\"},\"radialaxis\":{\"gridcolor\":\"white\",\"linecolor\":\"white\",\"ticks\":\"\"}},\"ternary\":{\"bgcolor\":\"#E5ECF6\",\"aaxis\":{\"gridcolor\":\"white\",\"linecolor\":\"white\",\"ticks\":\"\"},\"baxis\":{\"gridcolor\":\"white\",\"linecolor\":\"white\",\"ticks\":\"\"},\"caxis\":{\"gridcolor\":\"white\",\"linecolor\":\"white\",\"ticks\":\"\"}},\"coloraxis\":{\"colorbar\":{\"outlinewidth\":0,\"ticks\":\"\"}},\"colorscale\":{\"sequential\":[[0.0,\"#0d0887\"],[0.1111111111111111,\"#46039f\"],[0.2222222222222222,\"#7201a8\"],[0.3333333333333333,\"#9c179e\"],[0.4444444444444444,\"#bd3786\"],[0.5555555555555556,\"#d8576b\"],[0.6666666666666666,\"#ed7953\"],[0.7777777777777778,\"#fb9f3a\"],[0.8888888888888888,\"#fdca26\"],[1.0,\"#f0f921\"]],\"sequentialminus\":[[0.0,\"#0d0887\"],[0.1111111111111111,\"#46039f\"],[0.2222222222222222,\"#7201a8\"],[0.3333333333333333,\"#9c179e\"],[0.4444444444444444,\"#bd3786\"],[0.5555555555555556,\"#d8576b\"],[0.6666666666666666,\"#ed7953\"],[0.7777777777777778,\"#fb9f3a\"],[0.8888888888888888,\"#fdca26\"],[1.0,\"#f0f921\"]],\"diverging\":[[0,\"#8e0152\"],[0.1,\"#c51b7d\"],[0.2,\"#de77ae\"],[0.3,\"#f1b6da\"],[0.4,\"#fde0ef\"],[0.5,\"#f7f7f7\"],[0.6,\"#e6f5d0\"],[0.7,\"#b8e186\"],[0.8,\"#7fbc41\"],[0.9,\"#4d9221\"],[1,\"#276419\"]]},\"xaxis\":{\"gridcolor\":\"white\",\"linecolor\":\"white\",\"ticks\":\"\",\"title\":{\"standoff\":15},\"zerolinecolor\":\"white\",\"automargin\":true,\"zerolinewidth\":2},\"yaxis\":{\"gridcolor\":\"white\",\"linecolor\":\"white\",\"ticks\":\"\",\"title\":{\"standoff\":15},\"zerolinecolor\":\"white\",\"automargin\":true,\"zerolinewidth\":2},\"scene\":{\"xaxis\":{\"backgroundcolor\":\"#E5ECF6\",\"gridcolor\":\"white\",\"linecolor\":\"white\",\"showbackground\":true,\"ticks\":\"\",\"zerolinecolor\":\"white\",\"gridwidth\":2},\"yaxis\":{\"backgroundcolor\":\"#E5ECF6\",\"gridcolor\":\"white\",\"linecolor\":\"white\",\"showbackground\":true,\"ticks\":\"\",\"zerolinecolor\":\"white\",\"gridwidth\":2},\"zaxis\":{\"backgroundcolor\":\"#E5ECF6\",\"gridcolor\":\"white\",\"linecolor\":\"white\",\"showbackground\":true,\"ticks\":\"\",\"zerolinecolor\":\"white\",\"gridwidth\":2}},\"shapedefaults\":{\"line\":{\"color\":\"#2a3f5f\"}},\"annotationdefaults\":{\"arrowcolor\":\"#2a3f5f\",\"arrowhead\":0,\"arrowwidth\":1},\"geo\":{\"bgcolor\":\"white\",\"landcolor\":\"#E5ECF6\",\"subunitcolor\":\"white\",\"showland\":true,\"showlakes\":true,\"lakecolor\":\"white\"},\"title\":{\"x\":0.05},\"mapbox\":{\"style\":\"light\"}}},\"xaxis\":{\"anchor\":\"y\",\"domain\":[0.0,1.0],\"title\":{\"text\":\"k\"}},\"yaxis\":{\"anchor\":\"x\",\"domain\":[0.0,1.0],\"title\":{\"text\":\"accuracy\"}},\"legend\":{\"tracegroupgap\":0},\"margin\":{\"t\":60}},                        {\"responsive\": true}                    ).then(function(){\n",
       "                            \n",
       "var gd = document.getElementById('1e9d2a30-5d5a-4768-939c-a400145ee9f9');\n",
       "var x = new MutationObserver(function (mutations, observer) {{\n",
       "        var display = window.getComputedStyle(gd).display;\n",
       "        if (!display || display === 'none') {{\n",
       "            console.log([gd, 'removed!']);\n",
       "            Plotly.purge(gd);\n",
       "            observer.disconnect();\n",
       "        }}\n",
       "}});\n",
       "\n",
       "// Listen for the removal of the full notebook cells\n",
       "var notebookContainer = gd.closest('#notebook-container');\n",
       "if (notebookContainer) {{\n",
       "    x.observe(notebookContainer, {childList: true});\n",
       "}}\n",
       "\n",
       "// Listen for the clearing of the current output cell\n",
       "var outputEl = gd.closest('.output');\n",
       "if (outputEl) {{\n",
       "    x.observe(outputEl, {childList: true});\n",
       "}}\n",
       "\n",
       "                        })                };                            </script>        </div>\n",
       "</body>\n",
       "</html>"
      ]
     },
     "metadata": {},
     "output_type": "display_data"
    }
   ],
   "source": [
    "# 19) Tracer une courbe qui montre l'évolution de l'accuracy en fonction de k. \n",
    "\n",
    "# Quelle valeur de k vous semble la plus pertinente ?\n",
    "\n",
    "px.line(x=range(1,11,2), y=list_accuracy, labels={'x':'k', 'y':'accuracy'})"
   ]
  },
  {
   "cell_type": "markdown",
   "metadata": {
    "cell_id": "32798e69e0104351ac1f623724cb5bb6",
    "deepnote_cell_type": "text-cell-h1",
    "formattedRanges": [],
    "is_collapsed": false,
    "tags": []
   },
   "source": [
    "# Application du modèle sur des photos de chiffres"
   ]
  },
  {
   "cell_type": "markdown",
   "metadata": {
    "cell_id": "bad2bb31836f40da90f31c2c0529fa34",
    "deepnote_cell_type": "text-cell-p",
    "formattedRanges": [],
    "is_collapsed": false,
    "tags": []
   },
   "source": [
    "En utilisant votre téléphone et le programme Chiffre.ipynb prenez une photo d'un chiffre écrit de façon manuscrite au tableau et transformez le en matrice de pixels. Utilisez ensuite le modèle précédent pour vérifier si la classification de votre chiffre correspond à celui-ci."
   ]
  },
  {
   "cell_type": "code",
   "execution_count": 19,
   "metadata": {
    "cell_id": "254b928bba1b446b9ec71af76f5a48c1",
    "deepnote_cell_type": "code",
    "deepnote_to_be_reexecuted": false,
    "execution_millis": 128,
    "execution_start": 1680596496292,
    "source_hash": "7483d8a",
    "tags": []
   },
   "outputs": [
    {
     "name": "stdout",
     "output_type": "stream",
     "text": [
      "6\n"
     ]
    }
   ],
   "source": [
    "mon_chiffre = [0, 2, 14, 13, 8, 1, 0, 0, 0, 5, 16, 10, 9, 5, 0, 0, 0, 7, 16, 4, 0, 0, 0, 0, 0, 8, 16, 4, 0, 0, 0, 0, 0, 8, 16, 16, 12, 2, 0, 0, 0, 1, 7, 7, 15, 15, 2, 0, 0, 0, 7, 5, 5, 16, 10, 0, 0, 1, 11, 15, 16, 16, 9, 0]\n",
    "\n",
    "nearest_neighbors = neighbors(X_train, Y_train, mon_chiffre, 5)\n",
    "print(prediction(nearest_neighbors))"
   ]
  },
  {
   "cell_type": "markdown",
   "metadata": {
    "cell_id": "a13d44fe8e6142358f245f4c0f876aac",
    "deepnote_cell_type": "text-cell-h1",
    "formattedRanges": [],
    "is_collapsed": false,
    "tags": []
   },
   "source": [
    "# Réseau de neurones"
   ]
  },
  {
   "cell_type": "markdown",
   "metadata": {
    "cell_id": "de75af39c5f24e12a1cb3e8decf1abde",
    "deepnote_cell_type": "text-cell-p",
    "formattedRanges": [],
    "is_collapsed": false,
    "tags": []
   },
   "source": [
    "Une autre méthode dont on entend parler assez fréquemment dans les médias, permettant entre autre de faire fonctionner une grande partie des intelligences artificielles actuelles. En utilisant le module scikitlearn, il est assez facile de mettre en place un réseau de neurone. Dans cette partie nous allons comparer l'utilisation d'un modèle à base de réseau de neurones avec notre modèle des k plus proches voisins. "
   ]
  },
  {
   "cell_type": "markdown",
   "metadata": {
    "cell_id": "e4178f30ba274784ba0b85506b05ee9e",
    "deepnote_cell_type": "text-cell-h2",
    "formattedRanges": [],
    "is_collapsed": false,
    "tags": []
   },
   "source": [
    "## Entraînement avec réseau de neurones"
   ]
  },
  {
   "cell_type": "markdown",
   "metadata": {
    "cell_id": "47eba6dc38f14fb395e768d28b3f1fa4",
    "deepnote_cell_type": "text-cell-p",
    "formattedRanges": [
     {
      "fromCodePoint": 420,
      "ranges": [],
      "toCodePoint": 511,
      "type": "link",
      "url": "https://scikit-learn.org/stable/modules/generated/sklearn.neural_network.MLPClassifier.html"
     }
    ],
    "is_collapsed": false,
    "tags": []
   },
   "source": [
    "Nous utiliserons ici un apprentissage à l'aide d'un perceptron multi-couche déjà implémenté dans le module sklearn pour classifier nos chiffres. Nous testerons dans un premier temps les paramètres par défaut puis nous pourrons tester en modifiant certains paramètres comme par exemple le nombre ou la taille des couches cachées. Pour cela il sera nécessaire de regarder les différents paramètres dans la documentation : https://scikit-learn.org/stable/modules/generated/sklearn.neural_network.MLPClassifier.html "
   ]
  },
  {
   "cell_type": "code",
   "execution_count": 58,
   "metadata": {
    "cell_id": "271eee2d5e454ba583a2fda73a3c8923",
    "deepnote_cell_type": "code",
    "deepnote_to_be_reexecuted": false,
    "execution_millis": 26073,
    "execution_start": 1681047324684,
    "source_hash": "9d7b6c21",
    "tags": []
   },
   "outputs": [
    {
     "name": "stdout",
     "output_type": "stream",
     "text": [
      "Prediction :  5\n",
      "Résultat attendu :  9\n",
      "Prediction :  1\n",
      "Résultat attendu :  4\n",
      "Prediction :  8\n",
      "Résultat attendu :  6\n",
      "Prediction :  2\n",
      "Résultat attendu :  8\n",
      "Prediction :  1\n",
      "Résultat attendu :  8\n",
      "Prediction :  8\n",
      "Résultat attendu :  1\n",
      "Prediction :  9\n",
      "Résultat attendu :  1\n",
      "Prediction :  4\n",
      "Résultat attendu :  0\n",
      "Accuracy:0.9777158774373259\n"
     ]
    },
    {
     "data": {
      "text/plain": [
       "0.9777158774373259"
      ]
     },
     "execution_count": 58,
     "metadata": {},
     "output_type": "execute_result"
    }
   ],
   "source": [
    "from sklearn.neural_network import MLPClassifier\n",
    "\n",
    "clf = MLPClassifier(solver='adam',hidden_layer_sizes=350,alpha=1e-04,learning_rate='adaptive')\n",
    "\n",
    "clf.fit(X_train, Y_train)\n",
    "\n",
    "def evaluation(X_train, Y_train, X_valid, Y_valid, k, nn, verbose=True):\n",
    "    TP=0 # vrai\n",
    "    FP=0 # faux\n",
    "    total = 0\n",
    "    if nn==True:\n",
    "        pred=clf.predict(X_valid)\n",
    "        for i in range(X_valid.shape[0]):\n",
    "            if pred[i]==Y_valid.iloc[i]:\n",
    "                TP += 1\n",
    "            else:\n",
    "                print(\"Prediction : \",pred[i])\n",
    "                print(\"Résultat attendu : \", Y_valid.iloc[i])\n",
    "            total+=1\n",
    "    else:\n",
    "        for i in range(X_valid.shape[0]):\n",
    "\n",
    "            prediction = nn.predict(X_valid.iloc[i], k)\n",
    "\n",
    "            if (prediction == Y_valid.iloc[i]): \n",
    "                TP += 1\n",
    "            elif (prediction != Y_valid.iloc[i]):\n",
    "                FP+=1\n",
    "                print(\"Prediction : \", prediction(nearest_neighbors))\n",
    "                print(\"Résultat attendu : \", Y_valid.iloc[i])\n",
    "            total += 1 \n",
    "\n",
    "        \n",
    "    accuracy = (TP)/total\n",
    "    if verbose:\n",
    "        print(\"Accuracy:\" + str(accuracy))\n",
    "    \n",
    "\n",
    "    return accuracy\n",
    "\n",
    "evaluation(X_train, Y_train, X_valid, Y_valid, k, True, verbose=True)"
   ]
  },
  {
   "cell_type": "markdown",
   "metadata": {
    "created_in_deepnote_cell": true,
    "deepnote_cell_type": "markdown"
   },
   "source": [
    "<a style='text-decoration:none;line-height:16px;display:flex;color:#5B5B62;padding:10px;justify-content:end;' href='https://deepnote.com?utm_source=created-in-deepnote-cell&projectId=e69121a1-877e-42c0-86df-2474acf38ef4' target=\"_blank\">\n",
    "<img alt='Created in deepnote.com' style='display:inline;max-height:16px;margin:0px;margin-right:7.5px;' src='data:image/svg+xml;base64,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' > </img>\n",
    "Created in <span style='font-weight:600;margin-left:4px;'>Deepnote</span></a>"
   ]
  }
 ],
 "metadata": {
  "deepnote": {
   "is_reactive": false
  },
  "deepnote_execution_queue": [],
  "deepnote_notebook_id": "6ae72fbd075f4abbb8f3d7498ffd1bab",
  "deepnote_persisted_session": {
   "createdAt": "2023-04-09T14:01:44.022Z"
  },
  "kernelspec": {
   "display_name": "Python 3 (ipykernel)",
   "language": "python",
   "name": "python3"
  },
  "language_info": {
   "codemirror_mode": {
    "name": "ipython",
    "version": 3
   },
   "file_extension": ".py",
   "mimetype": "text/x-python",
   "name": "python",
   "nbconvert_exporter": "python",
   "pygments_lexer": "ipython3",
   "version": "3.12.7"
  }
 },
 "nbformat": 4,
 "nbformat_minor": 4
}
